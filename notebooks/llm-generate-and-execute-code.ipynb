{
    "cells": [
        {
            "cell_type": "markdown",
            "id": "5afefc81-2b5b-4bb9-ad90-db71ea3cbe03",
            "metadata": {
                "tracto": {
                    "metadata_version": "1",
                    "source_hash": "2049a805",
                    "view_cell_type": "MD"
                }
            },
            "source": "This notebook demonstrates an example of generating Python code using inference [CodeLlama-7b-Instruct-hf](https://huggingface.co/meta-llama/CodeLlama-7b-Instruct-hf) model, followed by validating the generated code by executing it in sandbox on [Tracto.ai](https://tracto.ai/).\n\n\nThis notebook uses docker image cr.eu-north1.nebius.cloud/e00faee7vas5hpsh3s/solutions/torch:v3 that was created as\n\n```\nFROM ghcr.io/tractoai/notebook-kernel-default:2024-12-17-18-49-00-ceb64d083\n\nUSER root\n\nRUN pip install torch transformers peft trl datasets\nRUN pip install tractorun -U\n\nUSER 1000\n```"
        },
        {
            "cell_type": "code",
            "execution_count": 1,
            "id": "d6de482a-31de-4fb6-a790-6201bcefd0a7",
            "metadata": {
                "tracto": {
                    "execution_end": 1738969791314,
                    "execution_start": 1738969791098,
                    "metadata_version": "1",
                    "source_hash": "72823a0a",
                    "view_cell_type": "CODE"
                }
            },
            "outputs": [],
            "source": "import yt.wrapper as yt\nfrom yt import type_info\nimport uuid"
        },
        {
            "cell_type": "markdown",
            "id": "abffa62a-9038-4bd6-9cf3-eb6017826230",
            "metadata": {
                "tracto": {
                    "metadata_version": "1",
                    "source_hash": "b72927c0",
                    "view_cell_type": "MD"
                }
            },
            "source": "Prepare working directory on YTSaurus."
        },
        {
            "cell_type": "code",
            "execution_count": 3,
            "id": "6f8ca5ff-a157-46df-9c5b-be01025645d5",
            "metadata": {
                "tracto": {
                    "execution_end": 1738969791317,
                    "execution_start": 1738969791315,
                    "metadata_version": "1",
                    "source_hash": "b4e3b8a3",
                    "view_cell_type": "CODE"
                }
            },
            "outputs": [
                {
                    "name": "stdout",
                    "output_type": "stream",
                    "text": "//tmp/examples/tractorun-codellama-code-execution-5888994f-e57b-400e-9d09-a730257074f9\n"
                }
            ],
            "source": "working_dir = f\"//tmp/examples/tractorun-codellama-code-execution-{uuid.uuid4()}\"\nyt.create(\"map_node\", working_dir, recursive=True)\nprint(working_dir)"
        },
        {
            "cell_type": "code",
            "execution_count": 4,
            "id": "d55aeffa-2114-4a40-8aca-68c8ed4812ea",
            "metadata": {
                "tracto": {
                    "execution_end": 1738969791322,
                    "execution_start": 1738969791317,
                    "metadata_version": "1",
                    "source_hash": "f0ab5ea4",
                    "view_cell_type": "CODE"
                }
            },
            "outputs": [],
            "source": "yt.config[\"pickling\"][\"dynamic_libraries\"][\"enable_auto_collection\"] = False\nyt.config[\"pickling\"][\"ignore_system_modules\"] = True\nyt.config[\"pickling\"][\"safe_stream_mode\"] = False  # important to run vllm"
        },
        {
            "cell_type": "markdown",
            "id": "1b3796c5-2201-4b91-b24b-ad86041e8083",
            "metadata": {
                "tracto": {
                    "metadata_version": "1",
                    "source_hash": "8a17363a",
                    "view_cell_type": "MD"
                }
            },
            "source": "Upload dataset from huggingface to YTSaurus table: task description, inputs, and outputs."
        },
        {
            "cell_type": "code",
            "execution_count": 6,
            "id": "0faa9900-2831-4612-af0b-8943f630b645",
            "metadata": {
                "tracto": {
                    "execution_end": 1738969866078,
                    "execution_start": 1738969791323,
                    "metadata_version": "1",
                    "source_hash": "617fe305",
                    "view_cell_type": "CODE"
                }
            },
            "outputs": [
                {
                    "data": {
                        "application/vnd.jupyter.widget-view+json": {
                            "model_id": "01bbdc9b6ca34f6a8c31b008b2584f27",
                            "version_major": 2,
                            "version_minor": 0
                        },
                        "text/plain": "Resolving data files:   0%|          | 0/39 [00:00<?, ?it/s]"
                    },
                    "metadata": {
                        "transient": {}
                    },
                    "output_type": "display_data"
                },
                {
                    "data": {
                        "application/vnd.jupyter.widget-view+json": {
                            "model_id": "8f3d241b62c340d783b30c4337b55b3b",
                            "version_major": 2,
                            "version_minor": 0
                        },
                        "text/plain": "Loading dataset shards:   0%|          | 0/24 [00:00<?, ?it/s]"
                    },
                    "metadata": {
                        "transient": {}
                    },
                    "output_type": "display_data"
                }
            ],
            "source": "from datasets import load_dataset\n\nMAX_SAMPLES = 50\n\ndataset = load_dataset(\"deepmind/code_contests\")\n\ndataset_path = f\"{working_dir}/dataset\"\n\ntable_data = (\n    {\n        \"index\": index,\n        \"description\": record[\"description\"],\n        \"input\": list(record[\"private_tests\"][\"input\"] + record[\"generated_tests\"][\"input\"])[:MAX_SAMPLES],\n        \"output\": list(record[\"private_tests\"][\"output\"] + record[\"generated_tests\"][\"output\"])[:MAX_SAMPLES],\n    }\n    for index, record in enumerate(dataset[\"train\"])\n)\n\nschema = yt.schema.TableSchema(strict=True)\nschema.add_column(\"index\", type_info.Int32)\nschema.add_column(\"description\", type_info.String)\nschema.add_column(\"input\", type_info.List[type_info.String])\nschema.add_column(\"output\", type_info.List[type_info.String])\n\nyt.create(\"table\", dataset_path, force=True, attributes={\"schema\": schema.to_yson_type()})\nyt.write_table(dataset_path, table_data, table_writer={\"max_row_weight\": 128 * 1024 * 1024})"
        },
        {
            "cell_type": "code",
            "execution_count": 7,
            "id": "939229ca-6b64-4f45-9a8f-b13c9e081021",
            "metadata": {
                "tracto": {
                    "execution_end": 1738969866081,
                    "execution_start": 1738969866080,
                    "metadata_version": "1",
                    "source_hash": "19b124a1",
                    "view_cell_type": "CODE"
                }
            },
            "outputs": [],
            "source": "import os\n\nhf_token = os.environ.get(\"YT_SECURE_VAULT_HF_TOKEN\", \"\")\nassert hf_token is not None, \"set HF token in kernel's secrets to use llama\""
        },
        {
            "cell_type": "markdown",
            "id": "1d855bcb-51b3-4970-ba89-1edd1dabc913",
            "metadata": {
                "tracto": {
                    "metadata_version": "1",
                    "source_hash": "46a8f191",
                    "view_cell_type": "MD"
                }
            },
            "source": "Generate solutions by CodeLlama-7b-Instruct-hf."
        },
        {
            "cell_type": "code",
            "execution_count": 9,
            "id": "29bda0b5-6d78-47f8-9692-f6b73da27987",
            "metadata": {
                "tracto": {
                    "execution_end": 1738969866085,
                    "execution_start": 1738969866083,
                    "metadata_version": "1",
                    "source_hash": "5a866e90",
                    "view_cell_type": "CODE"
                }
            },
            "outputs": [],
            "source": "from typing import Iterable\nimport logging\nimport sys\nimport random\n\n\nBATCH_SIZE = 150\n\n\n@yt.aggregator\ndef bulk_inference(records: Iterable[dict[str, str]]) -> Iterable[dict[str, str]]:\n    from vllm import LLM, SamplingParams\n\n    os.environ[\"HF_TOKEN\"] = hf_token\n\n    # yt job have to write all logs to stderr\n    vllm_logger = logging.getLogger(\"vllm\")\n    vllm_logger.handlers.clear()\n    vllm_logger.addHandler(logging.StreamHandler(sys.stderr))\n\n    llm = LLM(model=\"meta-llama/CodeLlama-7b-Instruct-hf\", tensor_parallel_size=1, trust_remote_code=True)\n    sampling_params = SamplingParams(\n        temperature=0.6,\n        top_p=0.9,\n        max_tokens=5000,\n    )\n\n    def generate(records_batch: list[dict]):\n        conversations = [\n            [\n                {\n                    \"role\": \"system\",\n                    \"content\": \"You are an AI assistant that generates Python code. Always write Python code that reads input from stdin and writes output to stdout. Ensure that all indentation is correct. Your responses must contain only ready-to-run Python code, without any explanations, comments, or extra text.\",\n                },\n                {\n                    \"role\": \"user\",\n                    \"content\": r[\"description\"],\n                },\n            ] for r in records_batch\n        ]\n        outputs = llm.chat(\n            messages=conversations,\n            sampling_params=sampling_params,\n        )\n        return outputs\n\n    batch = []\n    for record in records:\n        batch.append(record)\n        if len(batch) < BATCH_SIZE:\n            continue\n        outputs = generate(batch)\n        for r, output in zip(batch, outputs):\n            yield {\n                \"index\": r[\"index\"],\n                \"description\": r[\"description\"],\n                \"input\": r[\"input\"],\n                \"output\": r[\"output\"],\n                \"code\": output.outputs[0].text.strip(\" \"),\n            }\n        batch = []\n    if batch:\n        outputs = generate(batch)\n        for r, output in zip(batch, outputs):\n            yield {\n                \"index\": r[\"index\"],\n                \"description\": r[\"description\"],\n                \"input\": r[\"input\"],\n                \"output\": r[\"output\"],\n                \"code\": output.outputs[0].text.strip(\" \"),\n            }"
        },
        {
            "cell_type": "code",
            "execution_count": 10,
            "id": "30a06971-6c35-4ea0-8110-30c2ee2dc3a5",
            "metadata": {
                "tracto": {
                    "execution_end": 1738970482112,
                    "execution_start": 1738969866096,
                    "metadata_version": "1",
                    "source_hash": "ed2113a4",
                    "view_cell_type": "CODE"
                }
            },
            "outputs": [
                {
                    "name": "stderr",
                    "output_type": "stream",
                    "text": "2025-02-07 23:11:11,794\tINFO\tOperation started: https://playground.yt.nebius.yt/playground/operations/3deaffea-e4f5bb74-270703e8-1781d41e/details\n"
                },
                {
                    "name": "stderr",
                    "output_type": "stream",
                    "text": "2025-02-07 23:11:11,832\tINFO\t( 0 min) operation 3deaffea-e4f5bb74-270703e8-1781d41e starting\n"
                },
                {
                    "name": "stderr",
                    "output_type": "stream",
                    "text": "2025-02-07 23:11:12,357\tINFO\t( 0 min) operation 3deaffea-e4f5bb74-270703e8-1781d41e initializing\n"
                },
                {
                    "name": "stderr",
                    "output_type": "stream",
                    "text": "2025-02-07 23:11:13,444\tINFO\t( 0 min) Unrecognized spec: {'enable_partitioned_data_balancing': false, 'mapper': {'title': 'bulk_inference'}}\n"
                },
                {
                    "name": "stderr",
                    "output_type": "stream",
                    "text": "2025-02-07 23:11:15,147\tINFO\t( 0 min) operation 3deaffea-e4f5bb74-270703e8-1781d41e: running=0     completed=0     pending=16    failed=0     aborted=0     lost=0     total=16    blocked=0    \n"
                },
                {
                    "name": "stderr",
                    "output_type": "stream",
                    "text": "2025-02-07 23:11:18,219\tINFO\t( 0 min) operation 3deaffea-e4f5bb74-270703e8-1781d41e: running=16    completed=0     pending=0     failed=0     aborted=0     lost=0     total=16    blocked=0    \n"
                },
                {
                    "name": "stderr",
                    "output_type": "stream",
                    "text": "2025-02-07 23:12:46,789\tINFO\t( 1 min) operation 3deaffea-e4f5bb74-270703e8-1781d41e: running=16    completed=0     pending=1     failed=0     aborted=0     lost=0     total=17    blocked=0    \n"
                },
                {
                    "name": "stderr",
                    "output_type": "stream",
                    "text": "2025-02-07 23:18:35,139\tINFO\t( 7 min) operation 3deaffea-e4f5bb74-270703e8-1781d41e: running=16    completed=1     pending=0     failed=0     aborted=0     lost=0     total=17    blocked=0    \n"
                },
                {
                    "name": "stderr",
                    "output_type": "stream",
                    "text": "2025-02-07 23:18:40,185\tINFO\t( 7 min) operation 3deaffea-e4f5bb74-270703e8-1781d41e: running=15    completed=2     pending=0     failed=0     aborted=0     lost=0     total=17    blocked=0    \n"
                },
                {
                    "name": "stderr",
                    "output_type": "stream",
                    "text": "2025-02-07 23:18:50,285\tINFO\t( 7 min) operation 3deaffea-e4f5bb74-270703e8-1781d41e: running=15    completed=3     pending=0     failed=0     aborted=0     lost=0     total=18    blocked=0    \n"
                },
                {
                    "name": "stderr",
                    "output_type": "stream",
                    "text": "2025-02-07 23:19:10,481\tINFO\t( 7 min) operation 3deaffea-e4f5bb74-270703e8-1781d41e: running=14    completed=4     pending=0     failed=0     aborted=0     lost=0     total=18    blocked=0    \n"
                },
                {
                    "name": "stderr",
                    "output_type": "stream",
                    "text": "2025-02-07 23:19:15,535\tINFO\t( 8 min) operation 3deaffea-e4f5bb74-270703e8-1781d41e: running=13    completed=5     pending=0     failed=0     aborted=0     lost=0     total=18    blocked=0    \n"
                },
                {
                    "name": "stderr",
                    "output_type": "stream",
                    "text": "2025-02-07 23:19:40,801\tINFO\t( 8 min) operation 3deaffea-e4f5bb74-270703e8-1781d41e: running=12    completed=6     pending=0     failed=0     aborted=0     lost=0     total=18    blocked=0    \n"
                },
                {
                    "name": "stderr",
                    "output_type": "stream",
                    "text": "2025-02-07 23:19:50,896\tINFO\t( 8 min) operation 3deaffea-e4f5bb74-270703e8-1781d41e: running=11    completed=7     pending=0     failed=0     aborted=0     lost=0     total=18    blocked=0    \n"
                },
                {
                    "name": "stderr",
                    "output_type": "stream",
                    "text": "2025-02-07 23:19:55,948\tINFO\t( 8 min) operation 3deaffea-e4f5bb74-270703e8-1781d41e: running=8     completed=10    pending=0     failed=0     aborted=0     lost=0     total=18    blocked=0    \n"
                },
                {
                    "name": "stderr",
                    "output_type": "stream",
                    "text": "2025-02-07 23:20:16,151\tINFO\t( 9 min) operation 3deaffea-e4f5bb74-270703e8-1781d41e: running=7     completed=11    pending=0     failed=0     aborted=0     lost=0     total=18    blocked=0    \n"
                },
                {
                    "name": "stderr",
                    "output_type": "stream",
                    "text": "2025-02-07 23:20:21,211\tINFO\t( 9 min) operation 3deaffea-e4f5bb74-270703e8-1781d41e: running=6     completed=13    pending=0     failed=0     aborted=0     lost=0     total=19    blocked=0    \n"
                },
                {
                    "name": "stderr",
                    "output_type": "stream",
                    "text": "2025-02-07 23:20:51,537\tINFO\t( 9 min) operation 3deaffea-e4f5bb74-270703e8-1781d41e: running=4     completed=14    pending=0     failed=0     aborted=1     lost=0     total=18    blocked=0    \n"
                },
                {
                    "name": "stderr",
                    "output_type": "stream",
                    "text": "2025-02-07 23:21:06,692\tINFO\t( 9 min) operation 3deaffea-e4f5bb74-270703e8-1781d41e: running=2     completed=15    pending=0     failed=0     aborted=2     lost=0     total=17    blocked=0    \n"
                },
                {
                    "name": "stderr",
                    "output_type": "stream",
                    "text": "2025-02-07 23:21:21,826\tINFO\t(10 min) operation 3deaffea-e4f5bb74-270703e8-1781d41e completed\n"
                },
                {
                    "name": "stderr",
                    "output_type": "stream",
                    "text": "2025-02-07 23:21:21,868\tINFO\t(10 min) Alerts: {'low_cpu_usage': {'code': 1, 'message': \"Average CPU usage of some of your job types is significantly lower than requested 'cpu_limit'. Consider decreasing cpu_limit in spec of your operation\", 'attributes': {'pid': 1, 'tid': 9389937110908861621, 'thread': 'Controller:14', 'fid': 18446213275216545196, 'host': 'man0-0461.hw.nebius.yt', 'datetime': '2025-02-07T23:21:20.559415Z', 'trace_id': '47b668fc-901cb8db-9743acb1-4464732d', 'span_id': 11011441638619648255}, 'inner_errors': [{'code': 1, 'message': 'Jobs of task \"map\" use 30.65% of requested cpu limit', 'attributes': {'pid': 1, 'tid': 9389937110908861621, 'thread': 'Controller:14', 'fid': 18446213275216545196, 'host': 'man0-0461.hw.nebius.yt', 'datetime': '2025-02-07T23:21:20.559405Z', 'trace_id': '47b668fc-901cb8db-9743acb1-4464732d', 'span_id': 11011441638619648255, 'cpu_time': 5029037, 'cpu_limit': 2.0, 'exec_time': 8204616}}]}}\n"
                },
                {
                    "data": {
                        "text/plain": "<yt.wrapper.operation_commands.Operation at 0x7f3b813e3ef0>"
                    },
                    "execution_count": 7,
                    "metadata": {},
                    "output_type": "execute_result"
                }
            ],
            "source": "inference_path = f\"{working_dir}/inference\"\n\nschema = yt.schema.TableSchema(strict=True)\nschema.add_column(\"index\", type_info.Int32)\nschema.add_column(\"description\", type_info.String)\nschema.add_column(\"input\", type_info.List[type_info.String])\nschema.add_column(\"output\", type_info.List[type_info.String])\nschema.add_column(\"code\", type_info.String)\n\nyt.create(\"table\", inference_path, force=True, attributes={\"schema\": schema.to_yson_type()})\n\n\nyt.run_map(\n    bulk_inference,\n    dataset_path,\n    inference_path,\n    job_count=16,\n    spec={\n        \"pool\": \"fifo\",\n        \"pool_trees\": [\"gpu_h200\"],\n        \"mapper\": {\n            \"gpu_limit\": 1,\n            \"memory_limit\": 32212254720,\n            \"cpu_limit\": 2,\n        },\n        \"job_io\": {\n            \"table_writer\": {\n                \"max_row_weight\": 128 * 1024 * 1024,\n            },\n        },\n    },\n)"
        },
        {
            "cell_type": "markdown",
            "id": "2d8144e2-02c1-4744-b3bb-a66f6cb91d84",
            "metadata": {
                "tracto": {
                    "metadata_version": "1",
                    "source_hash": "37eb2a72",
                    "view_cell_type": "MD"
                }
            },
            "source": "Let's run the code in parallel and validate the results. We'll limit memory consumption for the tested code using prlimit.\nIn this example, we do not isolate the llm-generated code from the controlling system at the io-level, but we limit RAM consumption."
        },
        {
            "cell_type": "code",
            "execution_count": 12,
            "id": "3eef4a4d-489e-4dce-a9fe-e6fa4781dcb3",
            "metadata": {
                "tracto": {
                    "execution_end": 1738970482116,
                    "execution_start": 1738970482115,
                    "metadata_version": "1",
                    "source_hash": "baafae95",
                    "view_cell_type": "CODE"
                }
            },
            "outputs": [],
            "source": "import subprocess\nimport sys\n\n\nRUN_TIMEOUT = 10\nCODE_IO_LIMIT = 2000\nMEM_LIMIT = 32212254720\n\n\n@yt.aggregator\ndef validate_code(records: Iterable[dict[str, str]]) -> Iterable[dict[str, str]]:\n    for record in records:\n        for inp, expected in zip(record[\"input\"], record[\"output\"]):\n            print(f\"Run code for {record['index']}\", file=sys.stderr)\n            try:\n                process = subprocess.run(\n                    [\"prlimit\", f\"--as={int(MEM_LIMIT * 0.5)}\", \"python3\", \"-c\", record[\"code\"]],\n                    input=inp,\n                    text=True,\n                    capture_output=True,\n                    timeout=RUN_TIMEOUT,\n                )\n            except subprocess.TimeoutExpired:\n                print(f\"Execution failed: timeout\", file=sys.stderr)\n                yield {\n                    \"index\": record[\"index\"],\n                    \"description\": record[\"description\"],\n                    \"input\": record[\"input\"],\n                    \"output\": record[\"output\"],\n                    \"code\": record[\"code\"],\n                    \"result_stdout\": \"<TIMEOUT>\",\n                    \"result_stderr\": \"<TIMEOUT>\",\n                    \"exitcode\": -1,\n                    \"match_expected\": False,\n                }\n                continue\n            if process.returncode:\n                print(f\"Execution failed: {process.stderr}\", file=sys.stderr)\n\n            yield {\n                \"index\": record[\"index\"],\n                \"description\": record[\"description\"],\n                \"input\": record[\"input\"],\n                \"output\": record[\"output\"],\n                \"code\": record[\"code\"],\n                \"result_stdout\": process.stdout[:CODE_IO_LIMIT],\n                \"result_stderr\": process.stderr[:CODE_IO_LIMIT],\n                \"exitcode\": process.returncode,\n                \"match_expected\": process.stdout == expected,\n            }"
        },
        {
            "cell_type": "code",
            "execution_count": 13,
            "id": "afe68fe0-fb03-4e54-b798-f01007476525",
            "metadata": {
                "tracto": {
                    "execution_end": 1738973689398,
                    "execution_start": 1738970482117,
                    "metadata_version": "1",
                    "source_hash": "69044fbf",
                    "view_cell_type": "CODE"
                }
            },
            "outputs": [
                {
                    "name": "stderr",
                    "output_type": "stream",
                    "text": "2025-02-07 23:21:23,823\tINFO\tOperation started: https://playground.yt.nebius.yt/playground/operations/af333775-a51d7aeb-270703e8-aa4132b1/details\n"
                },
                {
                    "name": "stderr",
                    "output_type": "stream",
                    "text": "2025-02-07 23:21:23,845\tINFO\t( 0 min) operation af333775-a51d7aeb-270703e8-aa4132b1 starting\n"
                },
                {
                    "name": "stderr",
                    "output_type": "stream",
                    "text": "2025-02-07 23:21:24,374\tINFO\t( 0 min) operation af333775-a51d7aeb-270703e8-aa4132b1 initializing\n"
                },
                {
                    "name": "stderr",
                    "output_type": "stream",
                    "text": "2025-02-07 23:21:25,983\tINFO\t( 0 min) Unrecognized spec: {'enable_partitioned_data_balancing': false, 'mapper': {'title': 'validate_code'}}\n"
                },
                {
                    "name": "stderr",
                    "output_type": "stream",
                    "text": "2025-02-07 23:21:26,004\tINFO\t( 0 min) operation af333775-a51d7aeb-270703e8-aa4132b1: running=0     completed=0     pending=256   failed=0     aborted=0     lost=0     total=256   blocked=0    \n"
                },
                {
                    "name": "stderr",
                    "output_type": "stream",
                    "text": "2025-02-07 23:21:28,195\tINFO\t( 0 min) operation af333775-a51d7aeb-270703e8-aa4132b1: running=68    completed=0     pending=188   failed=0     aborted=0     lost=0     total=256   blocked=0    \n"
                },
                {
                    "name": "stderr",
                    "output_type": "stream",
                    "text": "2025-02-07 23:21:58,661\tINFO\t( 0 min) operation af333775-a51d7aeb-270703e8-aa4132b1: running=69    completed=1     pending=186   failed=0     aborted=0     lost=0     total=256   blocked=0    \n"
                },
                {
                    "name": "stderr",
                    "output_type": "stream",
                    "text": "2025-02-07 23:22:03,718\tINFO\t( 0 min) operation af333775-a51d7aeb-270703e8-aa4132b1: running=119   completed=5     pending=132   failed=0     aborted=0     lost=0     total=256   blocked=0    \n"
                },
                {
                    "name": "stderr",
                    "output_type": "stream",
                    "text": "2025-02-07 23:22:08,761\tINFO\t( 0 min) operation af333775-a51d7aeb-270703e8-aa4132b1: running=135   completed=7     pending=114   failed=0     aborted=0     lost=0     total=256   blocked=0    \n"
                },
                {
                    "name": "stderr",
                    "output_type": "stream",
                    "text": "2025-02-07 23:22:13,815\tINFO\t( 0 min) operation af333775-a51d7aeb-270703e8-aa4132b1: running=142   completed=9     pending=105   failed=0     aborted=0     lost=0     total=256   blocked=0    \n"
                },
                {
                    "name": "stderr",
                    "output_type": "stream",
                    "text": "2025-02-07 23:22:28,929\tINFO\t( 1 min) operation af333775-a51d7aeb-270703e8-aa4132b1: running=141   completed=9     pending=106   failed=0     aborted=2     lost=0     total=256   blocked=0    \n"
                },
                {
                    "name": "stderr",
                    "output_type": "stream",
                    "text": "2025-02-07 23:22:33,980\tINFO\t( 1 min) operation af333775-a51d7aeb-270703e8-aa4132b1: running=139   completed=11    pending=106   failed=0     aborted=2     lost=0     total=256   blocked=0    \n"
                },
                {
                    "name": "stderr",
                    "output_type": "stream",
                    "text": "2025-02-07 23:22:39,037\tINFO\t( 1 min) operation af333775-a51d7aeb-270703e8-aa4132b1: running=138   completed=12    pending=106   failed=0     aborted=2     lost=0     total=256   blocked=0    \n"
                },
                {
                    "name": "stderr",
                    "output_type": "stream",
                    "text": "2025-02-07 23:22:44,087\tINFO\t( 1 min) operation af333775-a51d7aeb-270703e8-aa4132b1: running=136   completed=14    pending=106   failed=0     aborted=2     lost=0     total=256   blocked=0    \n"
                },
                {
                    "name": "stderr",
                    "output_type": "stream",
                    "text": "2025-02-07 23:22:49,131\tINFO\t( 1 min) operation af333775-a51d7aeb-270703e8-aa4132b1: running=135   completed=15    pending=106   failed=0     aborted=2     lost=0     total=256   blocked=0    \n"
                },
                {
                    "name": "stderr",
                    "output_type": "stream",
                    "text": "2025-02-07 23:22:54,185\tINFO\t( 1 min) operation af333775-a51d7aeb-270703e8-aa4132b1: running=134   completed=16    pending=106   failed=0     aborted=2     lost=0     total=256   blocked=0    \n"
                },
                {
                    "name": "stderr",
                    "output_type": "stream",
                    "text": "2025-02-07 23:23:04,280\tINFO\t( 1 min) operation af333775-a51d7aeb-270703e8-aa4132b1: running=133   completed=17    pending=106   failed=0     aborted=2     lost=0     total=256   blocked=0    \n"
                },
                {
                    "name": "stderr",
                    "output_type": "stream",
                    "text": "2025-02-07 23:23:49,689\tINFO\t( 2 min) operation af333775-a51d7aeb-270703e8-aa4132b1: running=132   completed=18    pending=106   failed=0     aborted=2     lost=0     total=256   blocked=0    \n"
                },
                {
                    "name": "stderr",
                    "output_type": "stream",
                    "text": "2025-02-07 23:24:04,835\tINFO\t( 2 min) operation af333775-a51d7aeb-270703e8-aa4132b1: running=131   completed=19    pending=106   failed=0     aborted=2     lost=0     total=256   blocked=0    \n"
                },
                {
                    "name": "stderr",
                    "output_type": "stream",
                    "text": "2025-02-07 23:24:14,939\tINFO\t( 2 min) operation af333775-a51d7aeb-270703e8-aa4132b1: running=139   completed=22    pending=95    failed=0     aborted=2     lost=0     total=256   blocked=0    \n"
                },
                {
                    "name": "stderr",
                    "output_type": "stream",
                    "text": "2025-02-07 23:24:30,120\tINFO\t( 3 min) operation af333775-a51d7aeb-270703e8-aa4132b1: running=139   completed=23    pending=94    failed=0     aborted=2     lost=0     total=256   blocked=0    \n"
                },
                {
                    "name": "stderr",
                    "output_type": "stream",
                    "text": "2025-02-07 23:24:40,206\tINFO\t( 3 min) operation af333775-a51d7aeb-270703e8-aa4132b1: running=139   completed=24    pending=93    failed=0     aborted=2     lost=0     total=256   blocked=0    \n"
                },
                {
                    "name": "stderr",
                    "output_type": "stream",
                    "text": "2025-02-07 23:24:50,307\tINFO\t( 3 min) operation af333775-a51d7aeb-270703e8-aa4132b1: running=138   completed=26    pending=92    failed=0     aborted=2     lost=0     total=256   blocked=0    \n"
                },
                {
                    "name": "stderr",
                    "output_type": "stream",
                    "text": "2025-02-07 23:25:05,448\tINFO\t( 3 min) operation af333775-a51d7aeb-270703e8-aa4132b1: running=138   completed=27    pending=91    failed=0     aborted=2     lost=0     total=256   blocked=0    \n"
                },
                {
                    "name": "stderr",
                    "output_type": "stream",
                    "text": "2025-02-07 23:25:10,487\tINFO\t( 3 min) operation af333775-a51d7aeb-270703e8-aa4132b1: running=144   completed=29    pending=83    failed=0     aborted=2     lost=0     total=256   blocked=0    \n"
                },
                {
                    "name": "stderr",
                    "output_type": "stream",
                    "text": "2025-02-07 23:25:20,589\tINFO\t( 3 min) operation af333775-a51d7aeb-270703e8-aa4132b1: running=143   completed=29    pending=84    failed=0     aborted=3     lost=0     total=256   blocked=0    \n"
                },
                {
                    "name": "stderr",
                    "output_type": "stream",
                    "text": "2025-02-07 23:25:25,631\tINFO\t( 4 min) operation af333775-a51d7aeb-270703e8-aa4132b1: running=141   completed=29    pending=86    failed=0     aborted=5     lost=0     total=256   blocked=0    \n"
                },
                {
                    "name": "stderr",
                    "output_type": "stream",
                    "text": "2025-02-07 23:25:40,769\tINFO\t( 4 min) operation af333775-a51d7aeb-270703e8-aa4132b1: running=140   completed=30    pending=86    failed=0     aborted=5     lost=0     total=256   blocked=0    \n"
                },
                {
                    "name": "stderr",
                    "output_type": "stream",
                    "text": "2025-02-07 23:25:45,810\tINFO\t( 4 min) operation af333775-a51d7aeb-270703e8-aa4132b1: running=139   completed=33    pending=84    failed=0     aborted=5     lost=0     total=256   blocked=0    \n"
                },
                {
                    "name": "stderr",
                    "output_type": "stream",
                    "text": "2025-02-07 23:25:50,859\tINFO\t( 4 min) operation af333775-a51d7aeb-270703e8-aa4132b1: running=138   completed=34    pending=84    failed=0     aborted=5     lost=0     total=256   blocked=0    \n"
                },
                {
                    "name": "stderr",
                    "output_type": "stream",
                    "text": "2025-02-07 23:26:00,963\tINFO\t( 4 min) operation af333775-a51d7aeb-270703e8-aa4132b1: running=137   completed=34    pending=85    failed=0     aborted=6     lost=0     total=256   blocked=0    \n"
                },
                {
                    "name": "stderr",
                    "output_type": "stream",
                    "text": "2025-02-07 23:26:06,031\tINFO\t( 4 min) operation af333775-a51d7aeb-270703e8-aa4132b1: running=136   completed=35    pending=85    failed=0     aborted=6     lost=0     total=256   blocked=0    \n"
                },
                {
                    "name": "stderr",
                    "output_type": "stream",
                    "text": "2025-02-07 23:26:16,128\tINFO\t( 4 min) operation af333775-a51d7aeb-270703e8-aa4132b1: running=135   completed=36    pending=85    failed=0     aborted=6     lost=0     total=256   blocked=0    \n"
                },
                {
                    "name": "stderr",
                    "output_type": "stream",
                    "text": "2025-02-07 23:26:21,172\tINFO\t( 4 min) operation af333775-a51d7aeb-270703e8-aa4132b1: running=134   completed=37    pending=85    failed=0     aborted=6     lost=0     total=256   blocked=0    \n"
                },
                {
                    "name": "stderr",
                    "output_type": "stream",
                    "text": "2025-02-07 23:26:31,268\tINFO\t( 5 min) operation af333775-a51d7aeb-270703e8-aa4132b1: running=134   completed=38    pending=84    failed=0     aborted=6     lost=0     total=256   blocked=0    \n"
                },
                {
                    "name": "stderr",
                    "output_type": "stream",
                    "text": "2025-02-07 23:26:36,319\tINFO\t( 5 min) operation af333775-a51d7aeb-270703e8-aa4132b1: running=133   completed=39    pending=84    failed=0     aborted=6     lost=0     total=256   blocked=0    \n"
                },
                {
                    "name": "stderr",
                    "output_type": "stream",
                    "text": "2025-02-07 23:26:41,374\tINFO\t( 5 min) operation af333775-a51d7aeb-270703e8-aa4132b1: running=132   completed=40    pending=84    failed=0     aborted=6     lost=0     total=256   blocked=0    \n"
                },
                {
                    "name": "stderr",
                    "output_type": "stream",
                    "text": "2025-02-07 23:26:51,469\tINFO\t( 5 min) operation af333775-a51d7aeb-270703e8-aa4132b1: running=135   completed=41    pending=80    failed=0     aborted=6     lost=0     total=256   blocked=0    \n"
                },
                {
                    "name": "stderr",
                    "output_type": "stream",
                    "text": "2025-02-07 23:26:56,511\tINFO\t( 5 min) operation af333775-a51d7aeb-270703e8-aa4132b1: running=135   completed=42    pending=79    failed=0     aborted=6     lost=0     total=256   blocked=0    \n"
                },
                {
                    "name": "stderr",
                    "output_type": "stream",
                    "text": "2025-02-07 23:27:01,551\tINFO\t( 5 min) operation af333775-a51d7aeb-270703e8-aa4132b1: running=136   completed=43    pending=77    failed=0     aborted=6     lost=0     total=256   blocked=0    \n"
                },
                {
                    "name": "stderr",
                    "output_type": "stream",
                    "text": "2025-02-07 23:27:06,611\tINFO\t( 5 min) operation af333775-a51d7aeb-270703e8-aa4132b1: running=135   completed=44    pending=77    failed=0     aborted=7     lost=0     total=256   blocked=0    \n"
                },
                {
                    "name": "stderr",
                    "output_type": "stream",
                    "text": "2025-02-07 23:27:36,884\tINFO\t( 6 min) operation af333775-a51d7aeb-270703e8-aa4132b1: running=137   completed=46    pending=73    failed=0     aborted=7     lost=0     total=256   blocked=0    \n"
                },
                {
                    "name": "stderr",
                    "output_type": "stream",
                    "text": "2025-02-07 23:27:46,989\tINFO\t( 6 min) operation af333775-a51d7aeb-270703e8-aa4132b1: running=137   completed=47    pending=72    failed=0     aborted=7     lost=0     total=256   blocked=0    \n"
                },
                {
                    "name": "stderr",
                    "output_type": "stream",
                    "text": "2025-02-07 23:27:52,046\tINFO\t( 6 min) operation af333775-a51d7aeb-270703e8-aa4132b1: running=134   completed=48    pending=74    failed=0     aborted=9     lost=0     total=256   blocked=0    \n"
                },
                {
                    "name": "stderr",
                    "output_type": "stream",
                    "text": "2025-02-07 23:28:12,255\tINFO\t( 6 min) operation af333775-a51d7aeb-270703e8-aa4132b1: running=133   completed=49    pending=74    failed=0     aborted=9     lost=0     total=256   blocked=0    \n"
                },
                {
                    "name": "stderr",
                    "output_type": "stream",
                    "text": "2025-02-07 23:28:17,303\tINFO\t( 6 min) operation af333775-a51d7aeb-270703e8-aa4132b1: running=131   completed=51    pending=74    failed=0     aborted=9     lost=0     total=256   blocked=0    \n"
                },
                {
                    "name": "stderr",
                    "output_type": "stream",
                    "text": "2025-02-07 23:28:27,411\tINFO\t( 7 min) operation af333775-a51d7aeb-270703e8-aa4132b1: running=130   completed=52    pending=74    failed=0     aborted=9     lost=0     total=256   blocked=0    \n"
                },
                {
                    "name": "stderr",
                    "output_type": "stream",
                    "text": "2025-02-07 23:29:02,773\tINFO\t( 7 min) operation af333775-a51d7aeb-270703e8-aa4132b1: running=129   completed=53    pending=74    failed=0     aborted=9     lost=0     total=256   blocked=0    \n"
                },
                {
                    "name": "stderr",
                    "output_type": "stream",
                    "text": "2025-02-07 23:29:07,826\tINFO\t( 7 min) operation af333775-a51d7aeb-270703e8-aa4132b1: running=129   completed=54    pending=73    failed=0     aborted=9     lost=0     total=256   blocked=0    \n"
                },
                {
                    "name": "stderr",
                    "output_type": "stream",
                    "text": "2025-02-07 23:29:22,981\tINFO\t( 7 min) operation af333775-a51d7aeb-270703e8-aa4132b1: running=128   completed=55    pending=73    failed=0     aborted=9     lost=0     total=256   blocked=0    \n"
                },
                {
                    "name": "stderr",
                    "output_type": "stream",
                    "text": "2025-02-07 23:29:28,032\tINFO\t( 8 min) operation af333775-a51d7aeb-270703e8-aa4132b1: running=130   completed=56    pending=70    failed=0     aborted=9     lost=0     total=256   blocked=0    \n"
                },
                {
                    "name": "stderr",
                    "output_type": "stream",
                    "text": "2025-02-07 23:29:33,081\tINFO\t( 8 min) operation af333775-a51d7aeb-270703e8-aa4132b1: running=129   completed=58    pending=69    failed=0     aborted=9     lost=0     total=256   blocked=0    \n"
                },
                {
                    "name": "stderr",
                    "output_type": "stream",
                    "text": "2025-02-07 23:29:48,234\tINFO\t( 8 min) operation af333775-a51d7aeb-270703e8-aa4132b1: running=130   completed=59    pending=67    failed=0     aborted=9     lost=0     total=256   blocked=0    \n"
                },
                {
                    "name": "stderr",
                    "output_type": "stream",
                    "text": "2025-02-07 23:29:53,302\tINFO\t( 8 min) operation af333775-a51d7aeb-270703e8-aa4132b1: running=129   completed=60    pending=67    failed=0     aborted=10    lost=0     total=256   blocked=0    \n"
                },
                {
                    "name": "stderr",
                    "output_type": "stream",
                    "text": "2025-02-07 23:29:58,345\tINFO\t( 8 min) operation af333775-a51d7aeb-270703e8-aa4132b1: running=128   completed=61    pending=67    failed=0     aborted=10    lost=0     total=256   blocked=0    \n"
                },
                {
                    "name": "stderr",
                    "output_type": "stream",
                    "text": "2025-02-07 23:30:03,382\tINFO\t( 8 min) operation af333775-a51d7aeb-270703e8-aa4132b1: running=127   completed=62    pending=67    failed=0     aborted=10    lost=0     total=256   blocked=0    \n"
                },
                {
                    "name": "stderr",
                    "output_type": "stream",
                    "text": "2025-02-07 23:30:13,476\tINFO\t( 8 min) operation af333775-a51d7aeb-270703e8-aa4132b1: running=126   completed=63    pending=67    failed=0     aborted=10    lost=0     total=256   blocked=0    \n"
                },
                {
                    "name": "stderr",
                    "output_type": "stream",
                    "text": "2025-02-07 23:30:18,517\tINFO\t( 8 min) operation af333775-a51d7aeb-270703e8-aa4132b1: running=125   completed=64    pending=67    failed=0     aborted=10    lost=0     total=256   blocked=0    \n"
                },
                {
                    "name": "stderr",
                    "output_type": "stream",
                    "text": "2025-02-07 23:30:23,568\tINFO\t( 8 min) operation af333775-a51d7aeb-270703e8-aa4132b1: running=124   completed=65    pending=67    failed=0     aborted=10    lost=0     total=256   blocked=0    \n"
                },
                {
                    "name": "stderr",
                    "output_type": "stream",
                    "text": "2025-02-07 23:30:33,653\tINFO\t( 9 min) operation af333775-a51d7aeb-270703e8-aa4132b1: running=123   completed=66    pending=67    failed=0     aborted=10    lost=0     total=256   blocked=0    \n"
                },
                {
                    "name": "stderr",
                    "output_type": "stream",
                    "text": "2025-02-07 23:30:38,705\tINFO\t( 9 min) operation af333775-a51d7aeb-270703e8-aa4132b1: running=122   completed=67    pending=67    failed=0     aborted=10    lost=0     total=256   blocked=0    \n"
                },
                {
                    "name": "stderr",
                    "output_type": "stream",
                    "text": "2025-02-07 23:30:53,852\tINFO\t( 9 min) operation af333775-a51d7aeb-270703e8-aa4132b1: running=120   completed=69    pending=67    failed=0     aborted=10    lost=0     total=256   blocked=0    \n"
                },
                {
                    "name": "stderr",
                    "output_type": "stream",
                    "text": "2025-02-07 23:30:58,895\tINFO\t( 9 min) operation af333775-a51d7aeb-270703e8-aa4132b1: running=119   completed=70    pending=67    failed=0     aborted=10    lost=0     total=256   blocked=0    \n"
                },
                {
                    "name": "stderr",
                    "output_type": "stream",
                    "text": "2025-02-07 23:31:19,085\tINFO\t( 9 min) operation af333775-a51d7aeb-270703e8-aa4132b1: running=124   completed=72    pending=60    failed=0     aborted=10    lost=0     total=256   blocked=0    \n"
                },
                {
                    "name": "stderr",
                    "output_type": "stream",
                    "text": "2025-02-07 23:31:24,139\tINFO\t(10 min) operation af333775-a51d7aeb-270703e8-aa4132b1: running=123   completed=73    pending=60    failed=0     aborted=10    lost=0     total=256   blocked=0    \n"
                },
                {
                    "name": "stderr",
                    "output_type": "stream",
                    "text": "2025-02-07 23:31:39,275\tINFO\t(10 min) operation af333775-a51d7aeb-270703e8-aa4132b1: running=123   completed=74    pending=59    failed=0     aborted=10    lost=0     total=256   blocked=0    \n"
                },
                {
                    "name": "stderr",
                    "output_type": "stream",
                    "text": "2025-02-07 23:31:44,333\tINFO\t(10 min) operation af333775-a51d7aeb-270703e8-aa4132b1: running=122   completed=75    pending=59    failed=0     aborted=10    lost=0     total=256   blocked=0    \n"
                },
                {
                    "name": "stderr",
                    "output_type": "stream",
                    "text": "2025-02-07 23:31:59,474\tINFO\t(10 min) operation af333775-a51d7aeb-270703e8-aa4132b1: running=122   completed=77    pending=57    failed=0     aborted=10    lost=0     total=256   blocked=0    \n"
                },
                {
                    "name": "stderr",
                    "output_type": "stream",
                    "text": "2025-02-07 23:32:04,529\tINFO\t(10 min) operation af333775-a51d7aeb-270703e8-aa4132b1: running=121   completed=79    pending=56    failed=0     aborted=10    lost=0     total=256   blocked=0    \n"
                },
                {
                    "name": "stderr",
                    "output_type": "stream",
                    "text": "2025-02-07 23:32:09,573\tINFO\t(10 min) operation af333775-a51d7aeb-270703e8-aa4132b1: running=121   completed=80    pending=55    failed=0     aborted=10    lost=0     total=256   blocked=0    \n"
                },
                {
                    "name": "stderr",
                    "output_type": "stream",
                    "text": "2025-02-07 23:32:14,618\tINFO\t(10 min) operation af333775-a51d7aeb-270703e8-aa4132b1: running=120   completed=81    pending=55    failed=0     aborted=10    lost=0     total=256   blocked=0    \n"
                },
                {
                    "name": "stderr",
                    "output_type": "stream",
                    "text": "2025-02-07 23:32:34,810\tINFO\t(11 min) operation af333775-a51d7aeb-270703e8-aa4132b1: running=120   completed=82    pending=54    failed=0     aborted=10    lost=0     total=256   blocked=0    \n"
                },
                {
                    "name": "stderr",
                    "output_type": "stream",
                    "text": "2025-02-07 23:32:39,873\tINFO\t(11 min) operation af333775-a51d7aeb-270703e8-aa4132b1: running=120   completed=83    pending=53    failed=0     aborted=10    lost=0     total=256   blocked=0    \n"
                },
                {
                    "name": "stderr",
                    "output_type": "stream",
                    "text": "2025-02-07 23:32:44,924\tINFO\t(11 min) operation af333775-a51d7aeb-270703e8-aa4132b1: running=120   completed=84    pending=52    failed=0     aborted=10    lost=0     total=256   blocked=0    \n"
                },
                {
                    "name": "stderr",
                    "output_type": "stream",
                    "text": "2025-02-07 23:32:49,971\tINFO\t(11 min) operation af333775-a51d7aeb-270703e8-aa4132b1: running=120   completed=85    pending=51    failed=0     aborted=10    lost=0     total=256   blocked=0    \n"
                },
                {
                    "name": "stderr",
                    "output_type": "stream",
                    "text": "2025-02-07 23:33:00,071\tINFO\t(11 min) operation af333775-a51d7aeb-270703e8-aa4132b1: running=119   completed=86    pending=51    failed=0     aborted=10    lost=0     total=256   blocked=0    \n"
                },
                {
                    "name": "stderr",
                    "output_type": "stream",
                    "text": "2025-02-07 23:33:05,120\tINFO\t(11 min) operation af333775-a51d7aeb-270703e8-aa4132b1: running=120   completed=87    pending=49    failed=0     aborted=10    lost=0     total=256   blocked=0    \n"
                },
                {
                    "name": "stderr",
                    "output_type": "stream",
                    "text": "2025-02-07 23:33:10,163\tINFO\t(11 min) operation af333775-a51d7aeb-270703e8-aa4132b1: running=119   completed=88    pending=49    failed=0     aborted=10    lost=0     total=256   blocked=0    \n"
                },
                {
                    "name": "stderr",
                    "output_type": "stream",
                    "text": "2025-02-07 23:33:20,252\tINFO\t(11 min) operation af333775-a51d7aeb-270703e8-aa4132b1: running=120   completed=89    pending=47    failed=0     aborted=10    lost=0     total=256   blocked=0    \n"
                },
                {
                    "name": "stderr",
                    "output_type": "stream",
                    "text": "2025-02-07 23:33:30,339\tINFO\t(12 min) operation af333775-a51d7aeb-270703e8-aa4132b1: running=119   completed=90    pending=47    failed=0     aborted=10    lost=0     total=256   blocked=0    \n"
                },
                {
                    "name": "stderr",
                    "output_type": "stream",
                    "text": "2025-02-07 23:33:40,438\tINFO\t(12 min) operation af333775-a51d7aeb-270703e8-aa4132b1: running=118   completed=92    pending=46    failed=0     aborted=10    lost=0     total=256   blocked=0    \n"
                },
                {
                    "name": "stderr",
                    "output_type": "stream",
                    "text": "2025-02-07 23:33:50,538\tINFO\t(12 min) operation af333775-a51d7aeb-270703e8-aa4132b1: running=117   completed=93    pending=46    failed=0     aborted=10    lost=0     total=256   blocked=0    \n"
                },
                {
                    "name": "stderr",
                    "output_type": "stream",
                    "text": "2025-02-07 23:34:10,743\tINFO\t(12 min) operation af333775-a51d7aeb-270703e8-aa4132b1: running=115   completed=94    pending=47    failed=0     aborted=11    lost=0     total=256   blocked=0    \n"
                },
                {
                    "name": "stderr",
                    "output_type": "stream",
                    "text": "2025-02-07 23:34:15,792\tINFO\t(12 min) operation af333775-a51d7aeb-270703e8-aa4132b1: running=114   completed=95    pending=47    failed=0     aborted=11    lost=0     total=256   blocked=0    \n"
                },
                {
                    "name": "stderr",
                    "output_type": "stream",
                    "text": "2025-02-07 23:34:35,978\tINFO\t(13 min) operation af333775-a51d7aeb-270703e8-aa4132b1: running=113   completed=96    pending=47    failed=0     aborted=11    lost=0     total=256   blocked=0    \n"
                },
                {
                    "name": "stderr",
                    "output_type": "stream",
                    "text": "2025-02-07 23:34:46,083\tINFO\t(13 min) operation af333775-a51d7aeb-270703e8-aa4132b1: running=114   completed=97    pending=45    failed=0     aborted=11    lost=0     total=256   blocked=0    \n"
                },
                {
                    "name": "stderr",
                    "output_type": "stream",
                    "text": "2025-02-07 23:34:51,130\tINFO\t(13 min) operation af333775-a51d7aeb-270703e8-aa4132b1: running=116   completed=98    pending=42    failed=0     aborted=11    lost=0     total=256   blocked=0    \n"
                },
                {
                    "name": "stderr",
                    "output_type": "stream",
                    "text": "2025-02-07 23:35:01,221\tINFO\t(13 min) operation af333775-a51d7aeb-270703e8-aa4132b1: running=116   completed=100   pending=40    failed=0     aborted=11    lost=0     total=256   blocked=0    \n"
                },
                {
                    "name": "stderr",
                    "output_type": "stream",
                    "text": "2025-02-07 23:35:16,343\tINFO\t(13 min) operation af333775-a51d7aeb-270703e8-aa4132b1: running=114   completed=104   pending=38    failed=0     aborted=11    lost=0     total=256   blocked=0    \n"
                },
                {
                    "name": "stderr",
                    "output_type": "stream",
                    "text": "2025-02-07 23:35:31,488\tINFO\t(14 min) operation af333775-a51d7aeb-270703e8-aa4132b1: running=112   completed=106   pending=38    failed=0     aborted=12    lost=0     total=256   blocked=0    \n"
                },
                {
                    "name": "stderr",
                    "output_type": "stream",
                    "text": "2025-02-07 23:35:41,589\tINFO\t(14 min) operation af333775-a51d7aeb-270703e8-aa4132b1: running=110   completed=107   pending=39    failed=0     aborted=13    lost=0     total=256   blocked=0    \n"
                },
                {
                    "name": "stderr",
                    "output_type": "stream",
                    "text": "2025-02-07 23:36:01,770\tINFO\t(14 min) operation af333775-a51d7aeb-270703e8-aa4132b1: running=109   completed=108   pending=39    failed=0     aborted=13    lost=0     total=256   blocked=0    \n"
                },
                {
                    "name": "stderr",
                    "output_type": "stream",
                    "text": "2025-02-07 23:36:06,811\tINFO\t(14 min) operation af333775-a51d7aeb-270703e8-aa4132b1: running=105   completed=112   pending=39    failed=0     aborted=13    lost=0     total=256   blocked=0    \n"
                },
                {
                    "name": "stderr",
                    "output_type": "stream",
                    "text": "2025-02-07 23:36:11,857\tINFO\t(14 min) operation af333775-a51d7aeb-270703e8-aa4132b1: running=105   completed=113   pending=38    failed=0     aborted=13    lost=0     total=256   blocked=0    \n"
                },
                {
                    "name": "stderr",
                    "output_type": "stream",
                    "text": "2025-02-07 23:36:16,906\tINFO\t(14 min) operation af333775-a51d7aeb-270703e8-aa4132b1: running=104   completed=114   pending=38    failed=0     aborted=13    lost=0     total=256   blocked=0    \n"
                },
                {
                    "name": "stderr",
                    "output_type": "stream",
                    "text": "2025-02-07 23:36:32,065\tINFO\t(15 min) operation af333775-a51d7aeb-270703e8-aa4132b1: running=107   completed=115   pending=34    failed=0     aborted=13    lost=0     total=256   blocked=0    \n"
                },
                {
                    "name": "stderr",
                    "output_type": "stream",
                    "text": "2025-02-07 23:36:37,122\tINFO\t(15 min) operation af333775-a51d7aeb-270703e8-aa4132b1: running=107   completed=116   pending=33    failed=0     aborted=13    lost=0     total=256   blocked=0    \n"
                },
                {
                    "name": "stderr",
                    "output_type": "stream",
                    "text": "2025-02-07 23:36:42,165\tINFO\t(15 min) operation af333775-a51d7aeb-270703e8-aa4132b1: running=106   completed=117   pending=33    failed=0     aborted=13    lost=0     total=256   blocked=0    \n"
                },
                {
                    "name": "stderr",
                    "output_type": "stream",
                    "text": "2025-02-07 23:36:47,207\tINFO\t(15 min) operation af333775-a51d7aeb-270703e8-aa4132b1: running=106   completed=122   pending=28    failed=0     aborted=13    lost=0     total=256   blocked=0    \n"
                },
                {
                    "name": "stderr",
                    "output_type": "stream",
                    "text": "2025-02-07 23:36:57,299\tINFO\t(15 min) operation af333775-a51d7aeb-270703e8-aa4132b1: running=106   completed=123   pending=27    failed=0     aborted=13    lost=0     total=256   blocked=0    \n"
                },
                {
                    "name": "stderr",
                    "output_type": "stream",
                    "text": "2025-02-07 23:37:12,453\tINFO\t(15 min) operation af333775-a51d7aeb-270703e8-aa4132b1: running=106   completed=125   pending=25    failed=0     aborted=13    lost=0     total=256   blocked=0    \n"
                },
                {
                    "name": "stderr",
                    "output_type": "stream",
                    "text": "2025-02-07 23:37:17,504\tINFO\t(15 min) operation af333775-a51d7aeb-270703e8-aa4132b1: running=105   completed=125   pending=26    failed=0     aborted=14    lost=0     total=256   blocked=0    \n"
                },
                {
                    "name": "stderr",
                    "output_type": "stream",
                    "text": "2025-02-07 23:37:32,648\tINFO\t(16 min) operation af333775-a51d7aeb-270703e8-aa4132b1: running=103   completed=127   pending=26    failed=0     aborted=14    lost=0     total=256   blocked=0    \n"
                },
                {
                    "name": "stderr",
                    "output_type": "stream",
                    "text": "2025-02-07 23:37:37,702\tINFO\t(16 min) operation af333775-a51d7aeb-270703e8-aa4132b1: running=102   completed=128   pending=26    failed=0     aborted=14    lost=0     total=256   blocked=0    \n"
                },
                {
                    "name": "stderr",
                    "output_type": "stream",
                    "text": "2025-02-07 23:37:52,852\tINFO\t(16 min) operation af333775-a51d7aeb-270703e8-aa4132b1: running=101   completed=129   pending=26    failed=0     aborted=14    lost=0     total=256   blocked=0    \n"
                },
                {
                    "name": "stderr",
                    "output_type": "stream",
                    "text": "2025-02-07 23:37:57,896\tINFO\t(16 min) operation af333775-a51d7aeb-270703e8-aa4132b1: running=100   completed=130   pending=26    failed=0     aborted=14    lost=0     total=256   blocked=0    \n"
                },
                {
                    "name": "stderr",
                    "output_type": "stream",
                    "text": "2025-02-07 23:38:02,939\tINFO\t(16 min) operation af333775-a51d7aeb-270703e8-aa4132b1: running=99    completed=131   pending=26    failed=0     aborted=14    lost=0     total=256   blocked=0    \n"
                },
                {
                    "name": "stderr",
                    "output_type": "stream",
                    "text": "2025-02-07 23:38:07,989\tINFO\t(16 min) operation af333775-a51d7aeb-270703e8-aa4132b1: running=103   completed=132   pending=21    failed=0     aborted=14    lost=0     total=256   blocked=0    \n"
                },
                {
                    "name": "stderr",
                    "output_type": "stream",
                    "text": "2025-02-07 23:38:13,039\tINFO\t(16 min) operation af333775-a51d7aeb-270703e8-aa4132b1: running=102   completed=133   pending=21    failed=0     aborted=14    lost=0     total=256   blocked=0    \n"
                },
                {
                    "name": "stderr",
                    "output_type": "stream",
                    "text": "2025-02-07 23:38:18,092\tINFO\t(16 min) operation af333775-a51d7aeb-270703e8-aa4132b1: running=101   completed=135   pending=20    failed=0     aborted=14    lost=0     total=256   blocked=0    \n"
                },
                {
                    "name": "stderr",
                    "output_type": "stream",
                    "text": "2025-02-07 23:38:33,249\tINFO\t(17 min) operation af333775-a51d7aeb-270703e8-aa4132b1: running=99    completed=136   pending=21    failed=0     aborted=15    lost=0     total=256   blocked=0    \n"
                },
                {
                    "name": "stderr",
                    "output_type": "stream",
                    "text": "2025-02-07 23:38:48,405\tINFO\t(17 min) operation af333775-a51d7aeb-270703e8-aa4132b1: running=98    completed=137   pending=21    failed=0     aborted=15    lost=0     total=256   blocked=0    \n"
                },
                {
                    "name": "stderr",
                    "output_type": "stream",
                    "text": "2025-02-07 23:39:13,637\tINFO\t(17 min) operation af333775-a51d7aeb-270703e8-aa4132b1: running=97    completed=138   pending=21    failed=0     aborted=15    lost=0     total=256   blocked=0    \n"
                },
                {
                    "name": "stderr",
                    "output_type": "stream",
                    "text": "2025-02-07 23:39:28,752\tINFO\t(18 min) operation af333775-a51d7aeb-270703e8-aa4132b1: running=96    completed=139   pending=21    failed=0     aborted=15    lost=0     total=256   blocked=0    \n"
                },
                {
                    "name": "stderr",
                    "output_type": "stream",
                    "text": "2025-02-07 23:39:38,844\tINFO\t(18 min) operation af333775-a51d7aeb-270703e8-aa4132b1: running=95    completed=140   pending=21    failed=0     aborted=15    lost=0     total=256   blocked=0    \n"
                },
                {
                    "name": "stderr",
                    "output_type": "stream",
                    "text": "2025-02-07 23:39:43,894\tINFO\t(18 min) operation af333775-a51d7aeb-270703e8-aa4132b1: running=93    completed=142   pending=21    failed=0     aborted=15    lost=0     total=256   blocked=0    \n"
                },
                {
                    "name": "stderr",
                    "output_type": "stream",
                    "text": "2025-02-07 23:39:48,936\tINFO\t(18 min) operation af333775-a51d7aeb-270703e8-aa4132b1: running=98    completed=144   pending=14    failed=0     aborted=15    lost=0     total=256   blocked=0    \n"
                },
                {
                    "name": "stderr",
                    "output_type": "stream",
                    "text": "2025-02-07 23:39:53,980\tINFO\t(18 min) operation af333775-a51d7aeb-270703e8-aa4132b1: running=97    completed=146   pending=13    failed=0     aborted=15    lost=0     total=256   blocked=0    \n"
                },
                {
                    "name": "stderr",
                    "output_type": "stream",
                    "text": "2025-02-07 23:39:59,024\tINFO\t(18 min) operation af333775-a51d7aeb-270703e8-aa4132b1: running=97    completed=147   pending=12    failed=0     aborted=15    lost=0     total=256   blocked=0    \n"
                },
                {
                    "name": "stderr",
                    "output_type": "stream",
                    "text": "2025-02-07 23:40:14,170\tINFO\t(18 min) operation af333775-a51d7aeb-270703e8-aa4132b1: running=97    completed=148   pending=11    failed=0     aborted=15    lost=0     total=256   blocked=0    \n"
                },
                {
                    "name": "stderr",
                    "output_type": "stream",
                    "text": "2025-02-07 23:40:29,314\tINFO\t(19 min) operation af333775-a51d7aeb-270703e8-aa4132b1: running=97    completed=149   pending=10    failed=0     aborted=15    lost=0     total=256   blocked=0    \n"
                },
                {
                    "name": "stderr",
                    "output_type": "stream",
                    "text": "2025-02-07 23:40:34,367\tINFO\t(19 min) operation af333775-a51d7aeb-270703e8-aa4132b1: running=95    completed=153   pending=8     failed=0     aborted=15    lost=0     total=256   blocked=0    \n"
                },
                {
                    "name": "stderr",
                    "output_type": "stream",
                    "text": "2025-02-07 23:40:39,414\tINFO\t(19 min) operation af333775-a51d7aeb-270703e8-aa4132b1: running=93    completed=155   pending=8     failed=0     aborted=15    lost=0     total=256   blocked=0    \n"
                },
                {
                    "name": "stderr",
                    "output_type": "stream",
                    "text": "2025-02-07 23:40:44,468\tINFO\t(19 min) operation af333775-a51d7aeb-270703e8-aa4132b1: running=93    completed=156   pending=7     failed=0     aborted=15    lost=0     total=256   blocked=0    \n"
                },
                {
                    "name": "stderr",
                    "output_type": "stream",
                    "text": "2025-02-07 23:40:49,516\tINFO\t(19 min) operation af333775-a51d7aeb-270703e8-aa4132b1: running=92    completed=158   pending=6     failed=0     aborted=15    lost=0     total=256   blocked=0    \n"
                },
                {
                    "name": "stderr",
                    "output_type": "stream",
                    "text": "2025-02-07 23:40:54,567\tINFO\t(19 min) operation af333775-a51d7aeb-270703e8-aa4132b1: running=92    completed=159   pending=5     failed=0     aborted=15    lost=0     total=256   blocked=0    \n"
                },
                {
                    "name": "stderr",
                    "output_type": "stream",
                    "text": "2025-02-07 23:40:59,618\tINFO\t(19 min) operation af333775-a51d7aeb-270703e8-aa4132b1: running=92    completed=161   pending=3     failed=0     aborted=15    lost=0     total=256   blocked=0    \n"
                },
                {
                    "name": "stderr",
                    "output_type": "stream",
                    "text": "2025-02-07 23:41:19,825\tINFO\t(19 min) operation af333775-a51d7aeb-270703e8-aa4132b1: running=92    completed=162   pending=2     failed=0     aborted=15    lost=0     total=256   blocked=0    \n"
                },
                {
                    "name": "stderr",
                    "output_type": "stream",
                    "text": "2025-02-07 23:41:29,908\tINFO\t(20 min) operation af333775-a51d7aeb-270703e8-aa4132b1: running=91    completed=164   pending=1     failed=0     aborted=15    lost=0     total=256   blocked=0    \n"
                },
                {
                    "name": "stderr",
                    "output_type": "stream",
                    "text": "2025-02-07 23:41:34,965\tINFO\t(20 min) operation af333775-a51d7aeb-270703e8-aa4132b1: running=91    completed=165   pending=0     failed=0     aborted=15    lost=0     total=256   blocked=0    \n"
                },
                {
                    "name": "stderr",
                    "output_type": "stream",
                    "text": "2025-02-07 23:41:40,023\tINFO\t(20 min) operation af333775-a51d7aeb-270703e8-aa4132b1: running=91    completed=165   pending=1     failed=0     aborted=15    lost=0     total=257   blocked=0    \n"
                },
                {
                    "name": "stderr",
                    "output_type": "stream",
                    "text": "2025-02-07 23:41:45,080\tINFO\t(20 min) operation af333775-a51d7aeb-270703e8-aa4132b1: running=91    completed=167   pending=0     failed=0     aborted=15    lost=0     total=258   blocked=0    \n"
                },
                {
                    "name": "stderr",
                    "output_type": "stream",
                    "text": "2025-02-07 23:41:50,135\tINFO\t(20 min) operation af333775-a51d7aeb-270703e8-aa4132b1: running=91    completed=167   pending=1     failed=0     aborted=15    lost=0     total=259   blocked=0    \n"
                },
                {
                    "name": "stderr",
                    "output_type": "stream",
                    "text": "2025-02-07 23:41:55,186\tINFO\t(20 min) operation af333775-a51d7aeb-270703e8-aa4132b1: running=92    completed=167   pending=1     failed=0     aborted=15    lost=0     total=260   blocked=0    \n"
                },
                {
                    "name": "stderr",
                    "output_type": "stream",
                    "text": "2025-02-07 23:42:00,245\tINFO\t(20 min) operation af333775-a51d7aeb-270703e8-aa4132b1: running=92    completed=168   pending=1     failed=0     aborted=15    lost=0     total=261   blocked=0    \n"
                },
                {
                    "name": "stderr",
                    "output_type": "stream",
                    "text": "2025-02-07 23:42:25,482\tINFO\t(21 min) operation af333775-a51d7aeb-270703e8-aa4132b1: running=91    completed=169   pending=1     failed=0     aborted=15    lost=0     total=261   blocked=0    \n"
                },
                {
                    "name": "stderr",
                    "output_type": "stream",
                    "text": "2025-02-07 23:42:50,735\tINFO\t(21 min) operation af333775-a51d7aeb-270703e8-aa4132b1: running=90    completed=170   pending=1     failed=0     aborted=15    lost=0     total=261   blocked=0    \n"
                },
                {
                    "name": "stderr",
                    "output_type": "stream",
                    "text": "2025-02-07 23:42:55,790\tINFO\t(21 min) operation af333775-a51d7aeb-270703e8-aa4132b1: running=89    completed=171   pending=1     failed=0     aborted=15    lost=0     total=261   blocked=0    \n"
                },
                {
                    "name": "stderr",
                    "output_type": "stream",
                    "text": "2025-02-07 23:43:00,840\tINFO\t(21 min) operation af333775-a51d7aeb-270703e8-aa4132b1: running=88    completed=173   pending=0     failed=0     aborted=15    lost=0     total=261   blocked=0    \n"
                },
                {
                    "name": "stderr",
                    "output_type": "stream",
                    "text": "2025-02-07 23:43:05,891\tINFO\t(21 min) operation af333775-a51d7aeb-270703e8-aa4132b1: running=88    completed=173   pending=1     failed=0     aborted=15    lost=0     total=262   blocked=0    \n"
                },
                {
                    "name": "stderr",
                    "output_type": "stream",
                    "text": "2025-02-07 23:43:36,148\tINFO\t(22 min) operation af333775-a51d7aeb-270703e8-aa4132b1: running=87    completed=174   pending=1     failed=0     aborted=15    lost=0     total=262   blocked=0    \n"
                },
                {
                    "name": "stderr",
                    "output_type": "stream",
                    "text": "2025-02-07 23:43:41,195\tINFO\t(22 min) operation af333775-a51d7aeb-270703e8-aa4132b1: running=86    completed=176   pending=0     failed=0     aborted=15    lost=0     total=262   blocked=0    \n"
                },
                {
                    "name": "stderr",
                    "output_type": "stream",
                    "text": "2025-02-07 23:43:46,239\tINFO\t(22 min) operation af333775-a51d7aeb-270703e8-aa4132b1: running=85    completed=178   pending=0     failed=0     aborted=15    lost=0     total=263   blocked=0    \n"
                },
                {
                    "name": "stderr",
                    "output_type": "stream",
                    "text": "2025-02-07 23:43:56,327\tINFO\t(22 min) operation af333775-a51d7aeb-270703e8-aa4132b1: running=86    completed=178   pending=0     failed=0     aborted=15    lost=0     total=264   blocked=0    \n"
                },
                {
                    "name": "stderr",
                    "output_type": "stream",
                    "text": "2025-02-07 23:44:06,420\tINFO\t(22 min) operation af333775-a51d7aeb-270703e8-aa4132b1: running=86    completed=178   pending=1     failed=0     aborted=15    lost=0     total=265   blocked=0    \n"
                },
                {
                    "name": "stderr",
                    "output_type": "stream",
                    "text": "2025-02-07 23:44:36,696\tINFO\t(23 min) operation af333775-a51d7aeb-270703e8-aa4132b1: running=84    completed=180   pending=1     failed=0     aborted=15    lost=0     total=265   blocked=0    \n"
                },
                {
                    "name": "stderr",
                    "output_type": "stream",
                    "text": "2025-02-07 23:44:46,794\tINFO\t(23 min) operation af333775-a51d7aeb-270703e8-aa4132b1: running=84    completed=181   pending=1     failed=0     aborted=15    lost=0     total=266   blocked=0    \n"
                },
                {
                    "name": "stderr",
                    "output_type": "stream",
                    "text": "2025-02-07 23:44:51,847\tINFO\t(23 min) operation af333775-a51d7aeb-270703e8-aa4132b1: running=83    completed=182   pending=1     failed=0     aborted=15    lost=0     total=266   blocked=0    \n"
                },
                {
                    "name": "stderr",
                    "output_type": "stream",
                    "text": "2025-02-07 23:45:01,950\tINFO\t(23 min) operation af333775-a51d7aeb-270703e8-aa4132b1: running=82    completed=183   pending=1     failed=0     aborted=15    lost=0     total=266   blocked=0    \n"
                },
                {
                    "name": "stderr",
                    "output_type": "stream",
                    "text": "2025-02-07 23:45:07,000\tINFO\t(23 min) operation af333775-a51d7aeb-270703e8-aa4132b1: running=81    completed=184   pending=1     failed=0     aborted=15    lost=0     total=266   blocked=0    \n"
                },
                {
                    "name": "stderr",
                    "output_type": "stream",
                    "text": "2025-02-07 23:45:17,097\tINFO\t(23 min) operation af333775-a51d7aeb-270703e8-aa4132b1: running=80    completed=185   pending=1     failed=0     aborted=15    lost=0     total=266   blocked=0    \n"
                },
                {
                    "name": "stderr",
                    "output_type": "stream",
                    "text": "2025-02-07 23:45:22,143\tINFO\t(23 min) operation af333775-a51d7aeb-270703e8-aa4132b1: running=77    completed=188   pending=1     failed=0     aborted=15    lost=0     total=266   blocked=0    \n"
                },
                {
                    "name": "stderr",
                    "output_type": "stream",
                    "text": "2025-02-07 23:45:42,352\tINFO\t(24 min) operation af333775-a51d7aeb-270703e8-aa4132b1: running=77    completed=189   pending=0     failed=0     aborted=15    lost=0     total=266   blocked=0    \n"
                },
                {
                    "name": "stderr",
                    "output_type": "stream",
                    "text": "2025-02-07 23:45:47,400\tINFO\t(24 min) operation af333775-a51d7aeb-270703e8-aa4132b1: running=74    completed=191   pending=0     failed=0     aborted=16    lost=0     total=265   blocked=0    \n"
                },
                {
                    "name": "stderr",
                    "output_type": "stream",
                    "text": "2025-02-07 23:45:52,450\tINFO\t(24 min) operation af333775-a51d7aeb-270703e8-aa4132b1: running=74    completed=191   pending=1     failed=0     aborted=16    lost=0     total=266   blocked=0    \n"
                },
                {
                    "name": "stderr",
                    "output_type": "stream",
                    "text": "2025-02-07 23:45:57,499\tINFO\t(24 min) operation af333775-a51d7aeb-270703e8-aa4132b1: running=74    completed=192   pending=0     failed=0     aborted=16    lost=0     total=266   blocked=0    \n"
                },
                {
                    "name": "stderr",
                    "output_type": "stream",
                    "text": "2025-02-07 23:46:02,542\tINFO\t(24 min) operation af333775-a51d7aeb-270703e8-aa4132b1: running=73    completed=193   pending=0     failed=0     aborted=16    lost=0     total=266   blocked=0    \n"
                },
                {
                    "name": "stderr",
                    "output_type": "stream",
                    "text": "2025-02-07 23:46:07,592\tINFO\t(24 min) operation af333775-a51d7aeb-270703e8-aa4132b1: running=71    completed=194   pending=0     failed=0     aborted=17    lost=0     total=265   blocked=0    \n"
                },
                {
                    "name": "stderr",
                    "output_type": "stream",
                    "text": "2025-02-07 23:46:27,774\tINFO\t(25 min) operation af333775-a51d7aeb-270703e8-aa4132b1: running=69    completed=196   pending=0     failed=0     aborted=17    lost=0     total=265   blocked=0    \n"
                },
                {
                    "name": "stderr",
                    "output_type": "stream",
                    "text": "2025-02-07 23:46:37,873\tINFO\t(25 min) operation af333775-a51d7aeb-270703e8-aa4132b1: running=67    completed=198   pending=0     failed=0     aborted=17    lost=0     total=265   blocked=0    \n"
                },
                {
                    "name": "stderr",
                    "output_type": "stream",
                    "text": "2025-02-07 23:47:03,124\tINFO\t(25 min) operation af333775-a51d7aeb-270703e8-aa4132b1: running=65    completed=199   pending=0     failed=0     aborted=18    lost=0     total=264   blocked=0    \n"
                },
                {
                    "name": "stderr",
                    "output_type": "stream",
                    "text": "2025-02-07 23:47:08,177\tINFO\t(25 min) operation af333775-a51d7aeb-270703e8-aa4132b1: running=64    completed=200   pending=0     failed=0     aborted=18    lost=0     total=264   blocked=0    \n"
                },
                {
                    "name": "stderr",
                    "output_type": "stream",
                    "text": "2025-02-07 23:47:13,232\tINFO\t(25 min) operation af333775-a51d7aeb-270703e8-aa4132b1: running=62    completed=202   pending=0     failed=0     aborted=18    lost=0     total=264   blocked=0    \n"
                },
                {
                    "name": "stderr",
                    "output_type": "stream",
                    "text": "2025-02-07 23:47:33,431\tINFO\t(26 min) operation af333775-a51d7aeb-270703e8-aa4132b1: running=61    completed=203   pending=0     failed=0     aborted=18    lost=0     total=264   blocked=0    \n"
                },
                {
                    "name": "stderr",
                    "output_type": "stream",
                    "text": "2025-02-07 23:47:53,698\tINFO\t(26 min) operation af333775-a51d7aeb-270703e8-aa4132b1: running=60    completed=204   pending=0     failed=0     aborted=18    lost=0     total=264   blocked=0    \n"
                },
                {
                    "name": "stderr",
                    "output_type": "stream",
                    "text": "2025-02-07 23:47:58,770\tINFO\t(26 min) operation af333775-a51d7aeb-270703e8-aa4132b1: running=59    completed=205   pending=0     failed=0     aborted=18    lost=0     total=264   blocked=0    \n"
                },
                {
                    "name": "stderr",
                    "output_type": "stream",
                    "text": "2025-02-07 23:48:39,211\tINFO\t(27 min) operation af333775-a51d7aeb-270703e8-aa4132b1: running=58    completed=206   pending=0     failed=0     aborted=18    lost=0     total=264   blocked=0    \n"
                },
                {
                    "name": "stderr",
                    "output_type": "stream",
                    "text": "2025-02-07 23:48:49,309\tINFO\t(27 min) operation af333775-a51d7aeb-270703e8-aa4132b1: running=57    completed=207   pending=0     failed=0     aborted=18    lost=0     total=264   blocked=0    \n"
                },
                {
                    "name": "stderr",
                    "output_type": "stream",
                    "text": "2025-02-07 23:48:59,407\tINFO\t(27 min) operation af333775-a51d7aeb-270703e8-aa4132b1: running=54    completed=210   pending=0     failed=0     aborted=18    lost=0     total=264   blocked=0    \n"
                },
                {
                    "name": "stderr",
                    "output_type": "stream",
                    "text": "2025-02-07 23:49:09,489\tINFO\t(27 min) operation af333775-a51d7aeb-270703e8-aa4132b1: running=53    completed=211   pending=0     failed=0     aborted=18    lost=0     total=264   blocked=0    \n"
                },
                {
                    "name": "stderr",
                    "output_type": "stream",
                    "text": "2025-02-07 23:49:49,878\tINFO\t(28 min) operation af333775-a51d7aeb-270703e8-aa4132b1: running=52    completed=212   pending=0     failed=0     aborted=18    lost=0     total=264   blocked=0    \n"
                },
                {
                    "name": "stderr",
                    "output_type": "stream",
                    "text": "2025-02-07 23:49:54,932\tINFO\t(28 min) operation af333775-a51d7aeb-270703e8-aa4132b1: running=51    completed=213   pending=0     failed=0     aborted=18    lost=0     total=264   blocked=0    \n"
                },
                {
                    "name": "stderr",
                    "output_type": "stream",
                    "text": "2025-02-07 23:50:10,050\tINFO\t(28 min) operation af333775-a51d7aeb-270703e8-aa4132b1: running=49    completed=214   pending=0     failed=0     aborted=19    lost=0     total=263   blocked=0    \n"
                },
                {
                    "name": "stderr",
                    "output_type": "stream",
                    "text": "2025-02-07 23:50:25,216\tINFO\t(29 min) operation af333775-a51d7aeb-270703e8-aa4132b1: running=48    completed=215   pending=0     failed=0     aborted=19    lost=0     total=263   blocked=0    \n"
                },
                {
                    "name": "stderr",
                    "output_type": "stream",
                    "text": "2025-02-07 23:50:40,354\tINFO\t(29 min) operation af333775-a51d7aeb-270703e8-aa4132b1: running=46    completed=216   pending=0     failed=0     aborted=20    lost=0     total=262   blocked=0    \n"
                },
                {
                    "name": "stderr",
                    "output_type": "stream",
                    "text": "2025-02-07 23:51:30,853\tINFO\t(30 min) operation af333775-a51d7aeb-270703e8-aa4132b1: running=45    completed=217   pending=0     failed=0     aborted=20    lost=0     total=262   blocked=0    \n"
                },
                {
                    "name": "stderr",
                    "output_type": "stream",
                    "text": "2025-02-07 23:51:40,957\tINFO\t(30 min) operation af333775-a51d7aeb-270703e8-aa4132b1: running=43    completed=218   pending=0     failed=0     aborted=21    lost=0     total=261   blocked=0    \n"
                },
                {
                    "name": "stderr",
                    "output_type": "stream",
                    "text": "2025-02-07 23:52:11,259\tINFO\t(30 min) operation af333775-a51d7aeb-270703e8-aa4132b1: running=42    completed=219   pending=0     failed=0     aborted=21    lost=0     total=261   blocked=0    \n"
                },
                {
                    "name": "stderr",
                    "output_type": "stream",
                    "text": "2025-02-07 23:52:16,311\tINFO\t(30 min) operation af333775-a51d7aeb-270703e8-aa4132b1: running=41    completed=220   pending=0     failed=0     aborted=21    lost=0     total=261   blocked=0    \n"
                },
                {
                    "name": "stderr",
                    "output_type": "stream",
                    "text": "2025-02-07 23:52:31,453\tINFO\t(31 min) operation af333775-a51d7aeb-270703e8-aa4132b1: running=40    completed=221   pending=0     failed=0     aborted=21    lost=0     total=261   blocked=0    \n"
                },
                {
                    "name": "stderr",
                    "output_type": "stream",
                    "text": "2025-02-07 23:52:56,708\tINFO\t(31 min) operation af333775-a51d7aeb-270703e8-aa4132b1: running=39    completed=222   pending=0     failed=0     aborted=21    lost=0     total=261   blocked=0    \n"
                },
                {
                    "name": "stderr",
                    "output_type": "stream",
                    "text": "2025-02-07 23:53:16,890\tINFO\t(31 min) operation af333775-a51d7aeb-270703e8-aa4132b1: running=38    completed=223   pending=0     failed=0     aborted=21    lost=0     total=261   blocked=0    \n"
                },
                {
                    "name": "stderr",
                    "output_type": "stream",
                    "text": "2025-02-07 23:53:37,077\tINFO\t(32 min) operation af333775-a51d7aeb-270703e8-aa4132b1: running=37    completed=224   pending=0     failed=0     aborted=21    lost=0     total=261   blocked=0    \n"
                },
                {
                    "name": "stderr",
                    "output_type": "stream",
                    "text": "2025-02-07 23:54:27,575\tINFO\t(33 min) operation af333775-a51d7aeb-270703e8-aa4132b1: running=36    completed=225   pending=0     failed=0     aborted=21    lost=0     total=261   blocked=0    \n"
                },
                {
                    "name": "stderr",
                    "output_type": "stream",
                    "text": "2025-02-07 23:54:42,734\tINFO\t(33 min) operation af333775-a51d7aeb-270703e8-aa4132b1: running=35    completed=226   pending=0     failed=0     aborted=21    lost=0     total=261   blocked=0    \n"
                },
                {
                    "name": "stderr",
                    "output_type": "stream",
                    "text": "2025-02-07 23:54:57,868\tINFO\t(33 min) operation af333775-a51d7aeb-270703e8-aa4132b1: running=33    completed=227   pending=0     failed=0     aborted=22    lost=0     total=260   blocked=0    \n"
                },
                {
                    "name": "stderr",
                    "output_type": "stream",
                    "text": "2025-02-07 23:55:23,116\tINFO\t(33 min) operation af333775-a51d7aeb-270703e8-aa4132b1: running=32    completed=228   pending=0     failed=0     aborted=22    lost=0     total=260   blocked=0    \n"
                },
                {
                    "name": "stderr",
                    "output_type": "stream",
                    "text": "2025-02-07 23:55:38,264\tINFO\t(34 min) operation af333775-a51d7aeb-270703e8-aa4132b1: running=31    completed=229   pending=0     failed=0     aborted=22    lost=0     total=260   blocked=0    \n"
                },
                {
                    "name": "stderr",
                    "output_type": "stream",
                    "text": "2025-02-07 23:55:48,359\tINFO\t(34 min) operation af333775-a51d7aeb-270703e8-aa4132b1: running=30    completed=230   pending=0     failed=0     aborted=22    lost=0     total=260   blocked=0    \n"
                },
                {
                    "name": "stderr",
                    "output_type": "stream",
                    "text": "2025-02-07 23:55:53,398\tINFO\t(34 min) operation af333775-a51d7aeb-270703e8-aa4132b1: running=28    completed=232   pending=0     failed=0     aborted=22    lost=0     total=260   blocked=0    \n"
                },
                {
                    "name": "stderr",
                    "output_type": "stream",
                    "text": "2025-02-07 23:55:58,447\tINFO\t(34 min) operation af333775-a51d7aeb-270703e8-aa4132b1: running=27    completed=233   pending=0     failed=0     aborted=22    lost=0     total=260   blocked=0    \n"
                },
                {
                    "name": "stderr",
                    "output_type": "stream",
                    "text": "2025-02-07 23:56:38,804\tINFO\t(35 min) operation af333775-a51d7aeb-270703e8-aa4132b1: running=26    completed=234   pending=0     failed=0     aborted=22    lost=0     total=260   blocked=0    \n"
                },
                {
                    "name": "stderr",
                    "output_type": "stream",
                    "text": "2025-02-07 23:56:53,958\tINFO\t(35 min) operation af333775-a51d7aeb-270703e8-aa4132b1: running=25    completed=235   pending=0     failed=0     aborted=22    lost=0     total=260   blocked=0    \n"
                },
                {
                    "name": "stderr",
                    "output_type": "stream",
                    "text": "2025-02-07 23:56:59,013\tINFO\t(35 min) operation af333775-a51d7aeb-270703e8-aa4132b1: running=24    completed=236   pending=0     failed=0     aborted=22    lost=0     total=260   blocked=0    \n"
                },
                {
                    "name": "stderr",
                    "output_type": "stream",
                    "text": "2025-02-07 23:57:09,111\tINFO\t(35 min) operation af333775-a51d7aeb-270703e8-aa4132b1: running=23    completed=237   pending=0     failed=0     aborted=22    lost=0     total=260   blocked=0    \n"
                },
                {
                    "name": "stderr",
                    "output_type": "stream",
                    "text": "2025-02-07 23:57:29,290\tINFO\t(36 min) operation af333775-a51d7aeb-270703e8-aa4132b1: running=22    completed=238   pending=0     failed=0     aborted=22    lost=0     total=260   blocked=0    \n"
                },
                {
                    "name": "stderr",
                    "output_type": "stream",
                    "text": "2025-02-07 23:58:04,630\tINFO\t(36 min) operation af333775-a51d7aeb-270703e8-aa4132b1: running=21    completed=239   pending=0     failed=0     aborted=22    lost=0     total=260   blocked=0    \n"
                },
                {
                    "name": "stderr",
                    "output_type": "stream",
                    "text": "2025-02-07 23:58:09,675\tINFO\t(36 min) operation af333775-a51d7aeb-270703e8-aa4132b1: running=20    completed=240   pending=0     failed=0     aborted=22    lost=0     total=260   blocked=0    \n"
                },
                {
                    "name": "stderr",
                    "output_type": "stream",
                    "text": "2025-02-07 23:59:10,285\tINFO\t(37 min) operation af333775-a51d7aeb-270703e8-aa4132b1: running=18    completed=241   pending=0     failed=0     aborted=23    lost=0     total=259   blocked=0    \n"
                },
                {
                    "name": "stderr",
                    "output_type": "stream",
                    "text": "2025-02-07 23:59:45,622\tINFO\t(38 min) operation af333775-a51d7aeb-270703e8-aa4132b1: running=17    completed=242   pending=0     failed=0     aborted=23    lost=0     total=259   blocked=0    \n"
                },
                {
                    "name": "stderr",
                    "output_type": "stream",
                    "text": "2025-02-08 00:00:15,924\tINFO\t(38 min) operation af333775-a51d7aeb-270703e8-aa4132b1: running=16    completed=243   pending=0     failed=0     aborted=23    lost=0     total=259   blocked=0    \n"
                },
                {
                    "name": "stderr",
                    "output_type": "stream",
                    "text": "2025-02-08 00:00:31,065\tINFO\t(39 min) operation af333775-a51d7aeb-270703e8-aa4132b1: running=15    completed=244   pending=0     failed=0     aborted=23    lost=0     total=259   blocked=0    \n"
                },
                {
                    "name": "stderr",
                    "output_type": "stream",
                    "text": "2025-02-08 00:00:46,217\tINFO\t(39 min) operation af333775-a51d7aeb-270703e8-aa4132b1: running=13    completed=245   pending=0     failed=0     aborted=24    lost=0     total=258   blocked=0    \n"
                },
                {
                    "name": "stderr",
                    "output_type": "stream",
                    "text": "2025-02-08 00:02:17,088\tINFO\t(40 min) operation af333775-a51d7aeb-270703e8-aa4132b1: running=11    completed=246   pending=0     failed=0     aborted=25    lost=0     total=257   blocked=0    \n"
                },
                {
                    "name": "stderr",
                    "output_type": "stream",
                    "text": "2025-02-08 00:02:47,382\tINFO\t(41 min) operation af333775-a51d7aeb-270703e8-aa4132b1: running=10    completed=247   pending=0     failed=0     aborted=25    lost=0     total=257   blocked=0    \n"
                },
                {
                    "name": "stderr",
                    "output_type": "stream",
                    "text": "2025-02-08 00:03:02,520\tINFO\t(41 min) operation af333775-a51d7aeb-270703e8-aa4132b1: running=9     completed=248   pending=0     failed=0     aborted=25    lost=0     total=257   blocked=0    \n"
                },
                {
                    "name": "stderr",
                    "output_type": "stream",
                    "text": "2025-02-08 00:04:28,288\tINFO\t(43 min) operation af333775-a51d7aeb-270703e8-aa4132b1: running=8     completed=249   pending=0     failed=0     aborted=25    lost=0     total=257   blocked=0    \n"
                },
                {
                    "name": "stderr",
                    "output_type": "stream",
                    "text": "2025-02-08 00:04:38,389\tINFO\t(43 min) operation af333775-a51d7aeb-270703e8-aa4132b1: running=7     completed=250   pending=0     failed=0     aborted=25    lost=0     total=257   blocked=0    \n"
                },
                {
                    "name": "stderr",
                    "output_type": "stream",
                    "text": "2025-02-08 00:05:08,694\tINFO\t(43 min) operation af333775-a51d7aeb-270703e8-aa4132b1: running=6     completed=251   pending=0     failed=0     aborted=25    lost=0     total=257   blocked=0    \n"
                },
                {
                    "name": "stderr",
                    "output_type": "stream",
                    "text": "2025-02-08 00:06:29,439\tINFO\t(45 min) operation af333775-a51d7aeb-270703e8-aa4132b1: running=5     completed=252   pending=0     failed=0     aborted=25    lost=0     total=257   blocked=0    \n"
                },
                {
                    "name": "stderr",
                    "output_type": "stream",
                    "text": "2025-02-08 00:08:25,556\tINFO\t(47 min) operation af333775-a51d7aeb-270703e8-aa4132b1: running=4     completed=253   pending=0     failed=0     aborted=25    lost=0     total=257   blocked=0    \n"
                },
                {
                    "name": "stderr",
                    "output_type": "stream",
                    "text": "2025-02-08 00:12:53,084\tINFO\t(51 min) operation af333775-a51d7aeb-270703e8-aa4132b1: running=2     completed=254   pending=0     failed=0     aborted=26    lost=0     total=256   blocked=0    \n"
                },
                {
                    "name": "stderr",
                    "output_type": "stream",
                    "text": "2025-02-08 00:12:58,138\tINFO\t(51 min) operation af333775-a51d7aeb-270703e8-aa4132b1: running=1     completed=255   pending=0     failed=0     aborted=26    lost=0     total=256   blocked=0    \n"
                },
                {
                    "name": "stderr",
                    "output_type": "stream",
                    "text": "2025-02-08 00:14:49,170\tINFO\t(53 min) operation af333775-a51d7aeb-270703e8-aa4132b1 completed\n"
                },
                {
                    "data": {
                        "text/plain": "<yt.wrapper.operation_commands.Operation at 0x7f3b806b39e0>"
                    },
                    "execution_count": 9,
                    "metadata": {},
                    "output_type": "execute_result"
                }
            ],
            "source": "code_validation_path = f\"{working_dir}/code_validation\"\n\nschema = yt.schema.TableSchema(strict=True)\nschema.add_column(\"index\", type_info.Int32)\nschema.add_column(\"description\", type_info.String)\nschema.add_column(\"input\", type_info.List[type_info.String])\nschema.add_column(\"output\", type_info.List[type_info.String])\nschema.add_column(\"code\", type_info.String)\nschema.add_column(\"result_stdout\", type_info.String)\nschema.add_column(\"result_stderr\", type_info.String)\nschema.add_column(\"exitcode\", type_info.Int8)\nschema.add_column(\"match_expected\", type_info.Bool)\n\nyt.create(\"table\", code_validation_path, force=True, attributes={\"schema\": schema.to_yson_type()})\n\nyt.run_map(\n    validate_code,\n    inference_path,\n    code_validation_path,\n    job_count=256,\n    spec={\n        \"mapper\": {\n            \"memory_limit\": MEM_LIMIT,\n            \"cpu_limit\": 2,\n        },\n        \"job_io\": {\n            \"table_writer\": {\n                \"max_row_weight\": 128 * 1024 * 1024,\n            },\n        },\n    },\n)"
        },
        {
            "cell_type": "code",
            "execution_count": 14,
            "id": "961e1d10-7e0c-4a8b-99cb-a24ddad9e25b",
            "metadata": {
                "tracto": {
                    "execution_end": 1738973689410,
                    "execution_start": 1738973689399,
                    "metadata_version": "1",
                    "source_hash": "e3b0c442",
                    "view_cell_type": "CODE"
                }
            },
            "outputs": [],
            "source": ""
        }
    ],
    "metadata": {
        "tracto": {
            "is_solution_notebook": true,
            "metadata_version": "1",
            "notebook_cypress_id": "fbd8904b-fde1-40e4-9759-495e3d00679c"
        },
        "is_solution_notebook": true
    },
    "nbformat": 4,
    "nbformat_minor": 5
}