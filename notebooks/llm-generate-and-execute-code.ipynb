{
    "cells": [
        {
            "cell_type": "markdown",
            "id": "5afefc81-2b5b-4bb9-ad90-db71ea3cbe03",
            "metadata": {
                "tracto": {
                    "metadata_version": "1",
                    "source_hash": "acaf7ca5",
                    "view_cell_type": "MD"
                }
            },
            "source": "This notebook demonstrates an example of generating Python code using inference [CodeLlama-7b-Instruct-hf](https://huggingface.co/meta-llama/CodeLlama-7b-Instruct-hf) model, followed by validating the generated code by executing it in sandbox on [Tracto.ai](https://tracto.ai/)."
        },
        {
            "cell_type": "code",
            "execution_count": 1,
            "id": "d6de482a-31de-4fb6-a790-6201bcefd0a7",
            "metadata": {
                "tracto": {
                    "execution_end": 1750360895172,
                    "execution_session_id": "27271743-66af-4cd0-b6bb-4825d2fa276b",
                    "execution_start": 1750360895080,
                    "metadata_version": "1",
                    "source_hash": "72823a0a",
                    "view_cell_type": "CODE"
                }
            },
            "outputs": [],
            "source": "import yt.wrapper as yt\nfrom yt import type_info\nimport uuid"
        },
        {
            "cell_type": "code",
            "execution_count": 2,
            "id": "6f8ca5ff-a157-46df-9c5b-be01025645d5",
            "metadata": {
                "tracto": {
                    "execution_end": 1750360895289,
                    "execution_session_id": "27271743-66af-4cd0-b6bb-4825d2fa276b",
                    "execution_start": 1750360895198,
                    "hidden_input": true,
                    "metadata_version": "1",
                    "source_hash": "07f9f7a2",
                    "view_cell_type": "CODE"
                }
            },
            "outputs": [
                {
                    "name": "stdout",
                    "output_type": "stream",
                    "text": "Current working directory: //home/equal_amethyst_vulture/tmp/demo_workdir/ff6d2b9b3c4046cd9b7097b27d256a51\n"
                }
            ],
            "source": "# configure environment to run this notebooks\nimport uuid\nimport yt.wrapper as yt\n\nusername = yt.get_user_name()\nif yt.exists(f\"//sys/users/{username}/@user_info/home_path\"):\n    # prepare working directory on distributed file system\n    user_info = yt.get(f\"//sys/users/{yt.get_user_name()}/@user_info\")\n    homedir = user_info[\"home_path\"]\n    # find avaliable vm presets\n    cpu_pool_trees = [pool_tree for pool_tree in user_info[\"available_pool_trees\"] if pool_tree.endswith(\"cpu\")] or [\"default\"]\n    h100_pool_trees = [pool_tree for pool_tree in user_info[\"available_pool_trees\"] if pool_tree.endswith(\"h100\")]\n    h100_8_pool_trees = [pool_tree for pool_tree in user_info[\"available_pool_trees\"] if pool_tree.endswith(\"h100-8\")]\n    workdir = f\"{homedir}/tmp/demo_workdir/{uuid.uuid4().hex}\"\nelse:\n    cpu_pool_trees = [\"default\"]\n    h100_pool_trees = [\"gpu_h100\"]\n    h100_8_pool_trees = [\"gpu_h100\"]\n    workdir = f\"//tmp/examples/{uuid.uuid4().hex}\"\n\nyt.create(\"map_node\", workdir, recursive=True, ignore_existing=True)\nprint(\"Current working directory:\", workdir)"
        },
        {
            "cell_type": "markdown",
            "id": "1b3796c5-2201-4b91-b24b-ad86041e8083",
            "metadata": {
                "tracto": {
                    "metadata_version": "1",
                    "source_hash": "8a17363a",
                    "view_cell_type": "MD"
                }
            },
            "source": "Upload dataset from huggingface to YTSaurus table: task description, inputs, and outputs."
        },
        {
            "cell_type": "code",
            "execution_count": 4,
            "id": "0faa9900-2831-4612-af0b-8943f630b645",
            "metadata": {
                "tracto": {
                    "execution_start": 1750360895310,
                    "metadata_version": "1",
                    "source_hash": "c09a1882",
                    "view_cell_type": "CODE"
                }
            },
            "outputs": [
                {
                    "data": {
                        "application/vnd.jupyter.widget-view+json": {
                            "model_id": "11f227122d924ae7b69d26746177b224",
                            "version_major": 2,
                            "version_minor": 0
                        },
                        "text/plain": "README.md:   0%|          | 0.00/13.0k [00:00<?, ?B/s]"
                    },
                    "metadata": {
                        "transient": {}
                    },
                    "output_type": "display_data"
                },
                {
                    "data": {
                        "application/vnd.jupyter.widget-view+json": {
                            "model_id": "96d2216431d14321bc5d2ba081a174e4",
                            "version_major": 2,
                            "version_minor": 0
                        },
                        "text/plain": "Resolving data files:   0%|          | 0/39 [00:00<?, ?it/s]"
                    },
                    "metadata": {
                        "transient": {}
                    },
                    "output_type": "display_data"
                },
                {
                    "data": {
                        "application/vnd.jupyter.widget-view+json": {
                            "model_id": "83d2214f69f04deebf6d3f8cc0ef61ac",
                            "version_major": 2,
                            "version_minor": 0
                        },
                        "text/plain": "dataset_infos.json:   0%|          | 0.00/4.52k [00:00<?, ?B/s]"
                    },
                    "metadata": {
                        "transient": {}
                    },
                    "output_type": "display_data"
                },
                {
                    "data": {
                        "application/vnd.jupyter.widget-view+json": {
                            "model_id": "cebccb9b9e2f4ae98fe53adc51b63ca6",
                            "version_major": 2,
                            "version_minor": 0
                        },
                        "text/plain": "Downloading data:   0%|          | 0/39 [00:00<?, ?files/s]"
                    },
                    "metadata": {
                        "transient": {}
                    },
                    "output_type": "display_data"
                },
                {
                    "data": {
                        "application/vnd.jupyter.widget-view+json": {
                            "model_id": "613b61203478427b9642f527dcd4f92c",
                            "version_major": 2,
                            "version_minor": 0
                        },
                        "text/plain": "(\u2026)-00000-of-00039-e991a271dbfa9925.parquet:   0%|          | 0.00/180M [00:00<?, ?B/s]"
                    },
                    "metadata": {
                        "transient": {}
                    },
                    "output_type": "display_data"
                },
                {
                    "data": {
                        "application/vnd.jupyter.widget-view+json": {
                            "model_id": "cdad20ec46964441b598ff0eeecf2be8",
                            "version_major": 2,
                            "version_minor": 0
                        },
                        "text/plain": "(\u2026)-00001-of-00039-e092fe56fda18715.parquet:   0%|          | 0.00/209M [00:00<?, ?B/s]"
                    },
                    "metadata": {
                        "transient": {}
                    },
                    "output_type": "display_data"
                },
                {
                    "data": {
                        "application/vnd.jupyter.widget-view+json": {
                            "model_id": "d45234c83d134d7d86f17b0b411d90f7",
                            "version_major": 2,
                            "version_minor": 0
                        },
                        "text/plain": "(\u2026)-00002-of-00039-9cea23812e920e41.parquet:   0%|          | 0.00/227M [00:00<?, ?B/s]"
                    },
                    "metadata": {
                        "transient": {}
                    },
                    "output_type": "display_data"
                },
                {
                    "data": {
                        "application/vnd.jupyter.widget-view+json": {
                            "model_id": "b135e388ac1246a0b8b6789a15546f80",
                            "version_major": 2,
                            "version_minor": 0
                        },
                        "text/plain": "(\u2026)-00003-of-00039-e3822fccad6e083a.parquet:   0%|          | 0.00/181M [00:00<?, ?B/s]"
                    },
                    "metadata": {
                        "transient": {}
                    },
                    "output_type": "display_data"
                },
                {
                    "data": {
                        "application/vnd.jupyter.widget-view+json": {
                            "model_id": "da1d964700924ab98ca8374827d57948",
                            "version_major": 2,
                            "version_minor": 0
                        },
                        "text/plain": "(\u2026)-00004-of-00039-cefe355b4667b27e.parquet:   0%|          | 0.00/195M [00:00<?, ?B/s]"
                    },
                    "metadata": {
                        "transient": {}
                    },
                    "output_type": "display_data"
                },
                {
                    "data": {
                        "application/vnd.jupyter.widget-view+json": {
                            "model_id": "272393b7424b428c842b78a4571bf3fb",
                            "version_major": 2,
                            "version_minor": 0
                        },
                        "text/plain": "(\u2026)-00005-of-00039-b7580d2d846c2136.parquet:   0%|          | 0.00/174M [00:00<?, ?B/s]"
                    },
                    "metadata": {
                        "transient": {}
                    },
                    "output_type": "display_data"
                },
                {
                    "data": {
                        "application/vnd.jupyter.widget-view+json": {
                            "model_id": "3128b23b507244d58a04df1a95ff502a",
                            "version_major": 2,
                            "version_minor": 0
                        },
                        "text/plain": "(\u2026)-00006-of-00039-65184bb9f7d61fde.parquet:   0%|          | 0.00/186M [00:00<?, ?B/s]"
                    },
                    "metadata": {
                        "transient": {}
                    },
                    "output_type": "display_data"
                },
                {
                    "data": {
                        "application/vnd.jupyter.widget-view+json": {
                            "model_id": "5837ea8077f84d5b88e0ba11423aec47",
                            "version_major": 2,
                            "version_minor": 0
                        },
                        "text/plain": "(\u2026)-00007-of-00039-05785de21e8b8429.parquet:   0%|          | 0.00/172M [00:00<?, ?B/s]"
                    },
                    "metadata": {
                        "transient": {}
                    },
                    "output_type": "display_data"
                },
                {
                    "data": {
                        "application/vnd.jupyter.widget-view+json": {
                            "model_id": "863af95d91384f6a912ef5c6ad34dbe2",
                            "version_major": 2,
                            "version_minor": 0
                        },
                        "text/plain": "(\u2026)-00008-of-00039-7246e6b7423b404f.parquet:   0%|          | 0.00/200M [00:00<?, ?B/s]"
                    },
                    "metadata": {
                        "transient": {}
                    },
                    "output_type": "display_data"
                },
                {
                    "data": {
                        "application/vnd.jupyter.widget-view+json": {
                            "model_id": "b7fa3102dcb441c6ab0af6bd802da482",
                            "version_major": 2,
                            "version_minor": 0
                        },
                        "text/plain": "(\u2026)-00009-of-00039-b8c920f6629b57b2.parquet:   0%|          | 0.00/205M [00:00<?, ?B/s]"
                    },
                    "metadata": {
                        "transient": {}
                    },
                    "output_type": "display_data"
                },
                {
                    "data": {
                        "application/vnd.jupyter.widget-view+json": {
                            "model_id": "ee6fe8ff93844a7e9c8e9f7a96664973",
                            "version_major": 2,
                            "version_minor": 0
                        },
                        "text/plain": "(\u2026)-00010-of-00039-6de28ba20654f69b.parquet:   0%|          | 0.00/178M [00:00<?, ?B/s]"
                    },
                    "metadata": {
                        "transient": {}
                    },
                    "output_type": "display_data"
                },
                {
                    "data": {
                        "application/vnd.jupyter.widget-view+json": {
                            "model_id": "ecb7d1d29277452e9a6b0f431d1723f4",
                            "version_major": 2,
                            "version_minor": 0
                        },
                        "text/plain": "(\u2026)-00011-of-00039-5de236be5188959d.parquet:   0%|          | 0.00/164M [00:00<?, ?B/s]"
                    },
                    "metadata": {
                        "transient": {}
                    },
                    "output_type": "display_data"
                },
                {
                    "data": {
                        "application/vnd.jupyter.widget-view+json": {
                            "model_id": "ad1795d331a547e0aa19cc391d079668",
                            "version_major": 2,
                            "version_minor": 0
                        },
                        "text/plain": "(\u2026)-00012-of-00039-da9476a39a1bdbb7.parquet:   0%|          | 0.00/200M [00:00<?, ?B/s]"
                    },
                    "metadata": {
                        "transient": {}
                    },
                    "output_type": "display_data"
                },
                {
                    "data": {
                        "application/vnd.jupyter.widget-view+json": {
                            "model_id": "1b9d27db1c5145b7b90acc477643d339",
                            "version_major": 2,
                            "version_minor": 0
                        },
                        "text/plain": "(\u2026)-00013-of-00039-30b8c3829ee3b962.parquet:   0%|          | 0.00/197M [00:00<?, ?B/s]"
                    },
                    "metadata": {
                        "transient": {}
                    },
                    "output_type": "display_data"
                },
                {
                    "data": {
                        "application/vnd.jupyter.widget-view+json": {
                            "model_id": "9eefdf10211e4441a32eef7c6404b2ed",
                            "version_major": 2,
                            "version_minor": 0
                        },
                        "text/plain": "(\u2026)-00014-of-00039-dc3ebb07a3cba8e4.parquet:   0%|          | 0.00/211M [00:00<?, ?B/s]"
                    },
                    "metadata": {
                        "transient": {}
                    },
                    "output_type": "display_data"
                },
                {
                    "data": {
                        "application/vnd.jupyter.widget-view+json": {
                            "model_id": "ca261fdc9eda465b84f79be586367541",
                            "version_major": 2,
                            "version_minor": 0
                        },
                        "text/plain": "(\u2026)-00015-of-00039-19ccd7331d695677.parquet:   0%|          | 0.00/179M [00:00<?, ?B/s]"
                    },
                    "metadata": {
                        "transient": {}
                    },
                    "output_type": "display_data"
                },
                {
                    "data": {
                        "application/vnd.jupyter.widget-view+json": {
                            "model_id": "405067d608f14dc3878f48eeb1fb407b",
                            "version_major": 2,
                            "version_minor": 0
                        },
                        "text/plain": "(\u2026)-00016-of-00039-bf38b0908b322307.parquet:   0%|          | 0.00/202M [00:00<?, ?B/s]"
                    },
                    "metadata": {
                        "transient": {}
                    },
                    "output_type": "display_data"
                },
                {
                    "data": {
                        "application/vnd.jupyter.widget-view+json": {
                            "model_id": "19b2ab91d77e4a1288fd01d90e95c457",
                            "version_major": 2,
                            "version_minor": 0
                        },
                        "text/plain": "(\u2026)-00017-of-00039-ae5533a2f822e6ef.parquet:   0%|          | 0.00/169M [00:00<?, ?B/s]"
                    },
                    "metadata": {
                        "transient": {}
                    },
                    "output_type": "display_data"
                },
                {
                    "data": {
                        "application/vnd.jupyter.widget-view+json": {
                            "model_id": "eab8300964fe4a04be3b0373e2cb5bf8",
                            "version_major": 2,
                            "version_minor": 0
                        },
                        "text/plain": "(\u2026)-00018-of-00039-8c793837880f5507.parquet:   0%|          | 0.00/185M [00:00<?, ?B/s]"
                    },
                    "metadata": {
                        "transient": {}
                    },
                    "output_type": "display_data"
                },
                {
                    "data": {
                        "application/vnd.jupyter.widget-view+json": {
                            "model_id": "0dd28238889946a49d863d3b3628bb32",
                            "version_major": 2,
                            "version_minor": 0
                        },
                        "text/plain": "(\u2026)-00019-of-00039-d688fad5ee604390.parquet:   0%|          | 0.00/191M [00:00<?, ?B/s]"
                    },
                    "metadata": {
                        "transient": {}
                    },
                    "output_type": "display_data"
                },
                {
                    "data": {
                        "application/vnd.jupyter.widget-view+json": {
                            "model_id": "b5a610bae0214b1a8fa7e05c95da6cad",
                            "version_major": 2,
                            "version_minor": 0
                        },
                        "text/plain": "(\u2026)-00020-of-00039-5d59387098675b73.parquet:   0%|          | 0.00/211M [00:00<?, ?B/s]"
                    },
                    "metadata": {
                        "transient": {}
                    },
                    "output_type": "display_data"
                },
                {
                    "data": {
                        "application/vnd.jupyter.widget-view+json": {
                            "model_id": "65843d17c4f1477d8afeb8dd9a2de66d",
                            "version_major": 2,
                            "version_minor": 0
                        },
                        "text/plain": "(\u2026)-00021-of-00039-b257bf03d6876780.parquet:   0%|          | 0.00/181M [00:00<?, ?B/s]"
                    },
                    "metadata": {
                        "transient": {}
                    },
                    "output_type": "display_data"
                },
                {
                    "data": {
                        "application/vnd.jupyter.widget-view+json": {
                            "model_id": "ecceb0b3212e45b88b064b9cd85e8f2c",
                            "version_major": 2,
                            "version_minor": 0
                        },
                        "text/plain": "(\u2026)-00022-of-00039-1cfd39fa43c1917c.parquet:   0%|          | 0.00/194M [00:00<?, ?B/s]"
                    },
                    "metadata": {
                        "transient": {}
                    },
                    "output_type": "display_data"
                },
                {
                    "data": {
                        "application/vnd.jupyter.widget-view+json": {
                            "model_id": "05e08c46938e45fb9ac08b7de05c23dd",
                            "version_major": 2,
                            "version_minor": 0
                        },
                        "text/plain": "(\u2026)-00023-of-00039-d078bcb55e45cbf0.parquet:   0%|          | 0.00/176M [00:00<?, ?B/s]"
                    },
                    "metadata": {
                        "transient": {}
                    },
                    "output_type": "display_data"
                },
                {
                    "data": {
                        "application/vnd.jupyter.widget-view+json": {
                            "model_id": "4acc8918ac054da5908ade257490b8fd",
                            "version_major": 2,
                            "version_minor": 0
                        },
                        "text/plain": "(\u2026)-00024-of-00039-f4e3da0e5661e6d1.parquet:   0%|          | 0.00/181M [00:00<?, ?B/s]"
                    },
                    "metadata": {
                        "transient": {}
                    },
                    "output_type": "display_data"
                },
                {
                    "data": {
                        "application/vnd.jupyter.widget-view+json": {
                            "model_id": "2012c0c874ad4020ad312a709725f341",
                            "version_major": 2,
                            "version_minor": 0
                        },
                        "text/plain": "(\u2026)-00025-of-00039-3f6ebfbaba5f4c70.parquet:   0%|          | 0.00/206M [00:00<?, ?B/s]"
                    },
                    "metadata": {
                        "transient": {}
                    },
                    "output_type": "display_data"
                },
                {
                    "data": {
                        "application/vnd.jupyter.widget-view+json": {
                            "model_id": "fab68375900546449e9ca824a93a0fc7",
                            "version_major": 2,
                            "version_minor": 0
                        },
                        "text/plain": "(\u2026)-00026-of-00039-7d4898300894cbbe.parquet:   0%|          | 0.00/189M [00:00<?, ?B/s]"
                    },
                    "metadata": {
                        "transient": {}
                    },
                    "output_type": "display_data"
                },
                {
                    "data": {
                        "application/vnd.jupyter.widget-view+json": {
                            "model_id": "6dfd9e064109413da7835ae7b73fb7f4",
                            "version_major": 2,
                            "version_minor": 0
                        },
                        "text/plain": "(\u2026)-00027-of-00039-f8196766547533a2.parquet:   0%|          | 0.00/217M [00:00<?, ?B/s]"
                    },
                    "metadata": {
                        "transient": {}
                    },
                    "output_type": "display_data"
                },
                {
                    "data": {
                        "application/vnd.jupyter.widget-view+json": {
                            "model_id": "1509eee3cedc47cf8883c3837c6898a8",
                            "version_major": 2,
                            "version_minor": 0
                        },
                        "text/plain": "(\u2026)-00028-of-00039-79a302af3c924863.parquet:   0%|          | 0.00/179M [00:00<?, ?B/s]"
                    },
                    "metadata": {
                        "transient": {}
                    },
                    "output_type": "display_data"
                },
                {
                    "data": {
                        "application/vnd.jupyter.widget-view+json": {
                            "model_id": "a4eb44a4e82240f8b693ad5ad5f38f14",
                            "version_major": 2,
                            "version_minor": 0
                        },
                        "text/plain": "(\u2026)-00029-of-00039-2b6615897d038115.parquet:   0%|          | 0.00/198M [00:00<?, ?B/s]"
                    },
                    "metadata": {
                        "transient": {}
                    },
                    "output_type": "display_data"
                },
                {
                    "data": {
                        "application/vnd.jupyter.widget-view+json": {
                            "model_id": "80d5645a1e58450a84f32096587a065f",
                            "version_major": 2,
                            "version_minor": 0
                        },
                        "text/plain": "(\u2026)-00030-of-00039-4135cc54050afc22.parquet:   0%|          | 0.00/223M [00:00<?, ?B/s]"
                    },
                    "metadata": {
                        "transient": {}
                    },
                    "output_type": "display_data"
                },
                {
                    "data": {
                        "application/vnd.jupyter.widget-view+json": {
                            "model_id": "11dfa8a4e4ff4e4bb8058f6941a402eb",
                            "version_major": 2,
                            "version_minor": 0
                        },
                        "text/plain": "(\u2026)-00031-of-00039-40309dd907c042b7.parquet:   0%|          | 0.00/181M [00:00<?, ?B/s]"
                    },
                    "metadata": {
                        "transient": {}
                    },
                    "output_type": "display_data"
                },
                {
                    "data": {
                        "application/vnd.jupyter.widget-view+json": {
                            "model_id": "c65039ccd8124cb8935ab5299a7165b2",
                            "version_major": 2,
                            "version_minor": 0
                        },
                        "text/plain": "(\u2026)-00032-of-00039-7b7d2068a3d9c359.parquet:   0%|          | 0.00/186M [00:00<?, ?B/s]"
                    },
                    "metadata": {
                        "transient": {}
                    },
                    "output_type": "display_data"
                },
                {
                    "data": {
                        "application/vnd.jupyter.widget-view+json": {
                            "model_id": "55fd2b2846884a8a90016f5c31548521",
                            "version_major": 2,
                            "version_minor": 0
                        },
                        "text/plain": "(\u2026)-00033-of-00039-53b0f749aacff9c1.parquet:   0%|          | 0.00/204M [00:00<?, ?B/s]"
                    },
                    "metadata": {
                        "transient": {}
                    },
                    "output_type": "display_data"
                },
                {
                    "data": {
                        "application/vnd.jupyter.widget-view+json": {
                            "model_id": "a6887b30306e4d4697da1a0b304f6136",
                            "version_major": 2,
                            "version_minor": 0
                        },
                        "text/plain": "(\u2026)-00034-of-00039-a36ff0bff7d2a76f.parquet:   0%|          | 0.00/188M [00:00<?, ?B/s]"
                    },
                    "metadata": {
                        "transient": {}
                    },
                    "output_type": "display_data"
                },
                {
                    "data": {
                        "application/vnd.jupyter.widget-view+json": {
                            "model_id": "7dd5a0b8e91f43efa99f96985db46b5c",
                            "version_major": 2,
                            "version_minor": 0
                        },
                        "text/plain": "(\u2026)-00035-of-00039-d28f9be60314601f.parquet:   0%|          | 0.00/151M [00:00<?, ?B/s]"
                    },
                    "metadata": {
                        "transient": {}
                    },
                    "output_type": "display_data"
                },
                {
                    "data": {
                        "application/vnd.jupyter.widget-view+json": {
                            "model_id": "a46a0af40e824e09a59fbf177d831bdb",
                            "version_major": 2,
                            "version_minor": 0
                        },
                        "text/plain": "(\u2026)-00036-of-00039-146e1a11c054aeab.parquet:   0%|          | 0.00/204M [00:00<?, ?B/s]"
                    },
                    "metadata": {
                        "transient": {}
                    },
                    "output_type": "display_data"
                },
                {
                    "data": {
                        "application/vnd.jupyter.widget-view+json": {
                            "model_id": "305dec0f50764f19a488ac88a37b89df",
                            "version_major": 2,
                            "version_minor": 0
                        },
                        "text/plain": "(\u2026)-00037-of-00039-995207c374a4e6f2.parquet:   0%|          | 0.00/231M [00:00<?, ?B/s]"
                    },
                    "metadata": {
                        "transient": {}
                    },
                    "output_type": "display_data"
                },
                {
                    "data": {
                        "application/vnd.jupyter.widget-view+json": {
                            "model_id": "e6898bdb48164268851fef847aa2ec1e",
                            "version_major": 2,
                            "version_minor": 0
                        },
                        "text/plain": "(\u2026)-00038-of-00039-96a59dd6a98cd075.parquet:   0%|          | 0.00/204M [00:00<?, ?B/s]"
                    },
                    "metadata": {
                        "transient": {}
                    },
                    "output_type": "display_data"
                },
                {
                    "data": {
                        "application/vnd.jupyter.widget-view+json": {
                            "model_id": "bfd6e7dfaddb48639eac45ccb02e2a2a",
                            "version_major": 2,
                            "version_minor": 0
                        },
                        "text/plain": "(\u2026)-00000-of-00001-9c49eeff30aacaa8.parquet:   0%|          | 0.00/63.1M [00:00<?, ?B/s]"
                    },
                    "metadata": {
                        "transient": {}
                    },
                    "output_type": "display_data"
                },
                {
                    "data": {
                        "application/vnd.jupyter.widget-view+json": {
                            "model_id": "0eb568336cc94a65a65214bcd8e6a83e",
                            "version_major": 2,
                            "version_minor": 0
                        },
                        "text/plain": "(\u2026)-00000-of-00001-5e672c5751f060d3.parquet:   0%|          | 0.00/51.8M [00:00<?, ?B/s]"
                    },
                    "metadata": {
                        "transient": {}
                    },
                    "output_type": "display_data"
                },
                {
                    "data": {
                        "application/vnd.jupyter.widget-view+json": {
                            "model_id": "fffa31d9ad4143e3be5ebe015a92d389",
                            "version_major": 2,
                            "version_minor": 0
                        },
                        "text/plain": "Generating train split:   0%|          | 0/13328 [00:00<?, ? examples/s]"
                    },
                    "metadata": {
                        "transient": {}
                    },
                    "output_type": "display_data"
                },
                {
                    "data": {
                        "application/vnd.jupyter.widget-view+json": {
                            "model_id": "6f7e5c034fa44c56a19f58d72c150689",
                            "version_major": 2,
                            "version_minor": 0
                        },
                        "text/plain": "Generating test split:   0%|          | 0/165 [00:00<?, ? examples/s]"
                    },
                    "metadata": {
                        "transient": {}
                    },
                    "output_type": "display_data"
                },
                {
                    "data": {
                        "application/vnd.jupyter.widget-view+json": {
                            "model_id": "00a6a3ce1aef4a98be7e8f2454ffb3c6",
                            "version_major": 2,
                            "version_minor": 0
                        },
                        "text/plain": "Generating valid split:   0%|          | 0/117 [00:00<?, ? examples/s]"
                    },
                    "metadata": {
                        "transient": {}
                    },
                    "output_type": "display_data"
                },
                {
                    "data": {
                        "application/vnd.jupyter.widget-view+json": {
                            "model_id": "422a936365124b4d8e2bd2478bf4481b",
                            "version_major": 2,
                            "version_minor": 0
                        },
                        "text/plain": "Loading dataset shards:   0%|          | 0/24 [00:00<?, ?it/s]"
                    },
                    "metadata": {
                        "transient": {}
                    },
                    "output_type": "display_data"
                }
            ],
            "source": "from datasets import load_dataset\n\nMAX_SAMPLES = 50\n\ndataset = load_dataset(\"deepmind/code_contests\")\n\ndataset_path = f\"{workdir}/dataset\"\n\ntable_data = (\n    {\n        \"index\": index,\n        \"description\": record[\"description\"],\n        \"input\": list(record[\"private_tests\"][\"input\"] + record[\"generated_tests\"][\"input\"])[:MAX_SAMPLES],\n        \"output\": list(record[\"private_tests\"][\"output\"] + record[\"generated_tests\"][\"output\"])[:MAX_SAMPLES],\n    }\n    for index, record in enumerate(dataset[\"train\"])\n)\n\nschema = yt.schema.TableSchema(strict=True)\nschema.add_column(\"index\", type_info.Int32)\nschema.add_column(\"description\", type_info.String)\nschema.add_column(\"input\", type_info.List[type_info.String])\nschema.add_column(\"output\", type_info.List[type_info.String])\n\nyt.create(\"table\", dataset_path, force=True, attributes={\"schema\": schema.to_yson_type()})\nyt.write_table(dataset_path, table_data, table_writer={\"max_row_weight\": 128 * 1024 * 1024})"
        },
        {
            "cell_type": "code",
            "execution_count": 5,
            "id": "939229ca-6b64-4f45-9a8f-b13c9e081021",
            "metadata": {
                "tracto": {
                    "execution_end": 1738969866081,
                    "execution_start": 1738969866080,
                    "metadata_version": "1",
                    "source_hash": "caa52a78",
                    "view_cell_type": "CODE"
                }
            },
            "outputs": [],
            "source": "import os\n\nhf_token = os.environ.get(\"YT_SECURE_VAULT_HF_TOKEN\", \"\")\nassert hf_token != \"\", \"set HF token in kernel's secrets to use llama\""
        },
        {
            "cell_type": "markdown",
            "id": "1d855bcb-51b3-4970-ba89-1edd1dabc913",
            "metadata": {
                "tracto": {
                    "metadata_version": "1",
                    "source_hash": "46a8f191",
                    "view_cell_type": "MD"
                }
            },
            "source": "Generate solutions by CodeLlama-7b-Instruct-hf."
        },
        {
            "cell_type": "code",
            "execution_count": 7,
            "id": "29bda0b5-6d78-47f8-9692-f6b73da27987",
            "metadata": {
                "tracto": {
                    "execution_end": 1738969866085,
                    "execution_start": 1738969866083,
                    "metadata_version": "1",
                    "source_hash": "74310409",
                    "view_cell_type": "CODE"
                }
            },
            "outputs": [],
            "source": "from typing import Iterable\nimport logging\nimport sys\nimport random\n\n\nBATCH_SIZE = 150\nyt.config[\"pickling\"][\"safe_stream_mode\"] = False  # important to run vllm\n\n\n@yt.aggregator\ndef bulk_inference(records: Iterable[dict[str, str]]) -> Iterable[dict[str, str]]:\n    from vllm import LLM, SamplingParams\n\n    os.environ[\"HF_TOKEN\"] = hf_token\n\n    # yt job have to write all logs to stderr\n    vllm_logger = logging.getLogger(\"vllm\")\n    vllm_logger.handlers.clear()\n    vllm_logger.addHandler(logging.StreamHandler(sys.stderr))\n\n    llm = LLM(model=\"meta-llama/CodeLlama-7b-Instruct-hf\", tensor_parallel_size=1, trust_remote_code=True)\n    sampling_params = SamplingParams(\n        temperature=0.6,\n        top_p=0.9,\n        max_tokens=5000,\n    )\n\n    def generate(records_batch: list[dict]):\n        conversations = [\n            [\n                {\n                    \"role\": \"system\",\n                    \"content\": \"You are an AI assistant that generates Python code. Always write Python code that reads input from stdin and writes output to stdout. Ensure that all indentation is correct. Your responses must contain only ready-to-run Python code, without any explanations, comments, or extra text.\",\n                },\n                {\n                    \"role\": \"user\",\n                    \"content\": r[\"description\"],\n                },\n            ] for r in records_batch\n        ]\n        outputs = llm.chat(\n            messages=conversations,\n            sampling_params=sampling_params,\n        )\n        return outputs\n\n    batch = []\n    for record in records:\n        batch.append(record)\n        if len(batch) < BATCH_SIZE:\n            continue\n        outputs = generate(batch)\n        for r, output in zip(batch, outputs):\n            yield {\n                \"index\": r[\"index\"],\n                \"description\": r[\"description\"],\n                \"input\": r[\"input\"],\n                \"output\": r[\"output\"],\n                \"code\": output.outputs[0].text.strip(\" \"),\n            }\n        batch = []\n    if batch:\n        outputs = generate(batch)\n        for r, output in zip(batch, outputs):\n            yield {\n                \"index\": r[\"index\"],\n                \"description\": r[\"description\"],\n                \"input\": r[\"input\"],\n                \"output\": r[\"output\"],\n                \"code\": output.outputs[0].text.strip(\" \"),\n            }"
        },
        {
            "cell_type": "code",
            "execution_count": 8,
            "id": "30a06971-6c35-4ea0-8110-30c2ee2dc3a5",
            "metadata": {
                "tracto": {
                    "execution_end": 1738970482112,
                    "execution_start": 1738969866096,
                    "metadata_version": "1",
                    "source_hash": "c46cc062",
                    "view_cell_type": "CODE"
                }
            },
            "outputs": [],
            "source": "inference_path = f\"{workdir}/inference\"\n\nschema = yt.schema.TableSchema(strict=True)\nschema.add_column(\"index\", type_info.Int32)\nschema.add_column(\"description\", type_info.String)\nschema.add_column(\"input\", type_info.List[type_info.String])\nschema.add_column(\"output\", type_info.List[type_info.String])\nschema.add_column(\"code\", type_info.String)\n\nyt.create(\"table\", inference_path, force=True, attributes={\"schema\": schema.to_yson_type()})\n\n\nyt.run_map(\n    bulk_inference,\n    dataset_path,\n    inference_path,\n    job_count=16,\n    spec={\n        \"pool_trees\": h100_pool_trees,\n        \"mapper\": {\n            \"gpu_limit\": 1,\n            \"memory_limit\": 32212254720,\n            \"cpu_limit\": 2,\n        },\n        \"job_io\": {\n            \"table_writer\": {\n                \"max_row_weight\": 128 * 1024 * 1024,\n            },\n        },\n    },\n)"
        },
        {
            "cell_type": "markdown",
            "id": "2d8144e2-02c1-4744-b3bb-a66f6cb91d84",
            "metadata": {
                "tracto": {
                    "metadata_version": "1",
                    "source_hash": "37eb2a72",
                    "view_cell_type": "MD"
                }
            },
            "source": "Let's run the code in parallel and validate the results. We'll limit memory consumption for the tested code using prlimit.\nIn this example, we do not isolate the llm-generated code from the controlling system at the io-level, but we limit RAM consumption."
        },
        {
            "cell_type": "code",
            "execution_count": 10,
            "id": "3eef4a4d-489e-4dce-a9fe-e6fa4781dcb3",
            "metadata": {
                "tracto": {
                    "execution_end": 1738970482116,
                    "execution_start": 1738970482115,
                    "metadata_version": "1",
                    "source_hash": "baafae95",
                    "view_cell_type": "CODE"
                }
            },
            "outputs": [],
            "source": "import subprocess\nimport sys\n\n\nRUN_TIMEOUT = 10\nCODE_IO_LIMIT = 2000\nMEM_LIMIT = 32212254720\n\n\n@yt.aggregator\ndef validate_code(records: Iterable[dict[str, str]]) -> Iterable[dict[str, str]]:\n    for record in records:\n        for inp, expected in zip(record[\"input\"], record[\"output\"]):\n            print(f\"Run code for {record['index']}\", file=sys.stderr)\n            try:\n                process = subprocess.run(\n                    [\"prlimit\", f\"--as={int(MEM_LIMIT * 0.5)}\", \"python3\", \"-c\", record[\"code\"]],\n                    input=inp,\n                    text=True,\n                    capture_output=True,\n                    timeout=RUN_TIMEOUT,\n                )\n            except subprocess.TimeoutExpired:\n                print(f\"Execution failed: timeout\", file=sys.stderr)\n                yield {\n                    \"index\": record[\"index\"],\n                    \"description\": record[\"description\"],\n                    \"input\": record[\"input\"],\n                    \"output\": record[\"output\"],\n                    \"code\": record[\"code\"],\n                    \"result_stdout\": \"<TIMEOUT>\",\n                    \"result_stderr\": \"<TIMEOUT>\",\n                    \"exitcode\": -1,\n                    \"match_expected\": False,\n                }\n                continue\n            if process.returncode:\n                print(f\"Execution failed: {process.stderr}\", file=sys.stderr)\n\n            yield {\n                \"index\": record[\"index\"],\n                \"description\": record[\"description\"],\n                \"input\": record[\"input\"],\n                \"output\": record[\"output\"],\n                \"code\": record[\"code\"],\n                \"result_stdout\": process.stdout[:CODE_IO_LIMIT],\n                \"result_stderr\": process.stderr[:CODE_IO_LIMIT],\n                \"exitcode\": process.returncode,\n                \"match_expected\": process.stdout == expected,\n            }"
        },
        {
            "cell_type": "code",
            "execution_count": 11,
            "id": "afe68fe0-fb03-4e54-b798-f01007476525",
            "metadata": {
                "tracto": {
                    "execution_end": 1738973689398,
                    "execution_start": 1738970482117,
                    "metadata_version": "1",
                    "source_hash": "b5196c22",
                    "view_cell_type": "CODE"
                }
            },
            "outputs": [],
            "source": "code_validation_path = f\"{workdir}/code_validation\"\n\nschema = yt.schema.TableSchema(strict=True)\nschema.add_column(\"index\", type_info.Int32)\nschema.add_column(\"description\", type_info.String)\nschema.add_column(\"input\", type_info.List[type_info.String])\nschema.add_column(\"output\", type_info.List[type_info.String])\nschema.add_column(\"code\", type_info.String)\nschema.add_column(\"result_stdout\", type_info.String)\nschema.add_column(\"result_stderr\", type_info.String)\nschema.add_column(\"exitcode\", type_info.Int8)\nschema.add_column(\"match_expected\", type_info.Bool)\n\nyt.create(\"table\", code_validation_path, force=True, attributes={\"schema\": schema.to_yson_type()})\n\nyt.run_map(\n    validate_code,\n    inference_path,\n    code_validation_path,\n    job_count=256,\n    spec={\n        \"mapper\": {\n            \"memory_limit\": MEM_LIMIT,\n            \"cpu_limit\": 2,\n        },\n        \"job_io\": {\n            \"table_writer\": {\n                \"max_row_weight\": 128 * 1024 * 1024,\n            },\n        },\n    },\n)"
        }
    ],
    "metadata": {
        "is_solution_notebook": true,
        "tracto": {
            "is_solution_notebook": true,
            "metadata_version": "1",
            "notebook_cypress_id": "fbd8904b-fde1-40e4-9759-495e3d00679c"
        }
    },
    "nbformat": 4,
    "nbformat_minor": 5
}