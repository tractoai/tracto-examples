{
    "cells": [
        {
            "cell_type": "markdown",
            "id": "1c02cdf6-4c54-4d95-853e-ff371d60501c",
            "metadata": {
                "tracto": {
                    "metadata_version": "1",
                    "source_hash": "a0d95750",
                    "view_cell_type": "MD"
                }
            },
            "source": "# Video Data Processing\n\nThis notebook demonstrates an example of video data processing on Tracto. It includes:\n\n* Uploading a video dataset from Hugging Face on Tracto.\n* Splitting video into 10-second segments.\n* Obtaining video descriptions using inference from the Qwen/Qwen2.5-VL-7B-Instruct model."
        },
        {
            "cell_type": "code",
            "execution_count": 1,
            "id": "63f98fe3-0728-4cc3-97de-d8e98493d347",
            "metadata": {
                "tracto": {
                    "execution_end": 1751585533487,
                    "execution_session_id": "0f00e353-751f-4e5a-aa66-522f88707645",
                    "execution_start": 1751585533483,
                    "hidden_input": true,
                    "metadata_version": "1",
                    "source_hash": "07f9f7a2",
                    "view_cell_type": "CODE"
                }
            },
            "outputs": [
                {
                    "name": "stdout",
                    "output_type": "stream",
                    "text": "Current working directory: //home/impossible_teal_dog/tmp/demo_workdir/cb4e4c4373ed410c9cc0bd15b343fdec\n"
                }
            ],
            "source": "# configure environment to run this notebooks\nimport uuid\nimport yt.wrapper as yt\n\nusername = yt.get_user_name()\nif yt.exists(f\"//sys/users/{username}/@user_info/home_path\"):\n    # prepare working directory on distributed file system\n    user_info = yt.get(f\"//sys/users/{yt.get_user_name()}/@user_info\")\n    homedir = user_info[\"home_path\"]\n    # find avaliable vm presets\n    cpu_pool_trees = [pool_tree for pool_tree in user_info[\"available_pool_trees\"] if pool_tree.endswith(\"cpu\")] or [\"default\"]\n    h100_pool_trees = [pool_tree for pool_tree in user_info[\"available_pool_trees\"] if pool_tree.endswith(\"h100\")]\n    h100_8_pool_trees = [pool_tree for pool_tree in user_info[\"available_pool_trees\"] if pool_tree.endswith(\"h100_8\")]\n    workdir = f\"{homedir}/tmp/demo_workdir/{uuid.uuid4().hex}\"\nelse:\n    cpu_pool_trees = [\"default\"]\n    h100_pool_trees = [\"gpu_h100\"]\n    h100_8_pool_trees = [\"gpu_h100\"]\n    workdir = f\"//tmp/examples/{uuid.uuid4().hex}\"\n\nyt.create(\"map_node\", workdir, recursive=True, ignore_existing=True)\nprint(\"Current working directory:\", workdir)"
        },
        {
            "cell_type": "code",
            "execution_count": 2,
            "id": "2287ce8b-400f-4334-90c2-9c948dd02672",
            "metadata": {
                "tracto": {
                    "execution_end": 1751585534440,
                    "execution_session_id": "0f00e353-751f-4e5a-aa66-522f88707645",
                    "execution_start": 1751585533515,
                    "metadata_version": "1",
                    "source_hash": "7eda5b46",
                    "view_cell_type": "CODE"
                }
            },
            "outputs": [
                {
                    "name": "stdout",
                    "output_type": "stream",
                    "text": "Requirement already satisfied: zstandard in /usr/local/lib/python3.12/site-packages (0.23.0)\r\n"
                },
                {
                    "name": "stdout",
                    "output_type": "stream",
                    "text": "\u001b[33mWARNING: Running pip as the 'root' user can result in broken permissions and conflicting behaviour with the system package manager, possibly rendering your system unusable.It is recommended to use a virtual environment instead: https://pip.pypa.io/warnings/venv. Use the --root-user-action option if you know what you are doing and want to suppress this warning.\u001b[0m\u001b[33m\r\n\u001b[0m"
                },
                {
                    "name": "stdout",
                    "output_type": "stream",
                    "text": "\r\n\u001b[1m[\u001b[0m\u001b[34;49mnotice\u001b[0m\u001b[1;39;49m]\u001b[0m\u001b[39;49m A new release of pip is available: \u001b[0m\u001b[31;49m24.3.1\u001b[0m\u001b[39;49m -> \u001b[0m\u001b[32;49m25.1.1\u001b[0m\r\n\u001b[1m[\u001b[0m\u001b[34;49mnotice\u001b[0m\u001b[1;39;49m]\u001b[0m\u001b[39;49m To update, run: \u001b[0m\u001b[32;49mpip install --upgrade pip\u001b[0m\r\n"
                }
            ],
            "source": "# we have to install extra dependency to be able to process a dataset using `huggingface_hub` library\n!pip install zstandard"
        },
        {
            "cell_type": "code",
            "execution_count": 3,
            "id": "73f11b02-a709-4541-a51d-e4ad87365bc2",
            "metadata": {
                "tracto": {
                    "execution_end": 1751585614783,
                    "execution_session_id": "0f00e353-751f-4e5a-aa66-522f88707645",
                    "execution_start": 1751585534464,
                    "metadata_version": "1",
                    "source_hash": "8c6c3f4e",
                    "view_cell_type": "CODE"
                }
            },
            "outputs": [
                {
                    "name": "stdout",
                    "output_type": "stream",
                    "text": "Dataset path: //home/impossible_teal_dog/tmp/demo_workdir/cb4e4c4373ed410c9cc0bd15b343fdec/dataset\n"
                }
            ],
            "source": "from huggingface_hub import hf_hub_url\nimport requests\nfrom yt import type_info\nimport os\n\nfrom datasets import load_dataset\n\nds = load_dataset(\"nyuuzyou/cs2-highlights\", split=\"metadata\")\n\ndef process_dataset():\n    for index, r in enumerate(ds.select(range(10))):\n        video_url = hf_hub_url(repo_id=\"nyuuzyou/cs2-highlights\", repo_type=\"dataset\", filename=r[\"file\"])\n        response = requests.get(video_url)\n        response.raise_for_status()\n        video = response.content\n\n        preview_url = hf_hub_url(repo_id=\"nyuuzyou/cs2-highlights\", repo_type=\"dataset\", filename=r[\"preview\"])\n        response = requests.get(preview_url)\n        response.raise_for_status()\n        preview = response.content\n        yield {\n            \"ds_index\": index,\n            \"video\": video,\n            \"preview\": preview,\n            \"title\": r[\"title\"],\n            \"file_type\": os.path.splitext(r[\"file\"])[1].lstrip(\".\"),\n        }\n\nschema = yt.schema.TableSchema()\nschema.add_column(\"ds_index\", type_info.Int64)\nschema.add_column(\"preview\", type_info.Tagged[type_info.String, \"image/jpeg\"])\nschema.add_column(\"video\", type_info.Tagged[type_info.String, \"video\"])\nschema.add_column(\"title\", type_info.Optional[type_info.String])\nschema.add_column(\"file_type\", type_info.String)\n\ndataset_path = f\"{workdir}/dataset\"\nprint(f\"Dataset path: {dataset_path}\")\n\nyt.create(\"table\", dataset_path, force=True, attributes={\"schema\": schema.to_yson_type()})\nyt.write_table(dataset_path, process_dataset(), table_writer={\"max_row_weight\": 800 * 1024 * 1024})"
        },
        {
            "cell_type": "code",
            "execution_count": 4,
            "id": "d62b0d99-15d0-40f6-a59f-cec605d62e6f",
            "metadata": {
                "tracto": {
                    "execution_end": 1751585983126,
                    "execution_session_id": "0f00e353-751f-4e5a-aa66-522f88707645",
                    "execution_start": 1751585614818,
                    "metadata_version": "1",
                    "source_hash": "309d203d",
                    "view_cell_type": "CODE"
                }
            },
            "outputs": [
                {
                    "name": "stderr",
                    "output_type": "stream",
                    "text": "2025-07-03 23:33:36,476\tINFO\tOperation started: https://playground.tracto.ai/playground/operations/c10cd97e-44cda475-24dd03e8-ed0155d5/details\n"
                },
                {
                    "name": "stderr",
                    "output_type": "stream",
                    "text": "2025-07-03 23:33:36,540\tINFO\t( 0 min) operation c10cd97e-44cda475-24dd03e8-ed0155d5 starting\n"
                },
                {
                    "name": "stderr",
                    "output_type": "stream",
                    "text": "2025-07-03 23:33:37,101\tINFO\t( 0 min) operation c10cd97e-44cda475-24dd03e8-ed0155d5 initializing\n"
                },
                {
                    "name": "stderr",
                    "output_type": "stream",
                    "text": "2025-07-03 23:33:40,036\tINFO\t( 0 min) Unrecognized spec: {'enable_partitioned_data_balancing': false, 'mapper': {'title': 'mapper_split_and_convert_to_mp'}}\n"
                },
                {
                    "name": "stderr",
                    "output_type": "stream",
                    "text": "2025-07-03 23:33:40,098\tINFO\t( 0 min) operation c10cd97e-44cda475-24dd03e8-ed0155d5: running=0     completed=0     pending=10    failed=0     aborted=0     lost=0     total=10    blocked=0    \n"
                },
                {
                    "name": "stderr",
                    "output_type": "stream",
                    "text": "2025-07-03 23:33:49,023\tINFO\t( 0 min) operation c10cd97e-44cda475-24dd03e8-ed0155d5: running=1     completed=0     pending=9     failed=0     aborted=0     lost=0     total=10    blocked=0    \n"
                },
                {
                    "name": "stderr",
                    "output_type": "stream",
                    "text": "2025-07-03 23:35:15,889\tINFO\t( 1 min) operation c10cd97e-44cda475-24dd03e8-ed0155d5: running=3     completed=1     pending=3     failed=0     aborted=0     lost=0     total=7     blocked=0    \n"
                },
                {
                    "name": "stderr",
                    "output_type": "stream",
                    "text": "2025-07-03 23:35:46,651\tINFO\t( 2 min) operation c10cd97e-44cda475-24dd03e8-ed0155d5: running=2     completed=2     pending=3     failed=0     aborted=0     lost=0     total=7     blocked=0    \n"
                },
                {
                    "name": "stderr",
                    "output_type": "stream",
                    "text": "2025-07-03 23:37:49,892\tINFO\t( 4 min) operation c10cd97e-44cda475-24dd03e8-ed0155d5: running=2     completed=3     pending=2     failed=0     aborted=0     lost=0     total=7     blocked=0    \n"
                },
                {
                    "name": "stderr",
                    "output_type": "stream",
                    "text": "2025-07-03 23:38:15,566\tINFO\t( 4 min) operation c10cd97e-44cda475-24dd03e8-ed0155d5: running=3     completed=4     pending=0     failed=0     aborted=0     lost=0     total=7     blocked=0    \n"
                },
                {
                    "name": "stderr",
                    "output_type": "stream",
                    "text": "2025-07-03 23:39:06,886\tINFO\t( 5 min) operation c10cd97e-44cda475-24dd03e8-ed0155d5: running=2     completed=5     pending=0     failed=0     aborted=0     lost=0     total=7     blocked=0    \n"
                },
                {
                    "name": "stderr",
                    "output_type": "stream",
                    "text": "2025-07-03 23:39:32,531\tINFO\t( 5 min) operation c10cd97e-44cda475-24dd03e8-ed0155d5: running=1     completed=6     pending=0     failed=0     aborted=0     lost=0     total=7     blocked=0    \n"
                },
                {
                    "name": "stderr",
                    "output_type": "stream",
                    "text": "2025-07-03 23:39:42,724\tINFO\t( 6 min) operation c10cd97e-44cda475-24dd03e8-ed0155d5 completed\n"
                },
                {
                    "name": "stdout",
                    "output_type": "stream",
                    "text": "//home/impossible_teal_dog/tmp/demo_workdir/cb4e4c4373ed410c9cc0bd15b343fdec/segments\n"
                }
            ],
            "source": "import subprocess\nimport sys\nimport tempfile\n\ndef split_and_convert_to_mp4(video_file, file_type, temp_dir, duration=10):\n    # Qwen/Qwen2.5-VL-7B-Instruct decoder doesn't work well with webm, let's convert in to mp4\n\n    cmd = [\n        'ffmpeg',\n        '-i', video_file,\n        '-c:v', 'libx264',\n        '-preset', 'slow',\n        '-crf', '18',\n        '-c:a', 'aac',\n        '-b:a', '192k',\n        '-segment_time', str(duration),\n        '-f', 'segment',\n        '-reset_timestamps', '1',\n        f'{temp_dir}/segment_%03d.mp4',\n    ]\n\n    print(\"Output prefix\", temp_dir, file=sys.stderr)\n\n    result = subprocess.run(cmd, check=True, stdin=subprocess.PIPE, stdout=sys.stderr, stderr=sys.stderr)\n    segments = [os.path.join(temp_dir, f) for f in os.listdir(temp_dir)]\n    segments.sort()\n    print(\"Segments\", segments, file=sys.stderr)\n\n    return segments\n\n\ndef get_length(path):\n    cmd = [\n        'ffprobe',\n        '-v', \n        'quiet',\n        '-show_entries',\n        'format=duration',\n        '-of',\n        'csv=p=0',\n        path,\n    ]\n    result = subprocess.run(cmd, check=True, stdin=subprocess.PIPE, stdout=subprocess.PIPE, stderr=sys.stderr, text=True)\n    return float(result.stdout.strip())\n\n\ndef mapper_split_and_convert_to_mp4(record):\n    file_type = record[\"file_type\"]\n    with open(f\"video.{file_type}\", \"wb\") as f:\n        f.write(yt.yson.get_bytes(record[\"video\"]))\n    with tempfile.TemporaryDirectory(dir='.') as temp_dir:\n        segments = split_and_convert_to_mp4(f\"video.{file_type}\", file_type, temp_dir)\n        for index, segment in enumerate(segments):\n            with open(segment, \"rb\") as f:\n                content = f.read()\n            yield {\n                \"video\": content,\n                \"ds_index\": int(record[\"ds_index\"]),\n                \"segment_index\": index,\n                \"length\": get_length(segment),\n                \"preview\": record[\"preview\"],\n                \"title\": str(record[\"title\"]),\n                \"file_type\": \"mp4\",\n            }\n\nschema = yt.schema.TableSchema()\nschema.add_column(\"ds_index\", type_info.Int64)\nschema.add_column(\"segment_index\", type_info.Int64)\nschema.add_column(\"preview\", type_info.Tagged[type_info.String, \"image/jpeg\"])\nschema.add_column(\"video\", type_info.Tagged[type_info.String, \"video\"])\nschema.add_column(\"title\", type_info.Optional[type_info.String])\nschema.add_column(\"file_type\", type_info.String)\nschema.add_column(\"length\", type_info.Float)\n\nsegments_path = f\"{workdir}/segments\"\nyt.create(\"table\", segments_path, force=True, attributes={\"schema\": schema.to_yson_type()})\n\nyt.run_map(\n    mapper_split_and_convert_to_mp4,\n    dataset_path,\n    segments_path,\n    spec={\n        \"mapper\": {\n            \"tmpfs_path\": \".\",\n            \"tmpfs_size\": 1 * 1024 * 1024 * 1024,\n            \"memory_limit\": 12 * 1024 * 1024 * 1024,\n        },\n        \"job_io\": {\n            \"table_writer\": {\n                \"max_row_weight\": 800 * 1024 * 1024,\n            },\n        },\n    },\n)\n\nprint(segments_path)"
        },
        {
            "cell_type": "code",
            "execution_count": 5,
            "id": "69a07aa4-7c53-4eb2-a5a0-f713bbb77f21",
            "metadata": {
                "tracto": {
                    "execution_end": 1751586476995,
                    "execution_session_id": "0f00e353-751f-4e5a-aa66-522f88707645",
                    "execution_start": 1751585983143,
                    "metadata_version": "1",
                    "source_hash": "6c83df4c",
                    "view_cell_type": "CODE"
                }
            },
            "outputs": [
                {
                    "name": "stderr",
                    "output_type": "stream",
                    "text": "2025-07-03 23:39:44,803\tINFO\tOperation started: https://playground.tracto.ai/playground/operations/7061219c-8082d2b-24dd03e8-20204762/details\n"
                },
                {
                    "name": "stderr",
                    "output_type": "stream",
                    "text": "2025-07-03 23:39:44,864\tINFO\t( 0 min) operation 7061219c-8082d2b-24dd03e8-20204762 starting\n"
                },
                {
                    "name": "stderr",
                    "output_type": "stream",
                    "text": "2025-07-03 23:39:45,429\tINFO\t( 0 min) operation 7061219c-8082d2b-24dd03e8-20204762 initializing\n"
                },
                {
                    "name": "stderr",
                    "output_type": "stream",
                    "text": "2025-07-03 23:39:46,092\tINFO\t( 0 min) Unrecognized spec: {'enable_partitioned_data_balancing': false, 'mapper': {'title': 'mapper_make_description'}}\n"
                },
                {
                    "name": "stderr",
                    "output_type": "stream",
                    "text": "2025-07-03 23:39:47,421\tINFO\t( 0 min) operation 7061219c-8082d2b-24dd03e8-20204762: running=0     completed=0     pending=1     failed=0     aborted=0     lost=0     total=1     blocked=0    \n"
                },
                {
                    "name": "stderr",
                    "output_type": "stream",
                    "text": "2025-07-03 23:39:56,682\tINFO\t( 0 min) operation 7061219c-8082d2b-24dd03e8-20204762: running=1     completed=0     pending=0     failed=0     aborted=0     lost=0     total=1     blocked=0    \n"
                },
                {
                    "name": "stderr",
                    "output_type": "stream",
                    "text": "2025-07-03 23:47:56,588\tINFO\t( 8 min) operation 7061219c-8082d2b-24dd03e8-20204762 completed\n"
                },
                {
                    "name": "stderr",
                    "output_type": "stream",
                    "text": "2025-07-03 23:47:56,690\tINFO\t( 8 min) Alerts: {'unused_tmpfs_space': {'code': 1, 'message': 'Operation has jobs that use tmpfs inefficiently; consider specifying tmpfs size closer to actual usage', 'attributes': {'pid': 1, 'tid': 9065167699081935851, 'thread': 'Controller:8', 'fid': 18446276378189618866, 'host': 'ca-2.controller-agents.nebius-playground.svc.kyt.k8s.nebius.yt', 'datetime': '2025-07-03T23:47:55.417988Z', 'trace_id': '179b3c15-4f080a82-8b31da91-f74b6d7', 'span_id': 14377520967261452717}, 'inner_errors': [{'code': 1, 'message': 'Jobs of type \"map\" use less than 80.0% of requested tmpfs size in volume \".\"', 'attributes': {'pid': 1, 'tid': 9065167699081935851, 'thread': 'Controller:8', 'fid': 18446276378189618866, 'host': 'ca-2.controller-agents.nebius-playground.svc.kyt.k8s.nebius.yt', 'datetime': '2025-07-03T23:47:55.417982Z', 'trace_id': '179b3c15-4f080a82-8b31da91-f74b6d7', 'span_id': 14377520967261452717, 'max_used_tmpfs_size': 27354480640, 'tmpfs_size': 64424509440}}]}, 'unused_memory': {'code': 1, 'message': 'Operation has jobs that use memory inefficiently; consider specifying memory limit closer to actual usage', 'attributes': {'pid': 1, 'tid': 9065167699081935851, 'thread': 'Controller:8', 'fid': 18446276378189618866, 'host': 'ca-2.controller-agents.nebius-playground.svc.kyt.k8s.nebius.yt', 'datetime': '2025-07-03T23:47:55.418002Z', 'trace_id': '179b3c15-4f080a82-8b31da91-f74b6d7', 'span_id': 14377520967261452717}, 'inner_errors': [{'code': 1, 'message': 'Jobs of type \"map\" use less than 80.0% of requested memory', 'attributes': {'pid': 1, 'tid': 9065167699081935851, 'thread': 'Controller:8', 'fid': 18446276378189618866, 'host': 'ca-2.controller-agents.nebius-playground.svc.kyt.k8s.nebius.yt', 'datetime': '2025-07-03T23:47:55.417975Z', 'trace_id': '179b3c15-4f080a82-8b31da91-f74b6d7', 'span_id': 14377520967261452717, 'memory_reserve': 65068754534, 'memory_usage': 48894951424}}]}}\n"
                },
                {
                    "name": "stdout",
                    "output_type": "stream",
                    "text": "//home/impossible_teal_dog/tmp/demo_workdir/cb4e4c4373ed410c9cc0bd15b343fdec/result\n"
                }
            ],
            "source": "MODEL = \"Qwen/Qwen2.5-VL-7B-Instruct\"\n\n\nyt.config[\"pickling\"][\"safe_stream_mode\"] = False\n\n\n@yt.aggregator\ndef mapper_make_description(records):\n    from transformers import AutoProcessor\n    from vllm import LLM, SamplingParams\n    from qwen_vl_utils import process_vision_info\n\n    llm = LLM(\n        model=MODEL,\n        limit_mm_per_prompt={\"video\": 10},\n    )\n    sampling_params = SamplingParams(\n        temperature=0.1,\n        top_p=0.001,\n        repetition_penalty=1.05,\n        max_tokens=256,\n        stop_token_ids=[],\n    )\n    processor = AutoProcessor.from_pretrained(MODEL)\n\n    for record in records:\n        file_type = record['file_type']\n        video_file = f\"./video.{file_type}\"\n        with open(video_file, \"wb\") as f:\n            f.write(yt.yson.get_bytes(record[\"video\"]))\n        messages = [\n            {\"role\": \"system\", \"content\": \"You are a helpful assistant.\"},\n            {\"role\": \"user\", \"content\": [\n                    {\"type\": \"text\", \"text\": \"What happens on this video?\"},\n                    {\n                        \"type\": \"video\", \n                        \"video\": f\"file://{os.path.abspath(video_file)}\",\n                        \"total_pixels\": 20480 * 28 * 28, \"min_pixels\": 16 * 28 * 28\n                    }\n                ]\n            },\n        ]\n        prompt = processor.apply_chat_template(\n            messages,\n            tokenize=False,\n            add_generation_prompt=True,\n        )\n        image_inputs, video_inputs, video_kwargs = process_vision_info(messages, return_video_kwargs=True)\n\n        mm_data = {}\n        if image_inputs is not None:\n            mm_data[\"image\"] = image_inputs\n        if video_inputs is not None:\n            mm_data[\"video\"] = video_inputs\n\n        llm_inputs = {\n            \"prompt\": prompt,\n            \"multi_modal_data\": mm_data,\n            \"mm_processor_kwargs\": video_kwargs,\n        }\n\n        outputs = llm.generate([llm_inputs], sampling_params=sampling_params)\n        generated_text = outputs[0].outputs[0].text\n        yield {\n            \"video\": record[\"video\"],\n            \"ds_index\": int(record[\"ds_index\"]),\n            \"segment_index\": record[\"segment_index\"],\n            \"length\": record[\"length\"],\n            \"preview\": record[\"preview\"],\n            \"title\": record[\"title\"],\n            \"title\": record[\"file_type\"],\n            \"description\": generated_text,\n        }\n\nschema = yt.schema.TableSchema()\nschema.add_column(\"ds_index\", type_info.Int64)\nschema.add_column(\"segment_index\", type_info.Int64)\nschema.add_column(\"preview\", type_info.Tagged[type_info.String, \"image/jpeg\"])\nschema.add_column(\"video\", type_info.Tagged[type_info.String, \"video\"])\nschema.add_column(\"title\", type_info.Optional[type_info.String])\nschema.add_column(\"file_type\", type_info.Optional[type_info.String])\nschema.add_column(\"length\", type_info.Float)\nschema.add_column(\"description\", type_info.String)\n\nresult_path = f\"{workdir}/result\"\nyt.create(\"table\", result_path, force=True, attributes={\"schema\": schema.to_yson_type()})\n\nyt.run_map(\n    mapper_make_description,\n    segments_path,\n    result_path,\n    job_count=1,\n    spec={\n        \"pool_trees\": h100_pool_trees,\n        \"mapper\": {\n            \"gpu_limit\": 1,\n            \"memory_limit\": 64424509440,\n            \"tmpfs_path\": \".\",\n            \"tmpfs_size\": 64424509440,\n            \"environment\": {\n                # improtant for vllm v1\n                \"VLLM_WORKER_MULTIPROC_METHOD\": \"spawn\",\n            },\n        },\n        \"job_io\": {\n            \"table_writer\": {\n                \"max_row_weight\": 800 * 1024 * 1024,\n            },\n        },\n        \"max_speculative_job_count_per_task\": 0,\n    },\n)\n\nprint(result_path)"
        }
    ],
    "metadata": {
        "is_solution_notebook": true,
        "tracto": {
            "is_solution_notebook": true,
            "metadata_version": "1",
            "notebook_cypress_id": "d546b0e4-8b15-4b36-accc-f4c8c5cf64dc"
        }
    },
    "nbformat": 4,
    "nbformat_minor": 5
}