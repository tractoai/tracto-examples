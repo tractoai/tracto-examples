{
    "cells": [
        {
            "cell_type": "markdown",
            "id": "1c02cdf6-4c54-4d95-853e-ff371d60501c",
            "metadata": {
                "tracto": {
                    "metadata_version": "1",
                    "source_hash": "7a029220",
                    "view_cell_type": "MD"
                }
            },
            "source": "# Video Data Processing\n\nThis notebook demonstrates an example of video data processing on Tracto. It includes:\n\n* Uploading a video dataset from Hugging Face on Tracto.\n* Splitting video into 10-second segments.\n* Obtaining video descriptions using `Qwen/Qwen2.5-VL-7B-Instruct` inference."
        },
        {
            "cell_type": "code",
            "execution_count": 1,
            "id": "63f98fe3-0728-4cc3-97de-d8e98493d347",
            "metadata": {
                "tracto": {
                    "execution_end": 1752171591409,
                    "execution_session_id": "04a7c797-2957-46f0-8caa-21adb6e45454",
                    "execution_start": 1752171591188,
                    "hidden_input": true,
                    "metadata_version": "1",
                    "source_hash": "efd115a2",
                    "view_cell_type": "CODE"
                }
            },
            "outputs": [
                {
                    "name": "stdout",
                    "output_type": "stream",
                    "text": "Current working directory: //home/established_tan_whale/tmp/demo_workdir/ac3a9ffbfcfc41c0b514da1d62f18365\n"
                }
            ],
            "source": "# configure environment to run this notebooks\nimport uuid\nimport yt.wrapper as yt\n\nusername = yt.get_user_name()\nif yt.exists(f\"//sys/users/{username}/@user_info/home_path\"):\n    # prepare working directory on distributed file system\n    user_info = yt.get(f\"//sys/users/{yt.get_user_name()}/@user_info\")\n    homedir = user_info[\"home_path\"]\n    # find avaliable vm presets\n    cpu_pool_trees = [pool_tree for pool_tree in user_info[\"available_pool_trees\"] if pool_tree.endswith(\"cpu\")] or [\"default\"]\n    h100_pool_trees = [pool_tree for pool_tree in user_info[\"available_pool_trees\"] if pool_tree.endswith(\"h100\")]\n    h100_8_pool_trees = [pool_tree for pool_tree in user_info[\"available_pool_trees\"] if pool_tree.endswith(\"h100-8\")]\n    h200_pool_trees = [pool_tree for pool_tree in user_info[\"available_pool_trees\"] if pool_tree.endswith(\"h200\")]\n    h200_8_pool_trees = [pool_tree for pool_tree in user_info[\"available_pool_trees\"] if pool_tree.endswith(\"h200-8\")]\n    workdir = f\"{homedir}/tmp/demo_workdir/{uuid.uuid4().hex}\"\nelse:\n    cpu_pool_trees = [\"default\"]\n    h100_pool_trees = [\"gpu_h100\"]\n    h100_8_pool_trees = [\"gpu_h100\"]\n    h200_pool_trees = [\"gpu_h200\"]\n    h200_8_pool_trees = [\"gpu_h200\"]\n    workdir = f\"//tmp/examples/{uuid.uuid4().hex}\"\n\nyt.create(\"map_node\", workdir, recursive=True, ignore_existing=True)\nprint(\"Current working directory:\", workdir)"
        },
        {
            "cell_type": "code",
            "execution_count": 2,
            "id": "2287ce8b-400f-4334-90c2-9c948dd02672",
            "metadata": {
                "tracto": {
                    "execution_end": 1752171592492,
                    "execution_session_id": "04a7c797-2957-46f0-8caa-21adb6e45454",
                    "execution_start": 1752171591426,
                    "metadata_version": "1",
                    "source_hash": "7eda5b46",
                    "view_cell_type": "CODE"
                }
            },
            "outputs": [
                {
                    "name": "stdout",
                    "output_type": "stream",
                    "text": "Requirement already satisfied: zstandard in /usr/local/lib/python3.12/site-packages (0.23.0)\r\n"
                },
                {
                    "name": "stdout",
                    "output_type": "stream",
                    "text": "\u001b[33mWARNING: Running pip as the 'root' user can result in broken permissions and conflicting behaviour with the system package manager, possibly rendering your system unusable.It is recommended to use a virtual environment instead: https://pip.pypa.io/warnings/venv. Use the --root-user-action option if you know what you are doing and want to suppress this warning.\u001b[0m\u001b[33m\r\n\u001b[0m"
                },
                {
                    "name": "stdout",
                    "output_type": "stream",
                    "text": "\r\n\u001b[1m[\u001b[0m\u001b[34;49mnotice\u001b[0m\u001b[1;39;49m]\u001b[0m\u001b[39;49m A new release of pip is available: \u001b[0m\u001b[31;49m24.3.1\u001b[0m\u001b[39;49m -> \u001b[0m\u001b[32;49m25.1.1\u001b[0m\r\n\u001b[1m[\u001b[0m\u001b[34;49mnotice\u001b[0m\u001b[1;39;49m]\u001b[0m\u001b[39;49m To update, run: \u001b[0m\u001b[32;49mpip install --upgrade pip\u001b[0m\r\n"
                }
            ],
            "source": "# we have to install extra dependency to be able to process a dataset using `huggingface_hub` library\n!pip install zstandard"
        },
        {
            "cell_type": "code",
            "execution_count": 3,
            "id": "73f11b02-a709-4541-a51d-e4ad87365bc2",
            "metadata": {
                "tracto": {
                    "execution_end": 1752171811070,
                    "execution_session_id": "04a7c797-2957-46f0-8caa-21adb6e45454",
                    "execution_start": 1752171592517,
                    "metadata_version": "1",
                    "source_hash": "05936e84",
                    "view_cell_type": "CODE"
                }
            },
            "outputs": [
                {
                    "name": "stdout",
                    "output_type": "stream",
                    "text": "Dataset path: //home/established_tan_whale/tmp/demo_workdir/ac3a9ffbfcfc41c0b514da1d62f18365/dataset\n"
                }
            ],
            "source": "from huggingface_hub import hf_hub_url\nimport requests\nfrom yt import type_info\nimport os\n\nfrom datasets import load_dataset\n\nds = load_dataset(\"nyuuzyou/cs2-highlights\", split=\"metadata\")\n\ndef process_dataset():\n    for index, r in enumerate(ds.select(range(25))):\n        video_url = hf_hub_url(repo_id=\"nyuuzyou/cs2-highlights\", repo_type=\"dataset\", filename=r[\"file\"])\n        response = requests.get(video_url)\n        response.raise_for_status()\n        video = response.content\n\n        preview_url = hf_hub_url(repo_id=\"nyuuzyou/cs2-highlights\", repo_type=\"dataset\", filename=r[\"preview\"])\n        response = requests.get(preview_url)\n        response.raise_for_status()\n        preview = response.content\n        yield {\n            \"ds_index\": index,\n            \"video\": video,\n            \"preview\": preview,\n            \"title\": r[\"title\"],\n            \"file_type\": os.path.splitext(r[\"file\"])[1].lstrip(\".\"),\n        }\n\nschema = yt.schema.TableSchema()\nschema.add_column(\"ds_index\", type_info.Int64)\nschema.add_column(\"preview\", type_info.Tagged[type_info.String, \"image/jpeg\"])\nschema.add_column(\"video\", type_info.Tagged[type_info.String, \"video\"])\nschema.add_column(\"title\", type_info.Optional[type_info.String])\nschema.add_column(\"file_type\", type_info.String)\n\ndataset_path = f\"{workdir}/dataset\"\nprint(f\"Dataset path: {dataset_path}\")\n\nyt.create(\"table\", dataset_path, force=True, attributes={\"schema\": schema.to_yson_type()})\nyt.write_table(dataset_path, process_dataset(), table_writer={\"max_row_weight\": 800 * 1024 * 1024})"
        },
        {
            "cell_type": "code",
            "execution_count": 4,
            "id": "d62b0d99-15d0-40f6-a59f-cec605d62e6f",
            "metadata": {
                "tracto": {
                    "execution_end": 1752172700720,
                    "execution_session_id": "04a7c797-2957-46f0-8caa-21adb6e45454",
                    "execution_start": 1752171811089,
                    "metadata_version": "1",
                    "source_hash": "309d203d",
                    "view_cell_type": "CODE"
                }
            },
            "outputs": [
                {
                    "name": "stderr",
                    "output_type": "stream",
                    "text": "2025-07-10 18:23:32,800\tINFO\tOperation started: https://playground.tracto.ai/playground/operations/2d555a69-fe536f4f-24dd03e8-17cb3b44/details\n"
                },
                {
                    "name": "stderr",
                    "output_type": "stream",
                    "text": "2025-07-10 18:23:32,856\tINFO\t( 0 min) operation 2d555a69-fe536f4f-24dd03e8-17cb3b44 initializing\n"
                },
                {
                    "name": "stderr",
                    "output_type": "stream",
                    "text": "2025-07-10 18:23:34,650\tINFO\t( 0 min) Unrecognized spec: {'enable_partitioned_data_balancing': false, 'mapper': {'title': 'mapper_split_and_convert_to_mp'}}\n"
                },
                {
                    "name": "stderr",
                    "output_type": "stream",
                    "text": "2025-07-10 18:23:34,721\tINFO\t( 0 min) operation 2d555a69-fe536f4f-24dd03e8-17cb3b44: running=0     completed=0     pending=25    failed=0     aborted=0     lost=0     total=25    blocked=0    \n"
                },
                {
                    "name": "stderr",
                    "output_type": "stream",
                    "text": "2025-07-10 18:23:40,023\tINFO\t( 0 min) operation 2d555a69-fe536f4f-24dd03e8-17cb3b44: running=1     completed=0     pending=24    failed=0     aborted=0     lost=0     total=25    blocked=0    \n"
                },
                {
                    "name": "stderr",
                    "output_type": "stream",
                    "text": "2025-07-10 18:25:10,336\tINFO\t( 1 min) operation 2d555a69-fe536f4f-24dd03e8-17cb3b44: running=3     completed=1     pending=20    failed=0     aborted=0     lost=0     total=24    blocked=0    \n"
                },
                {
                    "name": "stderr",
                    "output_type": "stream",
                    "text": "2025-07-10 18:25:41,129\tINFO\t( 2 min) operation 2d555a69-fe536f4f-24dd03e8-17cb3b44: running=2     completed=2     pending=20    failed=0     aborted=0     lost=0     total=24    blocked=0    \n"
                },
                {
                    "name": "stderr",
                    "output_type": "stream",
                    "text": "2025-07-10 18:27:34,150\tINFO\t( 4 min) operation 2d555a69-fe536f4f-24dd03e8-17cb3b44: running=3     completed=3     pending=17    failed=0     aborted=0     lost=0     total=23    blocked=0    \n"
                },
                {
                    "name": "stderr",
                    "output_type": "stream",
                    "text": "2025-07-10 18:27:59,760\tINFO\t( 4 min) operation 2d555a69-fe536f4f-24dd03e8-17cb3b44: running=3     completed=4     pending=16    failed=0     aborted=0     lost=0     total=23    blocked=0    \n"
                },
                {
                    "name": "stderr",
                    "output_type": "stream",
                    "text": "2025-07-10 18:29:16,638\tINFO\t( 5 min) operation 2d555a69-fe536f4f-24dd03e8-17cb3b44: running=3     completed=5     pending=15    failed=0     aborted=0     lost=0     total=23    blocked=0    \n"
                },
                {
                    "name": "stderr",
                    "output_type": "stream",
                    "text": "2025-07-10 18:29:37,155\tINFO\t( 6 min) operation 2d555a69-fe536f4f-24dd03e8-17cb3b44: running=3     completed=6     pending=14    failed=0     aborted=0     lost=0     total=23    blocked=0    \n"
                },
                {
                    "name": "stderr",
                    "output_type": "stream",
                    "text": "2025-07-10 18:29:42,286\tINFO\t( 6 min) operation 2d555a69-fe536f4f-24dd03e8-17cb3b44: running=2     completed=7     pending=14    failed=0     aborted=0     lost=0     total=23    blocked=0    \n"
                },
                {
                    "name": "stderr",
                    "output_type": "stream",
                    "text": "2025-07-10 18:30:07,924\tINFO\t( 6 min) operation 2d555a69-fe536f4f-24dd03e8-17cb3b44: running=2     completed=8     pending=13    failed=0     aborted=0     lost=0     total=23    blocked=0    \n"
                },
                {
                    "name": "stderr",
                    "output_type": "stream",
                    "text": "2025-07-10 18:31:14,646\tINFO\t( 7 min) operation 2d555a69-fe536f4f-24dd03e8-17cb3b44: running=2     completed=9     pending=10    failed=0     aborted=0     lost=0     total=21    blocked=0    \n"
                },
                {
                    "name": "stderr",
                    "output_type": "stream",
                    "text": "2025-07-10 18:31:35,158\tINFO\t( 8 min) operation 2d555a69-fe536f4f-24dd03e8-17cb3b44: running=2     completed=10    pending=9     failed=0     aborted=0     lost=0     total=21    blocked=0    \n"
                },
                {
                    "name": "stderr",
                    "output_type": "stream",
                    "text": "2025-07-10 18:32:52,057\tINFO\t( 9 min) operation 2d555a69-fe536f4f-24dd03e8-17cb3b44: running=2     completed=11    pending=8     failed=0     aborted=0     lost=0     total=21    blocked=0    \n"
                },
                {
                    "name": "stderr",
                    "output_type": "stream",
                    "text": "2025-07-10 18:33:17,668\tINFO\t( 9 min) operation 2d555a69-fe536f4f-24dd03e8-17cb3b44: running=2     completed=12    pending=7     failed=0     aborted=0     lost=0     total=21    blocked=0    \n"
                },
                {
                    "name": "stderr",
                    "output_type": "stream",
                    "text": "2025-07-10 18:33:33,055\tINFO\t(10 min) operation 2d555a69-fe536f4f-24dd03e8-17cb3b44: running=2     completed=13    pending=5     failed=0     aborted=0     lost=0     total=20    blocked=0    \n"
                },
                {
                    "name": "stderr",
                    "output_type": "stream",
                    "text": "2025-07-10 18:34:55,137\tINFO\t(11 min) operation 2d555a69-fe536f4f-24dd03e8-17cb3b44: running=2     completed=14    pending=2     failed=0     aborted=0     lost=0     total=18    blocked=0    \n"
                },
                {
                    "name": "stderr",
                    "output_type": "stream",
                    "text": "2025-07-10 18:36:42,844\tINFO\t(13 min) operation 2d555a69-fe536f4f-24dd03e8-17cb3b44: running=2     completed=15    pending=0     failed=0     aborted=0     lost=0     total=17    blocked=0    \n"
                },
                {
                    "name": "stderr",
                    "output_type": "stream",
                    "text": "2025-07-10 18:37:44,420\tINFO\t(14 min) operation 2d555a69-fe536f4f-24dd03e8-17cb3b44: running=1     completed=16    pending=0     failed=0     aborted=0     lost=0     total=17    blocked=0    \n"
                },
                {
                    "name": "stderr",
                    "output_type": "stream",
                    "text": "2025-07-10 18:38:20,223\tINFO\t(14 min) operation 2d555a69-fe536f4f-24dd03e8-17cb3b44 completed\n"
                },
                {
                    "name": "stdout",
                    "output_type": "stream",
                    "text": "//home/established_tan_whale/tmp/demo_workdir/ac3a9ffbfcfc41c0b514da1d62f18365/segments\n"
                }
            ],
            "source": "import subprocess\nimport sys\nimport tempfile\n\ndef split_and_convert_to_mp4(video_file, file_type, temp_dir, duration=10):\n    # Qwen/Qwen2.5-VL-7B-Instruct decoder doesn't work well with webm, let's convert in to mp4\n\n    cmd = [\n        'ffmpeg',\n        '-i', video_file,\n        '-c:v', 'libx264',\n        '-preset', 'slow',\n        '-crf', '18',\n        '-c:a', 'aac',\n        '-b:a', '192k',\n        '-segment_time', str(duration),\n        '-f', 'segment',\n        '-reset_timestamps', '1',\n        f'{temp_dir}/segment_%03d.mp4',\n    ]\n\n    print(\"Output prefix\", temp_dir, file=sys.stderr)\n\n    result = subprocess.run(cmd, check=True, stdin=subprocess.PIPE, stdout=sys.stderr, stderr=sys.stderr)\n    segments = [os.path.join(temp_dir, f) for f in os.listdir(temp_dir)]\n    segments.sort()\n    print(\"Segments\", segments, file=sys.stderr)\n\n    return segments\n\n\ndef get_length(path):\n    cmd = [\n        'ffprobe',\n        '-v', \n        'quiet',\n        '-show_entries',\n        'format=duration',\n        '-of',\n        'csv=p=0',\n        path,\n    ]\n    result = subprocess.run(cmd, check=True, stdin=subprocess.PIPE, stdout=subprocess.PIPE, stderr=sys.stderr, text=True)\n    return float(result.stdout.strip())\n\n\ndef mapper_split_and_convert_to_mp4(record):\n    file_type = record[\"file_type\"]\n    with open(f\"video.{file_type}\", \"wb\") as f:\n        f.write(yt.yson.get_bytes(record[\"video\"]))\n    with tempfile.TemporaryDirectory(dir='.') as temp_dir:\n        segments = split_and_convert_to_mp4(f\"video.{file_type}\", file_type, temp_dir)\n        for index, segment in enumerate(segments):\n            with open(segment, \"rb\") as f:\n                content = f.read()\n            yield {\n                \"video\": content,\n                \"ds_index\": int(record[\"ds_index\"]),\n                \"segment_index\": index,\n                \"length\": get_length(segment),\n                \"preview\": record[\"preview\"],\n                \"title\": str(record[\"title\"]),\n                \"file_type\": \"mp4\",\n            }\n\nschema = yt.schema.TableSchema()\nschema.add_column(\"ds_index\", type_info.Int64)\nschema.add_column(\"segment_index\", type_info.Int64)\nschema.add_column(\"preview\", type_info.Tagged[type_info.String, \"image/jpeg\"])\nschema.add_column(\"video\", type_info.Tagged[type_info.String, \"video\"])\nschema.add_column(\"title\", type_info.Optional[type_info.String])\nschema.add_column(\"file_type\", type_info.String)\nschema.add_column(\"length\", type_info.Float)\n\nsegments_path = f\"{workdir}/segments\"\nyt.create(\"table\", segments_path, force=True, attributes={\"schema\": schema.to_yson_type()})\n\nyt.run_map(\n    mapper_split_and_convert_to_mp4,\n    dataset_path,\n    segments_path,\n    spec={\n        \"mapper\": {\n            \"tmpfs_path\": \".\",\n            \"tmpfs_size\": 1 * 1024 * 1024 * 1024,\n            \"memory_limit\": 12 * 1024 * 1024 * 1024,\n        },\n        \"job_io\": {\n            \"table_writer\": {\n                \"max_row_weight\": 800 * 1024 * 1024,\n            },\n        },\n    },\n)\n\nprint(segments_path)"
        },
        {
            "cell_type": "code",
            "execution_count": 5,
            "id": "69a07aa4-7c53-4eb2-a5a0-f713bbb77f21",
            "metadata": {
                "tracto": {
                    "execution_end": 1752173823115,
                    "execution_session_id": "04a7c797-2957-46f0-8caa-21adb6e45454",
                    "execution_start": 1752172700752,
                    "metadata_version": "1",
                    "source_hash": "70a35328",
                    "view_cell_type": "CODE"
                }
            },
            "outputs": [
                {
                    "name": "stderr",
                    "output_type": "stream",
                    "text": "2025-07-10 18:38:23,348\tINFO\tOperation started: https://playground.tracto.ai/playground/operations/eb7d0519-be6d821d-24dd03e8-979c1a37/details\n"
                },
                {
                    "name": "stderr",
                    "output_type": "stream",
                    "text": "2025-07-10 18:38:23,414\tINFO\t( 0 min) operation eb7d0519-be6d821d-24dd03e8-979c1a37 starting\n"
                },
                {
                    "name": "stderr",
                    "output_type": "stream",
                    "text": "2025-07-10 18:38:24,058\tINFO\t( 0 min) Unrecognized spec: {'enable_partitioned_data_balancing': false, 'mapper': {'title': 'mapper_make_description'}}\n"
                },
                {
                    "name": "stderr",
                    "output_type": "stream",
                    "text": "2025-07-10 18:38:24,059\tINFO\t( 0 min) operation eb7d0519-be6d821d-24dd03e8-979c1a37 preparing\n"
                },
                {
                    "name": "stderr",
                    "output_type": "stream",
                    "text": "2025-07-10 18:38:26,924\tINFO\t( 0 min) operation eb7d0519-be6d821d-24dd03e8-979c1a37: running=0     completed=0     pending=2     failed=0     aborted=0     lost=0     total=2     blocked=0    \n"
                },
                {
                    "name": "stderr",
                    "output_type": "stream",
                    "text": "2025-07-10 18:38:35,807\tINFO\t( 0 min) operation eb7d0519-be6d821d-24dd03e8-979c1a37: running=1     completed=0     pending=1     failed=0     aborted=0     lost=0     total=2     blocked=0    \n"
                },
                {
                    "name": "stderr",
                    "output_type": "stream",
                    "text": "2025-07-10 18:49:31,665\tINFO\t(11 min) operation eb7d0519-be6d821d-24dd03e8-979c1a37: running=1     completed=1     pending=0     failed=0     aborted=0     lost=0     total=2     blocked=0    \n"
                },
                {
                    "name": "stderr",
                    "output_type": "stream",
                    "text": "2025-07-10 18:57:02,702\tINFO\t(18 min) operation eb7d0519-be6d821d-24dd03e8-979c1a37 completed\n"
                },
                {
                    "name": "stdout",
                    "output_type": "stream",
                    "text": "//home/established_tan_whale/tmp/demo_workdir/ac3a9ffbfcfc41c0b514da1d62f18365/result\n"
                }
            ],
            "source": "MODEL = \"Qwen/Qwen2.5-VL-7B-Instruct\"\n\n\nyt.config[\"pickling\"][\"safe_stream_mode\"] = False\n\n\n@yt.aggregator\ndef mapper_make_description(records):\n    from transformers import AutoProcessor\n    from vllm import LLM, SamplingParams\n    from qwen_vl_utils import process_vision_info\n\n    llm = LLM(\n        model=MODEL,\n        limit_mm_per_prompt={\"video\": 10},\n    )\n    sampling_params = SamplingParams(\n        temperature=0.1,\n        top_p=0.001,\n        repetition_penalty=1.05,\n        max_tokens=256,\n        stop_token_ids=[],\n    )\n    processor = AutoProcessor.from_pretrained(MODEL)\n\n    for record in records:\n        file_type = record['file_type']\n        video_file = f\"./video.{file_type}\"\n        with open(video_file, \"wb\") as f:\n            f.write(yt.yson.get_bytes(record[\"video\"]))\n        messages = [\n            {\"role\": \"system\", \"content\": \"You are a helpful assistant.\"},\n            {\"role\": \"user\", \"content\": [\n                    {\"type\": \"text\", \"text\": \"What happens on this video?\"},\n                    {\n                        \"type\": \"video\", \n                        \"video\": f\"file://{os.path.abspath(video_file)}\",\n                        \"total_pixels\": 20480 * 28 * 28, \"min_pixels\": 16 * 28 * 28\n                    }\n                ]\n            },\n        ]\n        prompt = processor.apply_chat_template(\n            messages,\n            tokenize=False,\n            add_generation_prompt=True,\n        )\n        image_inputs, video_inputs, video_kwargs = process_vision_info(messages, return_video_kwargs=True)\n\n        mm_data = {}\n        if image_inputs is not None:\n            mm_data[\"image\"] = image_inputs\n        if video_inputs is not None:\n            mm_data[\"video\"] = video_inputs\n\n        llm_inputs = {\n            \"prompt\": prompt,\n            \"multi_modal_data\": mm_data,\n            \"mm_processor_kwargs\": video_kwargs,\n        }\n\n        outputs = llm.generate([llm_inputs], sampling_params=sampling_params)\n        generated_text = outputs[0].outputs[0].text\n        yield {\n            \"video\": record[\"video\"],\n            \"ds_index\": int(record[\"ds_index\"]),\n            \"segment_index\": record[\"segment_index\"],\n            \"length\": record[\"length\"],\n            \"preview\": record[\"preview\"],\n            \"title\": record[\"title\"],\n            \"file_type\": record[\"file_type\"],\n            \"description\": generated_text,\n        }\n\nschema = yt.schema.TableSchema()\nschema.add_column(\"ds_index\", type_info.Int64)\nschema.add_column(\"segment_index\", type_info.Int64)\nschema.add_column(\"preview\", type_info.Tagged[type_info.String, \"image/jpeg\"])\nschema.add_column(\"video\", type_info.Tagged[type_info.String, \"video\"])\nschema.add_column(\"title\", type_info.Optional[type_info.String])\nschema.add_column(\"file_type\", type_info.String)\nschema.add_column(\"length\", type_info.Float)\nschema.add_column(\"description\", type_info.String)\n\nresult_path = f\"{workdir}/result\"\nyt.create(\"table\", result_path, force=True, attributes={\"schema\": schema.to_yson_type()})\n\nyt.run_map(\n    mapper_make_description,\n    segments_path,\n    result_path,\n    job_count=2,\n    spec={\n        \"pool_trees\": h100_pool_trees,\n        \"mapper\": {\n            \"gpu_limit\": 1,\n            \"memory_limit\": 64424509440,\n            \"tmpfs_path\": \".\",\n            \"tmpfs_size\": 64424509440,\n            \"environment\": {\n                # improtant for vllm v1\n                \"VLLM_WORKER_MULTIPROC_METHOD\": \"spawn\",\n            },\n        },\n        \"job_io\": {\n            \"table_writer\": {\n                \"max_row_weight\": 800 * 1024 * 1024,\n            },\n        },\n        \"max_speculative_job_count_per_task\": 0,\n    },\n)\n\nprint(result_path)"
        }
    ],
    "metadata": {
        "is_solution_notebook": true,
        "tracto": {
            "is_solution_notebook": true,
            "metadata_version": "1",
            "notebook_cypress_id": "d546b0e4-8b15-4b36-accc-f4c8c5cf64dc"
        }
    },
    "nbformat": 4,
    "nbformat_minor": 5
}