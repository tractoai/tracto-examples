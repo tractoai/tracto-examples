{
    "cells": [
        {
            "cell_type": "markdown",
            "id": "9a84fe12-ab45-46f4-9599-8b6138e6dfc1",
            "metadata": {
                "cell_id": "9a84fe12-ab45-46f4-9599-8b6138e6dfc1",
                "tracto": {
                    "metadata_version": "1",
                    "view_cell_type": "MD",
                    "view_source": "Data from [data.cityofnewyork.us](https://data.cityofnewyork.us/Environment/2018-Central-Park-Squirrel-Census-Hectare-Data/ej9h-v6g2/about_data)"
                }
            },
            "source": "Data from [data.cityofnewyork.us](https://data.cityofnewyork.us/Environment/2018-Central-Park-Squirrel-Census-Hectare-Data/ej9h-v6g2/about_data)"
        },
        {
            "cell_type": "code",
            "execution_count": 1,
            "id": "e195593f-9a32-4ed5-9df8-0418558fc0e6",
            "metadata": {
                "cell_id": "e195593f-9a32-4ed5-9df8-0418558fc0e6",
                "tracto": {
                    "metadata_version": "1",
                    "view_cell_type": "CODE",
                    "view_source": "import requests \nimport uuid "
                }
            },
            "outputs": [],
            "source": "import requests \nimport uuid "
        },
        {
            "cell_type": "code",
            "execution_count": 2,
            "id": "6689dabb-8a56-4031-8a55-3f2cb29299ce",
            "metadata": {
                "cell_id": "6689dabb-8a56-4031-8a55-3f2cb29299ce",
                "tracto": {
                    "metadata_version": "1",
                    "view_cell_type": "CODE",
                    "view_source": "response = requests.get(\"https://data.cityofnewyork.us/api/views/ej9h-v6g2/rows.csv?fourfour=ej9h-v6g2&cacheBust=1681846116&date=20240905&accessType=DOWNLOAD\")\nprint(response.status_code)"
                }
            },
            "outputs": [
                {
                    "name": "stdout",
                    "output_type": "stream",
                    "text": "200\n"
                }
            ],
            "source": "response = requests.get(\"https://data.cityofnewyork.us/api/views/ej9h-v6g2/rows.csv?fourfour=ej9h-v6g2&cacheBust=1681846116&date=20240905&accessType=DOWNLOAD\")\nprint(response.status_code)"
        },
        {
            "cell_type": "code",
            "execution_count": 3,
            "id": "9b22287d-c49e-4d5c-8fa4-c4b9a97b6076",
            "metadata": {
                "cell_id": "9b22287d-c49e-4d5c-8fa4-c4b9a97b6076",
                "tracto": {
                    "metadata_version": "1",
                    "view_cell_type": "CODE",
                    "view_source": "from yt import wrapper as yt\nfrom yt import type_info"
                }
            },
            "outputs": [],
            "source": "from yt import wrapper as yt\nfrom yt import type_info"
        },
        {
            "cell_type": "code",
            "execution_count": 4,
            "id": "e230f41d-968d-4ea7-951e-666c886e1bfb",
            "metadata": {
                "cell_id": "e230f41d-968d-4ea7-951e-666c886e1bfb",
                "tracto": {
                    "metadata_version": "1",
                    "view_cell_type": "CODE",
                    "view_source": "working_dir = f\"//tmp/examples/upload-squirrel-hectare-data_{uuid.uuid4()}\"\nyt.create(\"map_node\", working_dir, recursive=True)\nprint(working_dir)"
                }
            },
            "outputs": [
                {
                    "name": "stdout",
                    "output_type": "stream",
                    "text": "//tmp/examples/upload-squirrel-hectare-data_c19fbe86-ed0f-4146-9c72-9ff7a004a310\n"
                }
            ],
            "source": "working_dir = f\"//tmp/examples/upload-squirrel-hectare-data_{uuid.uuid4()}\"\nyt.create(\"map_node\", working_dir, recursive=True)\nprint(working_dir)"
        },
        {
            "cell_type": "code",
            "execution_count": 5,
            "id": "ce2ec6b9-5f0f-4118-abd0-2920b1f51fbd",
            "metadata": {
                "cell_id": "ce2ec6b9-5f0f-4118-abd0-2920b1f51fbd",
                "tracto": {
                    "metadata_version": "1",
                    "view_cell_type": "CODE",
                    "view_source": "import io\nimport csv "
                }
            },
            "outputs": [],
            "source": "import io\nimport csv "
        },
        {
            "cell_type": "code",
            "execution_count": 6,
            "id": "933c894b-3063-4826-b4ee-abe80d6df60e",
            "metadata": {
                "cell_id": "933c894b-3063-4826-b4ee-abe80d6df60e",
                "tracto": {
                    "metadata_version": "1",
                    "view_cell_type": "CODE",
                    "view_source": "def string_to_int(value):\n    if value is None:\n        return None\n    return int(value)"
                }
            },
            "outputs": [],
            "source": "def string_to_int(value):\n    if value is None:\n        return None\n    return int(value)"
        },
        {
            "cell_type": "code",
            "execution_count": 7,
            "id": "e4cae8ea-a68a-4a9e-94c1-b00ba5a35567",
            "metadata": {
                "cell_id": "e4cae8ea-a68a-4a9e-94c1-b00ba5a35567",
                "tracto": {
                    "metadata_version": "1",
                    "view_cell_type": "CODE",
                    "view_source": "content = io.StringIO(response.text)\ncsv_reader = csv.DictReader(content)"
                }
            },
            "outputs": [],
            "source": "content = io.StringIO(response.text)\ncsv_reader = csv.DictReader(content)"
        },
        {
            "cell_type": "code",
            "execution_count": 8,
            "id": "e7b1d040-0ca5-4818-bfd9-f8be2aeb36b1",
            "metadata": {
                "cell_id": "e7b1d040-0ca5-4818-bfd9-f8be2aeb36b1",
                "tracto": {
                    "metadata_version": "1",
                    "view_cell_type": "CODE",
                    "view_source": "data = list(csv_reader)\nfor record in data:\n    for key, value in record.items():\n        if value == \"\":\n            record[key] = None\n    for key in [\"Number of sighters\", \"Total Time of Sighting\", \"Number of Squirrels\"]:\n        record[key] = string_to_int(record[key])\nfor line in data[:10]:\n    print(line)"
                }
            },
            "outputs": [
                {
                    "name": "stdout",
                    "output_type": "stream",
                    "text": "{'Hectare': '01A', 'Shift': 'AM', 'Date': '10072018', 'Anonymized Sighter': '110', 'Sighter Observed Weather Data': '70\u00ba F, Foggy', 'Litter': 'Some', 'Litter Notes': None, 'Other Animal Sightings': 'Humans, Pigeons', 'Hectare Conditions': 'Busy', 'Hectare Conditions Notes': None, 'Number of sighters': 1, 'Number of Squirrels': 4, 'Total Time of Sighting': 22}\n{'Hectare': '01A', 'Shift': 'PM', 'Date': '10142018', 'Anonymized Sighter': '177', 'Sighter Observed Weather Data': '54\u00ba F, overcast', 'Litter': 'Abundant', 'Litter Notes': None, 'Other Animal Sightings': 'Humans, Pigeons', 'Hectare Conditions': 'Busy', 'Hectare Conditions Notes': None, 'Number of sighters': 1, 'Number of Squirrels': 7, 'Total Time of Sighting': 26}\n{'Hectare': '01B', 'Shift': 'AM', 'Date': '10122018', 'Anonymized Sighter': '11', 'Sighter Observed Weather Data': '60\u00ba F, sunny', 'Litter': 'Some', 'Litter Notes': None, 'Other Animal Sightings': 'Humans, Dogs, Pigeons, Horses', 'Hectare Conditions': 'Busy', 'Hectare Conditions Notes': None, 'Number of sighters': 1, 'Number of Squirrels': 17, 'Total Time of Sighting': 23}\n{'Hectare': '01B', 'Shift': 'PM', 'Date': '10192018', 'Anonymized Sighter': '109', 'Sighter Observed Weather Data': '59.8\u00ba F, Sun, Cool', 'Litter': 'Some', 'Litter Notes': None, 'Other Animal Sightings': 'Humans, Dogs, Pigeons, Sparrow, Blue jay', 'Hectare Conditions': 'Busy', 'Hectare Conditions Notes': None, 'Number of sighters': 1, 'Number of Squirrels': 10, 'Total Time of Sighting': 35}\n{'Hectare': '01C', 'Shift': 'PM', 'Date': '10132018', 'Anonymized Sighter': '241', 'Sighter Observed Weather Data': '55\u00b0 F, Partly Cloudy', 'Litter': 'None', 'Litter Notes': None, 'Other Animal Sightings': 'Humans, Dogs, Pigeons, Birds', 'Hectare Conditions': 'Busy', 'Hectare Conditions Notes': None, 'Number of sighters': 1, 'Number of Squirrels': 10, 'Total Time of Sighting': 25}\n{'Hectare': '01D', 'Shift': 'AM', 'Date': '10062018', 'Anonymized Sighter': '250', 'Sighter Observed Weather Data': '66\u00ba F, cloudy, light drizzle', 'Litter': 'Some', 'Litter Notes': None, 'Other Animal Sightings': 'Humans', 'Hectare Conditions': 'Calm', 'Hectare Conditions Notes': None, 'Number of sighters': 1, 'Number of Squirrels': 9, 'Total Time of Sighting': 35}\n{'Hectare': '01E', 'Shift': 'AM', 'Date': '10062018', 'Anonymized Sighter': '218', 'Sighter Observed Weather Data': '65\u00ba F approx, misty', 'Litter': 'Some', 'Litter Notes': None, 'Other Animal Sightings': 'Humans', 'Hectare Conditions': 'Calm', 'Hectare Conditions Notes': None, 'Number of sighters': 1, 'Number of Squirrels': 5, 'Total Time of Sighting': 26}\n{'Hectare': '01F', 'Shift': 'AM', 'Date': '10102018', 'Anonymized Sighter': '123', 'Sighter Observed Weather Data': '74\u00ba F, Partly cloudy, no wind', 'Litter': 'None', 'Litter Notes': None, 'Other Animal Sightings': 'Humans, Dogs, Ducks', 'Hectare Conditions': 'Calm', 'Hectare Conditions Notes': None, 'Number of sighters': 1, 'Number of Squirrels': 5, 'Total Time of Sighting': 20}\n{'Hectare': '01F', 'Shift': 'PM', 'Date': '10192018', 'Anonymized Sighter': '241', 'Sighter Observed Weather Data': '59\u00ba F, Clear', 'Litter': 'None', 'Litter Notes': None, 'Other Animal Sightings': 'Humans, Dogs, Pigeons, Birds', 'Hectare Conditions': 'Busy', 'Hectare Conditions Notes': None, 'Number of sighters': 1, 'Number of Squirrels': 3, 'Total Time of Sighting': 24}\n{'Hectare': '01G', 'Shift': 'PM', 'Date': '10102018', 'Anonymized Sighter': '151', 'Sighter Observed Weather Data': '77\u00ba F, Warm, sunny, humid', 'Litter': 'None', 'Litter Notes': None, 'Other Animal Sightings': 'Humans, Dogs, Cats, Raccoons', 'Hectare Conditions': 'Busy', 'Hectare Conditions Notes': None, 'Number of sighters': 1, 'Number of Squirrels': 3, 'Total Time of Sighting': 28}\n"
                }
            ],
            "source": "data = list(csv_reader)\nfor record in data:\n    for key, value in record.items():\n        if value == \"\":\n            record[key] = None\n    for key in [\"Number of sighters\", \"Total Time of Sighting\", \"Number of Squirrels\"]:\n        record[key] = string_to_int(record[key])\nfor line in data[:10]:\n    print(line)"
        },
        {
            "cell_type": "code",
            "execution_count": 9,
            "id": "9f5a408d-ddd6-4b5d-a03c-8ff14bd1c364",
            "metadata": {
                "cell_id": "9f5a408d-ddd6-4b5d-a03c-8ff14bd1c364",
                "tracto": {
                    "metadata_version": "1",
                    "view_cell_type": "CODE",
                    "view_source": "schema = yt.schema.TableSchema()\nschema.add_column(\"hectare\", type_info.String)\nschema.add_column(\"shift\", type_info.String)\nschema.add_column(\"date\", type_info.String)\nschema.add_column(\"sighter\", type_info.String)\nschema.add_column(\"sighter_observed_weather_data\", type_info.Optional[type_info.String])\nschema.add_column(\"litter\", type_info.Optional[type_info.String])\nschema.add_column(\"litter_notes\", type_info.Optional[type_info.String])\nschema.add_column(\"other_animals_sightings\", type_info.Optional[type_info.String])\nschema.add_column(\"hectare_conditions\", type_info.Optional[type_info.String])\nschema.add_column(\"hectare_conditions_notes\", type_info.Optional[type_info.String])\nschema.add_column(\"number_of_sighters\", type_info.Uint16)\nschema.add_column(\"number_of_squirrels\", type_info.Uint16)\nschema.add_column(\"total_time_of_sighting\", type_info.Optional[type_info.Uint16])"
                }
            },
            "outputs": [
                {
                    "data": {
                        "text/plain": "TableSchema({'value': [{'name': 'hectare', 'type_v3': 'string'}, {'name': 'shift', 'type_v3': 'string'}, {'name': 'date', 'type_v3': 'string'}, {'name': 'sighter', 'type_v3': 'string'}, {'name': 'sighter_observed_weather_data', 'type_v3': {'type_name': 'optional', 'item': 'string'}}, {'name': 'litter', 'type_v3': {'type_name': 'optional', 'item': 'string'}}, {'name': 'litter_notes', 'type_v3': {'type_name': 'optional', 'item': 'string'}}, {'name': 'other_animals_sightings', 'type_v3': {'type_name': 'optional', 'item': 'string'}}, {'name': 'hectare_conditions', 'type_v3': {'type_name': 'optional', 'item': 'string'}}, {'name': 'hectare_conditions_notes', 'type_v3': {'type_name': 'optional', 'item': 'string'}}, {'name': 'number_of_sighters', 'type_v3': 'uint16'}, {'name': 'number_of_squirrels', 'type_v3': 'uint16'}, {'name': 'total_time_of_sighting', 'type_v3': {'type_name': 'optional', 'item': 'uint16'}}], 'attributes': {'strict': True, 'unique_keys': False}})"
                    },
                    "execution_count": 9,
                    "metadata": {},
                    "output_type": "execute_result"
                }
            ],
            "source": "schema = yt.schema.TableSchema()\nschema.add_column(\"hectare\", type_info.String)\nschema.add_column(\"shift\", type_info.String)\nschema.add_column(\"date\", type_info.String)\nschema.add_column(\"sighter\", type_info.String)\nschema.add_column(\"sighter_observed_weather_data\", type_info.Optional[type_info.String])\nschema.add_column(\"litter\", type_info.Optional[type_info.String])\nschema.add_column(\"litter_notes\", type_info.Optional[type_info.String])\nschema.add_column(\"other_animals_sightings\", type_info.Optional[type_info.String])\nschema.add_column(\"hectare_conditions\", type_info.Optional[type_info.String])\nschema.add_column(\"hectare_conditions_notes\", type_info.Optional[type_info.String])\nschema.add_column(\"number_of_sighters\", type_info.Uint16)\nschema.add_column(\"number_of_squirrels\", type_info.Uint16)\nschema.add_column(\"total_time_of_sighting\", type_info.Optional[type_info.Uint16])"
        },
        {
            "cell_type": "code",
            "execution_count": 10,
            "id": "d6689156-473c-4460-966c-9c22d25602cd",
            "metadata": {
                "cell_id": "d6689156-473c-4460-966c-9c22d25602cd",
                "tracto": {
                    "metadata_version": "1",
                    "view_cell_type": "CODE",
                    "view_source": "csv_columns = ['Hectare', 'Shift', 'Date', 'Anonymized Sighter', 'Sighter Observed Weather Data', 'Litter', 'Litter Notes', 'Other Animal Sightings', 'Hectare Conditions', 'Hectare Conditions Notes', 'Number of sighters', 'Number of Squirrels', 'Total Time of Sighting']\nyt_columns = [col.name for col in schema.columns]\n\nassert len(csv_columns) == len(yt_columns)\n\nyt_data = []\nfor record in data:\n    yt_record = {}\n    for csv_key, yt_key in zip(csv_columns, yt_columns):\n        yt_record[yt_key] = record[csv_key]\n    yt_data.append(yt_record)\n\nfor record in yt_data[:10]:\n    print(record)"
                }
            },
            "outputs": [
                {
                    "name": "stdout",
                    "output_type": "stream",
                    "text": "{'hectare': '01A', 'shift': 'AM', 'date': '10072018', 'sighter': '110', 'sighter_observed_weather_data': '70\u00ba F, Foggy', 'litter': 'Some', 'litter_notes': None, 'other_animals_sightings': 'Humans, Pigeons', 'hectare_conditions': 'Busy', 'hectare_conditions_notes': None, 'number_of_sighters': 1, 'number_of_squirrels': 4, 'total_time_of_sighting': 22}\n{'hectare': '01A', 'shift': 'PM', 'date': '10142018', 'sighter': '177', 'sighter_observed_weather_data': '54\u00ba F, overcast', 'litter': 'Abundant', 'litter_notes': None, 'other_animals_sightings': 'Humans, Pigeons', 'hectare_conditions': 'Busy', 'hectare_conditions_notes': None, 'number_of_sighters': 1, 'number_of_squirrels': 7, 'total_time_of_sighting': 26}\n{'hectare': '01B', 'shift': 'AM', 'date': '10122018', 'sighter': '11', 'sighter_observed_weather_data': '60\u00ba F, sunny', 'litter': 'Some', 'litter_notes': None, 'other_animals_sightings': 'Humans, Dogs, Pigeons, Horses', 'hectare_conditions': 'Busy', 'hectare_conditions_notes': None, 'number_of_sighters': 1, 'number_of_squirrels': 17, 'total_time_of_sighting': 23}\n{'hectare': '01B', 'shift': 'PM', 'date': '10192018', 'sighter': '109', 'sighter_observed_weather_data': '59.8\u00ba F, Sun, Cool', 'litter': 'Some', 'litter_notes': None, 'other_animals_sightings': 'Humans, Dogs, Pigeons, Sparrow, Blue jay', 'hectare_conditions': 'Busy', 'hectare_conditions_notes': None, 'number_of_sighters': 1, 'number_of_squirrels': 10, 'total_time_of_sighting': 35}\n{'hectare': '01C', 'shift': 'PM', 'date': '10132018', 'sighter': '241', 'sighter_observed_weather_data': '55\u00b0 F, Partly Cloudy', 'litter': 'None', 'litter_notes': None, 'other_animals_sightings': 'Humans, Dogs, Pigeons, Birds', 'hectare_conditions': 'Busy', 'hectare_conditions_notes': None, 'number_of_sighters': 1, 'number_of_squirrels': 10, 'total_time_of_sighting': 25}\n{'hectare': '01D', 'shift': 'AM', 'date': '10062018', 'sighter': '250', 'sighter_observed_weather_data': '66\u00ba F, cloudy, light drizzle', 'litter': 'Some', 'litter_notes': None, 'other_animals_sightings': 'Humans', 'hectare_conditions': 'Calm', 'hectare_conditions_notes': None, 'number_of_sighters': 1, 'number_of_squirrels': 9, 'total_time_of_sighting': 35}\n{'hectare': '01E', 'shift': 'AM', 'date': '10062018', 'sighter': '218', 'sighter_observed_weather_data': '65\u00ba F approx, misty', 'litter': 'Some', 'litter_notes': None, 'other_animals_sightings': 'Humans', 'hectare_conditions': 'Calm', 'hectare_conditions_notes': None, 'number_of_sighters': 1, 'number_of_squirrels': 5, 'total_time_of_sighting': 26}\n{'hectare': '01F', 'shift': 'AM', 'date': '10102018', 'sighter': '123', 'sighter_observed_weather_data': '74\u00ba F, Partly cloudy, no wind', 'litter': 'None', 'litter_notes': None, 'other_animals_sightings': 'Humans, Dogs, Ducks', 'hectare_conditions': 'Calm', 'hectare_conditions_notes': None, 'number_of_sighters': 1, 'number_of_squirrels': 5, 'total_time_of_sighting': 20}\n{'hectare': '01F', 'shift': 'PM', 'date': '10192018', 'sighter': '241', 'sighter_observed_weather_data': '59\u00ba F, Clear', 'litter': 'None', 'litter_notes': None, 'other_animals_sightings': 'Humans, Dogs, Pigeons, Birds', 'hectare_conditions': 'Busy', 'hectare_conditions_notes': None, 'number_of_sighters': 1, 'number_of_squirrels': 3, 'total_time_of_sighting': 24}\n{'hectare': '01G', 'shift': 'PM', 'date': '10102018', 'sighter': '151', 'sighter_observed_weather_data': '77\u00ba F, Warm, sunny, humid', 'litter': 'None', 'litter_notes': None, 'other_animals_sightings': 'Humans, Dogs, Cats, Raccoons', 'hectare_conditions': 'Busy', 'hectare_conditions_notes': None, 'number_of_sighters': 1, 'number_of_squirrels': 3, 'total_time_of_sighting': 28}\n"
                }
            ],
            "source": "csv_columns = ['Hectare', 'Shift', 'Date', 'Anonymized Sighter', 'Sighter Observed Weather Data', 'Litter', 'Litter Notes', 'Other Animal Sightings', 'Hectare Conditions', 'Hectare Conditions Notes', 'Number of sighters', 'Number of Squirrels', 'Total Time of Sighting']\nyt_columns = [col.name for col in schema.columns]\n\nassert len(csv_columns) == len(yt_columns)\n\nyt_data = []\nfor record in data:\n    yt_record = {}\n    for csv_key, yt_key in zip(csv_columns, yt_columns):\n        yt_record[yt_key] = record[csv_key]\n    yt_data.append(yt_record)\n\nfor record in yt_data[:10]:\n    print(record)"
        },
        {
            "cell_type": "code",
            "execution_count": 11,
            "id": "554c2242-e919-452b-bfe3-a71cb649205f",
            "metadata": {
                "cell_id": "554c2242-e919-452b-bfe3-a71cb649205f",
                "tracto": {
                    "metadata_version": "1",
                    "view_cell_type": "CODE",
                    "view_source": "table_path = f\"{working_dir}/squirrels-hectare-data\"\nprint(table_path)\nyt.create(\"table\", table_path, force=True, attributes={\"schema\": schema.to_yson_type()})"
                }
            },
            "outputs": [
                {
                    "name": "stdout",
                    "output_type": "stream",
                    "text": "//tmp/examples/upload-squirrel-hectare-data_c19fbe86-ed0f-4146-9c72-9ff7a004a310/squirrels-hectare-data\n"
                },
                {
                    "data": {
                        "text/plain": "'307e-f925-13440191-706aeb65'"
                    },
                    "execution_count": 11,
                    "metadata": {},
                    "output_type": "execute_result"
                }
            ],
            "source": "table_path = f\"{working_dir}/squirrels-hectare-data\"\nprint(table_path)\nyt.create(\"table\", table_path, force=True, attributes={\"schema\": schema.to_yson_type()})"
        },
        {
            "cell_type": "code",
            "execution_count": 12,
            "id": "742e2853-fd99-4a4c-9385-4253fd2043ea",
            "metadata": {
                "cell_id": "742e2853-fd99-4a4c-9385-4253fd2043ea",
                "tracto": {
                    "metadata_version": "1",
                    "view_cell_type": "CODE",
                    "view_source": "yt.write_table(table_path, yt_data)\nprint(table_path)"
                }
            },
            "outputs": [
                {
                    "name": "stdout",
                    "output_type": "stream",
                    "text": "//tmp/examples/upload-squirrel-hectare-data_c19fbe86-ed0f-4146-9c72-9ff7a004a310/squirrels-hectare-data\n"
                }
            ],
            "source": "yt.write_table(table_path, yt_data)\nprint(table_path)"
        }
    ],
    "metadata": {
        "kernelspec": {
            "display_name": "chiffa_solutions",
            "name": "chiffa_solutions"
        },
        "tracto": {
            "is_solution_notebook": true,
            "metadata_version": "1",
            "notebook_cypress_id": "1df8e6db-d11d-4df2-bee5-59ee6f8001b7"
        },
        "is_solution_notebook": true
    },
    "nbformat": 4,
    "nbformat_minor": 5
}