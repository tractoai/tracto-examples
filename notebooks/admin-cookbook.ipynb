{
    "cells": [
        {
            "cell_type": "markdown",
            "id": "0a45ef7f",
            "metadata": {
                "cell_id": "76674a6c-51cd-4b66-9a9c-f6ae5c6060d7"
            },
            "source": "## Tracto admin cookbook\n\nWelcome to the Tracto Administration Cookbook.\n\nThis notebook is designed as a guide for administrators. It includes practical examples and solutions for managing and maintaining a cluster. Each section provides step-by-step instructions for typical administrative tasks."
        },
        {
            "cell_type": "markdown",
            "id": "834ac57d",
            "metadata": {
                "cell_id": "9ab293af-f19d-4cdb-8040-3ae0076716ee"
            },
            "source": "### Create new user"
        },
        {
            "cell_type": "code",
            "execution_count": 2,
            "id": "c4b7106d",
            "metadata": {
                "cell_id": "fce58c4c-02cd-4f1f-bb10-4be642e769ab"
            },
            "outputs": [],
            "source": "import uuid\n\nuser_name = f\"test_user_to_be_deleted_{uuid.uuid4()}\"\n\ncreate_user_command = \"yt create user --attr '{name=%s; acl=[{action=allow; subjects=[universe-admins]; permissions=[write;administer;remove]}]}'\" % user_name\n\n!{create_user_command}"
        },
        {
            "cell_type": "markdown",
            "id": "56ed4be1",
            "metadata": {
                "cell_id": "d9cb674b-15de-4b3d-b1c1-2f42d7e583f6"
            },
            "source": "Set password."
        },
        {
            "cell_type": "code",
            "execution_count": 4,
            "id": "c80333a7",
            "metadata": {
                "cell_id": "eb500bb3-e383-4e1b-9610-2be387fb6677"
            },
            "outputs": [],
            "source": "user_password = f\"some_big_and_secure_password_{uuid.uuid4}\"\nset_password_command = \"yt set-user-password %s --new-password %s\" % (user_name, user_password)\n\n!{set_password_command}"
        },
        {
            "cell_type": "markdown",
            "id": "c1f421e6",
            "metadata": {
                "cell_id": "69d71d1e-d407-4ff6-bff9-85bde0b93ceb"
            },
            "source": "Create homedir"
        },
        {
            "cell_type": "code",
            "execution_count": 6,
            "id": "428d929b",
            "metadata": {
                "cell_id": "399b0241-620e-4e93-b7f0-96211e426e38"
            },
            "outputs": [],
            "source": "!yt create map_node //home/{user_name}"
        },
        {
            "cell_type": "markdown",
            "id": "08aef4d6",
            "metadata": {
                "cell_id": "d3af8277-78ef-474a-8f66-dac2c45e894b"
            },
            "source": "## Create group"
        },
        {
            "cell_type": "code",
            "execution_count": 8,
            "id": "b63e1964",
            "metadata": {
                "cell_id": "af3bcd1a-3dc3-410f-91ab-94d5e90a557b"
            },
            "outputs": [],
            "source": "group_name = f\"group_to_be_deleted_{uuid.uuid4()}\"\n\n!yt create group --attributes '{name=%s}' %s group_name"
        },
        {
            "cell_type": "markdown",
            "id": "bb2856ed",
            "metadata": {
                "cell_id": "9bef6681-56d2-4b82-a1e1-29d205a81255"
            },
            "source": "## Add user to group"
        },
        {
            "cell_type": "code",
            "execution_count": 10,
            "id": "ab799140",
            "metadata": {
                "cell_id": "13356085-c3c9-4ee4-9ec2-88b7cd741520"
            },
            "outputs": [],
            "source": "# set user and group\n\nuser_name = user_name\ngroup_name = group_name\n\n!yt add-member {my_user} {my_group}"
        }
    ],
    "metadata": {
        "is_solution_notebook": true,
        "notebook_cypress_id": "561468ba-1cd1-40f0-beaa-450b43bf6927"
    },
    "nbformat": 4,
    "nbformat_minor": 5
}