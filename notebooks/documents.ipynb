{
    "cells": [
        {
            "cell_type": "markdown",
            "id": "ea8a40c0-56da-42b4-a370-0cc429a187d5",
            "metadata": {
                "cell_id": "ea8a40c0-56da-42b4-a370-0cc429a187d5",
                "tracto": {
                    "metadata_version": "1",
                    "view_cell_type": "MD",
                    "view_source": "This notebook contains examples of how to work with [YSON documents](https://ytsaurus.tech/docs/en/user-guide/storage/yson-docs) on YTsaurus.\n\nNotebooks demonstrates how to:\n1. Create a document.\n2. Write content to a document.\n3. Partially update a document.\n4. Partially read a document.\n\n\nDocuments can be used to store small amount of data, for example:\n1. Common configuration for operation's runner.\n2. Debug metadata about ML training run.\n3. Settings for YT-based service (like CHYT).\n\nThe document behaves as a whole in terms of Cypress-specific features:\n* locks\n* owners\n* revisions\n* creation_time, modification_time and expiration_time\n* attributes\n* and other features\n\n### Limits\n\n* RPS should be < 1\n* Single document should be about some KB.\n* The total volume of all user documents must not exceed <10MB.\n\n"
                }
            },
            "source": "This notebook contains examples of how to work with [YSON documents](https://ytsaurus.tech/docs/en/user-guide/storage/yson-docs) on YTsaurus.\n\nNotebooks demonstrates how to:\n1. Create a document.\n2. Write content to a document.\n3. Partially update a document.\n4. Partially read a document.\n\n\nDocuments can be used to store small amount of data, for example:\n1. Common configuration for operation's runner.\n2. Debug metadata about ML training run.\n3. Settings for YT-based service (like CHYT).\n\nThe document behaves as a whole in terms of Cypress-specific features:\n* locks\n* owners\n* revisions\n* creation_time, modification_time and expiration_time\n* attributes\n* and other features\n\n### Limits\n\n* RPS should be < 1\n* Single document should be about some KB.\n* The total volume of all user documents must not exceed <10MB.\n\n"
        },
        {
            "cell_type": "code",
            "execution_count": 1,
            "id": "f75c7038-6387-4b38-a42b-f0fbdb71cb43",
            "metadata": {
                "cell_id": "f75c7038-6387-4b38-a42b-f0fbdb71cb43",
                "tracto": {
                    "metadata_version": "1",
                    "view_cell_type": "CODE",
                    "view_source": "from yt import wrapper as yt\nimport uuid"
                }
            },
            "outputs": [],
            "source": "from yt import wrapper as yt\nimport uuid"
        },
        {
            "cell_type": "markdown",
            "id": "6566c94f-04eb-4e62-a290-56fa89d8d563",
            "metadata": {
                "cell_id": "6566c94f-04eb-4e62-a290-56fa89d8d563",
                "tracto": {
                    "metadata_version": "1",
                    "view_cell_type": "MD",
                    "view_source": "## Create a base directory for examples"
                }
            },
            "source": "## Create a base directory for examples"
        },
        {
            "cell_type": "code",
            "execution_count": 3,
            "id": "24364b5e-c8ef-4806-89c9-14361ff6a827",
            "metadata": {
                "cell_id": "24364b5e-c8ef-4806-89c9-14361ff6a827",
                "tracto": {
                    "metadata_version": "1",
                    "view_cell_type": "CODE",
                    "view_source": "working_dir = f\"//tmp/examples/documents_{uuid.uuid4()}\"\nyt.create(\"map_node\", working_dir, recursive=True)\nprint(working_dir)"
                }
            },
            "outputs": [
                {
                    "name": "stdout",
                    "output_type": "stream",
                    "text": "//tmp/examples/documents_1510bde7-162f-483a-b902-b71011ff6848\n"
                }
            ],
            "source": "working_dir = f\"//tmp/examples/documents_{uuid.uuid4()}\"\nyt.create(\"map_node\", working_dir, recursive=True)\nprint(working_dir)"
        },
        {
            "cell_type": "markdown",
            "id": "cb8fb4af-1cf4-453b-8e04-5a2e84ea25bb",
            "metadata": {
                "cell_id": "cb8fb4af-1cf4-453b-8e04-5a2e84ea25bb",
                "tracto": {
                    "metadata_version": "1",
                    "view_cell_type": "MD",
                    "view_source": "## Example"
                }
            },
            "source": "## Example"
        },
        {
            "cell_type": "markdown",
            "id": "707cfd58-5a2e-4022-8631-8ae5dc84db41",
            "metadata": {
                "cell_id": "707cfd58-5a2e-4022-8631-8ae5dc84db41",
                "tracto": {
                    "metadata_version": "1",
                    "view_cell_type": "MD",
                    "view_source": "Let's create an empty document and wright some data."
                }
            },
            "source": "Let's create an empty document and wright some data."
        },
        {
            "cell_type": "code",
            "execution_count": 6,
            "id": "0185bac5-9801-4604-9595-979e7c474299",
            "metadata": {
                "cell_id": "0185bac5-9801-4604-9595-979e7c474299",
                "tracto": {
                    "metadata_version": "1",
                    "view_cell_type": "CODE",
                    "view_source": "document_path = f\"{working_dir}/document\"\nyt.create(\"document\", document_path)"
                }
            },
            "outputs": [
                {
                    "data": {
                        "text/plain": "'307d-dfa3a-134401a5-c1f925d7'"
                    },
                    "execution_count": 3,
                    "metadata": {},
                    "output_type": "execute_result"
                }
            ],
            "source": "document_path = f\"{working_dir}/document\"\nyt.create(\"document\", document_path)"
        },
        {
            "cell_type": "code",
            "execution_count": 7,
            "id": "b8426e77-6015-4124-8f2d-c9a050e852b0",
            "metadata": {
                "cell_id": "b8426e77-6015-4124-8f2d-c9a050e852b0",
                "tracto": {
                    "metadata_version": "1",
                    "view_cell_type": "CODE",
                    "view_source": "yt.set(document_path, {\"data\": {\"ytsaurus\": [\"master\", \"proxies\", \"scheduler\", \"exec nodes\", \"data nodes\"]}})\nyt.get(document_path)"
                }
            },
            "outputs": [
                {
                    "data": {
                        "text/plain": "{'data': {'ytsaurus': ['master', 'proxies', 'scheduler', 'exec nodes', 'data nodes']}}"
                    },
                    "execution_count": 4,
                    "metadata": {},
                    "output_type": "execute_result"
                }
            ],
            "source": "yt.set(document_path, {\"data\": {\"ytsaurus\": [\"master\", \"proxies\", \"scheduler\", \"exec nodes\", \"data nodes\"]}})\nyt.get(document_path)"
        },
        {
            "cell_type": "markdown",
            "id": "37cb1418-21b8-4fa3-81cd-b9aee433253e",
            "metadata": {
                "cell_id": "37cb1418-21b8-4fa3-81cd-b9aee433253e",
                "tracto": {
                    "metadata_version": "1",
                    "view_cell_type": "MD",
                    "view_source": "The document can be partially readed and updated."
                }
            },
            "source": "The document can be partially readed and updated."
        },
        {
            "cell_type": "code",
            "execution_count": 9,
            "id": "4df4e60e-a1a4-4a5b-9683-a91de8d7ad8e",
            "metadata": {
                "cell_id": "4df4e60e-a1a4-4a5b-9683-a91de8d7ad8e",
                "tracto": {
                    "metadata_version": "1",
                    "view_cell_type": "CODE",
                    "view_source": "yt.get(f\"{document_path}/data/ytsaurus\")"
                }
            },
            "outputs": [
                {
                    "data": {
                        "text/plain": "['master', 'proxies', 'scheduler', 'exec nodes', 'data nodes']"
                    },
                    "execution_count": 5,
                    "metadata": {},
                    "output_type": "execute_result"
                }
            ],
            "source": "yt.get(f\"{document_path}/data/ytsaurus\")"
        },
        {
            "cell_type": "code",
            "execution_count": 10,
            "id": "c665187a-d93f-4435-9352-6f349517559b",
            "metadata": {
                "cell_id": "c665187a-d93f-4435-9352-6f349517559b",
                "tracto": {
                    "metadata_version": "1",
                    "view_cell_type": "CODE",
                    "view_source": "yt.set(f\"{document_path}/object_class\", \"Safe\")\nyt.get(document_path)"
                }
            },
            "outputs": [
                {
                    "data": {
                        "text/plain": "{'data': {'ytsaurus': ['master', 'proxies', 'scheduler', 'exec nodes', 'data nodes']}, 'object_class': 'Safe'}"
                    },
                    "execution_count": 6,
                    "metadata": {},
                    "output_type": "execute_result"
                }
            ],
            "source": "yt.set(f\"{document_path}/object_class\", \"Safe\")\nyt.get(document_path)"
        },
        {
            "cell_type": "markdown",
            "id": "f9602876-7d5c-4ea2-9a6a-59ed7f4c2273",
            "metadata": {
                "cell_id": "f9602876-7d5c-4ea2-9a6a-59ed7f4c2273",
                "tracto": {
                    "metadata_version": "1",
                    "view_cell_type": "MD",
                    "view_source": "The document can also be completely rewritten."
                }
            },
            "source": "The document can also be completely rewritten."
        },
        {
            "cell_type": "code",
            "execution_count": 12,
            "id": "2b4857a6-99c7-4c52-8b80-03fbd36ec197",
            "metadata": {
                "cell_id": "2b4857a6-99c7-4c52-8b80-03fbd36ec197",
                "tracto": {
                    "metadata_version": "1",
                    "view_cell_type": "CODE",
                    "view_source": "yt.set(document_path, \"[DATA EXPUNGED]\")\nyt.get(document_path)"
                }
            },
            "outputs": [
                {
                    "data": {
                        "text/plain": "'[DATA EXPUNGED]'"
                    },
                    "execution_count": 7,
                    "metadata": {},
                    "output_type": "execute_result"
                }
            ],
            "source": "yt.set(document_path, \"[DATA EXPUNGED]\")\nyt.get(document_path)"
        }
    ],
    "metadata": {
        "kernelspec": {
            "display_name": "chiffa_solutions",
            "name": "chiffa_solutions"
        },
        "tracto": {
            "is_solution_notebook": true,
            "metadata_version": "1",
            "notebook_cypress_id": "8b45b8e7-274f-4ef6-97cd-15df6aab19a9"
        },
        "is_solution_notebook": true
    },
    "nbformat": 4,
    "nbformat_minor": 5
}