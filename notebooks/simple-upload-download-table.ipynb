{
    "cells": [
        {
            "cell_type": "markdown",
            "id": "d76e42d7-484f-4641-a042-fd82d34bc7e5",
            "metadata": {
                "cell_id": "d76e42d7-484f-4641-a042-fd82d34bc7e5",
                "tracto": {
                    "metadata_version": "1",
                    "view_cell_type": "MD",
                    "view_source": "# Upload and download YT tables"
                }
            },
            "source": "# Upload and download YT tables"
        },
        {
            "cell_type": "markdown",
            "id": "ab027739-02e2-4ff9-8b8f-69bb0d15aa0f",
            "metadata": {
                "cell_id": "ab027739-02e2-4ff9-8b8f-69bb0d15aa0f",
                "tracto": {
                    "metadata_version": "1",
                    "view_cell_type": "MD",
                    "view_source": "This notebook contains examples of how to download and upload [tables](https://ytsaurus.tech/docs/en/user-guide/storage/files) on YTsaurus.\n\n1. How to work with tables without schema.\n2. How to create a table with schema and upload data.\n3. How to work with structured tables and yt_dataclass objects.\n4. How to upload datetime objects to Datetime columns."
                }
            },
            "source": "This notebook contains examples of how to download and upload [tables](https://ytsaurus.tech/docs/en/user-guide/storage/files) on YTsaurus.\n\n1. How to work with tables without schema.\n2. How to create a table with schema and upload data.\n3. How to work with structured tables and yt_dataclass objects.\n4. How to upload datetime objects to Datetime columns."
        },
        {
            "cell_type": "code",
            "execution_count": 2,
            "id": "df91c9be-98e8-457c-b0b5-9a2e6934245a",
            "metadata": {
                "cell_id": "df91c9be-98e8-457c-b0b5-9a2e6934245a",
                "tracto": {
                    "metadata_version": "1",
                    "view_cell_type": "CODE",
                    "view_source": "from yt import wrapper as yt\nfrom yt import type_info"
                }
            },
            "outputs": [],
            "source": "from yt import wrapper as yt\nfrom yt import type_info"
        },
        {
            "cell_type": "code",
            "execution_count": 3,
            "id": "b5bfc42f-2c81-4014-9db1-65498805938a",
            "metadata": {
                "cell_id": "b5bfc42f-2c81-4014-9db1-65498805938a",
                "tracto": {
                    "metadata_version": "1",
                    "view_cell_type": "CODE",
                    "view_source": "from datetime import datetime, timedelta\nfrom dataclasses import asdict\nimport uuid\nimport time"
                }
            },
            "outputs": [],
            "source": "from datetime import datetime, timedelta\nfrom dataclasses import asdict\nimport uuid\nimport time"
        },
        {
            "cell_type": "markdown",
            "id": "d3628a01-6a3f-4a39-bc3b-df6f03e71980",
            "metadata": {
                "cell_id": "d3628a01-6a3f-4a39-bc3b-df6f03e71980",
                "tracto": {
                    "metadata_version": "1",
                    "view_cell_type": "MD",
                    "view_source": "## Create a base directory for examples"
                }
            },
            "source": "## Create a base directory for examples"
        },
        {
            "cell_type": "code",
            "execution_count": 5,
            "id": "e0ebafa7-68f6-462c-a220-3352f8ba142a",
            "metadata": {
                "cell_id": "e0ebafa7-68f6-462c-a220-3352f8ba142a",
                "tracto": {
                    "metadata_version": "1",
                    "view_cell_type": "CODE",
                    "view_source": "working_dir = f\"//tmp/examples/simple-upload-download-table_{uuid.uuid4()}\"\nyt.create(\"map_node\", working_dir, recursive=True)\nprint(working_dir)"
                }
            },
            "outputs": [
                {
                    "name": "stdout",
                    "output_type": "stream",
                    "text": "//tmp/examples/simple-upload-download-table_3de6a588-bffa-483d-bfc0-f4f748543739\n"
                }
            ],
            "source": "working_dir = f\"//tmp/examples/simple-upload-download-table_{uuid.uuid4()}\"\nyt.create(\"map_node\", working_dir, recursive=True)\nprint(working_dir)"
        },
        {
            "cell_type": "markdown",
            "id": "a605a806-4a2e-4d79-a002-f057a6e698e3",
            "metadata": {
                "cell_id": "a605a806-4a2e-4d79-a002-f057a6e698e3",
                "tracto": {
                    "metadata_version": "1",
                    "view_cell_type": "MD",
                    "view_source": "## Upload and download unstructured data\n\nThe easest way to upload data is using `write_table` method of ytClient. `write_table` creates a table without the [schema](https://ytsaurus.tech/docs/en/user-guide/storage/static-schema). `read_table` automatically converts data from a table to primitive python types.\n\nThis method is easy to implement, but does not protect against some typical problems:\n1. Typos in column names in different records.\n2. Unexpected type conversions.\n3. Large tables without schemas use resources inefficiently."
                }
            },
            "source": "## Upload and download unstructured data\n\nThe easest way to upload data is using `write_table` method of ytClient. `write_table` creates a table without the [schema](https://ytsaurus.tech/docs/en/user-guide/storage/static-schema). `read_table` automatically converts data from a table to primitive python types.\n\nThis method is easy to implement, but does not protect against some typical problems:\n1. Typos in column names in different records.\n2. Unexpected type conversions.\n3. Large tables without schemas use resources inefficiently."
        },
        {
            "cell_type": "code",
            "execution_count": 7,
            "id": "6297a414-a1ca-4a7f-a568-4b60b420c231",
            "metadata": {
                "cell_id": "6297a414-a1ca-4a7f-a568-4b60b420c231",
                "tracto": {
                    "metadata_version": "1",
                    "view_cell_type": "CODE",
                    "view_source": "records_unstractued = [\n    { \n        \"field_string\": f\"string_{i}\",\n        \"field_float\": i / 10,\n        \"field_date\": (datetime.now() - timedelta(days=i)).isoformat(),\n        \"field_uint32\": i,\n    }\n    for i in range(10)\n]\nprint(records_unstractued)"
                }
            },
            "outputs": [
                {
                    "name": "stdout",
                    "output_type": "stream",
                    "text": "[{'field_string': 'string_0', 'field_float': 0.0, 'field_date': '2025-01-21T19:36:55.206925', 'field_uint32': 0}, {'field_string': 'string_1', 'field_float': 0.1, 'field_date': '2025-01-20T19:36:55.206941', 'field_uint32': 1}, {'field_string': 'string_2', 'field_float': 0.2, 'field_date': '2025-01-19T19:36:55.206944', 'field_uint32': 2}, {'field_string': 'string_3', 'field_float': 0.3, 'field_date': '2025-01-18T19:36:55.206950', 'field_uint32': 3}, {'field_string': 'string_4', 'field_float': 0.4, 'field_date': '2025-01-17T19:36:55.206952', 'field_uint32': 4}, {'field_string': 'string_5', 'field_float': 0.5, 'field_date': '2025-01-16T19:36:55.206955', 'field_uint32': 5}, {'field_string': 'string_6', 'field_float': 0.6, 'field_date': '2025-01-15T19:36:55.206957', 'field_uint32': 6}, {'field_string': 'string_7', 'field_float': 0.7, 'field_date': '2025-01-14T19:36:55.206960', 'field_uint32': 7}, {'field_string': 'string_8', 'field_float': 0.8, 'field_date': '2025-01-13T19:36:55.206964', 'field_uint32': 8}, {'field_string': 'string_9', 'field_float': 0.9, 'field_date': '2025-01-12T19:36:55.206966', 'field_uint32': 9}]\n"
                }
            ],
            "source": "records_unstractued = [\n    { \n        \"field_string\": f\"string_{i}\",\n        \"field_float\": i / 10,\n        \"field_date\": (datetime.now() - timedelta(days=i)).isoformat(),\n        \"field_uint32\": i,\n    }\n    for i in range(10)\n]\nprint(records_unstractued)"
        },
        {
            "cell_type": "code",
            "execution_count": 8,
            "id": "c37f8876-122c-4a03-8764-bb011ed61ef4",
            "metadata": {
                "cell_id": "c37f8876-122c-4a03-8764-bb011ed61ef4",
                "tracto": {
                    "metadata_version": "1",
                    "view_cell_type": "CODE",
                    "view_source": "unstructured_table_path = f\"{working_dir}/unstructured_table\"\nyt.write_table(unstructured_table_path, records_unstractued)"
                }
            },
            "outputs": [],
            "source": "unstructured_table_path = f\"{working_dir}/unstructured_table\"\nyt.write_table(unstructured_table_path, records_unstractued)"
        },
        {
            "cell_type": "code",
            "execution_count": 9,
            "id": "efb3d89a-0df0-4d0e-97f8-0e679e941cfd",
            "metadata": {
                "cell_id": "efb3d89a-0df0-4d0e-97f8-0e679e941cfd",
                "tracto": {
                    "metadata_version": "1",
                    "view_cell_type": "CODE",
                    "view_source": "for record in yt.read_table(unstructured_table_path):\n    print(record)"
                }
            },
            "outputs": [
                {
                    "name": "stdout",
                    "output_type": "stream",
                    "text": "{'field_string': 'string_0', 'field_float': 0.0, 'field_date': '2025-01-21T19:36:55.206925', 'field_uint32': 0}\n{'field_string': 'string_1', 'field_float': 0.1, 'field_date': '2025-01-20T19:36:55.206941', 'field_uint32': 1}\n{'field_string': 'string_2', 'field_float': 0.2, 'field_date': '2025-01-19T19:36:55.206944', 'field_uint32': 2}\n{'field_string': 'string_3', 'field_float': 0.3, 'field_date': '2025-01-18T19:36:55.206950', 'field_uint32': 3}\n{'field_string': 'string_4', 'field_float': 0.4, 'field_date': '2025-01-17T19:36:55.206952', 'field_uint32': 4}\n{'field_string': 'string_5', 'field_float': 0.5, 'field_date': '2025-01-16T19:36:55.206955', 'field_uint32': 5}\n{'field_string': 'string_6', 'field_float': 0.6, 'field_date': '2025-01-15T19:36:55.206957', 'field_uint32': 6}\n{'field_string': 'string_7', 'field_float': 0.7, 'field_date': '2025-01-14T19:36:55.206960', 'field_uint32': 7}\n{'field_string': 'string_8', 'field_float': 0.8, 'field_date': '2025-01-13T19:36:55.206964', 'field_uint32': 8}\n{'field_string': 'string_9', 'field_float': 0.9, 'field_date': '2025-01-12T19:36:55.206966', 'field_uint32': 9}\n"
                }
            ],
            "source": "for record in yt.read_table(unstructured_table_path):\n    print(record)"
        },
        {
            "cell_type": "markdown",
            "id": "769cf5b6-74c6-4f7f-a632-1fd6cba25e54",
            "metadata": {
                "cell_id": "769cf5b6-74c6-4f7f-a632-1fd6cba25e54",
                "tracto": {
                    "metadata_version": "1",
                    "view_cell_type": "MD",
                    "view_source": "## Create schema and upload unstructured data\n\nIn order to use schematized tables we can create a table with the strong [schema](https://ytsaurus.tech/docs/en/user-guide/storage/static-schema) and upload unstructured data.\nSchematization allows efficient use of resources and defines the table structure and column types."
                }
            },
            "source": "## Create schema and upload unstructured data\n\nIn order to use schematized tables we can create a table with the strong [schema](https://ytsaurus.tech/docs/en/user-guide/storage/static-schema) and upload unstructured data.\nSchematization allows efficient use of resources and defines the table structure and column types."
        },
        {
            "cell_type": "code",
            "execution_count": 11,
            "id": "19157dff-2fd5-4321-a72a-e84b877b917f",
            "metadata": {
                "cell_id": "19157dff-2fd5-4321-a72a-e84b877b917f",
                "tracto": {
                    "metadata_version": "1",
                    "view_cell_type": "CODE",
                    "view_source": "schema = yt.schema.TableSchema()\nschema.add_column(\"field_string\", type_info.String)\nschema.add_column(\"field_float\", type_info.Float)\nschema.add_column(\"field_date\", type_info.Datetime)\nschema.add_column(\"field_uint32\", type_info.Uint32)"
                }
            },
            "outputs": [
                {
                    "data": {
                        "text/plain": "TableSchema({'value': [{'name': 'field_string', 'type_v3': 'string'}, {'name': 'field_float', 'type_v3': 'float'}, {'name': 'field_date', 'type_v3': 'datetime'}, {'name': 'field_uint32', 'type_v3': 'uint32'}], 'attributes': {'strict': True, 'unique_keys': False}})"
                    },
                    "execution_count": 7,
                    "metadata": {},
                    "output_type": "execute_result"
                }
            ],
            "source": "schema = yt.schema.TableSchema()\nschema.add_column(\"field_string\", type_info.String)\nschema.add_column(\"field_float\", type_info.Float)\nschema.add_column(\"field_date\", type_info.Datetime)\nschema.add_column(\"field_uint32\", type_info.Uint32)"
        },
        {
            "cell_type": "markdown",
            "id": "34e70190-cce2-47b7-ae03-f3c8734163c3",
            "metadata": {
                "cell_id": "34e70190-cce2-47b7-ae03-f3c8734163c3",
                "tracto": {
                    "metadata_version": "1",
                    "view_cell_type": "MD",
                    "view_source": "YTsaurus client doesn't have standard convertion mechanisms for datetime.datetime objects. Datetime columns expect uint32 values, so we have to convert datetime.datetime objects to python's int."
                }
            },
            "source": "YTsaurus client doesn't have standard convertion mechanisms for datetime.datetime objects. Datetime columns expect uint32 values, so we have to convert datetime.datetime objects to python's int."
        },
        {
            "cell_type": "code",
            "execution_count": 13,
            "id": "d3e98a78-a893-47a1-ad22-6c13b4474b4d",
            "metadata": {
                "cell_id": "d3e98a78-a893-47a1-ad22-6c13b4474b4d",
                "tracto": {
                    "metadata_version": "1",
                    "view_cell_type": "CODE",
                    "view_source": "def datetime_to_unixtime(datetime_obj: datetime) -> int:\n    # workaround for https://github.com/ytsaurus/ytsaurus/issues/309\n    return int(time.mktime(datetime_obj.timetuple()))"
                }
            },
            "outputs": [],
            "source": "def datetime_to_unixtime(datetime_obj: datetime) -> int:\n    # workaround for https://github.com/ytsaurus/ytsaurus/issues/309\n    return int(time.mktime(datetime_obj.timetuple()))"
        },
        {
            "cell_type": "code",
            "execution_count": 14,
            "id": "a649aec9-ca74-4bf9-88a1-9c6cca76d940",
            "metadata": {
                "cell_id": "a649aec9-ca74-4bf9-88a1-9c6cca76d940",
                "tracto": {
                    "metadata_version": "1",
                    "view_cell_type": "CODE",
                    "view_source": "records_handmade_schema = [\n    { \n        \"field_string\": f\"string_{i}\",\n        \"field_float\": i / 10,\n        \"field_date\": datetime_to_unixtime(datetime.now() - timedelta(days=i)),\n        \"field_uint32\": i,\n    }\n    for i in range(10)\n]\nprint(records_unstractued)"
                }
            },
            "outputs": [
                {
                    "name": "stdout",
                    "output_type": "stream",
                    "text": "[{'field_string': 'string_0', 'field_float': 0.0, 'field_date': '2025-01-21T19:36:55.206925', 'field_uint32': 0}, {'field_string': 'string_1', 'field_float': 0.1, 'field_date': '2025-01-20T19:36:55.206941', 'field_uint32': 1}, {'field_string': 'string_2', 'field_float': 0.2, 'field_date': '2025-01-19T19:36:55.206944', 'field_uint32': 2}, {'field_string': 'string_3', 'field_float': 0.3, 'field_date': '2025-01-18T19:36:55.206950', 'field_uint32': 3}, {'field_string': 'string_4', 'field_float': 0.4, 'field_date': '2025-01-17T19:36:55.206952', 'field_uint32': 4}, {'field_string': 'string_5', 'field_float': 0.5, 'field_date': '2025-01-16T19:36:55.206955', 'field_uint32': 5}, {'field_string': 'string_6', 'field_float': 0.6, 'field_date': '2025-01-15T19:36:55.206957', 'field_uint32': 6}, {'field_string': 'string_7', 'field_float': 0.7, 'field_date': '2025-01-14T19:36:55.206960', 'field_uint32': 7}, {'field_string': 'string_8', 'field_float': 0.8, 'field_date': '2025-01-13T19:36:55.206964', 'field_uint32': 8}, {'field_string': 'string_9', 'field_float': 0.9, 'field_date': '2025-01-12T19:36:55.206966', 'field_uint32': 9}]\n"
                }
            ],
            "source": "records_handmade_schema = [\n    { \n        \"field_string\": f\"string_{i}\",\n        \"field_float\": i / 10,\n        \"field_date\": datetime_to_unixtime(datetime.now() - timedelta(days=i)),\n        \"field_uint32\": i,\n    }\n    for i in range(10)\n]\nprint(records_unstractued)"
        },
        {
            "cell_type": "code",
            "execution_count": 15,
            "id": "afc658cb-04a8-49e5-bf6d-7d85388c917f",
            "metadata": {
                "cell_id": "afc658cb-04a8-49e5-bf6d-7d85388c917f",
                "tracto": {
                    "metadata_version": "1",
                    "view_cell_type": "CODE",
                    "view_source": "handmade_schema_table_path = f\"{working_dir}/handmade_schema_table\"\nyt.create_table(handmade_schema_table_path, attributes={\"schema\": schema.to_yson_type()})"
                }
            },
            "outputs": [
                {
                    "name": "stderr",
                    "output_type": "stream",
                    "text": "/opt/conda/lib/python3.11/site-packages/yt/common.py:76: YtDeprecationWarning: create_table is deprecated and will be removed in the next major release, use \"create\" with \"table\" type instead\n  warnings.warn(message, YtDeprecationWarning)\n"
                },
                {
                    "data": {
                        "text/plain": "'307d-ea759-13440191-edfb8ca8'"
                    },
                    "execution_count": 10,
                    "metadata": {},
                    "output_type": "execute_result"
                }
            ],
            "source": "handmade_schema_table_path = f\"{working_dir}/handmade_schema_table\"\nyt.create_table(handmade_schema_table_path, attributes={\"schema\": schema.to_yson_type()})"
        },
        {
            "cell_type": "code",
            "execution_count": 16,
            "id": "1a0ccf08-f9f6-43cf-96e4-f82698335e7b",
            "metadata": {
                "cell_id": "1a0ccf08-f9f6-43cf-96e4-f82698335e7b",
                "tracto": {
                    "metadata_version": "1",
                    "view_cell_type": "CODE",
                    "view_source": "yt.write_table(handmade_schema_table_path, records_handmade_schema)"
                }
            },
            "outputs": [],
            "source": "yt.write_table(handmade_schema_table_path, records_handmade_schema)"
        },
        {
            "cell_type": "markdown",
            "id": "ec76696e-3ebb-4fc7-8ef7-8c255bfdb6a6",
            "metadata": {
                "cell_id": "ec76696e-3ebb-4fc7-8ef7-8c255bfdb6a6",
                "tracto": {
                    "metadata_version": "1",
                    "view_cell_type": "MD",
                    "view_source": "## `yt.yt_dataclass` obects for schematized data\n\nYTsaurus sdk provides python-native tables representation. We can use `yt_dataclass` to represent the table's schema and to check the correspondence of python types to the table's schema. [Documentation](https://ytsaurus.tech/docs/en/api/python/dataclass)"
                }
            },
            "source": "## `yt.yt_dataclass` obects for schematized data\n\nYTsaurus sdk provides python-native tables representation. We can use `yt_dataclass` to represent the table's schema and to check the correspondence of python types to the table's schema. [Documentation](https://ytsaurus.tech/docs/en/api/python/dataclass)"
        },
        {
            "cell_type": "code",
            "execution_count": 18,
            "id": "af0fbe10-413f-4c61-af26-3f379a91b1b3",
            "metadata": {
                "cell_id": "af0fbe10-413f-4c61-af26-3f379a91b1b3",
                "tracto": {
                    "metadata_version": "1",
                    "view_cell_type": "CODE",
                    "view_source": "@yt.yt_dataclass\nclass Nested:\n    a: str\n    b: int\n\n@yt.yt_dataclass\nclass TableRow:\n    field_string: str\n    field_float: float\n    field_datetime: yt.schema.Datetime\n    field_uint32: yt.schema.Uint32\n    field_nested: Nested"
                }
            },
            "outputs": [],
            "source": "@yt.yt_dataclass\nclass Nested:\n    a: str\n    b: int\n\n@yt.yt_dataclass\nclass TableRow:\n    field_string: str\n    field_float: float\n    field_datetime: yt.schema.Datetime\n    field_uint32: yt.schema.Uint32\n    field_nested: Nested"
        },
        {
            "cell_type": "code",
            "execution_count": 19,
            "id": "07957c81-fcb7-44df-bad6-ab1e84140e11",
            "metadata": {
                "cell_id": "07957c81-fcb7-44df-bad6-ab1e84140e11",
                "tracto": {
                    "metadata_version": "1",
                    "view_cell_type": "CODE",
                    "view_source": "records_dataclasses = [\n    TableRow(\n        field_string=f\"string_{i}\", \n        field_float=i / 10,\n        field_datetime=datetime_to_unixtime(datetime.now() - timedelta(days=i)),\n        field_uint32=i,\n        field_nested=Nested(\n            a=f\"string_{i}\",\n            b=i,\n        )\n    )\n    for i in range(10)\n]\nfor record in records_dataclasses:\n    print(records_dataclasses)"
                }
            },
            "outputs": [
                {
                    "name": "stdout",
                    "output_type": "stream",
                    "text": "[TableRow(field_string='string_0', field_float=0.0, field_datetime=1737488224, field_uint32=0, field_nested=Nested(a='string_0', b=0)), TableRow(field_string='string_1', field_float=0.1, field_datetime=1737401824, field_uint32=1, field_nested=Nested(a='string_1', b=1)), TableRow(field_string='string_2', field_float=0.2, field_datetime=1737315424, field_uint32=2, field_nested=Nested(a='string_2', b=2)), TableRow(field_string='string_3', field_float=0.3, field_datetime=1737229024, field_uint32=3, field_nested=Nested(a='string_3', b=3)), TableRow(field_string='string_4', field_float=0.4, field_datetime=1737142624, field_uint32=4, field_nested=Nested(a='string_4', b=4)), TableRow(field_string='string_5', field_float=0.5, field_datetime=1737056224, field_uint32=5, field_nested=Nested(a='string_5', b=5)), TableRow(field_string='string_6', field_float=0.6, field_datetime=1736969824, field_uint32=6, field_nested=Nested(a='string_6', b=6)), TableRow(field_string='string_7', field_float=0.7, field_datetime=1736883424, field_uint32=7, field_nested=Nested(a='string_7', b=7)), TableRow(field_string='string_8', field_float=0.8, field_datetime=1736797024, field_uint32=8, field_nested=Nested(a='string_8', b=8)), TableRow(field_string='string_9', field_float=0.9, field_datetime=1736710624, field_uint32=9, field_nested=Nested(a='string_9', b=9))]\n[TableRow(field_string='string_0', field_float=0.0, field_datetime=1737488224, field_uint32=0, field_nested=Nested(a='string_0', b=0)), TableRow(field_string='string_1', field_float=0.1, field_datetime=1737401824, field_uint32=1, field_nested=Nested(a='string_1', b=1)), TableRow(field_string='string_2', field_float=0.2, field_datetime=1737315424, field_uint32=2, field_nested=Nested(a='string_2', b=2)), TableRow(field_string='string_3', field_float=0.3, field_datetime=1737229024, field_uint32=3, field_nested=Nested(a='string_3', b=3)), TableRow(field_string='string_4', field_float=0.4, field_datetime=1737142624, field_uint32=4, field_nested=Nested(a='string_4', b=4)), TableRow(field_string='string_5', field_float=0.5, field_datetime=1737056224, field_uint32=5, field_nested=Nested(a='string_5', b=5)), TableRow(field_string='string_6', field_float=0.6, field_datetime=1736969824, field_uint32=6, field_nested=Nested(a='string_6', b=6)), TableRow(field_string='string_7', field_float=0.7, field_datetime=1736883424, field_uint32=7, field_nested=Nested(a='string_7', b=7)), TableRow(field_string='string_8', field_float=0.8, field_datetime=1736797024, field_uint32=8, field_nested=Nested(a='string_8', b=8)), TableRow(field_string='string_9', field_float=0.9, field_datetime=1736710624, field_uint32=9, field_nested=Nested(a='string_9', b=9))]\n[TableRow(field_string='string_0', field_float=0.0, field_datetime=1737488224, field_uint32=0, field_nested=Nested(a='string_0', b=0)), TableRow(field_string='string_1', field_float=0.1, field_datetime=1737401824, field_uint32=1, field_nested=Nested(a='string_1', b=1)), TableRow(field_string='string_2', field_float=0.2, field_datetime=1737315424, field_uint32=2, field_nested=Nested(a='string_2', b=2)), TableRow(field_string='string_3', field_float=0.3, field_datetime=1737229024, field_uint32=3, field_nested=Nested(a='string_3', b=3)), TableRow(field_string='string_4', field_float=0.4, field_datetime=1737142624, field_uint32=4, field_nested=Nested(a='string_4', b=4)), TableRow(field_string='string_5', field_float=0.5, field_datetime=1737056224, field_uint32=5, field_nested=Nested(a='string_5', b=5)), TableRow(field_string='string_6', field_float=0.6, field_datetime=1736969824, field_uint32=6, field_nested=Nested(a='string_6', b=6)), TableRow(field_string='string_7', field_float=0.7, field_datetime=1736883424, field_uint32=7, field_nested=Nested(a='string_7', b=7)), TableRow(field_string='string_8', field_float=0.8, field_datetime=1736797024, field_uint32=8, field_nested=Nested(a='string_8', b=8)), TableRow(field_string='string_9', field_float=0.9, field_datetime=1736710624, field_uint32=9, field_nested=Nested(a='string_9', b=9))]\n[TableRow(field_string='string_0', field_float=0.0, field_datetime=1737488224, field_uint32=0, field_nested=Nested(a='string_0', b=0)), TableRow(field_string='string_1', field_float=0.1, field_datetime=1737401824, field_uint32=1, field_nested=Nested(a='string_1', b=1)), TableRow(field_string='string_2', field_float=0.2, field_datetime=1737315424, field_uint32=2, field_nested=Nested(a='string_2', b=2)), TableRow(field_string='string_3', field_float=0.3, field_datetime=1737229024, field_uint32=3, field_nested=Nested(a='string_3', b=3)), TableRow(field_string='string_4', field_float=0.4, field_datetime=1737142624, field_uint32=4, field_nested=Nested(a='string_4', b=4)), TableRow(field_string='string_5', field_float=0.5, field_datetime=1737056224, field_uint32=5, field_nested=Nested(a='string_5', b=5)), TableRow(field_string='string_6', field_float=0.6, field_datetime=1736969824, field_uint32=6, field_nested=Nested(a='string_6', b=6)), TableRow(field_string='string_7', field_float=0.7, field_datetime=1736883424, field_uint32=7, field_nested=Nested(a='string_7', b=7)), TableRow(field_string='string_8', field_float=0.8, field_datetime=1736797024, field_uint32=8, field_nested=Nested(a='string_8', b=8)), TableRow(field_string='string_9', field_float=0.9, field_datetime=1736710624, field_uint32=9, field_nested=Nested(a='string_9', b=9))]\n[TableRow(field_string='string_0', field_float=0.0, field_datetime=1737488224, field_uint32=0, field_nested=Nested(a='string_0', b=0)), TableRow(field_string='string_1', field_float=0.1, field_datetime=1737401824, field_uint32=1, field_nested=Nested(a='string_1', b=1)), TableRow(field_string='string_2', field_float=0.2, field_datetime=1737315424, field_uint32=2, field_nested=Nested(a='string_2', b=2)), TableRow(field_string='string_3', field_float=0.3, field_datetime=1737229024, field_uint32=3, field_nested=Nested(a='string_3', b=3)), TableRow(field_string='string_4', field_float=0.4, field_datetime=1737142624, field_uint32=4, field_nested=Nested(a='string_4', b=4)), TableRow(field_string='string_5', field_float=0.5, field_datetime=1737056224, field_uint32=5, field_nested=Nested(a='string_5', b=5)), TableRow(field_string='string_6', field_float=0.6, field_datetime=1736969824, field_uint32=6, field_nested=Nested(a='string_6', b=6)), TableRow(field_string='string_7', field_float=0.7, field_datetime=1736883424, field_uint32=7, field_nested=Nested(a='string_7', b=7)), TableRow(field_string='string_8', field_float=0.8, field_datetime=1736797024, field_uint32=8, field_nested=Nested(a='string_8', b=8)), TableRow(field_string='string_9', field_float=0.9, field_datetime=1736710624, field_uint32=9, field_nested=Nested(a='string_9', b=9))]\n[TableRow(field_string='string_0', field_float=0.0, field_datetime=1737488224, field_uint32=0, field_nested=Nested(a='string_0', b=0)), TableRow(field_string='string_1', field_float=0.1, field_datetime=1737401824, field_uint32=1, field_nested=Nested(a='string_1', b=1)), TableRow(field_string='string_2', field_float=0.2, field_datetime=1737315424, field_uint32=2, field_nested=Nested(a='string_2', b=2)), TableRow(field_string='string_3', field_float=0.3, field_datetime=1737229024, field_uint32=3, field_nested=Nested(a='string_3', b=3)), TableRow(field_string='string_4', field_float=0.4, field_datetime=1737142624, field_uint32=4, field_nested=Nested(a='string_4', b=4)), TableRow(field_string='string_5', field_float=0.5, field_datetime=1737056224, field_uint32=5, field_nested=Nested(a='string_5', b=5)), TableRow(field_string='string_6', field_float=0.6, field_datetime=1736969824, field_uint32=6, field_nested=Nested(a='string_6', b=6)), TableRow(field_string='string_7', field_float=0.7, field_datetime=1736883424, field_uint32=7, field_nested=Nested(a='string_7', b=7)), TableRow(field_string='string_8', field_float=0.8, field_datetime=1736797024, field_uint32=8, field_nested=Nested(a='string_8', b=8)), TableRow(field_string='string_9', field_float=0.9, field_datetime=1736710624, field_uint32=9, field_nested=Nested(a='string_9', b=9))]\n[TableRow(field_string='string_0', field_float=0.0, field_datetime=1737488224, field_uint32=0, field_nested=Nested(a='string_0', b=0)), TableRow(field_string='string_1', field_float=0.1, field_datetime=1737401824, field_uint32=1, field_nested=Nested(a='string_1', b=1)), TableRow(field_string='string_2', field_float=0.2, field_datetime=1737315424, field_uint32=2, field_nested=Nested(a='string_2', b=2)), TableRow(field_string='string_3', field_float=0.3, field_datetime=1737229024, field_uint32=3, field_nested=Nested(a='string_3', b=3)), TableRow(field_string='string_4', field_float=0.4, field_datetime=1737142624, field_uint32=4, field_nested=Nested(a='string_4', b=4)), TableRow(field_string='string_5', field_float=0.5, field_datetime=1737056224, field_uint32=5, field_nested=Nested(a='string_5', b=5)), TableRow(field_string='string_6', field_float=0.6, field_datetime=1736969824, field_uint32=6, field_nested=Nested(a='string_6', b=6)), TableRow(field_string='string_7', field_float=0.7, field_datetime=1736883424, field_uint32=7, field_nested=Nested(a='string_7', b=7)), TableRow(field_string='string_8', field_float=0.8, field_datetime=1736797024, field_uint32=8, field_nested=Nested(a='string_8', b=8)), TableRow(field_string='string_9', field_float=0.9, field_datetime=1736710624, field_uint32=9, field_nested=Nested(a='string_9', b=9))]\n[TableRow(field_string='string_0', field_float=0.0, field_datetime=1737488224, field_uint32=0, field_nested=Nested(a='string_0', b=0)), TableRow(field_string='string_1', field_float=0.1, field_datetime=1737401824, field_uint32=1, field_nested=Nested(a='string_1', b=1)), TableRow(field_string='string_2', field_float=0.2, field_datetime=1737315424, field_uint32=2, field_nested=Nested(a='string_2', b=2)), TableRow(field_string='string_3', field_float=0.3, field_datetime=1737229024, field_uint32=3, field_nested=Nested(a='string_3', b=3)), TableRow(field_string='string_4', field_float=0.4, field_datetime=1737142624, field_uint32=4, field_nested=Nested(a='string_4', b=4)), TableRow(field_string='string_5', field_float=0.5, field_datetime=1737056224, field_uint32=5, field_nested=Nested(a='string_5', b=5)), TableRow(field_string='string_6', field_float=0.6, field_datetime=1736969824, field_uint32=6, field_nested=Nested(a='string_6', b=6)), TableRow(field_string='string_7', field_float=0.7, field_datetime=1736883424, field_uint32=7, field_nested=Nested(a='string_7', b=7)), TableRow(field_string='string_8', field_float=0.8, field_datetime=1736797024, field_uint32=8, field_nested=Nested(a='string_8', b=8)), TableRow(field_string='string_9', field_float=0.9, field_datetime=1736710624, field_uint32=9, field_nested=Nested(a='string_9', b=9))]\n[TableRow(field_string='string_0', field_float=0.0, field_datetime=1737488224, field_uint32=0, field_nested=Nested(a='string_0', b=0)), TableRow(field_string='string_1', field_float=0.1, field_datetime=1737401824, field_uint32=1, field_nested=Nested(a='string_1', b=1)), TableRow(field_string='string_2', field_float=0.2, field_datetime=1737315424, field_uint32=2, field_nested=Nested(a='string_2', b=2)), TableRow(field_string='string_3', field_float=0.3, field_datetime=1737229024, field_uint32=3, field_nested=Nested(a='string_3', b=3)), TableRow(field_string='string_4', field_float=0.4, field_datetime=1737142624, field_uint32=4, field_nested=Nested(a='string_4', b=4)), TableRow(field_string='string_5', field_float=0.5, field_datetime=1737056224, field_uint32=5, field_nested=Nested(a='string_5', b=5)), TableRow(field_string='string_6', field_float=0.6, field_datetime=1736969824, field_uint32=6, field_nested=Nested(a='string_6', b=6)), TableRow(field_string='string_7', field_float=0.7, field_datetime=1736883424, field_uint32=7, field_nested=Nested(a='string_7', b=7)), TableRow(field_string='string_8', field_float=0.8, field_datetime=1736797024, field_uint32=8, field_nested=Nested(a='string_8', b=8)), TableRow(field_string='string_9', field_float=0.9, field_datetime=1736710624, field_uint32=9, field_nested=Nested(a='string_9', b=9))]\n[TableRow(field_string='string_0', field_float=0.0, field_datetime=1737488224, field_uint32=0, field_nested=Nested(a='string_0', b=0)), TableRow(field_string='string_1', field_float=0.1, field_datetime=1737401824, field_uint32=1, field_nested=Nested(a='string_1', b=1)), TableRow(field_string='string_2', field_float=0.2, field_datetime=1737315424, field_uint32=2, field_nested=Nested(a='string_2', b=2)), TableRow(field_string='string_3', field_float=0.3, field_datetime=1737229024, field_uint32=3, field_nested=Nested(a='string_3', b=3)), TableRow(field_string='string_4', field_float=0.4, field_datetime=1737142624, field_uint32=4, field_nested=Nested(a='string_4', b=4)), TableRow(field_string='string_5', field_float=0.5, field_datetime=1737056224, field_uint32=5, field_nested=Nested(a='string_5', b=5)), TableRow(field_string='string_6', field_float=0.6, field_datetime=1736969824, field_uint32=6, field_nested=Nested(a='string_6', b=6)), TableRow(field_string='string_7', field_float=0.7, field_datetime=1736883424, field_uint32=7, field_nested=Nested(a='string_7', b=7)), TableRow(field_string='string_8', field_float=0.8, field_datetime=1736797024, field_uint32=8, field_nested=Nested(a='string_8', b=8)), TableRow(field_string='string_9', field_float=0.9, field_datetime=1736710624, field_uint32=9, field_nested=Nested(a='string_9', b=9))]\n"
                }
            ],
            "source": "records_dataclasses = [\n    TableRow(\n        field_string=f\"string_{i}\", \n        field_float=i / 10,\n        field_datetime=datetime_to_unixtime(datetime.now() - timedelta(days=i)),\n        field_uint32=i,\n        field_nested=Nested(\n            a=f\"string_{i}\",\n            b=i,\n        )\n    )\n    for i in range(10)\n]\nfor record in records_dataclasses:\n    print(records_dataclasses)"
        },
        {
            "cell_type": "code",
            "execution_count": 20,
            "id": "4b098e4d-0c20-43f8-87f3-967d308063b6",
            "metadata": {
                "cell_id": "4b098e4d-0c20-43f8-87f3-967d308063b6",
                "tracto": {
                    "metadata_version": "1",
                    "view_cell_type": "CODE",
                    "view_source": "dataclass_table_path = f\"{working_dir}/dataclass_based_table\"\nyt.write_table_structured(dataclass_table_path, TableRow, records_dataclasses)"
                }
            },
            "outputs": [],
            "source": "dataclass_table_path = f\"{working_dir}/dataclass_based_table\"\nyt.write_table_structured(dataclass_table_path, TableRow, records_dataclasses)"
        },
        {
            "cell_type": "code",
            "execution_count": 21,
            "id": "b9584e22-f38a-48d9-8563-292c9ba0d218",
            "metadata": {
                "cell_id": "b9584e22-f38a-48d9-8563-292c9ba0d218",
                "tracto": {
                    "metadata_version": "1",
                    "view_cell_type": "CODE",
                    "view_source": "for record in yt.read_table_structured(dataclass_table_path, TableRow):\n    print(record)"
                }
            },
            "outputs": [
                {
                    "name": "stdout",
                    "output_type": "stream",
                    "text": "TableRow(field_string='string_0', field_float=0.0, field_datetime=1737488224, field_uint32=0, field_nested=Nested(a='string_0', b=0))\nTableRow(field_string='string_1', field_float=0.1, field_datetime=1737401824, field_uint32=1, field_nested=Nested(a='string_1', b=1))\nTableRow(field_string='string_2', field_float=0.2, field_datetime=1737315424, field_uint32=2, field_nested=Nested(a='string_2', b=2))\nTableRow(field_string='string_3', field_float=0.3, field_datetime=1737229024, field_uint32=3, field_nested=Nested(a='string_3', b=3))\nTableRow(field_string='string_4', field_float=0.4, field_datetime=1737142624, field_uint32=4, field_nested=Nested(a='string_4', b=4))\nTableRow(field_string='string_5', field_float=0.5, field_datetime=1737056224, field_uint32=5, field_nested=Nested(a='string_5', b=5))\nTableRow(field_string='string_6', field_float=0.6, field_datetime=1736969824, field_uint32=6, field_nested=Nested(a='string_6', b=6))\nTableRow(field_string='string_7', field_float=0.7, field_datetime=1736883424, field_uint32=7, field_nested=Nested(a='string_7', b=7))\nTableRow(field_string='string_8', field_float=0.8, field_datetime=1736797024, field_uint32=8, field_nested=Nested(a='string_8', b=8))\nTableRow(field_string='string_9', field_float=0.9, field_datetime=1736710624, field_uint32=9, field_nested=Nested(a='string_9', b=9))\n"
                }
            ],
            "source": "for record in yt.read_table_structured(dataclass_table_path, TableRow):\n    print(record)"
        }
    ],
    "metadata": {
        "kernelspec": {
            "display_name": "chiffa_solutions",
            "name": "chiffa_solutions"
        },
        "tracto": {
            "is_solution_notebook": true,
            "metadata_version": "1",
            "notebook_cypress_id": "2440a496-8d03-4c09-b50c-7ab5dd57aaf7"
        },
        "is_solution_notebook": true
    },
    "nbformat": 4,
    "nbformat_minor": 5
}