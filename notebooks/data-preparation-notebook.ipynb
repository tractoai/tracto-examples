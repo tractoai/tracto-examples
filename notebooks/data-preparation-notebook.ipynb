{
    "cells": [
        {
            "cell_type": "markdown",
            "id": "c54c9923-2ede-4ccc-853a-0625fa0954c4",
            "metadata": {
                "cell_id": "c54c9923-2ede-4ccc-853a-0625fa0954c4",
                "tracto": {
                    "metadata_version": "1",
                    "source_hash": "7ac4e2bc",
                    "view_cell_type": "MD",
                    "view_source": "When is it more likely to see a running squirrel in Central Park, New York? Let's find out, along with an example of data preparation on YTsaurus.\n\nThis notebook demonstrates:\n\n* How to use `map`, `reduce`, `sort`, and `mapreduce` operations on schematized and non-schematized tables\n* How to use YTsaurus to transform unstructured data into structured data\n* How to process Date type on YT\n\nAt the end of this example, we will find out when it is more likely to encounter a running squirrel in Central Park, New York."
                }
            },
            "source": "When is it more likely to see a running squirrel in Central Park, New York? Let's find out, along with an example of data preparation on YTsaurus.\n\nThis notebook demonstrates:\n\n* How to use `map`, `reduce`, `sort`, and `mapreduce` operations on schematized and non-schematized tables\n* How to use YTsaurus to transform unstructured data into structured data\n* How to process Date type on YT\n\nAt the end of this example, we will find out when it is more likely to encounter a running squirrel in Central Park, New York."
        },
        {
            "cell_type": "code",
            "execution_count": 1,
            "id": "27b769ef-b093-4ba4-81fe-2be5d6854135",
            "metadata": {
                "tracto": {
                    "execution_end": 1750358992803,
                    "execution_session_id": "1c87a8d9-8db0-4d43-bbe4-9c09de140ae8",
                    "execution_start": 1750358992579,
                    "hidden_input": true,
                    "metadata_version": "1",
                    "source_hash": "07f9f7a2",
                    "view_cell_type": "CODE"
                }
            },
            "outputs": [
                {
                    "name": "stdout",
                    "output_type": "stream",
                    "text": "Current working directory: //home/equal_amethyst_vulture/tmp/demo_workdir/6b22ea3130c44386908eaeec58ee6af8\n"
                }
            ],
            "source": "# configure environment to run this notebooks\nimport uuid\nimport yt.wrapper as yt\n\nusername = yt.get_user_name()\nif yt.exists(f\"//sys/users/{username}/@user_info/home_path\"):\n    # prepare working directory on distributed file system\n    user_info = yt.get(f\"//sys/users/{yt.get_user_name()}/@user_info\")\n    homedir = user_info[\"home_path\"]\n    # find avaliable vm presets\n    cpu_pool_trees = [pool_tree for pool_tree in user_info[\"available_pool_trees\"] if pool_tree.endswith(\"cpu\")] or [\"default\"]\n    h100_pool_trees = [pool_tree for pool_tree in user_info[\"available_pool_trees\"] if pool_tree.endswith(\"h100\")]\n    h100_8_pool_trees = [pool_tree for pool_tree in user_info[\"available_pool_trees\"] if pool_tree.endswith(\"h100_8\")]\n    workdir = f\"{homedir}/tmp/demo_workdir/{uuid.uuid4().hex}\"\nelse:\n    cpu_pool_trees = [\"default\"]\n    h100_pool_trees = [\"gpu_h100\"]\n    h100_8_pool_trees = [\"gpu_h100\"]\n    workdir = f\"//tmp/examples/{uuid.uuid4().hex}\"\n\nyt.create(\"map_node\", workdir, recursive=True, ignore_existing=True)\nprint(\"Current working directory:\", workdir)"
        },
        {
            "cell_type": "code",
            "execution_count": 2,
            "id": "5181bc2b-d877-4648-9801-0e19c7ba1362",
            "metadata": {
                "cell_id": "5181bc2b-d877-4648-9801-0e19c7ba1362",
                "tracto": {
                    "execution_end": 1750358992805,
                    "execution_session_id": "1c87a8d9-8db0-4d43-bbe4-9c09de140ae8",
                    "execution_start": 1750358992804,
                    "metadata_version": "1",
                    "source_hash": "56bff4a1",
                    "view_cell_type": "CODE",
                    "view_source": "from yt import wrapper as yt\nfrom yt import type_info\n\nimport uuid\nimport re\nimport datetime\nimport time\n\nfrom typing import Iterable\nfrom collections import defaultdict"
                }
            },
            "outputs": [],
            "source": "from yt import wrapper as yt\nfrom yt import type_info\n\nimport uuid\nimport re\nimport datetime\nimport time\n\nfrom typing import Iterable\nfrom collections import defaultdict"
        },
        {
            "cell_type": "markdown",
            "id": "cd2f273b-97bc-4971-97a3-8c676a3b12b6",
            "metadata": {
                "cell_id": "cd2f273b-97bc-4971-97a3-8c676a3b12b6",
                "tracto": {
                    "metadata_version": "1",
                    "source_hash": "c9fd670b",
                    "view_cell_type": "MD",
                    "view_source": "# Dataset preparation"
                }
            },
            "source": "# Dataset preparation\n\nLet use `//home/samples/squirrels-hectare-data`. This dataset contains environmental data related to each of the 350 \u201ccountable\u201d hectares of Central Park. Examples include weather, litter, animals sighted, and human density.\n\nThis dataset has several problems:\n1. Date has a non-standard format.\n2. Columns `other_animals_sightings` is unstructured.\n3. Weather data is also unstructed. Let's extract the temperature and structure weather description.\n\n## Extract weather data\n\nRequest for original dataset size. We are going to use this data to estimate the proportion of parsed values."
        },
        {
            "cell_type": "code",
            "execution_count": 4,
            "id": "ca5eb7d8-b153-4007-b8d1-50c8114daef6",
            "metadata": {
                "cell_id": "ca5eb7d8-b153-4007-b8d1-50c8114daef6",
                "tracto": {
                    "execution_end": 1750358992865,
                    "execution_session_id": "1c87a8d9-8db0-4d43-bbe4-9c09de140ae8",
                    "execution_start": 1750358992806,
                    "metadata_version": "1",
                    "source_hash": "bcd78dc7",
                    "view_cell_type": "CODE",
                    "view_source": "dataset_size = yt.get(\"//home/samples/squirrels-hectare-data/@row_count\")\nprint(dataset_size)"
                }
            },
            "outputs": [
                {
                    "name": "stdout",
                    "output_type": "stream",
                    "text": "700\n"
                }
            ],
            "source": "dataset_size = yt.get(\"//home/samples/squirrels-hectare-data/@row_count\")\nprint(dataset_size)"
        },
        {
            "cell_type": "markdown",
            "id": "7d72b7e1-14b7-42a9-9706-b7229d784271",
            "metadata": {
                "cell_id": "7d72b7e1-14b7-42a9-9706-b7229d784271",
                "tracto": {
                    "metadata_version": "1",
                    "source_hash": "b158ff84",
                    "view_cell_type": "MD",
                    "view_source": "Looking at the dataset, we can notice some facts:\n1. Temperature data is at the beginning of the record\n2. Temperature can be indicated in either Fahrenheit or Celsius\n3. Typically the data is separated by a comma\n\nThis way we can iteratively apply our parsing function in the map operation and evaluate the records that could not be parsed. Since there are few records in the dataset, we can read them and watch them in this notebook."
                }
            },
            "source": "Looking at the dataset, we can notice some facts:\n1. Temperature data is at the beginning of the record\n2. Temperature can be indicated in either Fahrenheit or Celsius\n3. Typically the data is separated by a comma\n\nThis way we can iteratively apply our parsing function in the map operation and evaluate the records that could not be parsed. Since there are few records in the dataset, we can read them and watch them in this notebook."
        },
        {
            "cell_type": "code",
            "execution_count": 6,
            "id": "1b8c3c66-365d-4b1e-8b1d-57b82a14ccd0",
            "metadata": {
                "cell_id": "1b8c3c66-365d-4b1e-8b1d-57b82a14ccd0",
                "tracto": {
                    "execution_end": 1750358992916,
                    "execution_session_id": "1c87a8d9-8db0-4d43-bbe4-9c09de140ae8",
                    "execution_start": 1750358992890,
                    "metadata_version": "1",
                    "source_hash": "b4bf1c44",
                    "view_cell_type": "CODE",
                    "view_source": "F_TEMP_REGEXP = re.compile(r\"^~?(\\d+\\.?\\d*)(-\\d+)?\\s*[\u00b0\u00ba]?\\s*[fF]\")\nC_TEMP_REGEXP = re.compile(r\"^~?(\\d+\\.?\\d*)\\s*[\u00b0\u00ba]?\\s*[cC]\")\nF2_TEMP_REGEXP = re.compile(r\"(\\d+\\.?\\d*)[s|ish]\")\n\ndef f_to_c(temp: int) -> int:\n    return round((5 / 9) * (temp - 32))\n\ndef str_to_int(value: str) -> int:\n    return round(float(value))\n\ndef parse_weather_data(raw_weather_data: str | None) -> tuple[int, list[str]]:\n    if raw_weather_data is None:\n        return None, []\n\n    weather_data_parts = [part.strip(\" \").lower() for part in raw_weather_data.split(\",\")]\n\n    if len(weather_data_parts) == 0:\n        None, []\n    maybe_temp = weather_data_parts[0]\n\n    f_match = F_TEMP_REGEXP.search(maybe_temp)\n    if f_match:\n        return f_to_c(str_to_int(f_match.group(1))), weather_data_parts[1:]\n    \n    f2_match = F2_TEMP_REGEXP.search(maybe_temp) \n    if f2_match:\n        return f_to_c(str_to_int(f2_match.group(1))), weather_data_parts[1:]\n\n    c_match = C_TEMP_REGEXP.search(maybe_temp)\n    if c_match:\n        return str_to_int(c_match.group(1)), weather_data_parts[1:]\n    \n    return None, weather_data_parts"
                }
            },
            "outputs": [],
            "source": "F_TEMP_REGEXP = re.compile(r\"^~?(\\d+\\.?\\d*)(-\\d+)?\\s*[\u00b0\u00ba]?\\s*[fF]\")\nC_TEMP_REGEXP = re.compile(r\"^~?(\\d+\\.?\\d*)\\s*[\u00b0\u00ba]?\\s*[cC]\")\nF2_TEMP_REGEXP = re.compile(r\"(\\d+\\.?\\d*)[s|ish]\")\n\ndef f_to_c(temp: int) -> int:\n    return round((5 / 9) * (temp - 32))\n\ndef str_to_int(value: str) -> int:\n    return round(float(value))\n\ndef parse_weather_data(raw_weather_data: str | None) -> tuple[int, list[str]]:\n    if raw_weather_data is None:\n        return None, []\n\n    weather_data_parts = [part.strip(\" \").lower() for part in raw_weather_data.split(\",\")]\n\n    if len(weather_data_parts) == 0:\n        None, []\n    maybe_temp = weather_data_parts[0]\n\n    f_match = F_TEMP_REGEXP.search(maybe_temp)\n    if f_match:\n        return f_to_c(str_to_int(f_match.group(1))), weather_data_parts[1:]\n    \n    f2_match = F2_TEMP_REGEXP.search(maybe_temp) \n    if f2_match:\n        return f_to_c(str_to_int(f2_match.group(1))), weather_data_parts[1:]\n\n    c_match = C_TEMP_REGEXP.search(maybe_temp)\n    if c_match:\n        return str_to_int(c_match.group(1)), weather_data_parts[1:]\n    \n    return None, weather_data_parts"
        },
        {
            "cell_type": "markdown",
            "id": "ae5d7a2b-a6fc-4096-a089-b1118eb944da",
            "metadata": {
                "cell_id": "ae5d7a2b-a6fc-4096-a089-b1118eb944da",
                "tracto": {
                    "metadata_version": "1",
                    "source_hash": "8ee185b1",
                    "view_cell_type": "MD",
                    "view_source": "## Map operation for testing parsiong function"
                }
            },
            "source": "## Map operation for testing parsiong function\n\nLet's run [map operation](https://ytsaurus.tech/docs/en/user-guide/data-processing/operations/map)"
        },
        {
            "cell_type": "code",
            "execution_count": 8,
            "id": "5e597bd5-a8b5-4c22-8891-5953a573624e",
            "metadata": {
                "cell_id": "5e597bd5-a8b5-4c22-8891-5953a573624e",
                "tracto": {
                    "execution_end": 1750358999986,
                    "execution_session_id": "1c87a8d9-8db0-4d43-bbe4-9c09de140ae8",
                    "execution_start": 1750358992925,
                    "metadata_version": "1",
                    "source_hash": "4d46f1ef",
                    "view_cell_type": "CODE",
                    "view_source": "def filter_records_without_temperature(record: dict) -> Iterable[dict]:\n    temp, weather_data = parse_weather_data(record[\"sighter_observed_weather_data\"])\n    if not temp:\n        yield {\"sighter_observed_weather_data\": record[\"sighter_observed_weather_data\"]}\n\nyt.run_map(\n    filter_records_without_temperature,\n    source_table=\"//home/samples/squirrels-hectare-data\",\n    destination_table=f\"{working_dir}/records_without_temperature\",\n)\n\nrecords = [record for record in yt.read_table(f\"{working_dir}/records_without_temperature\")]\nfiltered_count = yt.get(f\"{working_dir}/records_without_temperature/@row_count\")\nprint(f\"{filtered_count / dataset_size * 100}%\")\n\nfor record in records:\n    print(record)"
                }
            },
            "outputs": [
                {
                    "name": "stderr",
                    "output_type": "stream",
                    "text": "2025-06-19 18:49:54,337\tINFO\tOperation started: https://playground.tracto.ai/playground/operations/2e7b0209-e884d6f7-24dd03e8-a3568eb0/details\n"
                },
                {
                    "name": "stderr",
                    "output_type": "stream",
                    "text": "2025-06-19 18:49:54,373\tINFO\t( 0 min) operation 2e7b0209-e884d6f7-24dd03e8-a3568eb0 starting\n"
                },
                {
                    "name": "stderr",
                    "output_type": "stream",
                    "text": "2025-06-19 18:49:54,915\tINFO\t( 0 min) operation 2e7b0209-e884d6f7-24dd03e8-a3568eb0 initializing\n"
                },
                {
                    "name": "stderr",
                    "output_type": "stream",
                    "text": "2025-06-19 18:49:57,660\tINFO\t( 0 min) Unrecognized spec: {'enable_partitioned_data_balancing': false, 'mapper': {'title': 'filter_records_without_tempera'}}\n"
                },
                {
                    "name": "stderr",
                    "output_type": "stream",
                    "text": "2025-06-19 18:49:57,699\tINFO\t( 0 min) operation 2e7b0209-e884d6f7-24dd03e8-a3568eb0: running=0     completed=0     pending=1     failed=0     aborted=0     lost=0     total=1     blocked=0    \n"
                },
                {
                    "name": "stderr",
                    "output_type": "stream",
                    "text": "2025-06-19 18:49:58,825\tINFO\t( 0 min) operation 2e7b0209-e884d6f7-24dd03e8-a3568eb0 completing\n"
                },
                {
                    "name": "stderr",
                    "output_type": "stream",
                    "text": "2025-06-19 18:49:59,365\tINFO\t( 0 min) operation 2e7b0209-e884d6f7-24dd03e8-a3568eb0 completed\n"
                },
                {
                    "name": "stdout",
                    "output_type": "stream",
                    "text": "10.857142857142858%\n{'sighter_observed_weather_data': None}\n{'sighter_observed_weather_data': 'cloudy, slight drizzle'}\n{'sighter_observed_weather_data': 'sunny, chilly'}\n{'sighter_observed_weather_data': 'Misty'}\n{'sighter_observed_weather_data': 'Muggy, cloudy, slightly damp'}\n{'sighter_observed_weather_data': None}\n{'sighter_observed_weather_data': 'chilly, sunny'}\n{'sighter_observed_weather_data': 'cloudy, drizzling'}\n{'sighter_observed_weather_data': None}\n{'sighter_observed_weather_data': 'drizzling'}\n{'sighter_observed_weather_data': 'overcast, damp'}\n{'sighter_observed_weather_data': 'Partly cloudy, dewy'}\n{'sighter_observed_weather_data': 'Cool, Cloudy'}\n{'sighter_observed_weather_data': 'partly cloudy, pleasant'}\n{'sighter_observed_weather_data': 'rainy'}\n{'sighter_observed_weather_data': 'cool, cloudy'}\n{'sighter_observed_weather_data': 'cool, windy'}\n{'sighter_observed_weather_data': 'got dark very suddenly'}\n{'sighter_observed_weather_data': 'damp, misty, cloudy'}\n{'sighter_observed_weather_data': 'damp, humid, cloudy, dreary, misty, not raining, moist'}\n{'sighter_observed_weather_data': 'rainy'}\n{'sighter_observed_weather_data': 'cool, windy'}\n{'sighter_observed_weather_data': 'Sunny, Windy, Cool'}\n{'sighter_observed_weather_data': None}\n{'sighter_observed_weather_data': 'Sunny, Blue Sky'}\n{'sighter_observed_weather_data': 'Sunny'}\n{'sighter_observed_weather_data': 'drizzling, cloudy'}\n{'sighter_observed_weather_data': 'Partly cloudy'}\n{'sighter_observed_weather_data': 'Humid'}\n{'sighter_observed_weather_data': 'drizzling cloudy'}\n{'sighter_observed_weather_data': 'Cool'}\n{'sighter_observed_weather_data': None}\n{'sighter_observed_weather_data': 'Cool, cloudy & light drizzle'}\n{'sighter_observed_weather_data': None}\n{'sighter_observed_weather_data': 'Misty, Rain, Cool'}\n{'sighter_observed_weather_data': 'Muggy, but cool. Sprinkling.'}\n{'sighter_observed_weather_data': 'Humid'}\n{'sighter_observed_weather_data': 'drizzling'}\n{'sighter_observed_weather_data': None}\n{'sighter_observed_weather_data': 'Clear Skies, Breezy'}\n{'sighter_observed_weather_data': 'Calm'}\n{'sighter_observed_weather_data': 'clear blue sky, breezy, getting cold'}\n{'sighter_observed_weather_data': 'drizzling'}\n{'sighter_observed_weather_data': None}\n{'sighter_observed_weather_data': 'sprinkling'}\n{'sighter_observed_weather_data': None}\n{'sighter_observed_weather_data': None}\n{'sighter_observed_weather_data': 'Overcast & humid but cool'}\n{'sighter_observed_weather_data': 'Overcast & humid but cool'}\n{'sighter_observed_weather_data': None}\n{'sighter_observed_weather_data': 'overcast, dusk'}\n{'sighter_observed_weather_data': 'cool, overcast'}\n{'sighter_observed_weather_data': 'cloudy'}\n{'sighter_observed_weather_data': 'cool, sunny'}\n{'sighter_observed_weather_data': 'cold, sunny'}\n{'sighter_observed_weather_data': 'sunny, cool'}\n{'sighter_observed_weather_data': None}\n{'sighter_observed_weather_data': 'cool, dusk'}\n{'sighter_observed_weather_data': 'cool, dusk'}\n{'sighter_observed_weather_data': 'cloudy, misting rain'}\n{'sighter_observed_weather_data': 'Clear, Calm, No wind'}\n{'sighter_observed_weather_data': None}\n{'sighter_observed_weather_data': None}\n{'sighter_observed_weather_data': 'artsy lighting, breezy'}\n{'sighter_observed_weather_data': 'Humid. Overcast.'}\n{'sighter_observed_weather_data': 'Misty, rain, cool'}\n{'sighter_observed_weather_data': 'Raining'}\n{'sighter_observed_weather_data': None}\n{'sighter_observed_weather_data': 'Sunny, cloudy, chilly, damp, slightly warm'}\n{'sighter_observed_weather_data': 'Overcast lite rain'}\n{'sighter_observed_weather_data': 'Humid'}\n{'sighter_observed_weather_data': None}\n{'sighter_observed_weather_data': 'overcast'}\n{'sighter_observed_weather_data': None}\n{'sighter_observed_weather_data': None}\n{'sighter_observed_weather_data': None}\n"
                }
            ],
            "source": "def filter_records_without_temperature(record: dict) -> Iterable[dict]:\n    temp, weather_data = parse_weather_data(record[\"sighter_observed_weather_data\"])\n    if not temp:\n        yield {\"sighter_observed_weather_data\": record[\"sighter_observed_weather_data\"]}\n\nyt.run_map(\n    filter_records_without_temperature,\n    source_table=\"//home/samples/squirrels-hectare-data\",\n    destination_table=f\"{workdir}/records_without_temperature\",\n)\n\nrecords = [record for record in yt.read_table(f\"{workdir}/records_without_temperature\")]\nfiltered_count = yt.get(f\"{workdir}/records_without_temperature/@row_count\")\nprint(f\"{filtered_count / dataset_size * 100}%\")\n\nfor record in records:\n    print(record)"
        },
        {
            "cell_type": "markdown",
            "id": "7fc911a5-0884-4f76-a590-234107323945",
            "metadata": {
                "cell_id": "7fc911a5-0884-4f76-a590-234107323945",
                "tracto": {
                    "metadata_version": "1",
                    "source_hash": "cc893ea2",
                    "view_cell_type": "MD",
                    "view_source": "We can verify that there is no more unparsed temperature data. The proportion of undefined temperature is 10%, let's consider it acceptable for demonstration."
                }
            },
            "source": "We can verify that there is no more unparsed temperature data. The proportion of undefined temperature is 10%, let's consider it acceptable for demonstration.\n\n## Prepare dataset\n\nDates on YTsaurus are presented as days from `01-01-1970` (like unittime, but days) -> Dates have Int type. For simplicity, we will not use data schematization at this stage, except for some important columns.\n\nIn the next step we plan to join this data with another dataset, so to avoid problems with implicit type casting, we create an explicit non-strict schema only for three columns:\n* date\n* hectare\n* shift\n\nYTsaurus operation also can be implemented as python classes."
        },
        {
            "cell_type": "code",
            "execution_count": 10,
            "id": "32710b7a-654a-40f3-aa70-5ed4fab38f36",
            "metadata": {
                "cell_id": "32710b7a-654a-40f3-aa70-5ed4fab38f36",
                "tracto": {
                    "execution_end": 1750359005102,
                    "execution_session_id": "1c87a8d9-8db0-4d43-bbe4-9c09de140ae8",
                    "execution_start": 1750359000017,
                    "metadata_version": "1",
                    "source_hash": "37f96c1d",
                    "view_cell_type": "CODE",
                    "view_source": "REMOVE_BRACKETS_REGEXP = re.compile(r\"\\(.*?\\)\")\n\nclass HectareDataCanonizer:\n    def _canonize_date(self, date: str) -> int:\n        day, month, year = date[2:4], date[:2], date[4:8]\n        date_str = f\"{year}-{month}-{day}\"\n        date_obj = datetime.datetime.strptime(date_str, '%Y-%m-%d')\n        unix_days = int((date_obj.date() - datetime.date.fromtimestamp(0)).days)\n        return unix_days\n\n    def _canonize_other_animals(self, other_animals_sightings: str | None) -> list[str]:\n        if not other_animals_sightings:\n            return []\n\n        return [REMOVE_BRACKETS_REGEXP.sub(\"\", r).strip(\" \").lower() for r in other_animals_sightings.split(\",\")]\n\n    def __call__(self, record: dict) -> Iterable[dict]:\n        record[\"date\"] = self._canonize_date(record[\"date\"])\n        temperature, weather_data = parse_weather_data(record[\"sighter_observed_weather_data\"])\n        record[\"temperature_celsius\"] = temperature\n        record[\"weather_data\"] = weather_data\n        record[\"other_animals_sightings\"] = self._canonize_other_animals(record[\"other_animals_sightings\"])\n        yield record\n\ncanonized_squirrels_hectare_data = f\"{working_dir}/hectare_data\"\nschema = yt.schema.TableSchema(strict=False)\nschema.add_column(\"date\", type_info.Date)\nschema.add_column(\"hectare\", type_info.String)\nschema.add_column(\"shift\", type_info.String)\n\nyt.create(\"table\", canonized_squirrels_hectare_data, force=True, attributes={\"schema\": schema.to_yson_type()})\n\nyt.run_map(\n    HectareDataCanonizer(),\n    source_table=\"//home/samples/squirrels-hectare-data\",\n    destination_table=canonized_squirrels_hectare_data,\n)"
                }
            },
            "outputs": [
                {
                    "name": "stderr",
                    "output_type": "stream",
                    "text": "2025-06-19 18:50:01,342\tINFO\tOperation started: https://playground.tracto.ai/playground/operations/8c39f736-29c91382-24dd03e8-13d7920a/details\n"
                },
                {
                    "name": "stderr",
                    "output_type": "stream",
                    "text": "2025-06-19 18:50:01,392\tINFO\t( 0 min) operation 8c39f736-29c91382-24dd03e8-13d7920a starting\n"
                },
                {
                    "name": "stderr",
                    "output_type": "stream",
                    "text": "2025-06-19 18:50:01,935\tINFO\t( 0 min) operation 8c39f736-29c91382-24dd03e8-13d7920a initializing\n"
                },
                {
                    "name": "stderr",
                    "output_type": "stream",
                    "text": "2025-06-19 18:50:03,609\tINFO\t( 0 min) Unrecognized spec: {'enable_partitioned_data_balancing': false, 'mapper': {'title': 'HectareDataCanonizer'}}\n"
                },
                {
                    "name": "stderr",
                    "output_type": "stream",
                    "text": "2025-06-19 18:50:03,655\tINFO\t( 0 min) operation 8c39f736-29c91382-24dd03e8-13d7920a: running=0     completed=0     pending=1     failed=0     aborted=0     lost=0     total=1     blocked=0    \n"
                },
                {
                    "name": "stderr",
                    "output_type": "stream",
                    "text": "2025-06-19 18:50:04,246\tINFO\t( 0 min) operation 8c39f736-29c91382-24dd03e8-13d7920a: running=0     completed=1     pending=0     failed=0     aborted=0     lost=0     total=1     blocked=0    \n"
                },
                {
                    "name": "stderr",
                    "output_type": "stream",
                    "text": "2025-06-19 18:50:04,789\tINFO\t( 0 min) operation 8c39f736-29c91382-24dd03e8-13d7920a completed\n"
                },
                {
                    "data": {
                        "text/plain": "<yt.wrapper.operation_commands.Operation at 0x7fe9cd296ba0>"
                    },
                    "execution_count": 6,
                    "metadata": {},
                    "output_type": "execute_result"
                }
            ],
            "source": "REMOVE_BRACKETS_REGEXP = re.compile(r\"\\(.*?\\)\")\n\nclass HectareDataCanonizer:\n    def _canonize_date(self, date: str) -> int:\n        day, month, year = date[2:4], date[:2], date[4:8]\n        date_str = f\"{year}-{month}-{day}\"\n        date_obj = datetime.datetime.strptime(date_str, '%Y-%m-%d')\n        unix_days = int((date_obj.date() - datetime.date.fromtimestamp(0)).days)\n        return unix_days\n\n    def _canonize_other_animals(self, other_animals_sightings: str | None) -> list[str]:\n        if not other_animals_sightings:\n            return []\n\n        return [REMOVE_BRACKETS_REGEXP.sub(\"\", r).strip(\" \").lower() for r in other_animals_sightings.split(\",\")]\n\n    def __call__(self, record: dict) -> Iterable[dict]:\n        record[\"date\"] = self._canonize_date(record[\"date\"])\n        temperature, weather_data = parse_weather_data(record[\"sighter_observed_weather_data\"])\n        record[\"temperature_celsius\"] = temperature\n        record[\"weather_data\"] = weather_data\n        record[\"other_animals_sightings\"] = self._canonize_other_animals(record[\"other_animals_sightings\"])\n        yield record\n\ncanonized_squirrels_hectare_data = f\"{workdir}/hectare_data\"\nschema = yt.schema.TableSchema(strict=False)\nschema.add_column(\"date\", type_info.Date)\nschema.add_column(\"hectare\", type_info.String)\nschema.add_column(\"shift\", type_info.String)\n\nyt.create(\"table\", canonized_squirrels_hectare_data, force=True, attributes={\"schema\": schema.to_yson_type()})\n\nyt.run_map(\n    HectareDataCanonizer(),\n    source_table=\"//home/samples/squirrels-hectare-data\",\n    destination_table=canonized_squirrels_hectare_data,\n)"
        },
        {
            "cell_type": "markdown",
            "id": "149202f1-8ece-40ba-9553-dca8ff745c99",
            "metadata": {
                "cell_id": "149202f1-8ece-40ba-9553-dca8ff745c99",
                "tracto": {
                    "metadata_version": "1",
                    "source_hash": "58a4d2e6",
                    "view_cell_type": "MD",
                    "view_source": "# Verify dataset"
                }
            },
            "source": "# Verify dataset\n\nWe have a dataset from the same authors, that contains squirrel data for each of the 3,023 sightings, including location coordinates, age, primary and secondary fur color, elevation, activities, communications, and interactions between squirrels and humans.\n\nWe can use this data for:\n1. Verifying our current dataset\n2. Creating a new dataset that includes data from both of them\n\nSince we will be using the reduce operation, we have to [sort](https://ytsaurus.tech/docs/en/user-guide/data-processing/operations/sort) the table by the keys."
        },
        {
            "cell_type": "code",
            "execution_count": 12,
            "id": "fc211609-5dc5-46c7-bdec-cd1a57c2f496",
            "metadata": {
                "cell_id": "fc211609-5dc5-46c7-bdec-cd1a57c2f496",
                "tracto": {
                    "execution_end": 1750359008009,
                    "execution_session_id": "1c87a8d9-8db0-4d43-bbe4-9c09de140ae8",
                    "execution_start": 1750359005130,
                    "metadata_version": "1",
                    "source_hash": "eb0f1259",
                    "view_cell_type": "CODE",
                    "view_source": "yt.run_sort(\n    source_table=canonized_squirrels_hectare_data,\n    destination_table=canonized_squirrels_hectare_data,\n    sort_by=[\"date\", \"hectare\", \"shift\"],\n)"
                }
            },
            "outputs": [
                {
                    "name": "stderr",
                    "output_type": "stream",
                    "text": "2025-06-19 18:50:05,392\tINFO\tOperation started: https://playground.tracto.ai/playground/operations/b5c350fe-7c2f0072-24dd03e8-d55f7daf/details\n"
                },
                {
                    "name": "stderr",
                    "output_type": "stream",
                    "text": "2025-06-19 18:50:05,436\tINFO\t( 0 min) operation b5c350fe-7c2f0072-24dd03e8-d55f7daf starting\n"
                },
                {
                    "name": "stderr",
                    "output_type": "stream",
                    "text": "2025-06-19 18:50:05,985\tINFO\t( 0 min) operation b5c350fe-7c2f0072-24dd03e8-d55f7daf initializing\n"
                },
                {
                    "name": "stderr",
                    "output_type": "stream",
                    "text": "2025-06-19 18:50:06,615\tINFO\t( 0 min) operation b5c350fe-7c2f0072-24dd03e8-d55f7daf: running=0     completed=0     pending=1     failed=0     aborted=0     lost=0     total=1     blocked=0    \n"
                },
                {
                    "name": "stderr",
                    "output_type": "stream",
                    "text": "2025-06-19 18:50:07,203\tINFO\t( 0 min) operation b5c350fe-7c2f0072-24dd03e8-d55f7daf: running=0     completed=1     pending=0     failed=0     aborted=0     lost=0     total=1     blocked=0    \n"
                },
                {
                    "name": "stderr",
                    "output_type": "stream",
                    "text": "2025-06-19 18:50:07,751\tINFO\t( 0 min) operation b5c350fe-7c2f0072-24dd03e8-d55f7daf completed\n"
                },
                {
                    "data": {
                        "text/plain": "<yt.wrapper.operation_commands.Operation at 0x7fe9cc246ed0>"
                    },
                    "execution_count": 7,
                    "metadata": {},
                    "output_type": "execute_result"
                }
            ],
            "source": "yt.run_sort(\n    source_table=canonized_squirrels_hectare_data,\n    destination_table=canonized_squirrels_hectare_data,\n    sort_by=[\"date\", \"hectare\", \"shift\"],\n)"
        },
        {
            "cell_type": "markdown",
            "id": "443a949d-c865-4386-a5ed-f54cb97ebcb9",
            "metadata": {
                "cell_id": "443a949d-c865-4386-a5ed-f54cb97ebcb9",
                "tracto": {
                    "metadata_version": "1",
                    "source_hash": "671fa472",
                    "view_cell_type": "MD",
                    "view_source": "Let's count how many squirrels were seen every day in the first dataset. Let's use [reduce operation](https://ytsaurus.tech/docs/en/user-guide/data-processing/operations/reduce)"
                }
            },
            "source": "Let's count how many squirrels were seen every day in the first dataset. Let's use [reduce operation](https://ytsaurus.tech/docs/en/user-guide/data-processing/operations/reduce)"
        },
        {
            "cell_type": "code",
            "execution_count": 14,
            "id": "25926dab-0b41-4c0c-86cc-b28e5afff251",
            "metadata": {
                "cell_id": "25926dab-0b41-4c0c-86cc-b28e5afff251",
                "tracto": {
                    "execution_end": 1750359018167,
                    "execution_session_id": "1c87a8d9-8db0-4d43-bbe4-9c09de140ae8",
                    "execution_start": 1750359008051,
                    "metadata_version": "1",
                    "source_hash": "1bd2928d",
                    "view_cell_type": "CODE",
                    "view_source": "def sum_squirrels_by_date_hectare(key: dict[str, int], records: Iterable[dict]):\n    squirrels = 0\n    for record in records:\n        squirrels += record[\"number_of_squirrels\"]\n    yield {\"date\": int(key[\"date\"]), \"squirrels\": squirrels}\n\nsquirrels_by_date_hectare = f\"{working_dir}/squirrels_by_date_hectare\"\n\nyt.run_reduce(\n    sum_squirrels_by_date_hectare,\n    source_table=canonized_squirrels_hectare_data,\n    destination_table=squirrels_by_date_hectare,\n    reduce_by=[\"date\"],\n)\nyt.run_sort(\n    source_table=squirrels_by_date_hectare,\n    destination_table=squirrels_by_date_hectare,\n    sort_by=[\"date\"],\n)"
                }
            },
            "outputs": [
                {
                    "name": "stderr",
                    "output_type": "stream",
                    "text": "2025-06-19 18:50:09,372\tINFO\tOperation started: https://playground.tracto.ai/playground/operations/9b05cd75-d05730f5-24dd03e8-24d9a881/details\n"
                },
                {
                    "name": "stderr",
                    "output_type": "stream",
                    "text": "2025-06-19 18:50:09,419\tINFO\t( 0 min) operation 9b05cd75-d05730f5-24dd03e8-24d9a881 starting\n"
                },
                {
                    "name": "stderr",
                    "output_type": "stream",
                    "text": "2025-06-19 18:50:09,962\tINFO\t( 0 min) operation 9b05cd75-d05730f5-24dd03e8-24d9a881 initializing\n"
                },
                {
                    "name": "stderr",
                    "output_type": "stream",
                    "text": "2025-06-19 18:50:12,721\tINFO\t( 0 min) Unrecognized spec: {'enable_partitioned_data_balancing': false, 'reducer': {'title': 'sum_squirrels_by_date_hectare'}}\n"
                },
                {
                    "name": "stderr",
                    "output_type": "stream",
                    "text": "2025-06-19 18:50:12,762\tINFO\t( 0 min) operation 9b05cd75-d05730f5-24dd03e8-24d9a881: running=0     completed=0     pending=1     failed=0     aborted=0     lost=0     total=1     blocked=0    \n"
                },
                {
                    "name": "stderr",
                    "output_type": "stream",
                    "text": "2025-06-19 18:50:13,342\tINFO\t( 0 min) operation 9b05cd75-d05730f5-24dd03e8-24d9a881: running=0     completed=1     pending=0     failed=0     aborted=0     lost=0     total=1     blocked=0    \n"
                },
                {
                    "name": "stderr",
                    "output_type": "stream",
                    "text": "2025-06-19 18:50:13,876\tINFO\t( 0 min) operation 9b05cd75-d05730f5-24dd03e8-24d9a881 completing\n"
                },
                {
                    "name": "stderr",
                    "output_type": "stream",
                    "text": "2025-06-19 18:50:14,419\tINFO\t( 0 min) operation 9b05cd75-d05730f5-24dd03e8-24d9a881 completed\n"
                },
                {
                    "name": "stderr",
                    "output_type": "stream",
                    "text": "2025-06-19 18:50:14,965\tINFO\tOperation started: https://playground.tracto.ai/playground/operations/bba847ae-398e7ee9-24dd03e8-5020cb15/details\n"
                },
                {
                    "name": "stderr",
                    "output_type": "stream",
                    "text": "2025-06-19 18:50:15,008\tINFO\t( 0 min) operation bba847ae-398e7ee9-24dd03e8-5020cb15 starting\n"
                },
                {
                    "name": "stderr",
                    "output_type": "stream",
                    "text": "2025-06-19 18:50:16,233\tINFO\t( 0 min) operation bba847ae-398e7ee9-24dd03e8-5020cb15: running=0     completed=0     pending=1     failed=0     aborted=0     lost=0     total=1     blocked=0    \n"
                },
                {
                    "name": "stderr",
                    "output_type": "stream",
                    "text": "2025-06-19 18:50:17,365\tINFO\t( 0 min) operation bba847ae-398e7ee9-24dd03e8-5020cb15 completing\n"
                },
                {
                    "name": "stderr",
                    "output_type": "stream",
                    "text": "2025-06-19 18:50:17,898\tINFO\t( 0 min) operation bba847ae-398e7ee9-24dd03e8-5020cb15 completed\n"
                },
                {
                    "data": {
                        "text/plain": "<yt.wrapper.operation_commands.Operation at 0x7fe9cc2809e0>"
                    },
                    "execution_count": 8,
                    "metadata": {},
                    "output_type": "execute_result"
                }
            ],
            "source": "def sum_squirrels_by_date_hectare(key: dict[str, int], records: Iterable[dict]):\n    squirrels = 0\n    for record in records:\n        squirrels += record[\"number_of_squirrels\"]\n    yield {\"date\": int(key[\"date\"]), \"squirrels\": squirrels}\n\nsquirrels_by_date_hectare = f\"{workdir}/squirrels_by_date_hectare\"\n\nyt.run_reduce(\n    sum_squirrels_by_date_hectare,\n    source_table=canonized_squirrels_hectare_data,\n    destination_table=squirrels_by_date_hectare,\n    reduce_by=[\"date\"],\n)\nyt.run_sort(\n    source_table=squirrels_by_date_hectare,\n    destination_table=squirrels_by_date_hectare,\n    sort_by=[\"date\"],\n)"
        },
        {
            "cell_type": "markdown",
            "id": "926b4179-fe12-4f5c-89ea-a621c1fc2649",
            "metadata": {
                "cell_id": "926b4179-fe12-4f5c-89ea-a621c1fc2649",
                "tracto": {
                    "metadata_version": "1",
                    "source_hash": "ab6f08e9",
                    "view_cell_type": "MD",
                    "view_source": "Let's count how many squirrels were seen every day in the second dataset."
                }
            },
            "source": "Let's count how many squirrels were seen every day in the second dataset."
        },
        {
            "cell_type": "code",
            "execution_count": 16,
            "id": "e51a6070-bca1-4a6d-938b-7d5817039145",
            "metadata": {
                "cell_id": "e51a6070-bca1-4a6d-938b-7d5817039145",
                "tracto": {
                    "execution_end": 1750359021600,
                    "execution_session_id": "1c87a8d9-8db0-4d43-bbe4-9c09de140ae8",
                    "execution_start": 1750359018196,
                    "metadata_version": "1",
                    "source_hash": "393f59a9",
                    "view_cell_type": "CODE",
                    "view_source": "sorted_squirrels_data = f\"{working_dir}/sorted_squirrels_data\"\n\nyt.run_sort(\n    source_table=\"//home/samples/squirrels\",\n    destination_table=sorted_squirrels_data,\n    sort_by=[\"date\", \"hectare\", \"shift\"],\n)"
                }
            },
            "outputs": [
                {
                    "name": "stderr",
                    "output_type": "stream",
                    "text": "2025-06-19 18:50:18,523\tINFO\tOperation started: https://playground.tracto.ai/playground/operations/1bf213ea-e7c4fb5a-24dd03e8-b58327d3/details\n"
                },
                {
                    "name": "stderr",
                    "output_type": "stream",
                    "text": "2025-06-19 18:50:18,562\tINFO\t( 0 min) operation 1bf213ea-e7c4fb5a-24dd03e8-b58327d3 starting\n"
                },
                {
                    "name": "stderr",
                    "output_type": "stream",
                    "text": "2025-06-19 18:50:19,114\tINFO\t( 0 min) operation 1bf213ea-e7c4fb5a-24dd03e8-b58327d3 initializing\n"
                },
                {
                    "name": "stderr",
                    "output_type": "stream",
                    "text": "2025-06-19 18:50:20,786\tINFO\t( 0 min) operation 1bf213ea-e7c4fb5a-24dd03e8-b58327d3 completing\n"
                },
                {
                    "name": "stderr",
                    "output_type": "stream",
                    "text": "2025-06-19 18:50:21,336\tINFO\t( 0 min) operation 1bf213ea-e7c4fb5a-24dd03e8-b58327d3 completed\n"
                },
                {
                    "data": {
                        "text/plain": "<yt.wrapper.operation_commands.Operation at 0x7fe9cc282fc0>"
                    },
                    "execution_count": 9,
                    "metadata": {},
                    "output_type": "execute_result"
                }
            ],
            "source": "sorted_squirrels_data = f\"{workdir}/sorted_squirrels_data\"\n\nyt.run_sort(\n    source_table=\"//home/samples/squirrels\",\n    destination_table=sorted_squirrels_data,\n    sort_by=[\"date\", \"hectare\", \"shift\"],\n)"
        },
        {
            "cell_type": "code",
            "execution_count": 17,
            "id": "aa922e78-9223-4da2-b129-bc82d09d98a3",
            "metadata": {
                "cell_id": "aa922e78-9223-4da2-b129-bc82d09d98a3",
                "tracto": {
                    "execution_end": 1750359033267,
                    "execution_session_id": "1c87a8d9-8db0-4d43-bbe4-9c09de140ae8",
                    "execution_start": 1750359021623,
                    "metadata_version": "1",
                    "source_hash": "6d71e640",
                    "view_cell_type": "CODE",
                    "view_source": "def sum_squirrels_by_date_squirrels(key: dict[str, int], records: Iterable[dict]):\n    squirrels = []\n    for record in records:\n        squirrels.append(record[\"squirrel_id\"])\n    squirrels_count = len(squirrels)\n    yield {\"date\": int(key[\"date\"]), \"squirrels\": squirrels_count}\n\nsquirrels_by_date_squirrels = f\"{working_dir}/squirrels_by_date_squirrels\"\n\nyt.run_reduce(\n    sum_squirrels_by_date_squirrels,\n    source_table=sorted_squirrels_data,\n    destination_table=squirrels_by_date_squirrels,\n    reduce_by=[\"date\"],\n)\nyt.run_sort(\n    source_table=squirrels_by_date_squirrels,\n    destination_table=squirrels_by_date_squirrels,\n    sort_by=[\"date\", \"hectare\", \"shift\"],\n)"
                }
            },
            "outputs": [
                {
                    "name": "stderr",
                    "output_type": "stream",
                    "text": "2025-06-19 18:50:23,015\tINFO\tOperation started: https://playground.tracto.ai/playground/operations/9671f4-8fd445f5-24dd03e8-d1607911/details\n"
                },
                {
                    "name": "stderr",
                    "output_type": "stream",
                    "text": "2025-06-19 18:50:23,068\tINFO\t( 0 min) operation 9671f4-8fd445f5-24dd03e8-d1607911 starting\n"
                },
                {
                    "name": "stderr",
                    "output_type": "stream",
                    "text": "2025-06-19 18:50:23,608\tINFO\t( 0 min) operation 9671f4-8fd445f5-24dd03e8-d1607911 initializing\n"
                },
                {
                    "name": "stderr",
                    "output_type": "stream",
                    "text": "2025-06-19 18:50:24,732\tINFO\t( 0 min) Unrecognized spec: {'enable_partitioned_data_balancing': false, 'reducer': {'title': 'sum_squirrels_by_date_squirrel'}}\n"
                },
                {
                    "name": "stderr",
                    "output_type": "stream",
                    "text": "2025-06-19 18:50:24,774\tINFO\t( 0 min) operation 9671f4-8fd445f5-24dd03e8-d1607911: running=0     completed=0     pending=1     failed=0     aborted=0     lost=0     total=1     blocked=0    \n"
                },
                {
                    "name": "stderr",
                    "output_type": "stream",
                    "text": "2025-06-19 18:50:27,123\tINFO\t( 0 min) operation 9671f4-8fd445f5-24dd03e8-d1607911: running=1     completed=0     pending=0     failed=0     aborted=0     lost=0     total=1     blocked=0    \n"
                },
                {
                    "name": "stderr",
                    "output_type": "stream",
                    "text": "2025-06-19 18:50:28,292\tINFO\t( 0 min) operation 9671f4-8fd445f5-24dd03e8-d1607911: running=0     completed=1     pending=0     failed=0     aborted=0     lost=0     total=1     blocked=0    \n"
                },
                {
                    "name": "stderr",
                    "output_type": "stream",
                    "text": "2025-06-19 18:50:28,935\tINFO\t( 0 min) operation 9671f4-8fd445f5-24dd03e8-d1607911 completed\n"
                },
                {
                    "name": "stderr",
                    "output_type": "stream",
                    "text": "2025-06-19 18:50:29,479\tINFO\tOperation started: https://playground.tracto.ai/playground/operations/4696732f-52420ad1-24dd03e8-e802b333/details\n"
                },
                {
                    "name": "stderr",
                    "output_type": "stream",
                    "text": "2025-06-19 18:50:29,521\tINFO\t( 0 min) operation 4696732f-52420ad1-24dd03e8-e802b333 starting\n"
                },
                {
                    "name": "stderr",
                    "output_type": "stream",
                    "text": "2025-06-19 18:50:30,068\tINFO\t( 0 min) operation 4696732f-52420ad1-24dd03e8-e802b333 initializing\n"
                },
                {
                    "name": "stderr",
                    "output_type": "stream",
                    "text": "2025-06-19 18:50:32,440\tINFO\t( 0 min) operation 4696732f-52420ad1-24dd03e8-e802b333: running=0     completed=1     pending=0     failed=0     aborted=0     lost=0     total=1     blocked=0    \n"
                },
                {
                    "name": "stderr",
                    "output_type": "stream",
                    "text": "2025-06-19 18:50:32,991\tINFO\t( 0 min) operation 4696732f-52420ad1-24dd03e8-e802b333 completed\n"
                },
                {
                    "data": {
                        "text/plain": "<yt.wrapper.operation_commands.Operation at 0x7fe9cc279670>"
                    },
                    "execution_count": 10,
                    "metadata": {},
                    "output_type": "execute_result"
                }
            ],
            "source": "def sum_squirrels_by_date_squirrels(key: dict[str, int], records: Iterable[dict]):\n    squirrels = []\n    for record in records:\n        squirrels.append(record[\"squirrel_id\"])\n    squirrels_count = len(squirrels)\n    yield {\"date\": int(key[\"date\"]), \"squirrels\": squirrels_count}\n\nsquirrels_by_date_squirrels = f\"{workdir}/squirrels_by_date_squirrels\"\n\nyt.run_reduce(\n    sum_squirrels_by_date_squirrels,\n    source_table=sorted_squirrels_data,\n    destination_table=squirrels_by_date_squirrels,\n    reduce_by=[\"date\"],\n)\nyt.run_sort(\n    source_table=squirrels_by_date_squirrels,\n    destination_table=squirrels_by_date_squirrels,\n    sort_by=[\"date\", \"hectare\", \"shift\"],\n)"
        },
        {
            "cell_type": "markdown",
            "id": "23c1a830-de46-44eb-b63d-db239947efb2",
            "metadata": {
                "cell_id": "23c1a830-de46-44eb-b63d-db239947efb2",
                "tracto": {
                    "metadata_version": "1",
                    "source_hash": "349ece53",
                    "view_cell_type": "MD",
                    "view_source": "## Join tables"
                }
            },
            "source": "## Join tables\n\nNow we can compare the data."
        },
        {
            "cell_type": "code",
            "execution_count": 19,
            "id": "98b94d3b-13f8-4fe9-b50a-b462be5d77ed",
            "metadata": {
                "cell_id": "98b94d3b-13f8-4fe9-b50a-b462be5d77ed",
                "tracto": {
                    "execution_end": 1750359416276,
                    "execution_session_id": "1c87a8d9-8db0-4d43-bbe4-9c09de140ae8",
                    "execution_start": 1750359033294,
                    "metadata_version": "1",
                    "source_hash": "2ac1647b",
                    "view_cell_type": "CODE",
                    "view_source": "@yt.with_context\ndef reduce_compare_squirrels_count(key: dict[str, str], records: Iterable[dict], context: yt.schema.Context):\n    count_by_table = {}\n    for record in records:\n        table_index = context.table_index\n        assert table_index not in count_by_table \n        count_by_table[table_index] = record[\"squirrels\"]\n    if count_by_table.get(0) != count_by_table.get(1):\n        yield {\"date\": key[\"date\"], \"squirrels_data\": count_by_table.get(0), \"hectare_data\": count_by_table.get(1)}\n\nsquirrels_count_diff = f\"{working_dir}/squirrels_count_diff\"\n\nyt.run_reduce(\n    reduce_compare_squirrels_count,\n    source_table=[squirrels_by_date_squirrels, squirrels_by_date_hectare],\n    destination_table=squirrels_count_diff,\n    reduce_by=[\"date\"],\n)"
                }
            },
            "outputs": [
                {
                    "name": "stderr",
                    "output_type": "stream",
                    "text": "2025-06-19 18:50:34,540\tINFO\tOperation started: https://playground.tracto.ai/playground/operations/e3bcc7ee-7244865d-24dd03e8-f7b6fb73/details\n"
                },
                {
                    "name": "stderr",
                    "output_type": "stream",
                    "text": "2025-06-19 18:50:34,581\tINFO\t( 0 min) operation e3bcc7ee-7244865d-24dd03e8-f7b6fb73 starting\n"
                },
                {
                    "name": "stderr",
                    "output_type": "stream",
                    "text": "2025-06-19 18:50:35,125\tINFO\t( 0 min) operation e3bcc7ee-7244865d-24dd03e8-f7b6fb73 initializing\n"
                },
                {
                    "name": "stderr",
                    "output_type": "stream",
                    "text": "2025-06-19 18:50:36,794\tINFO\t( 0 min) Unrecognized spec: {'enable_partitioned_data_balancing': false, 'reducer': {'title': 'reduce_compare_squirrels_count'}}\n"
                },
                {
                    "name": "stderr",
                    "output_type": "stream",
                    "text": "2025-06-19 18:50:37,417\tINFO\t( 0 min) operation e3bcc7ee-7244865d-24dd03e8-f7b6fb73: running=0     completed=0     pending=1     failed=0     aborted=0     lost=0     total=1     blocked=0    \n"
                },
                {
                    "name": "stderr",
                    "output_type": "stream",
                    "text": "2025-06-19 18:50:40,353\tINFO\t( 0 min) operation e3bcc7ee-7244865d-24dd03e8-f7b6fb73: running=1     completed=0     pending=0     failed=0     aborted=0     lost=0     total=1     blocked=0    \n"
                },
                {
                    "name": "stderr",
                    "output_type": "stream",
                    "text": "2025-06-19 18:56:55,936\tINFO\t( 6 min) operation e3bcc7ee-7244865d-24dd03e8-f7b6fb73 completed\n"
                },
                {
                    "data": {
                        "text/plain": "<yt.wrapper.operation_commands.Operation at 0x7fe9cc255ee0>"
                    },
                    "execution_count": 11,
                    "metadata": {},
                    "output_type": "execute_result"
                }
            ],
            "source": "@yt.with_context\ndef reduce_compare_squirrels_count(key: dict[str, str], records: Iterable[dict], context: yt.schema.Context):\n    count_by_table = {}\n    for record in records:\n        table_index = context.table_index\n        assert table_index not in count_by_table \n        count_by_table[table_index] = record[\"squirrels\"]\n    if count_by_table.get(0) != count_by_table.get(1):\n        yield {\"date\": key[\"date\"], \"squirrels_data\": count_by_table.get(0), \"hectare_data\": count_by_table.get(1)}\n\nsquirrels_count_diff = f\"{workdir}/squirrels_count_diff\"\n\nyt.run_reduce(\n    reduce_compare_squirrels_count,\n    source_table=[squirrels_by_date_squirrels, squirrels_by_date_hectare],\n    destination_table=squirrels_count_diff,\n    reduce_by=[\"date\"],\n)"
        },
        {
            "cell_type": "code",
            "execution_count": 20,
            "id": "27d32e8b-a9aa-4636-98d1-033077cac205",
            "metadata": {
                "cell_id": "27d32e8b-a9aa-4636-98d1-033077cac205",
                "tracto": {
                    "execution_end": 1750359416597,
                    "execution_session_id": "1c87a8d9-8db0-4d43-bbe4-9c09de140ae8",
                    "execution_start": 1750359416283,
                    "metadata_version": "1",
                    "source_hash": "ac7bf317",
                    "view_cell_type": "CODE",
                    "view_source": "for record in yt.read_table(squirrels_count_diff):\n    print(record)"
                }
            },
            "outputs": [
                {
                    "name": "stdout",
                    "output_type": "stream",
                    "text": "{'date': 17814, 'squirrels_data': 335, 'hectare_data': 334}\n"
                }
            ],
            "source": "for record in yt.read_table(squirrels_count_diff):\n    print(record)"
        },
        {
            "cell_type": "markdown",
            "id": "579da997-9fc5-41e2-ba82-2143e606716f",
            "metadata": {
                "cell_id": "579da997-9fc5-41e2-ba82-2143e606716f",
                "tracto": {
                    "metadata_version": "1",
                    "source_hash": "e404dbcf",
                    "view_cell_type": "MD",
                    "view_source": "# Make new dataset"
                }
            },
            "source": "We can see that the data is not the same on only one day and differs by 1. For the demo example, we consider this result acceptable.\n\n# Make new dataset\n\n## Use destination table with schema\n\nWe can secribe table's schema as yt_dataclass and reuse this object in next steps."
        },
        {
            "cell_type": "code",
            "execution_count": 22,
            "id": "5daec413-ab60-49f4-abed-d6b90a3ea397",
            "metadata": {
                "cell_id": "5daec413-ab60-49f4-abed-d6b90a3ea397",
                "tracto": {
                    "execution_end": 1750359424615,
                    "execution_session_id": "1c87a8d9-8db0-4d43-bbe4-9c09de140ae8",
                    "execution_start": 1750359416605,
                    "metadata_version": "1",
                    "source_hash": "591bdd99",
                    "view_cell_type": "CODE",
                    "view_source": "from typing import Optional, Any\n\n@yt.yt_dataclass\nclass JoinedDatasetRow:\n    date: yt.schema.Date\n    hectare: str\n    shift: str\n    other_animals_sightings: list[str]\n    temperature_celsius: Optional[int]\n    weather_data: list[str]\n    age: str\n    squirrel_id: str\n    running: bool\n    chasing: bool\n    climbing: bool\n    eating: bool\n    foraging: bool\n    kuks: bool\n    quaas: bool\n    moans: bool\n    tail_flags: bool\n    tail_twitches: bool\n    approaches: bool\n    indifferent: bool\n    runs_from: bool\n\n\njoined_dataset = f\"{working_dir}/joined_dataset\"\nyt.create(\"table\", joined_dataset, force=True, attributes={\"schema\": yt.schema.TableSchema.from_row_type(JoinedDatasetRow)})\n\n\n@yt.with_context\ndef reduce_join(key: dict[str, str], records: Iterable[dict[str, Any]], context: yt.schema.Context) -> Iterable:\n    squirrels: list[SquirrelsRow] = []\n    other_animals_sightings = set()\n    temperature_celsius = None\n    weather_data = set()\n    for record in records:\n        if context.table_index == 0:\n            squirrels.append(record)\n        elif context.table_index == 1:\n            other_animals_sightings.update(set(record[\"other_animals_sightings\"]))\n            temperature_celsius = record[\"temperature_celsius\"] if temperature_celsius is None else (temperature_celsius + record[\"temperature_celsius\"]) / 2\n            weather_data.update(set(record[\"weather_data\"]))\n    temperature_celsius = round(temperature_celsius) if temperature_celsius is not None else None\n    weather_data = list(weather_data)\n    other_animals_sightings = list(other_animals_sightings)\n    for squirrel in squirrels:\n        yield dict(\n            date=key[\"date\"],\n            hectare=key[\"hectare\"],\n            shift=key[\"shift\"],\n            other_animals_sightings=other_animals_sightings,\n            temperature_celsius=temperature_celsius,\n            weather_data=weather_data,\n            age=squirrel[\"age\"],\n            squirrel_id=squirrel[\"squirrel_id\"],\n            running=squirrel[\"running\"],\n            chasing=squirrel[\"chasing\"],\n            climbing=squirrel[\"climbing\"],\n            eating=squirrel[\"eating\"],\n            foraging=squirrel[\"foraging\"],\n            kuks=squirrel[\"kuks\"],\n            quaas=squirrel[\"quaas\"],\n            moans=squirrel[\"moans\"],\n            tail_flags=squirrel[\"tail_flags\"],\n            tail_twitches=squirrel[\"tail_twitches\"],\n            approaches=squirrel[\"approaches\"],\n            indifferent=squirrel[\"indifferent\"],\n            runs_from=squirrel[\"runs_from\"],\n        )\n\n\nyt.run_reduce(\n    reduce_join,\n    source_table=[sorted_squirrels_data, canonized_squirrels_hectare_data],\n    destination_table=joined_dataset,\n    reduce_by=[\"date\", \"hectare\", \"shift\"],\n)"
                }
            },
            "outputs": [
                {
                    "name": "stderr",
                    "output_type": "stream",
                    "text": "2025-06-19 18:56:58,066\tINFO\tOperation started: https://playground.tracto.ai/playground/operations/ada1861c-d86c4a51-24dd03e8-37c676c4/details\n"
                },
                {
                    "name": "stderr",
                    "output_type": "stream",
                    "text": "2025-06-19 18:56:58,112\tINFO\t( 0 min) operation ada1861c-d86c4a51-24dd03e8-37c676c4 starting\n"
                },
                {
                    "name": "stderr",
                    "output_type": "stream",
                    "text": "2025-06-19 18:56:58,660\tINFO\t( 0 min) operation ada1861c-d86c4a51-24dd03e8-37c676c4 initializing\n"
                },
                {
                    "name": "stderr",
                    "output_type": "stream",
                    "text": "2025-06-19 18:57:01,426\tINFO\t( 0 min) Unrecognized spec: {'enable_partitioned_data_balancing': false, 'reducer': {'title': 'reduce_join'}}\n"
                },
                {
                    "name": "stderr",
                    "output_type": "stream",
                    "text": "2025-06-19 18:57:01,467\tINFO\t( 0 min) operation ada1861c-d86c4a51-24dd03e8-37c676c4: running=0     completed=0     pending=1     failed=0     aborted=0     lost=0     total=1     blocked=0    \n"
                },
                {
                    "name": "stderr",
                    "output_type": "stream",
                    "text": "2025-06-19 18:57:03,214\tINFO\t( 0 min) operation ada1861c-d86c4a51-24dd03e8-37c676c4: running=0     completed=1     pending=0     failed=0     aborted=0     lost=0     total=1     blocked=0    \n"
                },
                {
                    "name": "stderr",
                    "output_type": "stream",
                    "text": "2025-06-19 18:57:03,756\tINFO\t( 0 min) operation ada1861c-d86c4a51-24dd03e8-37c676c4 completing\n"
                },
                {
                    "name": "stderr",
                    "output_type": "stream",
                    "text": "2025-06-19 18:57:04,308\tINFO\t( 0 min) operation ada1861c-d86c4a51-24dd03e8-37c676c4 completed\n"
                },
                {
                    "data": {
                        "text/plain": "<yt.wrapper.operation_commands.Operation at 0x7fe9cc27acc0>"
                    },
                    "execution_count": 13,
                    "metadata": {},
                    "output_type": "execute_result"
                }
            ],
            "source": "from typing import Optional, Any\n\n@yt.yt_dataclass\nclass JoinedDatasetRow:\n    date: yt.schema.Date\n    hectare: str\n    shift: str\n    other_animals_sightings: list[str]\n    temperature_celsius: Optional[int]\n    weather_data: list[str]\n    age: str\n    squirrel_id: str\n    running: bool\n    chasing: bool\n    climbing: bool\n    eating: bool\n    foraging: bool\n    kuks: bool\n    quaas: bool\n    moans: bool\n    tail_flags: bool\n    tail_twitches: bool\n    approaches: bool\n    indifferent: bool\n    runs_from: bool\n\n\njoined_dataset = f\"{workdir}/joined_dataset\"\nyt.create(\"table\", joined_dataset, force=True, attributes={\"schema\": yt.schema.TableSchema.from_row_type(JoinedDatasetRow)})\n\n\n@yt.with_context\ndef reduce_join(key: dict[str, str], records: Iterable[dict[str, Any]], context: yt.schema.Context) -> Iterable:\n    squirrels: list[SquirrelsRow] = []\n    other_animals_sightings = set()\n    temperature_celsius = None\n    weather_data = set()\n    for record in records:\n        if context.table_index == 0:\n            squirrels.append(record)\n        elif context.table_index == 1:\n            other_animals_sightings.update(set(record[\"other_animals_sightings\"]))\n            temperature_celsius = record[\"temperature_celsius\"] if temperature_celsius is None else (temperature_celsius + record[\"temperature_celsius\"]) / 2\n            weather_data.update(set(record[\"weather_data\"]))\n    temperature_celsius = round(temperature_celsius) if temperature_celsius is not None else None\n    weather_data = list(weather_data)\n    other_animals_sightings = list(other_animals_sightings)\n    for squirrel in squirrels:\n        yield dict(\n            date=key[\"date\"],\n            hectare=key[\"hectare\"],\n            shift=key[\"shift\"],\n            other_animals_sightings=other_animals_sightings,\n            temperature_celsius=temperature_celsius,\n            weather_data=weather_data,\n            age=squirrel[\"age\"],\n            squirrel_id=squirrel[\"squirrel_id\"],\n            running=squirrel[\"running\"],\n            chasing=squirrel[\"chasing\"],\n            climbing=squirrel[\"climbing\"],\n            eating=squirrel[\"eating\"],\n            foraging=squirrel[\"foraging\"],\n            kuks=squirrel[\"kuks\"],\n            quaas=squirrel[\"quaas\"],\n            moans=squirrel[\"moans\"],\n            tail_flags=squirrel[\"tail_flags\"],\n            tail_twitches=squirrel[\"tail_twitches\"],\n            approaches=squirrel[\"approaches\"],\n            indifferent=squirrel[\"indifferent\"],\n            runs_from=squirrel[\"runs_from\"],\n        )\n\n\nyt.run_reduce(\n    reduce_join,\n    source_table=[sorted_squirrels_data, canonized_squirrels_hectare_data],\n    destination_table=joined_dataset,\n    reduce_by=[\"date\", \"hectare\", \"shift\"],\n)"
        },
        {
            "cell_type": "markdown",
            "id": "1a9761ee-7f9f-476f-bdf0-2f55454fe414",
            "metadata": {
                "cell_id": "1a9761ee-7f9f-476f-bdf0-2f55454fe414",
                "tracto": {
                    "metadata_version": "1",
                    "source_hash": "2175b2e0",
                    "view_cell_type": "MD",
                    "view_source": "# Running squirrels\n\nNow we can find out when it was more likely to see a running squirrel in Central Park, New York, in October 2018 - on cold or warm days using our new dataset. Let's do this using [mapreduce operation](https://ytsaurus.tech/docs/en/user-guide/data-processing/operations/mapreduce). We will consider days with temperatures >= 15 as warm days and temperatures < 15 as cold days."
                }
            },
            "source": "# Running squirrels\n\nNow we can find out when it was more likely to see a running squirrel in Central Park, New York, in October 2018 - on cold or warm days using our new dataset. Let's do this using [mapreduce operation](https://ytsaurus.tech/docs/en/user-guide/data-processing/operations/mapreduce). We will consider days with temperatures >= 15 as warm days and temperatures < 15 as cold days."
        },
        {
            "cell_type": "code",
            "execution_count": 24,
            "id": "b3806db8-c8e4-4a80-9e49-0ec7c9d6c5af",
            "metadata": {
                "cell_id": "b3806db8-c8e4-4a80-9e49-0ec7c9d6c5af",
                "tracto": {
                    "execution_end": 1750359439332,
                    "execution_session_id": "1c87a8d9-8db0-4d43-bbe4-9c09de140ae8",
                    "execution_start": 1750359424643,
                    "metadata_version": "1",
                    "source_hash": "b077c8fb",
                    "view_cell_type": "CODE",
                    "view_source": "@yt.yt_dataclass\nclass RunningIsColdRow:\n    temperature: str\n    is_running: bool\n\n\n@yt.yt_dataclass\nclass RunningIsColdResultRow:\n    temperature: str\n    is_running: int\n    not_running: int\n\n\nclass RunningIsColdMapper(yt.TypedJob):\n    def __call__(self, record: JoinedDatasetRow) -> Iterable[RunningIsColdRow]:\n        if record.temperature_celsius is None:\n            return \n        yield RunningIsColdRow(\n            is_running=record.running,\n            temperature=\"total\",\n        )\n        yield RunningIsColdRow(\n            is_running=record.running,\n            temperature=\"cold\" if (record.temperature_celsius < 15) else \"not_cold\",\n        )\n\n\nclass RunningIsColdReducer(yt.TypedJob):\n    def __call__(self, records: yt.schema.RowIterator[RunningIsColdRow]) -> Iterable[RunningIsColdResultRow]:\n        is_running = 0\n        not_running = 0\n        for record in records:\n            if record.is_running:\n                is_running += 1\n            else:\n                not_running += 1\n        yield RunningIsColdResultRow(\n            is_running=is_running,\n            not_running=not_running,\n            temperature=record.temperature,\n        )\n\n\nrunning_squirrels = f\"{working_dir}/running_squirrels\"\n\nyt.run_map_reduce(\n    mapper=RunningIsColdMapper(),\n    reducer=RunningIsColdReducer(),\n    source_table=joined_dataset,\n    destination_table=running_squirrels,\n    reduce_by=[\"temperature\"],\n)\n\nfor line in yt.read_table(running_squirrels):\n    print(line)"
                }
            },
            "outputs": [
                {
                    "name": "stderr",
                    "output_type": "stream",
                    "text": "2025-06-19 18:57:07,071\tINFO\tOperation started: https://playground.tracto.ai/playground/operations/53e31f6f-c46163f7-24dd03e8-6a678268/details\n"
                },
                {
                    "name": "stderr",
                    "output_type": "stream",
                    "text": "2025-06-19 18:57:07,109\tINFO\t( 0 min) operation 53e31f6f-c46163f7-24dd03e8-6a678268 starting\n"
                },
                {
                    "name": "stderr",
                    "output_type": "stream",
                    "text": "2025-06-19 18:57:07,655\tINFO\t( 0 min) operation 53e31f6f-c46163f7-24dd03e8-6a678268 initializing\n"
                },
                {
                    "name": "stderr",
                    "output_type": "stream",
                    "text": "2025-06-19 18:57:10,398\tINFO\t( 0 min) Unrecognized spec: {'mapper': {'title': 'RunningIsColdMapper'}, 'reducer': {'title': 'RunningIsColdReducer'}}\n"
                },
                {
                    "name": "stderr",
                    "output_type": "stream",
                    "text": "2025-06-19 18:57:11,022\tINFO\t( 0 min) operation 53e31f6f-c46163f7-24dd03e8-6a678268: running=0     completed=1     pending=1     failed=0     aborted=0     lost=0     total=2     blocked=0    \n"
                },
                {
                    "name": "stderr",
                    "output_type": "stream",
                    "text": "2025-06-19 18:57:13,887\tINFO\t( 0 min) operation 53e31f6f-c46163f7-24dd03e8-6a678268: running=1     completed=1     pending=0     failed=0     aborted=0     lost=0     total=2     blocked=0    \n"
                },
                {
                    "name": "stderr",
                    "output_type": "stream",
                    "text": "2025-06-19 18:57:18,739\tINFO\t( 0 min) operation 53e31f6f-c46163f7-24dd03e8-6a678268 completed\n"
                },
                {
                    "name": "stdout",
                    "output_type": "stream",
                    "text": "{'temperature': 'cold', 'is_running': 296, 'not_running': 799}\n{'temperature': 'not_cold', 'is_running': 368, 'not_running': 1264}\n{'temperature': 'total', 'is_running': 664, 'not_running': 2063}\n"
                }
            ],
            "source": "@yt.yt_dataclass\nclass RunningIsColdRow:\n    temperature: str\n    is_running: bool\n\n\n@yt.yt_dataclass\nclass RunningIsColdResultRow:\n    temperature: str\n    is_running: int\n    not_running: int\n\n\nclass RunningIsColdMapper(yt.TypedJob):\n    def __call__(self, record: JoinedDatasetRow) -> Iterable[RunningIsColdRow]:\n        if record.temperature_celsius is None:\n            return \n        yield RunningIsColdRow(\n            is_running=record.running,\n            temperature=\"total\",\n        )\n        yield RunningIsColdRow(\n            is_running=record.running,\n            temperature=\"cold\" if (record.temperature_celsius < 15) else \"not_cold\",\n        )\n\n\nclass RunningIsColdReducer(yt.TypedJob):\n    def __call__(self, records: yt.schema.RowIterator[RunningIsColdRow]) -> Iterable[RunningIsColdResultRow]:\n        is_running = 0\n        not_running = 0\n        for record in records:\n            if record.is_running:\n                is_running += 1\n            else:\n                not_running += 1\n        yield RunningIsColdResultRow(\n            is_running=is_running,\n            not_running=not_running,\n            temperature=record.temperature,\n        )\n\n\nrunning_squirrels = f\"{workdir}/running_squirrels\"\n\nyt.run_map_reduce(\n    mapper=RunningIsColdMapper(),\n    reducer=RunningIsColdReducer(),\n    source_table=joined_dataset,\n    destination_table=running_squirrels,\n    reduce_by=[\"temperature\"],\n)\n\nfor line in yt.read_table(running_squirrels):\n    print(line)"
        },
        {
            "cell_type": "code",
            "execution_count": 25,
            "id": "29a22318-d2c3-4e61-8af3-8e9cfce18930",
            "metadata": {
                "cell_id": "29a22318-d2c3-4e61-8af3-8e9cfce18930",
                "tracto": {
                    "execution_end": 1750359439370,
                    "execution_session_id": "1c87a8d9-8db0-4d43-bbe4-9c09de140ae8",
                    "execution_start": 1750359439336,
                    "metadata_version": "1",
                    "source_hash": "0d1da6ab",
                    "view_cell_type": "CODE",
                    "view_source": "print(\"Cold: \", 296 / (296 + 799))\nprint(\"Warm: \", 368 / (368 + 1264))"
                }
            },
            "outputs": [
                {
                    "name": "stdout",
                    "output_type": "stream",
                    "text": "Cold:  0.27031963470319637\nWarm:  0.22549019607843138\n"
                }
            ],
            "source": "print(\"Cold: \", 296 / (296 + 799))\nprint(\"Warm: \", 368 / (368 + 1264))"
        },
        {
            "cell_type": "markdown",
            "id": "c28c9bc8-90f4-426c-9b38-ee451b24bdc4",
            "metadata": {
                "cell_id": "c28c9bc8-90f4-426c-9b38-ee451b24bdc4",
                "tracto": {
                    "metadata_version": "1",
                    "source_hash": "2b07e6f8",
                    "view_cell_type": "MD",
                    "view_source": "We can see that the proportion of contacts with running squirrels was higher on cold days. Let's use [Chi-squared test](https://en.wikipedia.org/wiki/Chi-squared_test) to verify it."
                }
            },
            "source": "We can see that the proportion of contacts with running squirrels was higher on cold days. Let's use [Chi-squared test](https://en.wikipedia.org/wiki/Chi-squared_test) to verify it."
        },
        {
            "cell_type": "code",
            "execution_count": 27,
            "id": "9856bb98-d322-49ee-bcc6-d7e286678859",
            "metadata": {
                "cell_id": "9856bb98-d322-49ee-bcc6-d7e286678859",
                "tracto": {
                    "execution_end": 1750359442502,
                    "execution_session_id": "1c87a8d9-8db0-4d43-bbe4-9c09de140ae8",
                    "execution_start": 1750359439403,
                    "metadata_version": "1",
                    "source_hash": "81583015",
                    "view_cell_type": "CODE",
                    "view_source": "!pip install scipy"
                }
            },
            "outputs": [
                {
                    "name": "stdout",
                    "output_type": "stream",
                    "text": "Requirement already satisfied: scipy in /usr/local/lib/python3.12/site-packages (1.15.2)\r\nRequirement already satisfied: numpy<2.5,>=1.23.5 in /slot/sandbox/jlab/lib/python42/site-packages (from scipy) (2.2.6)\r\n"
                },
                {
                    "name": "stdout",
                    "output_type": "stream",
                    "text": "\u001b[33mWARNING: Running pip as the 'root' user can result in broken permissions and conflicting behaviour with the system package manager, possibly rendering your system unusable.It is recommended to use a virtual environment instead: https://pip.pypa.io/warnings/venv. Use the --root-user-action option if you know what you are doing and want to suppress this warning.\u001b[0m\u001b[33m\r\n\u001b[0m"
                },
                {
                    "name": "stdout",
                    "output_type": "stream",
                    "text": "\r\n\u001b[1m[\u001b[0m\u001b[34;49mnotice\u001b[0m\u001b[1;39;49m]\u001b[0m\u001b[39;49m A new release of pip is available: \u001b[0m\u001b[31;49m24.3.1\u001b[0m\u001b[39;49m -> \u001b[0m\u001b[32;49m25.1.1\u001b[0m\r\n\u001b[1m[\u001b[0m\u001b[34;49mnotice\u001b[0m\u001b[1;39;49m]\u001b[0m\u001b[39;49m To update, run: \u001b[0m\u001b[32;49mpip install --upgrade pip\u001b[0m\r\n"
                }
            ],
            "source": "!pip install scipy"
        },
        {
            "cell_type": "code",
            "execution_count": 28,
            "id": "08662208-4bed-40e1-8172-89e90027da08",
            "metadata": {
                "tracto": {
                    "execution_end": 1750359443530,
                    "execution_session_id": "1c87a8d9-8db0-4d43-bbe4-9c09de140ae8",
                    "execution_start": 1750359442525,
                    "metadata_version": "1",
                    "source_hash": "2547a4e3",
                    "view_cell_type": "CODE"
                }
            },
            "outputs": [
                {
                    "data": {
                        "text/plain": "np.True_"
                    },
                    "execution_count": 17,
                    "metadata": {},
                    "output_type": "execute_result"
                }
            ],
            "source": "from scipy.stats import chi2_contingency\n\nobserved = [\n    [296, 799],\n    [368, 1264],\n]\n\nchi2, p, dof, expected = chi2_contingency(observed)\n\np < 0.05"
        },
        {
            "cell_type": "markdown",
            "id": "f285677d-3d08-43dc-8e3a-3547825434b7",
            "metadata": {
                "cell_id": "f285677d-3d08-43dc-8e3a-3547825434b7",
                "tracto": {
                    "metadata_version": "1",
                    "source_hash": "957fbf66",
                    "view_cell_type": "MD",
                    "view_source": "~~Therefore, in cold days squirrels run more.~~\n\nTherefore, we see that in cold days of October 2018, it was more likely to see a running squirrel in Central Park, New York, than on warm days."
                }
            },
            "source": "~~Therefore, in cold days squirrels run more.~~\n\nTherefore, we see that in cold days of October 2018, it was more likely to see a running squirrel in Central Park, New York, than on warm days."
        }
    ],
    "metadata": {
        "is_solution_notebook": true,
        "kernelspec": {
            "display_name": "faucct",
            "name": "faucct"
        },
        "tracto": {
            "is_solution_notebook": true,
            "metadata_version": "1",
            "notebook_cypress_id": "d4a9ec0e-c576-4167-ab24-01e8e4f442b9"
        }
    },
    "nbformat": 4,
    "nbformat_minor": 5
}