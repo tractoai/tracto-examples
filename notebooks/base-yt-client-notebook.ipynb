{
    "cells": [
        {
            "cell_type": "code",
            "execution_count": 0,
            "id": "852b90e5-fb81-43bb-b46c-654555e0a65e",
            "metadata": {
                "cell_id": "852b90e5-fb81-43bb-b46c-654555e0a65e",
                "tracto": {
                    "metadata_version": "1",
                    "view_cell_type": "CODE",
                    "view_source": "from yt import wrapper as yt"
                }
            },
            "outputs": [],
            "source": "from yt import wrapper as yt"
        },
        {
            "cell_type": "markdown",
            "id": "32d866fe-08f1-4258-810d-948446a7efbf",
            "metadata": {
                "cell_id": "32d866fe-08f1-4258-810d-948446a7efbf",
                "tracto": {
                    "metadata_version": "1",
                    "view_cell_type": "MD",
                    "view_source": "You can use YTsaurus client without passing a proxy and a token.\nYTsaurus client implicitly uses the token from the YT_TOKEN secret and works with the current cluster."
                }
            },
            "source": "You can use YTsaurus client without passing a proxy and a token.\nYTsaurus client implicitly uses the token from the YT_TOKEN secret and works with the current cluster."
        },
        {
            "cell_type": "markdown",
            "id": "6f03350c-7419-4bba-98d7-a5a6c81be0fa",
            "metadata": {
                "cell_id": "6f03350c-7419-4bba-98d7-a5a6c81be0fa",
                "tracto": {
                    "metadata_version": "1",
                    "view_cell_type": "MD",
                    "view_source": "Let's get attributes from `//sys` directory."
                }
            },
            "source": "Let's get attributes from `//sys` directory."
        },
        {
            "cell_type": "code",
            "execution_count": 3,
            "id": "7726ff8a-2046-4899-b6e2-9c470ff79b30",
            "metadata": {
                "cell_id": "7726ff8a-2046-4899-b6e2-9c470ff79b30",
                "tracto": {
                    "metadata_version": "1",
                    "view_cell_type": "CODE",
                    "view_source": "yt.get(\"//sys/@\")"
                }
            },
            "outputs": [
                {
                    "data": {
                        "text/plain": "{'id': '1-1f-1344025a-641e14df', 'type': 'sys_node', 'builtin': false, 'sequoia': false, 'ref_counter': 1, 'ephemeral_ref_counter': 0, 'weak_ref_counter': 0, 'foreign': false, 'native_cell_tag': 4932, 'revision': 52613349834784, 'attribute_revision': 52613349834784, 'content_revision': 52334176511585, 'inherit_acl': true, 'acl': [], 'owner': 'root', 'effective_acl': YsonEntity, 'user_attribute_keys': ['enable_safe_mode', 'disable_bundle_balancer', 'ui_config'], 'opaque_attribute_keys': YsonEntity, 'user_attributes': YsonEntity, 'life_stage': 'creation_committed', 'estimated_creation_time': YsonEntity, 'parent_id': 'ffffffff-ffffffff-1344012f-1d0e63f7', 'external': false, 'locks': YsonEntity, 'lock_count': 0, 'lock_mode': 'none', 'path': YsonEntity, 'key': 'sys', 'effective_expiration': YsonEntity, 'creation_time': '2023-09-14T08:58:43.575130Z', 'modification_time': '2025-01-16T16:46:20.862120Z', 'access_time': '2025-01-21T19:22:49.808213Z', 'access_counter': 170775, 'resource_usage': {'node_count': 1, 'chunk_count': 0, 'disk_space_per_medium': {}, 'disk_space': 0, 'chunk_host_cell_master_memory': 0, 'master_memory': 4382, 'detailed_master_memory': {'nodes': 1719, 'chunks': 0, 'attributes': 2663, 'tablets': 0, 'schemas': 0}, 'tablet_count': 0, 'tablet_static_memory': 0}, 'recursive_resource_usage': YsonEntity, 'account': 'sys', 'opaque': true, 'shard_id': 'ffffffff-ffffffff-13442afc-1d0e63f7', 'resolve_cached': false, 'annotation': YsonEntity, 'annotation_path': YsonEntity, 'count': 110, 'tablet_cell_bundle': 'sys', 'cell_tag': 4932, 'primary_cell_tag': 4932, 'cell_id': '65726e65-ad6b7562-13440259-79747361', 'primary_cell_id': '65726e65-ad6b7562-13440259-79747361', 'current_commit_revision': 53313429805683, 'chunk_replicator_enabled': true, 'chunk_refresh_enabled': true, 'chunk_requisition_update_enabled': true, 'registered_master_cell_tags': [], 'dynamically_propagated_masters_cell_tags': [], 'master_alerts': [], 'config': YsonEntity, 'hydra_read_only': false, 'queue_agent_object_revisions': YsonEntity, 'enable_safe_mode': false, 'cluster_connection': {'chyt': {}, 'cluster_name': 'planck', 'discovery_connection': {'addresses': ['ds-0.discovery.planck.svc.kyt.k8s.nebius.yt:9020', 'ds-1.discovery.planck.svc.kyt.k8s.nebius.yt:9020', 'ds-2.discovery.planck.svc.kyt.k8s.nebius.yt:9020', 'ds-3.discovery.planck.svc.kyt.k8s.nebius.yt:9020', 'ds-4.discovery.planck.svc.kyt.k8s.nebius.yt:9020']}, 'primary_master': {'addresses': ['man0-0793.hw.nebius.yt:9010', 'man0-0836.hw.nebius.yt:9010', 'man0-0837.hw.nebius.yt:9010', 'man0-0838.hw.nebius.yt:9010', 'man0-0839.hw.nebius.yt:9010'], 'cell_id': '65726e65-ad6b7562-13440259-79747361', 'peers': [{'address': 'man0-0793.hw.nebius.yt:9010', 'voting': true}, {'address': 'man0-0836.hw.nebius.yt:9010', 'voting': true}, {'address': 'man0-0837.hw.nebius.yt:9010', 'voting': true}, {'address': 'man0-0838.hw.nebius.yt:9010', 'voting': true}, {'address': 'man0-0839.hw.nebius.yt:9010', 'voting': true}]}, 'query_tracker': {'stages': {'production': {'channel': {'addresses': ['qt-0.query-trackers.planck.svc.kyt.k8s.nebius.yt:9028', 'qt-1.query-trackers.planck.svc.kyt.k8s.nebius.yt:9028', 'qt-2.query-trackers.planck.svc.kyt.k8s.nebius.yt:9028', 'qt-3.query-trackers.planck.svc.kyt.k8s.nebius.yt:9028', 'qt-4.query-trackers.planck.svc.kyt.k8s.nebius.yt:9028']}, 'root': '//sys/query_tracker', 'user': 'query_tracker'}}}, 'queue_agent': {'queue_consumer_registration_manager': {'resolve_replicas': true, 'resolve_symlinks': true}, 'stages': {'production': {'addresses': ['qa-0.queue-agents.planck.svc.kyt.k8s.nebius.yt:9030', 'qa-1.queue-agents.planck.svc.kyt.k8s.nebius.yt:9030', 'qa-2.queue-agents.planck.svc.kyt.k8s.nebius.yt:9030', 'qa-3.queue-agents.planck.svc.kyt.k8s.nebius.yt:9030', 'qa-4.queue-agents.planck.svc.kyt.k8s.nebius.yt:9030']}}}, 'table_mount_cache': {'expire_after_access_time': 1800000, 'expire_after_successful_update_time': 1800000, 'refresh_time': 30000}, 'yql_agent': {'stages': {'production': {'channel': {'addresses': ['yqla-0.yql-agents.planck.svc.kyt.k8s.nebius.yt:9019', 'yqla-1.yql-agents.planck.svc.kyt.k8s.nebius.yt:9019', 'yqla-2.yql-agents.planck.svc.kyt.k8s.nebius.yt:9019', 'yqla-3.yql-agents.planck.svc.kyt.k8s.nebius.yt:9019', 'yqla-4.yql-agents.planck.svc.kyt.k8s.nebius.yt:9019'], 'disable_balancing_on_single_address': false}}}}}, 'disable_bundle_balancer': false, 'ui_config': {'chyt_controller_base_url': 'https://chyt.planck.yt.nebius.yt', 'enable_per_account_tablet_accounting': 'true', 'image_builder_base_url': 'https://tracto-wizard.planck.yt.nebius.yt', 'jupyt_controller_base_url': 'https://jupyt.planck.yt.nebius.yt', 'secret_service_base_url': 'https://secdel.planck.yt.nebius.yt', 'tracto_registry_base_url': 'https://tracto-registry.planck.yt.nebius.yt', 'orc_base_url': 'https://orc.planck.yt.nebius.yt'}}"
                    },
                    "execution_count": 2,
                    "metadata": {},
                    "output_type": "execute_result"
                }
            ],
            "source": "yt.get(\"//sys/@\")"
        },
        {
            "cell_type": "markdown",
            "id": "1b82e5c1-271b-4084-8806-1a6c13d2d4bf",
            "metadata": {
                "cell_id": "1b82e5c1-271b-4084-8806-1a6c13d2d4bf",
                "tracto": {
                    "metadata_version": "1",
                    "view_cell_type": "MD",
                    "view_source": "Create ytsaurus client, create table and sort it."
                }
            },
            "source": "Create ytsaurus client, create table and sort it."
        },
        {
            "cell_type": "code",
            "execution_count": 5,
            "id": "707ec6fe-be3a-4331-af93-cac25b808f57",
            "metadata": {
                "cell_id": "707ec6fe-be3a-4331-af93-cac25b808f57",
                "tracto": {
                    "metadata_version": "1",
                    "view_cell_type": "CODE",
                    "view_source": "client = yt.YtClient(config=yt.default_config.get_config_from_env())"
                }
            },
            "outputs": [],
            "source": "client = yt.YtClient(config=yt.default_config.get_config_from_env())"
        },
        {
            "cell_type": "code",
            "execution_count": 6,
            "id": "1cf121a3-af0b-4fd7-b5d1-84101b798c86",
            "metadata": {
                "cell_id": "1cf121a3-af0b-4fd7-b5d1-84101b798c86",
                "tracto": {
                    "metadata_version": "1",
                    "view_cell_type": "CODE",
                    "view_source": "import uuid\n\nbase_example_path = f\"//tmp/jupyter-example-{uuid.uuid4().hex}\"\nclient.create(\"map_node\", base_example_path)\nprint(base_example_path)"
                }
            },
            "outputs": [
                {
                    "name": "stdout",
                    "output_type": "stream",
                    "text": "//tmp/jupyter-example-f5c1804f176a4b02b94f28ee9c016ac2\n"
                }
            ],
            "source": "import uuid\n\nbase_example_path = f\"//tmp/jupyter-example-{uuid.uuid4().hex}\"\nclient.create(\"map_node\", base_example_path)\nprint(base_example_path)"
        },
        {
            "cell_type": "code",
            "execution_count": 7,
            "id": "2d47762f-6fe1-4f0a-ab45-7f40c60c8339",
            "metadata": {
                "cell_id": "2d47762f-6fe1-4f0a-ab45-7f40c60c8339",
                "tracto": {
                    "metadata_version": "1",
                    "view_cell_type": "CODE",
                    "view_source": "records = [{\"key\": \"a\", \"value\": 3}, {\"key\": \"b\", \"value\": 2}, {\"key\": \"c\", \"value\": 1}]\ntable_path = f\"{base_example_path}/table_to_be_sorted\"\nclient.write_table(f\"{base_example_path}/table_to_be_sorted\", input_stream=records, force_create=True)"
                }
            },
            "outputs": [],
            "source": "records = [{\"key\": \"a\", \"value\": 3}, {\"key\": \"b\", \"value\": 2}, {\"key\": \"c\", \"value\": 1}]\ntable_path = f\"{base_example_path}/table_to_be_sorted\"\nclient.write_table(f\"{base_example_path}/table_to_be_sorted\", input_stream=records, force_create=True)"
        },
        {
            "cell_type": "code",
            "execution_count": 8,
            "id": "63f98c9e-3611-43c3-b7e3-06d12fbe6097",
            "metadata": {
                "cell_id": "63f98c9e-3611-43c3-b7e3-06d12fbe6097",
                "tracto": {
                    "metadata_version": "1",
                    "view_cell_type": "CODE",
                    "view_source": "client = yt.YtClient(config=yt.default_config.get_config_from_env())"
                }
            },
            "outputs": [],
            "source": "client = yt.YtClient(config=yt.default_config.get_config_from_env())"
        },
        {
            "cell_type": "code",
            "execution_count": 9,
            "id": "f08608f2-ade3-4aa4-af11-8023d1fbf4f3",
            "metadata": {
                "cell_id": "f08608f2-ade3-4aa4-af11-8023d1fbf4f3",
                "tracto": {
                    "metadata_version": "1",
                    "view_cell_type": "CODE",
                    "view_source": "print([r for r in client.read_table(table_path)])"
                }
            },
            "outputs": [
                {
                    "name": "stdout",
                    "output_type": "stream",
                    "text": "[{'key': 'a', 'value': 3}, {'key': 'b', 'value': 2}, {'key': 'c', 'value': 1}]\n"
                }
            ],
            "source": "print([r for r in client.read_table(table_path)])"
        },
        {
            "cell_type": "code",
            "execution_count": 10,
            "id": "cf6db93b-7f64-4092-9ef9-17790fd46f2e",
            "metadata": {
                "cell_id": "cf6db93b-7f64-4092-9ef9-17790fd46f2e",
                "tracto": {
                    "metadata_version": "1",
                    "view_cell_type": "CODE",
                    "view_source": "client.run_sort(table_path, table_path, sort_by=\"value\")"
                }
            },
            "outputs": [
                {
                    "name": "stderr",
                    "output_type": "stream",
                    "text": "2025-01-21 19:28:04,904\tINFO\tOperation started: https://playground.yt.nebius.yt/playground/operations/c88c20f4-5ee51517-134403e8-734c929f/details\n"
                },
                {
                    "name": "stderr",
                    "output_type": "stream",
                    "text": "2025-01-21 19:28:04,944\tINFO\t( 0 min) operation c88c20f4-5ee51517-134403e8-734c929f initializing\n"
                },
                {
                    "name": "stderr",
                    "output_type": "stream",
                    "text": "2025-01-21 19:28:06,076\tINFO\t( 0 min) operation c88c20f4-5ee51517-134403e8-734c929f: running=0     completed=0     pending=1     failed=0     aborted=0     lost=0     total=1     blocked=0    \n"
                },
                {
                    "name": "stderr",
                    "output_type": "stream",
                    "text": "2025-01-21 19:28:08,882\tINFO\t( 0 min) operation c88c20f4-5ee51517-134403e8-734c929f: running=1     completed=0     pending=0     failed=0     aborted=0     lost=0     total=1     blocked=0    \n"
                },
                {
                    "name": "stderr",
                    "output_type": "stream",
                    "text": "2025-01-21 19:28:15,687\tINFO\t( 0 min) operation c88c20f4-5ee51517-134403e8-734c929f completing\n"
                },
                {
                    "name": "stderr",
                    "output_type": "stream",
                    "text": "2025-01-21 19:28:16,217\tINFO\t( 0 min) operation c88c20f4-5ee51517-134403e8-734c929f completed\n"
                },
                {
                    "data": {
                        "text/plain": "<yt.wrapper.operation_commands.Operation at 0x7f7b701c50d0>"
                    },
                    "execution_count": 8,
                    "metadata": {},
                    "output_type": "execute_result"
                }
            ],
            "source": "client.run_sort(table_path, table_path, sort_by=\"value\")"
        },
        {
            "cell_type": "code",
            "execution_count": 11,
            "id": "de632271-1ce7-4962-890a-eda09261fef9",
            "metadata": {
                "cell_id": "de632271-1ce7-4962-890a-eda09261fef9",
                "tracto": {
                    "metadata_version": "1",
                    "view_cell_type": "CODE",
                    "view_source": "print([r for r in client.read_table(table_path)])"
                }
            },
            "outputs": [
                {
                    "name": "stdout",
                    "output_type": "stream",
                    "text": "[{'value': 1, 'key': 'c'}, {'value': 2, 'key': 'b'}, {'value': 3, 'key': 'a'}]\n"
                }
            ],
            "source": "print([r for r in client.read_table(table_path)])"
        }
    ],
    "metadata": {
        "kernelspec": {
            "display_name": "faucct",
            "name": "faucct"
        },
        "tracto": {
            "is_solution_notebook": true,
            "metadata_version": "1",
            "notebook_cypress_id": "8b02f7d0-38cb-4583-baa8-acf25309a9f8"
        },
        "is_solution_notebook": true
    },
    "nbformat": 4,
    "nbformat_minor": 5
}