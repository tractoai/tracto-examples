{
    "cells": [
        {
            "cell_type": "markdown",
            "id": "c9da4f42-df8b-4603-bf2c-84a579f49c0f",
            "metadata": {
                "cell_id": "c9da4f42-df8b-4603-bf2c-84a579f49c0f",
                "tracto": {
                    "metadata_version": "1",
                    "view_cell_type": "MD",
                    "view_source": "## First things first - let's install numpy and pandas\n"
                }
            },
            "source": "## First things first - let's install numpy and pandas\n"
        },
        {
            "cell_type": "code",
            "execution_count": 1,
            "id": "081e2990-e9ca-460a-8101-0849d26898b7",
            "metadata": {
                "cell_id": "081e2990-e9ca-460a-8101-0849d26898b7",
                "tracto": {
                    "metadata_version": "1",
                    "view_cell_type": "CODE",
                    "view_source": "!pip uninstall numpy pandas matplotlib -y\n!pip install numpy pandas matplotlib --no-cache-dir"
                }
            },
            "outputs": [
                {
                    "name": "stdout",
                    "output_type": "stream",
                    "text": "Found existing installation: numpy 2.2.2\r\n"
                },
                {
                    "name": "stdout",
                    "output_type": "stream",
                    "text": "Uninstalling numpy-2.2.2:\r\n  Successfully uninstalled numpy-2.2.2\r\n"
                },
                {
                    "name": "stdout",
                    "output_type": "stream",
                    "text": "Found existing installation: pandas 2.2.3\r\n"
                },
                {
                    "name": "stdout",
                    "output_type": "stream",
                    "text": "Uninstalling pandas-2.2.3:\r\n  Successfully uninstalled pandas-2.2.3\r\n"
                },
                {
                    "name": "stdout",
                    "output_type": "stream",
                    "text": "Found existing installation: matplotlib 3.10.0\r\nUninstalling matplotlib-3.10.0:\r\n"
                },
                {
                    "name": "stdout",
                    "output_type": "stream",
                    "text": "  Successfully uninstalled matplotlib-3.10.0\r\n"
                },
                {
                    "name": "stdout",
                    "output_type": "stream",
                    "text": "\u001b[33mWARNING: Running pip as the 'root' user can result in broken permissions and conflicting behaviour with the system package manager. It is recommended to use a virtual environment instead: https://pip.pypa.io/warnings/venv\u001b[0m\u001b[33m\r\n\u001b[0m"
                },
                {
                    "name": "stdout",
                    "output_type": "stream",
                    "text": "Collecting numpy\r\n"
                },
                {
                    "name": "stdout",
                    "output_type": "stream",
                    "text": "  Downloading numpy-2.2.2-cp311-cp311-manylinux_2_17_x86_64.manylinux2014_x86_64.whl.metadata (62 kB)\r\n\u001b[?25l     \u001b[90m\u2501\u2501\u2501\u2501\u2501\u2501\u2501\u2501\u2501\u2501\u2501\u2501\u2501\u2501\u2501\u2501\u2501\u2501\u2501\u2501\u2501\u2501\u2501\u2501\u2501\u2501\u2501\u2501\u2501\u2501\u2501\u2501\u2501\u2501\u2501\u2501\u2501\u2501\u2501\u2501\u001b[0m \u001b[32m0.0/62.0 kB\u001b[0m \u001b[31m?\u001b[0m eta \u001b[36m-:--:--\u001b[0m\r\u001b[2K     \u001b[90m\u2501\u2501\u2501\u2501\u2501\u2501\u2501\u2501\u2501\u2501\u2501\u2501\u2501\u2501\u2501\u2501\u2501\u2501\u2501\u2501\u2501\u2501\u2501\u2501\u2501\u2501\u2501\u2501\u2501\u2501\u2501\u2501\u2501\u2501\u2501\u2501\u2501\u2501\u2501\u2501\u001b[0m \u001b[32m62.0/62.0 kB\u001b[0m \u001b[31m26.0 MB/s\u001b[0m eta \u001b[36m0:00:00\u001b[0m\r\n\u001b[?25h"
                },
                {
                    "name": "stdout",
                    "output_type": "stream",
                    "text": "Collecting pandas\r\n  Downloading pandas-2.2.3-cp311-cp311-manylinux_2_17_x86_64.manylinux2014_x86_64.whl.metadata (89 kB)\r\n\u001b[?25l     \u001b[90m\u2501\u2501\u2501\u2501\u2501\u2501\u2501\u2501\u2501\u2501\u2501\u2501\u2501\u2501\u2501\u2501\u2501\u2501\u2501\u2501\u2501\u2501\u2501\u2501\u2501\u2501\u2501\u2501\u2501\u2501\u2501\u2501\u2501\u2501\u2501\u2501\u2501\u2501\u2501\u2501\u001b[0m \u001b[32m0.0/89.9 kB\u001b[0m \u001b[31m?\u001b[0m eta \u001b[36m-:--:--\u001b[0m\r\u001b[2K     \u001b[90m\u2501\u2501\u2501\u2501\u2501\u2501\u2501\u2501\u2501\u2501\u2501\u2501\u2501\u2501\u2501\u2501\u2501\u2501\u2501\u2501\u2501\u2501\u2501\u2501\u2501\u2501\u2501\u2501\u2501\u2501\u2501\u2501\u2501\u2501\u2501\u2501\u2501\u2501\u2501\u001b[0m \u001b[32m89.9/89.9 kB\u001b[0m \u001b[31m134.5 MB/s\u001b[0m eta \u001b[36m0:00:00\u001b[0m\r\n\u001b[?25h"
                },
                {
                    "name": "stdout",
                    "output_type": "stream",
                    "text": "Collecting matplotlib\r\n  Downloading matplotlib-3.10.0-cp311-cp311-manylinux_2_17_x86_64.manylinux2014_x86_64.whl.metadata (11 kB)\r\n"
                },
                {
                    "name": "stdout",
                    "output_type": "stream",
                    "text": "Requirement already satisfied: python-dateutil>=2.8.2 in /opt/conda/lib/python3.11/site-packages (from pandas) (2.9.0)\r\nRequirement already satisfied: pytz>=2020.1 in /opt/conda/lib/python3.11/site-packages (from pandas) (2024.1)\r\nRequirement already satisfied: tzdata>=2022.7 in /opt/conda/lib/python3.11/site-packages (from pandas) (2024.2)\r\nRequirement already satisfied: contourpy>=1.0.1 in /opt/conda/lib/python3.11/site-packages (from matplotlib) (1.3.0)\r\nRequirement already satisfied: cycler>=0.10 in /opt/conda/lib/python3.11/site-packages (from matplotlib) (0.12.1)\r\nRequirement already satisfied: fonttools>=4.22.0 in /opt/conda/lib/python3.11/site-packages (from matplotlib) (4.54.1)\r\nRequirement already satisfied: kiwisolver>=1.3.1 in /opt/conda/lib/python3.11/site-packages (from matplotlib) (1.4.7)\r\nRequirement already satisfied: packaging>=20.0 in /opt/conda/lib/python3.11/site-packages (from matplotlib) (24.1)\r\nRequirement already satisfied: pillow>=8 in /opt/conda/lib/python3.11/site-packages (from matplotlib) (11.0.0)\r\nRequirement already satisfied: pyparsing>=2.3.1 in /opt/conda/lib/python3.11/site-packages (from matplotlib) (3.2.0)\r\n"
                },
                {
                    "name": "stdout",
                    "output_type": "stream",
                    "text": "Requirement already satisfied: six>=1.5 in /opt/conda/lib/python3.11/site-packages (from python-dateutil>=2.8.2->pandas) (1.16.0)\r\nDownloading numpy-2.2.2-cp311-cp311-manylinux_2_17_x86_64.manylinux2014_x86_64.whl (16.4 MB)\r\n\u001b[?25l   \u001b[90m\u2501\u2501\u2501\u2501\u2501\u2501\u2501\u2501\u2501\u2501\u2501\u2501\u2501\u2501\u2501\u2501\u2501\u2501\u2501\u2501\u2501\u2501\u2501\u2501\u2501\u2501\u2501\u2501\u2501\u2501\u2501\u2501\u2501\u2501\u2501\u2501\u2501\u2501\u2501\u2501\u001b[0m \u001b[32m0.0/16.4 MB\u001b[0m \u001b[31m?\u001b[0m eta \u001b[36m-:--:--\u001b[0m\r\u001b[2K   \u001b[91m\u2501\u2501\u2501\u2501\u2501\u2501\u2501\u2501\u2501\u2501\u2501\u2501\u2501\u2501\u2501\u2501\u2501\u2501\u2501\u001b[0m\u001b[90m\u257a\u001b[0m\u001b[90m\u2501\u2501\u2501\u2501\u2501\u2501\u2501\u2501\u2501\u2501\u2501\u2501\u2501\u2501\u2501\u2501\u2501\u2501\u2501\u2501\u001b[0m \u001b[32m7.9/16.4 MB\u001b[0m \u001b[31m236.0 MB/s\u001b[0m eta \u001b[36m0:00:01\u001b[0m"
                },
                {
                    "name": "stdout",
                    "output_type": "stream",
                    "text": "\r\u001b[2K   \u001b[91m\u2501\u2501\u2501\u2501\u2501\u2501\u2501\u2501\u2501\u2501\u2501\u2501\u2501\u2501\u2501\u2501\u2501\u2501\u2501\u2501\u2501\u2501\u2501\u2501\u2501\u2501\u2501\u2501\u2501\u2501\u2501\u2501\u2501\u2501\u001b[0m\u001b[90m\u257a\u001b[0m\u001b[90m\u2501\u2501\u2501\u2501\u2501\u001b[0m \u001b[32m14.0/16.4 MB\u001b[0m \u001b[31m211.8 MB/s\u001b[0m eta \u001b[36m0:00:01\u001b[0m"
                },
                {
                    "name": "stdout",
                    "output_type": "stream",
                    "text": "\r\u001b[2K   \u001b[90m\u2501\u2501\u2501\u2501\u2501\u2501\u2501\u2501\u2501\u2501\u2501\u2501\u2501\u2501\u2501\u2501\u2501\u2501\u2501\u2501\u2501\u2501\u2501\u2501\u2501\u2501\u2501\u2501\u2501\u2501\u2501\u2501\u2501\u2501\u2501\u2501\u2501\u2501\u2501\u2501\u001b[0m \u001b[32m16.4/16.4 MB\u001b[0m \u001b[31m162.4 MB/s\u001b[0m eta \u001b[36m0:00:00\u001b[0m\r\n\u001b[?25hDownloading pandas-2.2.3-cp311-cp311-manylinux_2_17_x86_64.manylinux2014_x86_64.whl (13.1 MB)\r\n\u001b[?25l   \u001b[90m\u2501\u2501\u2501\u2501\u2501\u2501\u2501\u2501\u2501\u2501\u2501\u2501\u2501\u2501\u2501\u2501\u2501\u2501\u2501\u2501\u2501\u2501\u2501\u2501\u2501\u2501\u2501\u2501\u2501\u2501\u2501\u2501\u2501\u2501\u2501\u2501\u2501\u2501\u2501\u2501\u001b[0m \u001b[32m0.0/13.1 MB\u001b[0m \u001b[31m?\u001b[0m eta \u001b[36m-:--:--\u001b[0m\r\u001b[2K   \u001b[91m\u2501\u2501\u2501\u2501\u2501\u2501\u2501\u2501\u2501\u2501\u2501\u2501\u2501\u2501\u2501\u2501\u2501\u2501\u2501\u2501\u2501\u2501\u2501\u2501\u001b[0m\u001b[91m\u2578\u001b[0m\u001b[90m\u2501\u2501\u2501\u2501\u2501\u2501\u2501\u2501\u2501\u2501\u2501\u2501\u2501\u2501\u2501\u001b[0m \u001b[32m8.1/13.1 MB\u001b[0m \u001b[31m245.8 MB/s\u001b[0m eta \u001b[36m0:00:01\u001b[0m"
                },
                {
                    "name": "stdout",
                    "output_type": "stream",
                    "text": "\r\u001b[2K   \u001b[91m\u2501\u2501\u2501\u2501\u2501\u2501\u2501\u2501\u2501\u2501\u2501\u2501\u2501\u2501\u2501\u2501\u2501\u2501\u2501\u2501\u2501\u2501\u2501\u2501\u2501\u2501\u2501\u2501\u001b[0m\u001b[91m\u2578\u001b[0m\u001b[90m\u2501\u2501\u2501\u2501\u2501\u2501\u2501\u2501\u2501\u2501\u2501\u001b[0m \u001b[32m9.4/13.1 MB\u001b[0m \u001b[31m222.2 MB/s\u001b[0m eta \u001b[36m0:00:01\u001b[0m"
                },
                {
                    "name": "stdout",
                    "output_type": "stream",
                    "text": "\r\u001b[2K   \u001b[91m\u2501\u2501\u2501\u2501\u2501\u2501\u2501\u2501\u2501\u2501\u2501\u2501\u2501\u2501\u2501\u2501\u2501\u2501\u2501\u2501\u2501\u2501\u2501\u2501\u2501\u2501\u2501\u2501\u2501\u2501\u2501\u2501\u2501\u2501\u2501\u001b[0m\u001b[90m\u257a\u001b[0m\u001b[90m\u2501\u2501\u2501\u2501\u001b[0m \u001b[32m11.5/13.1 MB\u001b[0m \u001b[31m112.9 MB/s\u001b[0m eta \u001b[36m0:00:01\u001b[0m"
                },
                {
                    "name": "stdout",
                    "output_type": "stream",
                    "text": "\r\u001b[2K   \u001b[91m\u2501\u2501\u2501\u2501\u2501\u2501\u2501\u2501\u2501\u2501\u2501\u2501\u2501\u2501\u2501\u2501\u2501\u2501\u2501\u2501\u2501\u2501\u2501\u2501\u2501\u2501\u2501\u2501\u2501\u2501\u2501\u2501\u2501\u2501\u2501\u2501\u2501\u001b[0m\u001b[91m\u2578\u001b[0m\u001b[90m\u2501\u2501\u001b[0m \u001b[32m12.3/13.1 MB\u001b[0m \u001b[31m77.8 MB/s\u001b[0m eta \u001b[36m0:00:01\u001b[0m\r\u001b[2K   \u001b[90m\u2501\u2501\u2501\u2501\u2501\u2501\u2501\u2501\u2501\u2501\u2501\u2501\u2501\u2501\u2501\u2501\u2501\u2501\u2501\u2501\u2501\u2501\u2501\u2501\u2501\u2501\u2501\u2501\u2501\u2501\u2501\u2501\u2501\u2501\u2501\u2501\u2501\u2501\u2501\u2501\u001b[0m \u001b[32m13.1/13.1 MB\u001b[0m \u001b[31m78.3 MB/s\u001b[0m eta \u001b[36m0:00:00\u001b[0m\r\n\u001b[?25hDownloading matplotlib-3.10.0-cp311-cp311-manylinux_2_17_x86_64.manylinux2014_x86_64.whl (8.6 MB)\r\n\u001b[?25l   \u001b[90m\u2501\u2501\u2501\u2501\u2501\u2501\u2501\u2501\u2501\u2501\u2501\u2501\u2501\u2501\u2501\u2501\u2501\u2501\u2501\u2501\u2501\u2501\u2501\u2501\u2501\u2501\u2501\u2501\u2501\u2501\u2501\u2501\u2501\u2501\u2501\u2501\u2501\u2501\u2501\u2501\u001b[0m \u001b[32m0.0/8.6 MB\u001b[0m \u001b[31m?\u001b[0m eta \u001b[36m-:--:--\u001b[0m"
                },
                {
                    "name": "stdout",
                    "output_type": "stream",
                    "text": "\r\u001b[2K   \u001b[91m\u2501\u2501\u2501\u2501\u2501\u2501\u2501\u2501\u2501\u2501\u2501\u2501\u2501\u2501\u2501\u2501\u2501\u2501\u2501\u2501\u2501\u2501\u2501\u001b[0m\u001b[91m\u2578\u001b[0m\u001b[90m\u2501\u2501\u2501\u2501\u2501\u2501\u2501\u2501\u2501\u2501\u2501\u2501\u2501\u2501\u2501\u2501\u001b[0m \u001b[32m5.1/8.6 MB\u001b[0m \u001b[31m153.5 MB/s\u001b[0m eta \u001b[36m0:00:01\u001b[0m\r\u001b[2K   \u001b[91m\u2501\u2501\u2501\u2501\u2501\u2501\u2501\u2501\u2501\u2501\u2501\u2501\u2501\u2501\u2501\u2501\u2501\u2501\u2501\u2501\u2501\u2501\u2501\u2501\u001b[0m\u001b[90m\u257a\u001b[0m\u001b[90m\u2501\u2501\u2501\u2501\u2501\u2501\u2501\u2501\u2501\u2501\u2501\u2501\u2501\u2501\u2501\u001b[0m \u001b[32m5.2/8.6 MB\u001b[0m \u001b[31m146.7 MB/s\u001b[0m eta \u001b[36m0:00:01\u001b[0m"
                },
                {
                    "name": "stdout",
                    "output_type": "stream",
                    "text": "\r\u001b[2K   \u001b[90m\u2501\u2501\u2501\u2501\u2501\u2501\u2501\u2501\u2501\u2501\u2501\u2501\u2501\u2501\u2501\u2501\u2501\u2501\u2501\u2501\u2501\u2501\u2501\u2501\u2501\u2501\u2501\u2501\u2501\u2501\u2501\u2501\u2501\u2501\u2501\u2501\u2501\u2501\u2501\u2501\u001b[0m \u001b[32m8.6/8.6 MB\u001b[0m \u001b[31m92.9 MB/s\u001b[0m eta \u001b[36m0:00:00\u001b[0m\r\n\u001b[?25h"
                },
                {
                    "name": "stdout",
                    "output_type": "stream",
                    "text": "Installing collected packages: numpy, pandas, matplotlib\r\n"
                },
                {
                    "name": "stdout",
                    "output_type": "stream",
                    "text": "Successfully installed matplotlib-3.10.0 numpy-2.2.2 pandas-2.2.3\r\n\u001b[33mWARNING: Running pip as the 'root' user can result in broken permissions and conflicting behaviour with the system package manager. It is recommended to use a virtual environment instead: https://pip.pypa.io/warnings/venv\u001b[0m\u001b[33m\r\n\u001b[0m"
                }
            ],
            "source": "!pip uninstall numpy pandas matplotlib -y\n!pip install numpy pandas matplotlib --no-cache-dir"
        },
        {
            "cell_type": "markdown",
            "id": "dbfd4e5b-93ea-4c6f-8826-b88bf4e3bd68",
            "metadata": {
                "cell_id": "dbfd4e5b-93ea-4c6f-8826-b88bf4e3bd68",
                "tracto": {
                    "metadata_version": "1",
                    "view_cell_type": "MD",
                    "view_source": "## Let's try to do something with numpy and pandas:"
                }
            },
            "source": "## Let's try to do something with numpy and pandas:"
        },
        {
            "cell_type": "code",
            "execution_count": 3,
            "id": "8a05f732-73bf-4e33-8863-7030a9393129",
            "metadata": {
                "cell_id": "8a05f732-73bf-4e33-8863-7030a9393129",
                "tracto": {
                    "metadata_version": "1",
                    "view_cell_type": "CODE",
                    "view_source": "import pandas as pd\nimport numpy as np\nfrom string import ascii_uppercase as letters\nfrom IPython.display import display\n\ndf = pd.DataFrame(np.random.randint(0, 100, size=(100, len(letters))), columns=list(letters))\ndf"
                }
            },
            "outputs": [
                {
                    "data": {
                        "text/html": "<div>\n<style scoped>\n    .dataframe tbody tr th:only-of-type {\n        vertical-align: middle;\n    }\n\n    .dataframe tbody tr th {\n        vertical-align: top;\n    }\n\n    .dataframe thead th {\n        text-align: right;\n    }\n</style>\n<table border=\"1\" class=\"dataframe\">\n  <thead>\n    <tr style=\"text-align: right;\">\n      <th></th>\n      <th>A</th>\n      <th>B</th>\n      <th>C</th>\n      <th>D</th>\n      <th>E</th>\n      <th>F</th>\n      <th>G</th>\n      <th>H</th>\n      <th>I</th>\n      <th>J</th>\n      <th>...</th>\n      <th>Q</th>\n      <th>R</th>\n      <th>S</th>\n      <th>T</th>\n      <th>U</th>\n      <th>V</th>\n      <th>W</th>\n      <th>X</th>\n      <th>Y</th>\n      <th>Z</th>\n    </tr>\n  </thead>\n  <tbody>\n    <tr>\n      <th>0</th>\n      <td>17</td>\n      <td>5</td>\n      <td>64</td>\n      <td>79</td>\n      <td>44</td>\n      <td>3</td>\n      <td>9</td>\n      <td>46</td>\n      <td>41</td>\n      <td>50</td>\n      <td>...</td>\n      <td>78</td>\n      <td>30</td>\n      <td>45</td>\n      <td>15</td>\n      <td>22</td>\n      <td>47</td>\n      <td>48</td>\n      <td>27</td>\n      <td>48</td>\n      <td>73</td>\n    </tr>\n    <tr>\n      <th>1</th>\n      <td>73</td>\n      <td>19</td>\n      <td>3</td>\n      <td>58</td>\n      <td>48</td>\n      <td>15</td>\n      <td>46</td>\n      <td>15</td>\n      <td>64</td>\n      <td>36</td>\n      <td>...</td>\n      <td>94</td>\n      <td>91</td>\n      <td>53</td>\n      <td>5</td>\n      <td>70</td>\n      <td>68</td>\n      <td>4</td>\n      <td>71</td>\n      <td>35</td>\n      <td>2</td>\n    </tr>\n    <tr>\n      <th>2</th>\n      <td>35</td>\n      <td>50</td>\n      <td>57</td>\n      <td>81</td>\n      <td>31</td>\n      <td>28</td>\n      <td>45</td>\n      <td>84</td>\n      <td>12</td>\n      <td>26</td>\n      <td>...</td>\n      <td>83</td>\n      <td>73</td>\n      <td>47</td>\n      <td>22</td>\n      <td>75</td>\n      <td>79</td>\n      <td>25</td>\n      <td>48</td>\n      <td>67</td>\n      <td>39</td>\n    </tr>\n    <tr>\n      <th>3</th>\n      <td>44</td>\n      <td>2</td>\n      <td>64</td>\n      <td>83</td>\n      <td>53</td>\n      <td>11</td>\n      <td>2</td>\n      <td>64</td>\n      <td>85</td>\n      <td>46</td>\n      <td>...</td>\n      <td>7</td>\n      <td>0</td>\n      <td>69</td>\n      <td>61</td>\n      <td>38</td>\n      <td>72</td>\n      <td>99</td>\n      <td>49</td>\n      <td>18</td>\n      <td>63</td>\n    </tr>\n    <tr>\n      <th>4</th>\n      <td>78</td>\n      <td>94</td>\n      <td>9</td>\n      <td>95</td>\n      <td>62</td>\n      <td>69</td>\n      <td>85</td>\n      <td>68</td>\n      <td>95</td>\n      <td>55</td>\n      <td>...</td>\n      <td>94</td>\n      <td>8</td>\n      <td>97</td>\n      <td>83</td>\n      <td>90</td>\n      <td>71</td>\n      <td>96</td>\n      <td>35</td>\n      <td>50</td>\n      <td>18</td>\n    </tr>\n    <tr>\n      <th>...</th>\n      <td>...</td>\n      <td>...</td>\n      <td>...</td>\n      <td>...</td>\n      <td>...</td>\n      <td>...</td>\n      <td>...</td>\n      <td>...</td>\n      <td>...</td>\n      <td>...</td>\n      <td>...</td>\n      <td>...</td>\n      <td>...</td>\n      <td>...</td>\n      <td>...</td>\n      <td>...</td>\n      <td>...</td>\n      <td>...</td>\n      <td>...</td>\n      <td>...</td>\n      <td>...</td>\n    </tr>\n    <tr>\n      <th>95</th>\n      <td>19</td>\n      <td>19</td>\n      <td>55</td>\n      <td>74</td>\n      <td>69</td>\n      <td>48</td>\n      <td>49</td>\n      <td>36</td>\n      <td>84</td>\n      <td>71</td>\n      <td>...</td>\n      <td>76</td>\n      <td>80</td>\n      <td>2</td>\n      <td>67</td>\n      <td>0</td>\n      <td>76</td>\n      <td>87</td>\n      <td>34</td>\n      <td>6</td>\n      <td>37</td>\n    </tr>\n    <tr>\n      <th>96</th>\n      <td>6</td>\n      <td>96</td>\n      <td>22</td>\n      <td>13</td>\n      <td>60</td>\n      <td>88</td>\n      <td>37</td>\n      <td>71</td>\n      <td>55</td>\n      <td>38</td>\n      <td>...</td>\n      <td>44</td>\n      <td>82</td>\n      <td>7</td>\n      <td>37</td>\n      <td>29</td>\n      <td>12</td>\n      <td>19</td>\n      <td>5</td>\n      <td>76</td>\n      <td>15</td>\n    </tr>\n    <tr>\n      <th>97</th>\n      <td>47</td>\n      <td>62</td>\n      <td>81</td>\n      <td>12</td>\n      <td>7</td>\n      <td>3</td>\n      <td>49</td>\n      <td>5</td>\n      <td>14</td>\n      <td>23</td>\n      <td>...</td>\n      <td>4</td>\n      <td>81</td>\n      <td>84</td>\n      <td>19</td>\n      <td>12</td>\n      <td>4</td>\n      <td>14</td>\n      <td>89</td>\n      <td>7</td>\n      <td>57</td>\n    </tr>\n    <tr>\n      <th>98</th>\n      <td>36</td>\n      <td>51</td>\n      <td>8</td>\n      <td>9</td>\n      <td>10</td>\n      <td>98</td>\n      <td>30</td>\n      <td>21</td>\n      <td>56</td>\n      <td>68</td>\n      <td>...</td>\n      <td>69</td>\n      <td>65</td>\n      <td>14</td>\n      <td>41</td>\n      <td>53</td>\n      <td>59</td>\n      <td>8</td>\n      <td>3</td>\n      <td>71</td>\n      <td>80</td>\n    </tr>\n    <tr>\n      <th>99</th>\n      <td>26</td>\n      <td>92</td>\n      <td>6</td>\n      <td>84</td>\n      <td>22</td>\n      <td>73</td>\n      <td>95</td>\n      <td>75</td>\n      <td>18</td>\n      <td>29</td>\n      <td>...</td>\n      <td>1</td>\n      <td>66</td>\n      <td>61</td>\n      <td>73</td>\n      <td>42</td>\n      <td>56</td>\n      <td>52</td>\n      <td>45</td>\n      <td>47</td>\n      <td>43</td>\n    </tr>\n  </tbody>\n</table>\n<p>100 rows \u00d7 26 columns</p>\n</div>",
                        "text/plain": "     A   B   C   D   E   F   G   H   I   J  ...   Q   R   S   T   U   V   W  \\\n0   17   5  64  79  44   3   9  46  41  50  ...  78  30  45  15  22  47  48   \n1   73  19   3  58  48  15  46  15  64  36  ...  94  91  53   5  70  68   4   \n2   35  50  57  81  31  28  45  84  12  26  ...  83  73  47  22  75  79  25   \n3   44   2  64  83  53  11   2  64  85  46  ...   7   0  69  61  38  72  99   \n4   78  94   9  95  62  69  85  68  95  55  ...  94   8  97  83  90  71  96   \n..  ..  ..  ..  ..  ..  ..  ..  ..  ..  ..  ...  ..  ..  ..  ..  ..  ..  ..   \n95  19  19  55  74  69  48  49  36  84  71  ...  76  80   2  67   0  76  87   \n96   6  96  22  13  60  88  37  71  55  38  ...  44  82   7  37  29  12  19   \n97  47  62  81  12   7   3  49   5  14  23  ...   4  81  84  19  12   4  14   \n98  36  51   8   9  10  98  30  21  56  68  ...  69  65  14  41  53  59   8   \n99  26  92   6  84  22  73  95  75  18  29  ...   1  66  61  73  42  56  52   \n\n     X   Y   Z  \n0   27  48  73  \n1   71  35   2  \n2   48  67  39  \n3   49  18  63  \n4   35  50  18  \n..  ..  ..  ..  \n95  34   6  37  \n96   5  76  15  \n97  89   7  57  \n98   3  71  80  \n99  45  47  43  \n\n[100 rows x 26 columns]"
                    },
                    "execution_count": 5,
                    "metadata": {},
                    "output_type": "execute_result"
                }
            ],
            "source": "import pandas as pd\nimport numpy as np\nfrom string import ascii_uppercase as letters\nfrom IPython.display import display\n\ndf = pd.DataFrame(np.random.randint(0, 100, size=(100, len(letters))), columns=list(letters))\ndf"
        },
        {
            "cell_type": "markdown",
            "id": "2f88a89c-3571-4154-87d2-d92bec7fd945",
            "metadata": {
                "cell_id": "2f88a89c-3571-4154-87d2-d92bec7fd945",
                "tracto": {
                    "metadata_version": "1",
                    "view_cell_type": "MD",
                    "view_source": "## Let's try to do something with numpy and pandas:"
                }
            },
            "source": "## Let's try to do something with numpy and pandas:"
        },
        {
            "cell_type": "code",
            "execution_count": 5,
            "id": "529cc394-128b-42e5-9178-05a8012107c7",
            "metadata": {
                "cell_id": "529cc394-128b-42e5-9178-05a8012107c7",
                "tracto": {
                    "metadata_version": "1",
                    "view_cell_type": "CODE",
                    "view_source": "import matplotlib.pyplot as plt\n\nnames = ['group_a', 'group_b', 'group_c']\nvalues = [1, 10, 100]\n\nplt.figure(figsize=(9, 3))\n\nplt.subplot(131)\nplt.bar(names, values)\nplt.subplot(132)\nplt.scatter(names, values)\nplt.subplot(133)\nplt.plot(names, values)\nplt.suptitle('Categorical Plotting')\nplt.show()"
                }
            },
            "outputs": [
                {
                    "data": {
                        "image/png": "[encoded data removed]",
                        "text/plain": "<Figure size 900x300 with 3 Axes>"
                    },
                    "metadata": {
                        "transient": {}
                    },
                    "output_type": "display_data"
                }
            ],
            "source": "import matplotlib.pyplot as plt\n\nnames = ['group_a', 'group_b', 'group_c']\nvalues = [1, 10, 100]\n\nplt.figure(figsize=(9, 3))\n\nplt.subplot(131)\nplt.bar(names, values)\nplt.subplot(132)\nplt.scatter(names, values)\nplt.subplot(133)\nplt.plot(names, values)\nplt.suptitle('Categorical Plotting')\nplt.show()"
        },
        {
            "cell_type": "markdown",
            "id": "2631cd7f-d0e1-4bf5-88e2-0617bb001abd",
            "metadata": {
                "cell_id": "2631cd7f-d0e1-4bf5-88e2-0617bb001abd",
                "tracto": {
                    "metadata_version": "1",
                    "view_cell_type": "MD",
                    "view_source": "## Code introspection:"
                }
            },
            "source": "## Code introspection:"
        },
        {
            "cell_type": "code",
            "execution_count": 7,
            "id": "dea407c6-c347-43e6-b367-cf5fce106dcd",
            "metadata": {
                "cell_id": "dea407c6-c347-43e6-b367-cf5fce106dcd",
                "tracto": {
                    "metadata_version": "1",
                    "view_cell_type": "CODE",
                    "view_source": "?print"
                }
            },
            "outputs": [
                {
                    "execution_count": 7,
                    "metadata": {},
                    "name": "stdout",
                    "output_type": "stream",
                    "text": "\u001b[0;31mSignature:\u001b[0m \u001b[0mprint\u001b[0m\u001b[0;34m(\u001b[0m\u001b[0;34m*\u001b[0m\u001b[0margs\u001b[0m\u001b[0;34m,\u001b[0m \u001b[0msep\u001b[0m\u001b[0;34m=\u001b[0m\u001b[0;34m' '\u001b[0m\u001b[0;34m,\u001b[0m \u001b[0mend\u001b[0m\u001b[0;34m=\u001b[0m\u001b[0;34m'\\n'\u001b[0m\u001b[0;34m,\u001b[0m \u001b[0mfile\u001b[0m\u001b[0;34m=\u001b[0m\u001b[0;32mNone\u001b[0m\u001b[0;34m,\u001b[0m \u001b[0mflush\u001b[0m\u001b[0;34m=\u001b[0m\u001b[0;32mFalse\u001b[0m\u001b[0;34m)\u001b[0m\u001b[0;34m\u001b[0m\u001b[0;34m\u001b[0m\u001b[0m\n\u001b[0;31mDocstring:\u001b[0m\nPrints the values to a stream, or to sys.stdout by default.\n\nsep\n  string inserted between values, default a space.\nend\n  string appended after the last value, default a newline.\nfile\n  a file-like object (stream); defaults to the current sys.stdout.\nflush\n  whether to forcibly flush the stream.\n\u001b[0;31mType:\u001b[0m      builtin_function_or_method"
                }
            ],
            "source": "?print"
        },
        {
            "cell_type": "code",
            "execution_count": 8,
            "id": "ddf95353-5494-496b-a4e2-d697eeece84a",
            "metadata": {
                "cell_id": "ddf95353-5494-496b-a4e2-d697eeece84a",
                "tracto": {
                    "metadata_version": "1",
                    "view_cell_type": "CODE",
                    "view_source": "class Square:\n    color = 'SkyBlue'\n    def _repr_html_(self):\n        return '''\n        <div style=\"background: %s; width: 200px; height: 100px; border-radius: 10px;\">\n        </div>''' % self.color\nsquare = Square()\n\ndisplay(square, display_id='some-square')"
                }
            },
            "outputs": [
                {
                    "data": {
                        "text/html": "\n        <div style=\"background: SkyBlue; width: 200px; height: 100px; border-radius: 10px;\">\n        </div>",
                        "text/plain": "<__main__.Square at 0x7f6190d32e10>"
                    },
                    "metadata": {
                        "transient": {
                            "display_id": "some-square"
                        }
                    },
                    "output_type": "display_data"
                },
                {
                    "data": {
                        "text/plain": "<DisplayHandle display_id=some-square>"
                    },
                    "execution_count": 8,
                    "metadata": {},
                    "output_type": "execute_result"
                }
            ],
            "source": "class Square:\n    color = 'SkyBlue'\n    def _repr_html_(self):\n        return '''\n        <div style=\"background: %s; width: 200px; height: 100px; border-radius: 10px;\">\n        </div>''' % self.color\nsquare = Square()\n\ndisplay(square, display_id='some-square')"
        },
        {
            "cell_type": "code",
            "execution_count": 9,
            "id": "762d02e5-c801-4c15-9b04-913a602d06cf",
            "metadata": {
                "cell_id": "762d02e5-c801-4c15-9b04-913a602d06cf",
                "tracto": {
                    "metadata_version": "1",
                    "view_cell_type": "CODE",
                    "view_source": "import time\nfrom IPython.display import ProgressBar\n\nfor i in ProgressBar(10):\n    time.sleep(0.1)"
                }
            },
            "outputs": [
                {
                    "data": {
                        "text/html": "<progress style='width:60ex' max='10' value='10'></progress>",
                        "text/plain": "[============================================================] 10/10"
                    },
                    "metadata": {
                        "transient": {
                            "display_id": "8c8e329ca0eace57"
                        }
                    },
                    "output_type": "display_data"
                }
            ],
            "source": "import time\nfrom IPython.display import ProgressBar\n\nfor i in ProgressBar(10):\n    time.sleep(0.1)"
        }
    ],
    "metadata": {
        "kernelspec": {
            "display_name": "chiffa_solutions",
            "name": "chiffa_solutions"
        },
        "tracto": {
            "is_solution_notebook": true,
            "metadata_version": "1",
            "notebook_cypress_id": "a4561915-18f8-43cb-98bb-c3815c1811dc"
        },
        "is_solution_notebook": true
    },
    "nbformat": 4,
    "nbformat_minor": 5
}