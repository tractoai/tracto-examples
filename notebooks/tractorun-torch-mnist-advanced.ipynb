{
    "cells": [
        {
            "cell_type": "markdown",
            "id": "e8868e68-d930-447e-a460-bb0e964ce4d2",
            "metadata": {
                "cell_id": "e8868e68-d930-447e-a460-bb0e964ce4d2",
                "tracto": {
                    "metadata_version": "1",
                    "source_hash": "06e9ec1c",
                    "view_cell_type": "MD",
                    "view_source": "# Tractorun advanced\n\nThis notebook provides an extended demonstration of the advanced capabilities of the `tractorun` library. The focus will be on two key features:\n1. **Checkpoints for PyTorch**: how to save a checkpoint and restore training from a checkpoint.\n2. **Distributed Model Training**: how to run distributed training by `tractorun` on multiple nodes with multiple processes.\n\nFor a basic example, please refer to [tractorun-torch-mnist](./tractorun-torch-mnist.ipynb)."
                }
            },
            "source": "# Tractorun advanced\n\nThis notebook provides an extended demonstration of the advanced capabilities of the `tractorun` library. The focus will be on two key features:\n1. **Checkpoints for PyTorch**: how to save a checkpoint and restore training from a checkpoint.\n2. **Distributed Model Training**: how to run distributed training by `tractorun` on multiple nodes with multiple processes.\n\n<font color=\"red\">IMPORTANT NOTE</font> this notebook won't run on the [playground](https://playground.tracto.ai/) - it requires multiple hosts for distributed training, but only 1 host is available\n\nFor a basic example, please refer to [tractorun-torch-mnist](./tractorun-torch-mnist.ipynb)."
        },
        {
            "cell_type": "code",
            "execution_count": 1,
            "id": "b1a47927-d36a-4f54-8f8d-ae110fd975b6",
            "metadata": {
                "cell_id": "b1a47927-d36a-4f54-8f8d-ae110fd975b6",
                "tracto": {
                    "execution_end": 1750366866662,
                    "execution_session_id": "487c81cd-6591-4745-985d-7663f29f7663",
                    "execution_start": 1750366866635,
                    "metadata_version": "1",
                    "source_hash": "3fdd2012",
                    "view_cell_type": "CODE",
                    "view_source": "import uuid\nimport sys\n\nfrom yt import wrapper as yt\nfrom yt import type_info"
                }
            },
            "outputs": [],
            "source": "import uuid\nimport sys\n\nfrom yt import wrapper as yt\nfrom yt import type_info"
        },
        {
            "cell_type": "markdown",
            "id": "0061a831-66ed-440f-8b8c-383cef32b4cf",
            "metadata": {
                "cell_id": "0061a831-66ed-440f-8b8c-383cef32b4cf",
                "tracto": {
                    "metadata_version": "1",
                    "source_hash": "466132cb",
                    "view_cell_type": "MD",
                    "view_source": "## Create a base directory for examples"
                }
            },
            "source": "## Create a base directory for examples"
        },
        {
            "cell_type": "code",
            "execution_count": 3,
            "id": "925cef8c-5f37-4644-84a0-3dfa419b5c58",
            "metadata": {
                "cell_id": "925cef8c-5f37-4644-84a0-3dfa419b5c58",
                "tracto": {
                    "execution_end": 1750366866810,
                    "execution_session_id": "487c81cd-6591-4745-985d-7663f29f7663",
                    "execution_start": 1750366866663,
                    "metadata_version": "1",
                    "source_hash": "07f9f7a2",
                    "view_cell_type": "CODE",
                    "view_source": "working_dir = f\"//tmp/examples/tractorun-mnist-advanced_{uuid.uuid4()}\"\nyt.create(\"map_node\", working_dir, recursive=True)\nprint(working_dir)"
                }
            },
            "outputs": [
                {
                    "name": "stdout",
                    "output_type": "stream",
                    "text": "Current working directory: //home/equal_amethyst_vulture/tmp/demo_workdir/f901bc5a573e450cb0074d7814b72c73\n"
                }
            ],
            "source": "# configure environment to run this notebooks\nimport uuid\nimport yt.wrapper as yt\n\nusername = yt.get_user_name()\nif yt.exists(f\"//sys/users/{username}/@user_info/home_path\"):\n    # prepare working directory on distributed file system\n    user_info = yt.get(f\"//sys/users/{yt.get_user_name()}/@user_info\")\n    homedir = user_info[\"home_path\"]\n    # find avaliable vm presets\n    cpu_pool_trees = [pool_tree for pool_tree in user_info[\"available_pool_trees\"] if pool_tree.endswith(\"cpu\")] or [\"default\"]\n    h100_pool_trees = [pool_tree for pool_tree in user_info[\"available_pool_trees\"] if pool_tree.endswith(\"h100\")]\n    h100_8_pool_trees = [pool_tree for pool_tree in user_info[\"available_pool_trees\"] if pool_tree.endswith(\"h100_8\")]\n    workdir = f\"{homedir}/tmp/demo_workdir/{uuid.uuid4().hex}\"\nelse:\n    cpu_pool_trees = [\"default\"]\n    h100_pool_trees = [\"gpu_h100\"]\n    h100_8_pool_trees = [\"gpu_h100\"]\n    workdir = f\"//tmp/examples/{uuid.uuid4().hex}\"\n\nyt.create(\"map_node\", workdir, recursive=True, ignore_existing=True)\nprint(\"Current working directory:\", workdir)"
        },
        {
            "cell_type": "markdown",
            "id": "77500c37-f2af-4fa2-8a31-0c9bcf189dd5",
            "metadata": {
                "cell_id": "77500c37-f2af-4fa2-8a31-0c9bcf189dd5",
                "tracto": {
                    "metadata_version": "1",
                    "source_hash": "6ed4cc5e",
                    "view_cell_type": "MD",
                    "view_source": "## Ensure torch and torchvision exist\n\nLet's ensure that the system has installed `torch` and `torchvision`."
                }
            },
            "source": "## Ensure torch and torchvision exist\n\nLet's ensure that the system has installed `torch` and `torchvision`."
        },
        {
            "cell_type": "code",
            "execution_count": 5,
            "id": "b0156666-97f0-4c83-b715-e8ef2f0b29d1",
            "metadata": {
                "cell_id": "b0156666-97f0-4c83-b715-e8ef2f0b29d1",
                "tracto": {
                    "execution_end": 1750366869251,
                    "execution_session_id": "487c81cd-6591-4745-985d-7663f29f7663",
                    "execution_start": 1750366866810,
                    "metadata_version": "1",
                    "source_hash": "958e9fb4",
                    "view_cell_type": "CODE",
                    "view_source": "import torch\nimport torchvision "
                }
            },
            "outputs": [],
            "source": "import torch\nimport torchvision "
        },
        {
            "cell_type": "markdown",
            "id": "805ea734-7217-4ef2-94ee-ab862090ac93",
            "metadata": {
                "cell_id": "805ea734-7217-4ef2-94ee-ab862090ac93",
                "tracto": {
                    "metadata_version": "1",
                    "source_hash": "121d2b00",
                    "view_cell_type": "MD",
                    "view_source": "## Run distributed training"
                }
            },
            "source": "## Run distributed training\n\nLet's use [MNIST dataset](https://en.wikipedia.org/wiki/MNIST_database). This process of uploading data is described in the [basic tractorun notebook](./tractorun-torch-mnist.ipynb)"
        },
        {
            "cell_type": "code",
            "execution_count": 7,
            "id": "ac74865b-d615-4b1d-8632-e0cecd166267",
            "metadata": {
                "cell_id": "ac74865b-d615-4b1d-8632-e0cecd166267",
                "tracto": {
                    "execution_end": 1750366869264,
                    "execution_session_id": "487c81cd-6591-4745-985d-7663f29f7663",
                    "execution_start": 1750366869252,
                    "metadata_version": "1",
                    "source_hash": "ab07fd0a",
                    "view_cell_type": "CODE",
                    "view_source": "dataset_train_path = \"//home/samples/mnist-torch-train\"\ndataset_test_path = \"//home/samples/mnist-torch-test\""
                }
            },
            "outputs": [],
            "source": "dataset_train_path = \"//home/samples/mnist-torch-train\"\ndataset_test_path = \"//home/samples/mnist-torch-test\""
        },
        {
            "cell_type": "markdown",
            "id": "c81b855e-415b-4e5b-b6ae-d8d411c50cfb",
            "metadata": {
                "cell_id": "c81b855e-415b-4e5b-b6ae-d8d411c50cfb",
                "tracto": {
                    "metadata_version": "1",
                    "source_hash": "a1c0d691",
                    "view_cell_type": "MD",
                    "view_source": "In order to run tractorun in distributed mode and using checkpoints:\n1. Use `toolbox.checkpoint_manager` to manage checkpoints.\n2. Set distributed training configuration by `tractorun.mesh.Mesh`\n\n<details>\n  <summary>Show the full diff</summary>\n\n```diff\n@@ -6,7 +6,15 @@\n from torchvision import datasets, transforms\n from torch.optim.lr_scheduler import StepLR\n\n+from tractorun.backend.tractorch import YtTensorDataset, Tractorch\n+from tractorun.toolbox import Toolbox\n+from tractorun.run import run\n+from tractorun.mesh import Mesh\n+from tractorun.resources import Resources\n+from tractorun.stderr_reader import StderrMode\n+from tractorun.backend.tractorch.serializer import TensorSerializer\n\n class Net(nn.Module):\n     def __init__(self):\n         super(Net, self).__init__()\n@@ -33,9 +41,12 @@\n         return output\n\n\n-def train(args, model, device, train_loader, optimizer, epoch):\n+def train(args, model, device, train_loader, optimizer, epoch, first_batch_index, checkpoint_manager):\n     model.train()\n+    ts = TensorSerializer()\n     for batch_idx, (data, target) in enumerate(train_loader):\n+        if batch_idx < first_batch_index:\n+            continue\n         data, target = data.to(device), target.to(device)\n         optimizer.zero_grad()\n         output = model(data)\n@@ -45,9 +56,18 @@\n         if batch_idx % args.log_interval == 0:\n             print('Train Epoch: {} [{}/{} ({:.0f}%)]\\tLoss: {:.6f}'.format(\n                 epoch, batch_idx * len(data), len(train_loader.dataset),\n-                100. * batch_idx / len(train_loader), loss.item()))\n+                100. * batch_idx / len(train_loader), loss.item()), file=sys.stderr)\n             if args.dry_run:\n                 break\n+            state_dict = {\n+                \"model\": model.state_dict(),\n+                \"optimizer\": optimizer.state_dict(),\n+            }\n+            metadata_dict = {\n+                \"first_batch_index\": batch_idx + 1,\n+                \"loss\": loss.item(),\n+            }\n+            checkpoint_manager.save_checkpoint(ts.serialize(state_dict), metadata_dict)\n\n\n def test(model, device, test_loader):\n@@ -66,10 +86,10 @@\n\n     print('\\nTest set: Average loss: {:.4f}, Accuracy: {}/{} ({:.0f}%)\\n'.format(\n         test_loss, correct, len(test_loader.dataset),\n-        100. * correct / len(test_loader.dataset)))\n+        100. * correct / len(test_loader.dataset)), file=sys.stderr)\n\n\n-def main():\n+def main(toolbox: Toolbox):\n     # Training settings\n     parser = argparse.ArgumentParser(description='PyTorch MNIST Example')\n     parser.add_argument('--batch-size', type=int, default=64, metavar='N',\n@@ -94,7 +114,7 @@\n                         help='how many batches to wait before logging training status')\n     parser.add_argument('--save-model', action='store_true', default=False,\n                         help='For Saving the current Model')\n-    args = parser.parse_args()\n+    args = parser.parse_args([])\n     use_cuda = not args.no_cuda and torch.cuda.is_available()\n     use_mps = not args.no_mps and torch.backends.mps.is_available()\n\n@@ -120,26 +140,48 @@\n         transforms.ToTensor(),\n         transforms.Normalize((0.1307,), (0.3081,))\n         ])\n-    dataset1 = datasets.MNIST('../data', train=True, download=True,\n-                       transform=transform)\n-    dataset2 = datasets.MNIST('../data', train=False,\n-                       transform=transform)\n+    dataset1 = YtTensorDataset(toolbox=toolbox, path=dataset_train_path, columns=['data', 'labels'])\n+    dataset2 = YtTensorDataset(toolbox=toolbox, path=dataset_test_path, columns=['data', 'labels'])\n+\n     train_loader = torch.utils.data.DataLoader(dataset1,**train_kwargs)\n     test_loader = torch.utils.data.DataLoader(dataset2, **test_kwargs)\n\n     model = Net().to(device)\n     optimizer = optim.Adadelta(model.parameters(), lr=args.lr)\n\n+    ts = TensorSerializer()\n+    first_batch_index = 0\n+    checkpoint = toolbox.checkpoint_manager.get_last_checkpoint()\n+    if checkpoint is not None:\n+        first_batch_index = checkpoint.metadata[\"first_batch_index\"]\n+        print(\n+            \"Found checkpoint with index\",\n+            checkpoint.index,\n+            \"and first batch index\",\n+            first_batch_index,\n+            file=sys.stderr,\n+        )\n+\n     scheduler = StepLR(optimizer, step_size=1, gamma=args.gamma)\n     for epoch in range(1, args.epochs + 1):\n-        train(args, model, device, train_loader, optimizer, epoch)\n+        train(args, model, device, train_loader, optimizer, epoch, first_batch_index, toolbox.checkpoint_manager)\n         test(model, device, test_loader)\n         scheduler.step()\n\n     if args.save_model:\n-        torch.save(model.state_dict(), \"mnist_cnn.pt\")\n+        toolbox.save_model(ts.serialize(model.state_dict()), dataset_train_path, metadata={})\n\n\n-if __name__ == '__main__':\n-    main()\n+run(\n+    main,\n+    backend=Tractorch(),\n+    yt_path=training_dir,\n+    mesh=Mesh(node_count=2, process_per_node=2, gpu_per_process=0),\n+    resources=Resources(\n+        cpu_limit=8,\n+        memory_limit=105899345920,\n+    ),\n+    proxy_stderr_mode=StderrMode.primary,\n+)\n```\n</details>"
                }
            },
            "source": "In order to run tractorun in distributed mode and using checkpoints:\n1. Use `toolbox.checkpoint_manager` to manage checkpoints.\n2. Set distributed training configuration by `tractorun.mesh.Mesh`\n\n<details>\n  <summary>Show the full diff</summary>\n\n```diff\n@@ -6,7 +6,15 @@\n from torchvision import datasets, transforms\n from torch.optim.lr_scheduler import StepLR\n\n+from tractorun.backend.tractorch import YtTensorDataset, Tractorch\n+from tractorun.toolbox import Toolbox\n+from tractorun.run import run\n+from tractorun.mesh import Mesh\n+from tractorun.resources import Resources\n+from tractorun.stderr_reader import StderrMode\n+from tractorun.backend.tractorch.serializer import TensorSerializer\n\n class Net(nn.Module):\n     def __init__(self):\n         super(Net, self).__init__()\n@@ -33,9 +41,12 @@\n         return output\n\n\n-def train(args, model, device, train_loader, optimizer, epoch):\n+def train(args, model, device, train_loader, optimizer, epoch, first_batch_index, checkpoint_manager):\n     model.train()\n+    ts = TensorSerializer()\n     for batch_idx, (data, target) in enumerate(train_loader):\n+        if batch_idx < first_batch_index:\n+            continue\n         data, target = data.to(device), target.to(device)\n         optimizer.zero_grad()\n         output = model(data)\n@@ -45,9 +56,18 @@\n         if batch_idx % args.log_interval == 0:\n             print('Train Epoch: {} [{}/{} ({:.0f}%)]\\tLoss: {:.6f}'.format(\n                 epoch, batch_idx * len(data), len(train_loader.dataset),\n-                100. * batch_idx / len(train_loader), loss.item()))\n+                100. * batch_idx / len(train_loader), loss.item()), file=sys.stderr)\n             if args.dry_run:\n                 break\n+            state_dict = {\n+                \"model\": model.state_dict(),\n+                \"optimizer\": optimizer.state_dict(),\n+            }\n+            metadata_dict = {\n+                \"first_batch_index\": batch_idx + 1,\n+                \"loss\": loss.item(),\n+            }\n+            checkpoint_manager.save_checkpoint(ts.serialize(state_dict), metadata_dict)\n\n\n def test(model, device, test_loader):\n@@ -66,10 +86,10 @@\n\n     print('\\nTest set: Average loss: {:.4f}, Accuracy: {}/{} ({:.0f}%)\\n'.format(\n         test_loss, correct, len(test_loader.dataset),\n-        100. * correct / len(test_loader.dataset)))\n+        100. * correct / len(test_loader.dataset)), file=sys.stderr)\n\n\n-def main():\n+def main(toolbox: Toolbox):\n     # Training settings\n     parser = argparse.ArgumentParser(description='PyTorch MNIST Example')\n     parser.add_argument('--batch-size', type=int, default=64, metavar='N',\n@@ -94,7 +114,7 @@\n                         help='how many batches to wait before logging training status')\n     parser.add_argument('--save-model', action='store_true', default=False,\n                         help='For Saving the current Model')\n-    args = parser.parse_args()\n+    args = parser.parse_args([])\n     use_cuda = not args.no_cuda and torch.cuda.is_available()\n     use_mps = not args.no_mps and torch.backends.mps.is_available()\n\n@@ -120,26 +140,48 @@\n         transforms.ToTensor(),\n         transforms.Normalize((0.1307,), (0.3081,))\n         ])\n-    dataset1 = datasets.MNIST('../data', train=True, download=True,\n-                       transform=transform)\n-    dataset2 = datasets.MNIST('../data', train=False,\n-                       transform=transform)\n+    dataset1 = YtTensorDataset(toolbox=toolbox, path=dataset_train_path, columns=['data', 'labels'])\n+    dataset2 = YtTensorDataset(toolbox=toolbox, path=dataset_test_path, columns=['data', 'labels'])\n+\n     train_loader = torch.utils.data.DataLoader(dataset1,**train_kwargs)\n     test_loader = torch.utils.data.DataLoader(dataset2, **test_kwargs)\n\n     model = Net().to(device)\n     optimizer = optim.Adadelta(model.parameters(), lr=args.lr)\n\n+    ts = TensorSerializer()\n+    first_batch_index = 0\n+    checkpoint = toolbox.checkpoint_manager.get_last_checkpoint()\n+    if checkpoint is not None:\n+        first_batch_index = checkpoint.metadata[\"first_batch_index\"]\n+        print(\n+            \"Found checkpoint with index\",\n+            checkpoint.index,\n+            \"and first batch index\",\n+            first_batch_index,\n+            file=sys.stderr,\n+        )\n+\n     scheduler = StepLR(optimizer, step_size=1, gamma=args.gamma)\n     for epoch in range(1, args.epochs + 1):\n-        train(args, model, device, train_loader, optimizer, epoch)\n+        train(args, model, device, train_loader, optimizer, epoch, first_batch_index, toolbox.checkpoint_manager)\n         test(model, device, test_loader)\n         scheduler.step()\n\n     if args.save_model:\n-        torch.save(model.state_dict(), \"mnist_cnn.pt\")\n+        toolbox.save_model(ts.serialize(model.state_dict()), dataset_train_path, metadata={})\n\n\n-if __name__ == '__main__':\n-    main()\n+run(\n+    main,\n+    backend=Tractorch(),\n+    yt_path=training_dir,\n+    mesh=Mesh(node_count=2, process_per_node=2, gpu_per_process=0),\n+    resources=Resources(\n+        cpu_limit=8,\n+        memory_limit=105899345920,\n+    ),\n+    proxy_stderr_mode=StderrMode.primary,\n+)\n```\n</details>"
        },
        {
            "cell_type": "markdown",
            "id": "6091654b-d25c-4b04-be6f-07725095c5f2",
            "metadata": {
                "cell_id": "6091654b-d25c-4b04-be6f-07725095c5f2",
                "tracto": {
                    "metadata_version": "1",
                    "source_hash": "603d548c",
                    "view_cell_type": "MD",
                    "view_source": "<font color=\"red\">IMPORTANT NOTE</font> In this example we are running tractorun directly from Jupyter notebook.\n\nThis is a convenient method for experiments and demonstrations, as tractorun uses [pickle](https://docs.python.org/3/library/pickle.html) for easy serialization of the entire notebook state and transferring it to the cluster. This means that all variables will be available in the model training function, and tractorun will attempt to transfer all Python modules from the local environment to the cluster.\n\nHowever, this method does not ensure reproducibility of the run of model's training. For production processes, use the execution via the tractorun CLI, which is described in [basic notebook](./tractorun-mnis.ipynb)."
                }
            },
            "source": "<font color=\"red\">IMPORTANT NOTE</font> In this example we are running tractorun directly from Jupyter notebook.\n\nThis is a convenient method for experiments and demonstrations, as tractorun uses [pickle](https://docs.python.org/3/library/pickle.html) for easy serialization of the entire notebook state and transferring it to the cluster. This means that all variables will be available in the model training function, and tractorun will attempt to transfer all Python modules from the local environment to the cluster.\n\nHowever, this method does not ensure reproducibility of the run of model's training. For production processes, use the execution via the tractorun CLI, which is described in [basic notebook](./tractorun-mnis.ipynb)."
        },
        {
            "cell_type": "code",
            "execution_count": 10,
            "id": "2ad67093-9e8e-4ecd-9790-62af82ff4206",
            "metadata": {
                "cell_id": "2ad67093-9e8e-4ecd-9790-62af82ff4206",
                "tracto": {
                    "execution_end": 1750366869785,
                    "execution_session_id": "487c81cd-6591-4745-985d-7663f29f7663",
                    "execution_start": 1750366869277,
                    "metadata_version": "1",
                    "source_hash": "f1ec4dce",
                    "view_cell_type": "CODE",
                    "view_source": "import argparse\nimport torch\nimport torch.nn as nn\nimport torch.nn.functional as F\nimport torch.optim as optim\nfrom torchvision import datasets, transforms\nfrom torch.optim.lr_scheduler import StepLR\n\nfrom tractorun.backend.tractorch import YtTensorDataset, Tractorch\nfrom tractorun.toolbox import Toolbox\nfrom tractorun.run import run\nfrom tractorun.mesh import Mesh\nfrom tractorun.resources import Resources\nfrom tractorun.stderr_reader import StderrMode\nfrom tractorun.backend.tractorch.serializer import TensorSerializer\n\nclass Net(nn.Module):\n    def __init__(self):\n        super(Net, self).__init__()\n        self.conv1 = nn.Conv2d(1, 32, 3, 1)\n        self.conv2 = nn.Conv2d(32, 64, 3, 1)\n        self.dropout1 = nn.Dropout(0.25)\n        self.dropout2 = nn.Dropout(0.5)\n        self.fc1 = nn.Linear(9216, 128)\n        self.fc2 = nn.Linear(128, 10)\n\n    def forward(self, x):\n        x = self.conv1(x)\n        x = F.relu(x)\n        x = self.conv2(x)\n        x = F.relu(x)\n        x = F.max_pool2d(x, 2)\n        x = self.dropout1(x)\n        x = torch.flatten(x, 1)\n        x = self.fc1(x)\n        x = F.relu(x)\n        x = self.dropout2(x)\n        x = self.fc2(x)\n        output = F.log_softmax(x, dim=1)\n        return output\n\n\ndef train(args, model, device, train_loader, optimizer, epoch, first_batch_index, checkpoint_manager):\n    model.train()\n    ts = TensorSerializer()\n    for batch_idx, (data, target) in enumerate(train_loader):\n        if batch_idx < first_batch_index:\n            continue\n        data, target = data.to(device), target.to(device)\n        optimizer.zero_grad()\n        output = model(data)\n        loss = F.nll_loss(output, target)\n        loss.backward()\n        optimizer.step()\n        if batch_idx % args.log_interval == 0:\n            print('Train Epoch: {} [{}/{} ({:.0f}%)]\\tLoss: {:.6f}'.format(\n                epoch, batch_idx * len(data), len(train_loader.dataset),\n                100. * batch_idx / len(train_loader), loss.item()), file=sys.stderr)\n            if args.dry_run:\n                break\n            state_dict = {\n                \"model\": model.state_dict(),\n                \"optimizer\": optimizer.state_dict(),\n            }\n            metadata_dict = {\n                \"first_batch_index\": batch_idx + 1,\n                \"loss\": loss.item(),\n            }\n            checkpoint_manager.save_checkpoint(ts.serialize(state_dict), metadata_dict)\n\n\ndef test(model, device, test_loader):\n    model.eval()\n    test_loss = 0\n    correct = 0\n    with torch.no_grad():\n        for data, target in test_loader:\n            data, target = data.to(device), target.to(device)\n            output = model(data)\n            test_loss += F.nll_loss(output, target, reduction='sum').item()  # sum up batch loss\n            pred = output.argmax(dim=1, keepdim=True)  # get the index of the max log-probability\n            correct += pred.eq(target.view_as(pred)).sum().item()\n\n    test_loss /= len(test_loader.dataset)\n\n    print('\\nTest set: Average loss: {:.4f}, Accuracy: {}/{} ({:.0f}%)\\n'.format(\n        test_loss, correct, len(test_loader.dataset),\n        100. * correct / len(test_loader.dataset)), file=sys.stderr)\n\n\ndef main(toolbox: Toolbox):\n    # Training settings\n    parser = argparse.ArgumentParser(description='PyTorch MNIST Example')\n    parser.add_argument('--batch-size', type=int, default=64, metavar='N',\n                        help='input batch size for training (default: 64)')\n    parser.add_argument('--test-batch-size', type=int, default=1000, metavar='N',\n                        help='input batch size for testing (default: 1000)')\n    parser.add_argument('--epochs', type=int, default=14, metavar='N',\n                        help='number of epochs to train (default: 14)')\n    parser.add_argument('--lr', type=float, default=1.0, metavar='LR',\n                        help='learning rate (default: 1.0)')\n    parser.add_argument('--gamma', type=float, default=0.7, metavar='M',\n                        help='Learning rate step gamma (default: 0.7)')\n    parser.add_argument('--no-cuda', action='store_true', default=False,\n                        help='disables CUDA training')\n    parser.add_argument('--no-mps', action='store_true', default=False,\n                        help='disables macOS GPU training')\n    parser.add_argument('--dry-run', action='store_true', default=False,\n                        help='quickly check a single pass')\n    parser.add_argument('--seed', type=int, default=1, metavar='S',\n                        help='random seed (default: 1)')\n    parser.add_argument('--log-interval', type=int, default=10, metavar='N',\n                        help='how many batches to wait before logging training status')\n    parser.add_argument('--save-model', action='store_true', default=False,\n                        help='For Saving the current Model')\n    args = parser.parse_args([])\n    use_cuda = not args.no_cuda and torch.cuda.is_available()\n    use_mps = not args.no_mps and torch.backends.mps.is_available()\n\n    torch.manual_seed(args.seed)\n\n    if use_cuda:\n        device = torch.device(\"cuda\")\n    elif use_mps:\n        device = torch.device(\"mps\")\n    else:\n        device = torch.device(\"cpu\")\n\n    train_kwargs = {'batch_size': args.batch_size}\n    test_kwargs = {'batch_size': args.test_batch_size}\n    if use_cuda:\n        cuda_kwargs = {'num_workers': 1,\n                       'pin_memory': True,\n                       'shuffle': True}\n        train_kwargs.update(cuda_kwargs)\n        test_kwargs.update(cuda_kwargs)\n\n    transform=transforms.Compose([\n        transforms.ToTensor(),\n        transforms.Normalize((0.1307,), (0.3081,))\n        ])\n    dataset1 = YtTensorDataset(toolbox=toolbox, yt_client=toolbox.yt_client, path=dataset_train_path, columns=['data', 'labels'])\n    dataset2 = YtTensorDataset(toolbox=toolbox, yt_client=toolbox.yt_client, path=dataset_test_path, columns=['data', 'labels'])\n\n    train_loader = torch.utils.data.DataLoader(dataset1,**train_kwargs)\n    test_loader = torch.utils.data.DataLoader(dataset2, **test_kwargs)\n\n    model = Net().to(device)\n    optimizer = optim.Adadelta(model.parameters(), lr=args.lr)\n\n    ts = TensorSerializer()\n    first_batch_index = 0\n    checkpoint = toolbox.checkpoint_manager.get_last_checkpoint()\n    if checkpoint is not None:\n        first_batch_index = checkpoint.metadata[\"first_batch_index\"]\n        print(\n            \"Found checkpoint with index\",\n            checkpoint.index,\n            \"and first batch index\",\n            first_batch_index,\n            file=sys.stderr,\n        )\n        checkpoint_dict = serializer.desirialize(checkpoint.value)\n        model.load_state_dict(checkpoint_dict[\"model\"])\n        optimizer.load_state_dict(checkpoint_dict[\"optimizer\"])\n\n    scheduler = StepLR(optimizer, step_size=1, gamma=args.gamma)\n    for epoch in range(1, args.epochs + 1):\n        train(args, model, device, train_loader, optimizer, epoch, first_batch_index, toolbox.checkpoint_manager)\n        test(model, device, test_loader)\n        scheduler.step()\n\n    if args.save_model:\n        toolbox.save_model(ts.serialize(model.state_dict()), dataset_train_path, metadata={})\n\n\nrun(\n    main,\n    backend=Tractorch(),\n    yt_path=training_dir,\n    mesh=Mesh(node_count=1, process_per_node=1, gpu_per_process=0),\n    resources=Resources(\n        cpu_limit=8,\n        memory_limit=55899345920,\n    ),\n    proxy_stderr_mode=StderrMode.primary,\n)\n"
                }
            },
            "outputs": [],
            "source": "import argparse\nimport torch\nimport torch.nn as nn\nimport torch.nn.functional as F\nimport torch.optim as optim\nfrom torchvision import datasets, transforms\nfrom torch.optim.lr_scheduler import StepLR\n\nfrom tractorun.backend.tractorch import YtTensorDataset, Tractorch\nfrom tractorun.toolbox import Toolbox\nfrom tractorun.run import run\nfrom tractorun.mesh import Mesh\nfrom tractorun.resources import Resources\nfrom tractorun.stderr_reader import StderrMode\nfrom tractorun.backend.tractorch.serializer import TensorSerializer\n\nclass Net(nn.Module):\n    def __init__(self):\n        super(Net, self).__init__()\n        self.conv1 = nn.Conv2d(1, 32, 3, 1)\n        self.conv2 = nn.Conv2d(32, 64, 3, 1)\n        self.dropout1 = nn.Dropout(0.25)\n        self.dropout2 = nn.Dropout(0.5)\n        self.fc1 = nn.Linear(9216, 128)\n        self.fc2 = nn.Linear(128, 10)\n\n    def forward(self, x):\n        x = self.conv1(x)\n        x = F.relu(x)\n        x = self.conv2(x)\n        x = F.relu(x)\n        x = F.max_pool2d(x, 2)\n        x = self.dropout1(x)\n        x = torch.flatten(x, 1)\n        x = self.fc1(x)\n        x = F.relu(x)\n        x = self.dropout2(x)\n        x = self.fc2(x)\n        output = F.log_softmax(x, dim=1)\n        return output\n\n\ndef train(args, model, device, train_loader, optimizer, epoch, first_batch_index, checkpoint_manager):\n    model.train()\n    ts = TensorSerializer()\n    for batch_idx, (data, target) in enumerate(train_loader):\n        if batch_idx < first_batch_index:\n            continue\n        data, target = data.to(device), target.to(device)\n        optimizer.zero_grad()\n        output = model(data)\n        loss = F.nll_loss(output, target)\n        loss.backward()\n        optimizer.step()\n        if batch_idx % args.log_interval == 0:\n            print('Train Epoch: {} [{}/{} ({:.0f}%)]\\tLoss: {:.6f}'.format(\n                epoch, batch_idx * len(data), len(train_loader.dataset),\n                100. * batch_idx / len(train_loader), loss.item()), file=sys.stderr)\n            if args.dry_run:\n                break\n            state_dict = {\n                \"model\": model.state_dict(),\n                \"optimizer\": optimizer.state_dict(),\n            }\n            metadata_dict = {\n                \"first_batch_index\": batch_idx + 1,\n                \"loss\": loss.item(),\n            }\n            checkpoint_manager.save_checkpoint(ts.serialize(state_dict), metadata_dict)\n\n\ndef test(model, device, test_loader):\n    model.eval()\n    test_loss = 0\n    correct = 0\n    with torch.no_grad():\n        for data, target in test_loader:\n            data, target = data.to(device), target.to(device)\n            output = model(data)\n            test_loss += F.nll_loss(output, target, reduction='sum').item()  # sum up batch loss\n            pred = output.argmax(dim=1, keepdim=True)  # get the index of the max log-probability\n            correct += pred.eq(target.view_as(pred)).sum().item()\n\n    test_loss /= len(test_loader.dataset)\n\n    print('\\nTest set: Average loss: {:.4f}, Accuracy: {}/{} ({:.0f}%)\\n'.format(\n        test_loss, correct, len(test_loader.dataset),\n        100. * correct / len(test_loader.dataset)), file=sys.stderr)\n\n\ndef main(toolbox: Toolbox):\n    # Training settings\n    parser = argparse.ArgumentParser(description='PyTorch MNIST Example')\n    parser.add_argument('--batch-size', type=int, default=64, metavar='N',\n                        help='input batch size for training (default: 64)')\n    parser.add_argument('--test-batch-size', type=int, default=1000, metavar='N',\n                        help='input batch size for testing (default: 1000)')\n    parser.add_argument('--epochs', type=int, default=14, metavar='N',\n                        help='number of epochs to train (default: 14)')\n    parser.add_argument('--lr', type=float, default=1.0, metavar='LR',\n                        help='learning rate (default: 1.0)')\n    parser.add_argument('--gamma', type=float, default=0.7, metavar='M',\n                        help='Learning rate step gamma (default: 0.7)')\n    parser.add_argument('--no-cuda', action='store_true', default=False,\n                        help='disables CUDA training')\n    parser.add_argument('--no-mps', action='store_true', default=False,\n                        help='disables macOS GPU training')\n    parser.add_argument('--dry-run', action='store_true', default=False,\n                        help='quickly check a single pass')\n    parser.add_argument('--seed', type=int, default=1, metavar='S',\n                        help='random seed (default: 1)')\n    parser.add_argument('--log-interval', type=int, default=10, metavar='N',\n                        help='how many batches to wait before logging training status')\n    parser.add_argument('--save-model', action='store_true', default=False,\n                        help='For Saving the current Model')\n    args = parser.parse_args([])\n    use_cuda = not args.no_cuda and torch.cuda.is_available()\n    use_mps = not args.no_mps and torch.backends.mps.is_available()\n\n    torch.manual_seed(args.seed)\n\n    if use_cuda:\n        device = torch.device(\"cuda\")\n    elif use_mps:\n        device = torch.device(\"mps\")\n    else:\n        device = torch.device(\"cpu\")\n\n    train_kwargs = {'batch_size': args.batch_size}\n    test_kwargs = {'batch_size': args.test_batch_size}\n    if use_cuda:\n        cuda_kwargs = {'num_workers': 1,\n                       'pin_memory': True,\n                       'shuffle': False}\n        train_kwargs.update(cuda_kwargs)\n        test_kwargs.update(cuda_kwargs)\n\n    transform=transforms.Compose([\n        transforms.ToTensor(),\n        transforms.Normalize((0.1307,), (0.3081,))\n        ])\n    dataset1 = YtTensorDataset(yt_client=toolbox.yt_client, path=dataset_train_path, columns=['data', 'labels'])\n    dataset2 = YtTensorDataset(yt_client=toolbox.yt_client, path=dataset_test_path, columns=['data', 'labels'])\n\n    train_loader = torch.utils.data.DataLoader(dataset1,**train_kwargs)\n    test_loader = torch.utils.data.DataLoader(dataset2, **test_kwargs)\n\n    model = Net().to(device)\n    optimizer = optim.Adadelta(model.parameters(), lr=args.lr)\n\n    ts = TensorSerializer()\n    first_batch_index = 0\n    checkpoint = toolbox.checkpoint_manager.get_last_checkpoint()\n    if checkpoint is not None:\n        first_batch_index = checkpoint.metadata[\"first_batch_index\"]\n        print(\n            \"Found checkpoint with index\",\n            checkpoint.index,\n            \"and first batch index\",\n            first_batch_index,\n            file=sys.stderr,\n        )\n        checkpoint_dict = serializer.desirialize(checkpoint.value)\n        model.load_state_dict(checkpoint_dict[\"model\"])\n        optimizer.load_state_dict(checkpoint_dict[\"optimizer\"])\n\n    scheduler = StepLR(optimizer, step_size=1, gamma=args.gamma)\n    for epoch in range(1, args.epochs + 1):\n        train(args, model, device, train_loader, optimizer, epoch, first_batch_index, toolbox.checkpoint_manager)\n        test(model, device, test_loader)\n        scheduler.step()\n\n    if args.save_model:\n        toolbox.save_model(ts.serialize(model.state_dict()), dataset_train_path, metadata={})\n\n\nrun(\n    main,\n    backend=Tractorch(),\n    yt_path=training_dir,\n    mesh=Mesh(node_count=2, process_per_node=1, gpu_per_process=1, pool_trees=h100_8_pool_trees),\n    resources=Resources(\n        cpu_limit=4,\n        memory_limit=32212254720,\n    ),\n    proxy_stderr_mode=StderrMode.primary,\n)"
        }
    ],
    "metadata": {
        "is_solution_notebook": true,
        "kernelspec": {
            "display_name": "chiffa_solutions_torch",
            "name": "chiffa_solutions_torch"
        },
        "tracto": {
            "is_solution_notebook": true,
            "metadata_version": "1",
            "notebook_cypress_id": "13e53a41-d4a7-4e09-8c9a-b021eb86173d"
        }
    },
    "nbformat": 4,
    "nbformat_minor": 5
}