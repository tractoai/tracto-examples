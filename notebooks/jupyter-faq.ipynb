{
    "cells": [
        {
            "cell_type": "markdown",
            "id": "d75bfe39",
            "metadata": {
                "cell_id": "c9da4f42-df8b-4603-bf2c-84a579f49c0f"
            },
            "source": "# Jupyter Notebook FAQ\n\nHello! This is a basic FAQ for Jupyter notebooks in YT.\n\n### What is a Jupyter notebook in YT?\nThis is a custom interface and compute environment for the Jupyter server, with additional features that allow you to easily interact with the YT cluster.\n\n### Useful notebook examples:\n\n1. [Notebook with various cells](./demo-notebook.ipynb) - This demo shows you different kinds of cell outputs that we currently support.\n1. [Notebook with Python client for YTsaurus](./base-yt-client-notebook.ipynb) - This demo shows how you can interact with the cluster via notebook cells.\n1. [Notebook about docker images for Kernels](./kernel-images.ipynb) - This demo shows you how to build and use custom images for Kernels.\n\n<br>\n"
        },
        {
            "cell_type": "markdown",
            "id": "bd9784a7",
            "metadata": {
                "cell_id": "18a12b2f-0d3a-4176-8d38-6d356a0e863b"
            },
            "source": "## How to create notebook\n\nYou can create a new notebook via navigation. \n\n\n1. Click on \"Create object\"\n2. Click on \"Notebook\"\n3. Choose the notebook path and click \"Confim\"\n\n\nDone! New notebook is ready.\n\n<br>\n\n<iframe width=\"840\" height=\"473\" src=\"https://www.youtube.com/embed/WNpRVFx7Q2k?si=TV-F5-YCus787Bjl\" title=\"YouTube video player\" frameborder=\"0\" allow=\"accelerometer; autoplay; clipboard-write; encrypted-media; gyroscope; picture-in-picture; web-share\" referrerpolicy=\"strict-origin-when-cross-origin\" allowfullscreen></iframe>"
        },
        {
            "cell_type": "markdown",
            "id": "d572864d",
            "metadata": {
                "cell_id": "0e5a024c-fc4d-43f2-8af6-28fb8392bf42"
            },
            "source": "## How to create YT kernel\n\nIn YT, the jupyter cells are running on special compute resources, we name them Kernels. If you want to run a cell you need to create one for yourself.\n\nYou can do that:\n\n1. On the notebook page, click the \"Create kernel\" button.\n1. [On kernels list page](/playground/kernels).\n\n<br>\n\n<iframe width=\"840\" height=\"473\" src=\"https://www.youtube.com/embed/rY9--y5rdhc?si=RdTU2Fbljp7LTTbY\" title=\"YouTube video player\" frameborder=\"0\" allow=\"accelerometer; autoplay; clipboard-write; encrypted-media; gyroscope; picture-in-picture; web-share\" referrerpolicy=\"strict-origin-when-cross-origin\" allowfullscreen></iframe>\n"
        },
        {
            "cell_type": "markdown",
            "id": "78332b4d",
            "metadata": {
                "cell_id": "8f09820a-abba-4e93-a426-78db081d9cda"
            },
            "source": "## How to run notebook cell\n\nYou can run notebook cell in different ways:\n\n1. Via the \"Run\" button on the cell\n1. Via shift+enter shortcut\n1. Via ctrl+ enter shortcut\n1. Via the \"Run all\" button in the toolbar\n\n<br>\n\n<iframe width=\"840\" height=\"473\" src=\"https://www.youtube.com/embed/q70Tbw-hD4A?si=mz60HKh-hP5STVpv\" title=\"YouTube video player\" frameborder=\"0\" allow=\"accelerometer; autoplay; clipboard-write; encrypted-media; gyroscope; picture-in-picture; web-share\" referrerpolicy=\"strict-origin-when-cross-origin\" allowfullscreen></iframe>"
        },
        {
            "cell_type": "markdown",
            "id": "a18a9ced",
            "metadata": {
                "cell_id": "2dd71273-3269-4eb4-aa39-78ba453a0bdf"
            },
            "source": "## How-to add a secret to YT kernel\n\nSometimes you need to pass a secret to your notebook cell. We suggest you store your secrets in YT kernel, a notebook cell will get access to all  YT kernel secrets.\n\n<br>\n\n<iframe width=\"840\" height=\"473\" src=\"https://www.youtube.com/embed/yfqRIeaOah8?si=bqQhfshsWmJoPznm\" title=\"YouTube video player\" frameborder=\"0\" allow=\"accelerometer; autoplay; clipboard-write; encrypted-media; gyroscope; picture-in-picture; web-share\" referrerpolicy=\"strict-origin-when-cross-origin\" allowfullscreen></iframe>"
        },
        {
            "cell_type": "markdown",
            "id": "6a65d158",
            "metadata": {
                "cell_id": "53fae026-aeeb-467c-bf21-ad934959136b"
            },
            "source": "## How-to get access to a YT kernel secret in notebook\n\nLet's say that you added a secret with the name `SOME_SECRET` to your kernel.\n\nIn that case, you will get the next env variables in your jupyter cell:\n\n1. `YT_SECURE_VAULT={\"SOME_SECRET\"=\"secret value is here\";}`\n1. `YT_SECURE_VAULT_SOME_SECRET=secret value is here`\n\n### **Important note:**\n**Do not** log your secrets in your jupyter cell. If you do so, your secrets will be saved in a notebook and anyone with access to your notebook can read them.\n\nWe do log these env variables in the video below just for demonstration.\n\n<br>\n\n<iframe width=\"840\" height=\"473\" src=\"https://www.youtube.com/embed/6fsFGUYWv4o?si=dWyRMAzmXOcuHhkf\" title=\"YouTube video player\" frameborder=\"0\" allow=\"accelerometer; autoplay; clipboard-write; encrypted-media; gyroscope; picture-in-picture; web-share\" referrerpolicy=\"strict-origin-when-cross-origin\" allowfullscreen></iframe>"
        }
    ],
    "metadata": {
        "is_solution_notebook": true,
        "kernelspec": {
            "display_name": "chiffa_solutions",
            "name": "chiffa_solutions"
        },
        "notebook_cypress_id": "06e6fe38-0199-4295-a7f9-55e6d60127e2"
    },
    "nbformat": 4,
    "nbformat_minor": 5
}