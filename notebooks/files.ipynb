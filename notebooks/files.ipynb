{
    "cells": [
        {
            "cell_type": "markdown",
            "id": "01506033-0e81-4495-a335-e85a940022e3",
            "metadata": {
                "cell_id": "01506033-0e81-4495-a335-e85a940022e3",
                "tracto": {
                    "metadata_version": "1",
                    "view_cell_type": "MD",
                    "view_source": "# Upload, download and use files in YTsaurus operations"
                }
            },
            "source": "# Upload, download and use files in YTsaurus operations"
        },
        {
            "cell_type": "markdown",
            "id": "8b5fe9f4-6df6-43cf-88f1-aa60554f29b8",
            "metadata": {
                "cell_id": "8b5fe9f4-6df6-43cf-88f1-aa60554f29b8",
                "tracto": {
                    "metadata_version": "1",
                    "view_cell_type": "MD",
                    "view_source": "This notebook contains examples of how to store large binary data on YTsaurus as [files](https://ytsaurus.tech/docs/en/user-guide/storage/files).\n\nThis notebooks demonstrates how to:\n1. Upload file.\n2. Read file.\n3. Use file in operation.\n\nFiles can be useful in cases:\n1. Operations require using dictionaries (e.g., for working with geodata, currency rates, etc)\n2. For saving checkpoints or a trained model.\n3. You need to store data in a reliable storage.\n4. We store big Jupyter notebooks as files:)"
                }
            },
            "source": "This notebook contains examples of how to store large binary data on YTsaurus as [files](https://ytsaurus.tech/docs/en/user-guide/storage/files).\n\nThis notebooks demonstrates how to:\n1. Upload file.\n2. Read file.\n3. Use file in operation.\n\nFiles can be useful in cases:\n1. Operations require using dictionaries (e.g., for working with geodata, currency rates, etc)\n2. For saving checkpoints or a trained model.\n3. You need to store data in a reliable storage.\n4. We store big Jupyter notebooks as files:)"
        },
        {
            "cell_type": "code",
            "execution_count": 2,
            "id": "b0418f5e-9509-4f50-94e3-426a3569c45c",
            "metadata": {
                "cell_id": "b0418f5e-9509-4f50-94e3-426a3569c45c",
                "tracto": {
                    "metadata_version": "1",
                    "view_cell_type": "CODE",
                    "view_source": "from yt import wrapper as yt \nimport uuid \nimport json"
                }
            },
            "outputs": [],
            "source": "from yt import wrapper as yt \nimport uuid \nimport json"
        },
        {
            "cell_type": "markdown",
            "id": "06ef858e-2470-416b-99a3-ad3935fa35b5",
            "metadata": {
                "cell_id": "06ef858e-2470-416b-99a3-ad3935fa35b5",
                "tracto": {
                    "metadata_version": "1",
                    "view_cell_type": "MD",
                    "view_source": "## Create a base directory for examples"
                }
            },
            "source": "## Create a base directory for examples"
        },
        {
            "cell_type": "code",
            "execution_count": 4,
            "id": "e72c3c62-c781-4960-9502-5cbceeaabf23",
            "metadata": {
                "cell_id": "e72c3c62-c781-4960-9502-5cbceeaabf23",
                "tracto": {
                    "metadata_version": "1",
                    "view_cell_type": "CODE",
                    "view_source": "working_dir = f\"//tmp/examples/files_{uuid.uuid4()}\"\nyt.create(\"map_node\", working_dir, recursive=True)\nprint(working_dir)"
                }
            },
            "outputs": [
                {
                    "name": "stdout",
                    "output_type": "stream",
                    "text": "//tmp/examples/files_9af46911-349a-4578-bb6e-dcec3d695ca3\n"
                }
            ],
            "source": "working_dir = f\"//tmp/examples/files_{uuid.uuid4()}\"\nyt.create(\"map_node\", working_dir, recursive=True)\nprint(working_dir)"
        },
        {
            "cell_type": "markdown",
            "id": "a12c9d16-3974-4338-b8c5-22922d44d241",
            "metadata": {
                "cell_id": "a12c9d16-3974-4338-b8c5-22922d44d241",
                "tracto": {
                    "metadata_version": "1",
                    "view_cell_type": "MD",
                    "view_source": "## Upload and download file as serialized json"
                }
            },
            "source": "## Upload and download file as serialized json"
        },
        {
            "cell_type": "code",
            "execution_count": 6,
            "id": "daed41df-f935-480d-82d9-c8a37a9c3983",
            "metadata": {
                "cell_id": "daed41df-f935-480d-82d9-c8a37a9c3983",
                "tracto": {
                    "metadata_version": "1",
                    "view_cell_type": "CODE",
                    "view_source": "rates = {\"USD\":1,\"AED\":3.6725,\"AFN\":70.930145,\"ALL\":89.880745,\"AMD\":388.084007,\"ANG\":1.79,\"AOA\":910.532308,\"ARS\":948.17,\"AUD\":1.474829,\"AWG\":1.79,\"AZN\":1.699237,\"BAM\":1.749036,\"BBD\":2,\"BDT\":119.497266,\"BGN\":1.749165,\"BHD\":0.376,\"BIF\":2900.267644,\"BMD\":1,\"BND\":1.302522,\"BOB\":6.918444,\"BRL\":5.563555,\"BSD\":1,\"BTN\":83.858202,\"BWP\":13.368056,\"BYN\":3.25702,\"BZD\":2,\"CAD\":1.351507,\"CDF\":2821.533873,\"CHF\":0.847992,\"CLP\":914.946844,\"CNY\":7.125721,\"COP\":4032.124348,\"CRC\":523.251219,\"CUP\":24,\"CVE\":98.606453,\"CZK\":22.409394,\"DJF\":177.721,\"DKK\":6.669549,\"DOP\":59.725937,\"DZD\":134.240444,\"EGP\":48.773605,\"ERN\":15,\"ETB\":110.793381,\"EUR\":0.894271,\"FJD\":2.209201,\"FKP\":0.758066,\"FOK\":6.669253,\"GBP\":0.75807,\"GEL\":2.698374,\"GGP\":0.758066,\"GHS\":15.646015,\"GIP\":0.758066,\"GMD\":70.090529,\"GNF\":8687.65698,\"GTQ\":7.739001,\"GYD\":209.238751,\"HKD\":7.796834,\"HNL\":24.795486,\"HRK\":6.737862,\"HTG\":131.727086,\"HUF\":351.816224,\"IDR\":15463.537936,\"ILS\":3.689802,\"IMP\":0.758066,\"INR\":83.858211,\"IQD\":1307.71534,\"IRR\":42046.557011,\"ISK\":136.842504,\"JEP\":0.758066,\"JMD\":156.609396,\"JOD\":0.709,\"JPY\":144.238461,\"KES\":128.860802,\"KGS\":85.514332,\"KHR\":4063.922959,\"KID\":1.474819,\"KMF\":439.950981,\"KRW\":1326.065473,\"KWD\":0.305137,\"KYD\":0.833333,\"KZT\":483.412984,\"LAK\":21958.776695,\"LBP\":89500,\"LKR\":299.54412,\"LRD\":195.128633,\"LSL\":17.727478,\"LYD\":4.761189,\"MAD\":9.651574,\"MDL\":17.440239,\"MGA\":4559.019151,\"MKD\":55.302516,\"MMK\":2099.920135,\"MNT\":3394.316353,\"MOP\":8.031133,\"MRU\":39.757746,\"MUR\":46.041061,\"MVR\":15.425412,\"MWK\":1734.083284,\"MXN\":19.262175,\"MYR\":4.37505,\"MZN\":63.668821,\"NAD\":17.727478,\"NGN\":1572.880665,\"NIO\":36.923597,\"NOK\":10.483587,\"NPR\":134.173123,\"NZD\":1.607849,\"OMR\":0.384497,\"PAB\":1,\"PEN\":3.743768,\"PGK\":3.892274,\"PHP\":56.230734,\"PKR\":278.734522,\"PLN\":3.824356,\"PYG\":7598.969319,\"QAR\":3.64,\"RON\":4.471734,\"RSD\":105.116406,\"RUB\":91.507333,\"RWF\":1331.048915,\"SAR\":3.75,\"SBD\":8.500735,\"SCR\":13.837586,\"SDG\":458.303626,\"SEK\":10.200087,\"SGD\":1.302527,\"SHP\":0.758066,\"SLE\":22.414795,\"SLL\":22414.795049,\"SOS\":571.574926,\"SRD\":29.173375,\"SSP\":2809.067693,\"STN\":21.909564,\"SYP\":13122.06765,\"SZL\":17.727478,\"THB\":34.138685,\"TJS\":10.605013,\"TMT\":3.499058,\"TND\":3.045497,\"TOP\":2.324466,\"TRY\":34.030627,\"TTD\":6.784157,\"TVD\":1.474819,\"TWD\":31.688138,\"TZS\":2699.373687,\"UAH\":41.241903,\"UGX\":3715.735216,\"UYU\":40.352563,\"UZS\":12685.942826,\"VES\":36.5888,\"VND\":24991.37597,\"VUV\":117.995378,\"WST\":2.694395,\"XAF\":586.601308,\"XCD\":2.7,\"XDR\":0.742859,\"XOF\":586.601308,\"XPF\":106.714781,\"YER\":250.215458,\"ZAR\":17.727644,\"ZMW\":26.177908,\"ZWL\":13.8134}"
                }
            },
            "outputs": [],
            "source": "rates = {\"USD\":1,\"AED\":3.6725,\"AFN\":70.930145,\"ALL\":89.880745,\"AMD\":388.084007,\"ANG\":1.79,\"AOA\":910.532308,\"ARS\":948.17,\"AUD\":1.474829,\"AWG\":1.79,\"AZN\":1.699237,\"BAM\":1.749036,\"BBD\":2,\"BDT\":119.497266,\"BGN\":1.749165,\"BHD\":0.376,\"BIF\":2900.267644,\"BMD\":1,\"BND\":1.302522,\"BOB\":6.918444,\"BRL\":5.563555,\"BSD\":1,\"BTN\":83.858202,\"BWP\":13.368056,\"BYN\":3.25702,\"BZD\":2,\"CAD\":1.351507,\"CDF\":2821.533873,\"CHF\":0.847992,\"CLP\":914.946844,\"CNY\":7.125721,\"COP\":4032.124348,\"CRC\":523.251219,\"CUP\":24,\"CVE\":98.606453,\"CZK\":22.409394,\"DJF\":177.721,\"DKK\":6.669549,\"DOP\":59.725937,\"DZD\":134.240444,\"EGP\":48.773605,\"ERN\":15,\"ETB\":110.793381,\"EUR\":0.894271,\"FJD\":2.209201,\"FKP\":0.758066,\"FOK\":6.669253,\"GBP\":0.75807,\"GEL\":2.698374,\"GGP\":0.758066,\"GHS\":15.646015,\"GIP\":0.758066,\"GMD\":70.090529,\"GNF\":8687.65698,\"GTQ\":7.739001,\"GYD\":209.238751,\"HKD\":7.796834,\"HNL\":24.795486,\"HRK\":6.737862,\"HTG\":131.727086,\"HUF\":351.816224,\"IDR\":15463.537936,\"ILS\":3.689802,\"IMP\":0.758066,\"INR\":83.858211,\"IQD\":1307.71534,\"IRR\":42046.557011,\"ISK\":136.842504,\"JEP\":0.758066,\"JMD\":156.609396,\"JOD\":0.709,\"JPY\":144.238461,\"KES\":128.860802,\"KGS\":85.514332,\"KHR\":4063.922959,\"KID\":1.474819,\"KMF\":439.950981,\"KRW\":1326.065473,\"KWD\":0.305137,\"KYD\":0.833333,\"KZT\":483.412984,\"LAK\":21958.776695,\"LBP\":89500,\"LKR\":299.54412,\"LRD\":195.128633,\"LSL\":17.727478,\"LYD\":4.761189,\"MAD\":9.651574,\"MDL\":17.440239,\"MGA\":4559.019151,\"MKD\":55.302516,\"MMK\":2099.920135,\"MNT\":3394.316353,\"MOP\":8.031133,\"MRU\":39.757746,\"MUR\":46.041061,\"MVR\":15.425412,\"MWK\":1734.083284,\"MXN\":19.262175,\"MYR\":4.37505,\"MZN\":63.668821,\"NAD\":17.727478,\"NGN\":1572.880665,\"NIO\":36.923597,\"NOK\":10.483587,\"NPR\":134.173123,\"NZD\":1.607849,\"OMR\":0.384497,\"PAB\":1,\"PEN\":3.743768,\"PGK\":3.892274,\"PHP\":56.230734,\"PKR\":278.734522,\"PLN\":3.824356,\"PYG\":7598.969319,\"QAR\":3.64,\"RON\":4.471734,\"RSD\":105.116406,\"RUB\":91.507333,\"RWF\":1331.048915,\"SAR\":3.75,\"SBD\":8.500735,\"SCR\":13.837586,\"SDG\":458.303626,\"SEK\":10.200087,\"SGD\":1.302527,\"SHP\":0.758066,\"SLE\":22.414795,\"SLL\":22414.795049,\"SOS\":571.574926,\"SRD\":29.173375,\"SSP\":2809.067693,\"STN\":21.909564,\"SYP\":13122.06765,\"SZL\":17.727478,\"THB\":34.138685,\"TJS\":10.605013,\"TMT\":3.499058,\"TND\":3.045497,\"TOP\":2.324466,\"TRY\":34.030627,\"TTD\":6.784157,\"TVD\":1.474819,\"TWD\":31.688138,\"TZS\":2699.373687,\"UAH\":41.241903,\"UGX\":3715.735216,\"UYU\":40.352563,\"UZS\":12685.942826,\"VES\":36.5888,\"VND\":24991.37597,\"VUV\":117.995378,\"WST\":2.694395,\"XAF\":586.601308,\"XCD\":2.7,\"XDR\":0.742859,\"XOF\":586.601308,\"XPF\":106.714781,\"YER\":250.215458,\"ZAR\":17.727644,\"ZMW\":26.177908,\"ZWL\":13.8134}"
        },
        {
            "cell_type": "code",
            "execution_count": 7,
            "id": "7d2e3365-f697-409e-b5f9-75ad5ddb656b",
            "metadata": {
                "cell_id": "7d2e3365-f697-409e-b5f9-75ad5ddb656b",
                "tracto": {
                    "metadata_version": "1",
                    "view_cell_type": "CODE",
                    "view_source": "json_rates = json.dumps(rates).encode(\"utf-8\")"
                }
            },
            "outputs": [],
            "source": "json_rates = json.dumps(rates).encode(\"utf-8\")"
        },
        {
            "cell_type": "markdown",
            "id": "6cf69bf8-17ac-43df-a57a-c96112b6e748",
            "metadata": {
                "cell_id": "6cf69bf8-17ac-43df-a57a-c96112b6e748",
                "tracto": {
                    "metadata_version": "1",
                    "view_cell_type": "MD",
                    "view_source": "`write_file` can wright arbitrary binary data"
                }
            },
            "source": "`write_file` can wright arbitrary binary data"
        },
        {
            "cell_type": "code",
            "execution_count": 9,
            "id": "64c96c2b-5f5f-41ac-bc73-8a71c8d393d2",
            "metadata": {
                "cell_id": "64c96c2b-5f5f-41ac-bc73-8a71c8d393d2",
                "tracto": {
                    "metadata_version": "1",
                    "view_cell_type": "CODE",
                    "view_source": "file_path = f\"{working_dir}/file\"\nyt.write_file(file_path, json_rates)"
                }
            },
            "outputs": [],
            "source": "file_path = f\"{working_dir}/file\"\nyt.write_file(file_path, json_rates)"
        },
        {
            "cell_type": "code",
            "execution_count": 10,
            "id": "42f8b612-2d20-4fcf-bee7-e75f5ca39052",
            "metadata": {
                "cell_id": "42f8b612-2d20-4fcf-bee7-e75f5ca39052",
                "tracto": {
                    "metadata_version": "1",
                    "view_cell_type": "CODE",
                    "view_source": "content = yt.read_file(file_path).read()\njson.loads(content).keys()"
                }
            },
            "outputs": [
                {
                    "data": {
                        "text/plain": "dict_keys(['USD', 'AED', 'AFN', 'ALL', 'AMD', 'ANG', 'AOA', 'ARS', 'AUD', 'AWG', 'AZN', 'BAM', 'BBD', 'BDT', 'BGN', 'BHD', 'BIF', 'BMD', 'BND', 'BOB', 'BRL', 'BSD', 'BTN', 'BWP', 'BYN', 'BZD', 'CAD', 'CDF', 'CHF', 'CLP', 'CNY', 'COP', 'CRC', 'CUP', 'CVE', 'CZK', 'DJF', 'DKK', 'DOP', 'DZD', 'EGP', 'ERN', 'ETB', 'EUR', 'FJD', 'FKP', 'FOK', 'GBP', 'GEL', 'GGP', 'GHS', 'GIP', 'GMD', 'GNF', 'GTQ', 'GYD', 'HKD', 'HNL', 'HRK', 'HTG', 'HUF', 'IDR', 'ILS', 'IMP', 'INR', 'IQD', 'IRR', 'ISK', 'JEP', 'JMD', 'JOD', 'JPY', 'KES', 'KGS', 'KHR', 'KID', 'KMF', 'KRW', 'KWD', 'KYD', 'KZT', 'LAK', 'LBP', 'LKR', 'LRD', 'LSL', 'LYD', 'MAD', 'MDL', 'MGA', 'MKD', 'MMK', 'MNT', 'MOP', 'MRU', 'MUR', 'MVR', 'MWK', 'MXN', 'MYR', 'MZN', 'NAD', 'NGN', 'NIO', 'NOK', 'NPR', 'NZD', 'OMR', 'PAB', 'PEN', 'PGK', 'PHP', 'PKR', 'PLN', 'PYG', 'QAR', 'RON', 'RSD', 'RUB', 'RWF', 'SAR', 'SBD', 'SCR', 'SDG', 'SEK', 'SGD', 'SHP', 'SLE', 'SLL', 'SOS', 'SRD', 'SSP', 'STN', 'SYP', 'SZL', 'THB', 'TJS', 'TMT', 'TND', 'TOP', 'TRY', 'TTD', 'TVD', 'TWD', 'TZS', 'UAH', 'UGX', 'UYU', 'UZS', 'VES', 'VND', 'VUV', 'WST', 'XAF', 'XCD', 'XDR', 'XOF', 'XPF', 'YER', 'ZAR', 'ZMW', 'ZWL'])"
                    },
                    "execution_count": 6,
                    "metadata": {},
                    "output_type": "execute_result"
                }
            ],
            "source": "content = yt.read_file(file_path).read()\njson.loads(content).keys()"
        },
        {
            "cell_type": "markdown",
            "id": "7e4c5316-86ec-4b0f-a8f1-0a6c0e818769",
            "metadata": {
                "cell_id": "7e4c5316-86ec-4b0f-a8f1-0a6c0e818769",
                "tracto": {
                    "metadata_version": "1",
                    "view_cell_type": "MD",
                    "view_source": "## Use files in operations"
                }
            },
            "source": "## Use files in operations"
        },
        {
            "cell_type": "code",
            "execution_count": 12,
            "id": "eb23dd16-930a-4585-bab1-047fd0b133f6",
            "metadata": {
                "cell_id": "eb23dd16-930a-4585-bab1-047fd0b133f6",
                "tracto": {
                    "metadata_version": "1",
                    "view_cell_type": "CODE",
                    "view_source": "def mapper(row):\n    # file's name is equial to table's name\n    assert \"USD\" in open(\"file\").read()"
                }
            },
            "outputs": [],
            "source": "def mapper(row):\n    # file's name is equial to table's name\n    assert \"USD\" in open(\"file\").read()"
        },
        {
            "cell_type": "code",
            "execution_count": 13,
            "id": "0211f803-16c8-4f73-acd1-33aaa83a9cea",
            "metadata": {
                "cell_id": "0211f803-16c8-4f73-acd1-33aaa83a9cea",
                "tracto": {
                    "metadata_version": "1",
                    "view_cell_type": "CODE",
                    "view_source": "src = f\"{working_dir}/fake_src\"\ndst = f\"{working_dir}/fake_dst\"\n\nyt.write_table(src, [{\"x\": 1}])"
                }
            },
            "outputs": [],
            "source": "src = f\"{working_dir}/fake_src\"\ndst = f\"{working_dir}/fake_dst\"\n\nyt.write_table(src, [{\"x\": 1}])"
        },
        {
            "cell_type": "markdown",
            "id": "57447c8a-54d5-425e-ad6a-62579650fe40",
            "metadata": {
                "cell_id": "57447c8a-54d5-425e-ad6a-62579650fe40",
                "tracto": {
                    "metadata_version": "1",
                    "view_cell_type": "MD",
                    "view_source": "`yt_files` parameter makes operation download file from cypress and save it on job's file system. Local file has the same name as cypress node."
                }
            },
            "source": "`yt_files` parameter makes operation download file from cypress and save it on job's file system. Local file has the same name as cypress node."
        },
        {
            "cell_type": "code",
            "execution_count": 15,
            "id": "1e44c3e2-0c0b-4870-b1fe-a0bb7dbf3c01",
            "metadata": {
                "cell_id": "1e44c3e2-0c0b-4870-b1fe-a0bb7dbf3c01",
                "tracto": {
                    "metadata_version": "1",
                    "view_cell_type": "CODE",
                    "view_source": "yt.run_map(\n    mapper,\n    src,\n    dst,\n    yt_files=[file_path],\n)"
                }
            },
            "outputs": [
                {
                    "name": "stderr",
                    "output_type": "stream",
                    "text": "2025-01-21 19:35:56,260\tINFO\tOperation started: https://planck.yt.nebius.yt/playground/operations/f38820d0-1d53dea1-134403e8-4f500a3/details\n"
                },
                {
                    "name": "stderr",
                    "output_type": "stream",
                    "text": "2025-01-21 19:35:56,287\tINFO\t( 0 min) operation f38820d0-1d53dea1-134403e8-4f500a3 starting\n"
                },
                {
                    "name": "stderr",
                    "output_type": "stream",
                    "text": "2025-01-21 19:35:56,811\tINFO\t( 0 min) operation f38820d0-1d53dea1-134403e8-4f500a3 initializing\n"
                },
                {
                    "name": "stderr",
                    "output_type": "stream",
                    "text": "2025-01-21 19:35:57,369\tINFO\t( 0 min) Unrecognized spec: {'enable_partitioned_data_balancing': false, 'mapper': {'title': 'mapper'}}\n"
                },
                {
                    "name": "stderr",
                    "output_type": "stream",
                    "text": "2025-01-21 19:35:59,570\tINFO\t( 0 min) operation f38820d0-1d53dea1-134403e8-4f500a3: running=0     completed=0     pending=1     failed=0     aborted=0     lost=0     total=1     blocked=0    \n"
                },
                {
                    "name": "stderr",
                    "output_type": "stream",
                    "text": "2025-01-21 19:36:03,002\tINFO\t( 0 min) operation f38820d0-1d53dea1-134403e8-4f500a3: running=1     completed=0     pending=0     failed=0     aborted=0     lost=0     total=1     blocked=0    \n"
                },
                {
                    "name": "stderr",
                    "output_type": "stream",
                    "text": "2025-01-21 19:39:26,592\tINFO\t( 3 min) operation f38820d0-1d53dea1-134403e8-4f500a3 completed\n"
                },
                {
                    "data": {
                        "text/plain": "<yt.wrapper.operation_commands.Operation at 0x7f9398bda890>"
                    },
                    "execution_count": 9,
                    "metadata": {},
                    "output_type": "execute_result"
                }
            ],
            "source": "yt.run_map(\n    mapper,\n    src,\n    dst,\n    yt_files=[file_path],\n)"
        }
    ],
    "metadata": {
        "kernelspec": {
            "display_name": "chiffa_solutions",
            "name": "chiffa_solutions"
        },
        "tracto": {
            "is_solution_notebook": true,
            "metadata_version": "1",
            "notebook_cypress_id": "63337309-1962-4348-be4a-939b01ef7753"
        },
        "is_solution_notebook": true
    },
    "nbformat": 4,
    "nbformat_minor": 5
}