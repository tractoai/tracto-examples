{
    "cells": [
        {
            "cell_type": "markdown",
            "id": "66e45ffc-6eb0-4c2f-b119-5947a99b81f8",
            "metadata": {
                "cell_id": "66e45ffc-6eb0-4c2f-b119-5947a99b81f8",
                "tracto": {
                    "metadata_version": "1",
                    "view_cell_type": "MD",
                    "view_source": "# Tractorun\n\nThis notebook demonstrates the `Tractorun` library and CLI tool for running distributed machine learning tasks on the `YTsaurus`. `Tractorun` provides convenient tools to integrate with YTsaurus' distributed data processing system, enabling execution and management of machine learning training jobs.\n\nTractorun:\n1. Manages the configuration and coordination of distributed training.\n2. Provides tools for working with `YtDataset` (allows you to use data on YTsaurus as a dataset), checkpoints, saving models, interacting with `tensorproxy`, and more.\n3. Ensures integration with the YTsaurus ecosystem.\n\nIn this notebook, we cover the following steps:\n\n1. Uploading a PyTorch dataset to YTsaurus.\n2. Training a model using MNIST. We perform model training on the MNIST dataset directly from a Jupyter Notebook, leveraging YTsaurus as the computation platform.\n3. Running the same training with Tractorun CLI. We'll demonstrate how to run the same training job via the command line using the Tractorun CLI.\n\nWe use the official PyTorch [MNIST training example](https://github.com/pytorch/examples/blob/cdef4d43fb1a2c6c4349daa5080e4e8731c34569/mnist/main.py) as a reference and show how to modify it with minimal changes to run using `Tractorun`."
                }
            },
            "source": "# Tractorun\n\nThis notebook demonstrates the `Tractorun` library and CLI tool for running distributed machine learning tasks on the `YTsaurus`. `Tractorun` provides convenient tools to integrate with YTsaurus' distributed data processing system, enabling execution and management of machine learning training jobs.\n\nTractorun:\n1. Manages the configuration and coordination of distributed training.\n2. Provides tools for working with `YtDataset` (allows you to use data on YTsaurus as a dataset), checkpoints, saving models, interacting with `tensorproxy`, and more.\n3. Ensures integration with the YTsaurus ecosystem.\n\nIn this notebook, we cover the following steps:\n\n1. Uploading a PyTorch dataset to YTsaurus.\n2. Training a model using MNIST. We perform model training on the MNIST dataset directly from a Jupyter Notebook, leveraging YTsaurus as the computation platform.\n3. Running the same training with Tractorun CLI. We'll demonstrate how to run the same training job via the command line using the Tractorun CLI.\n\nWe use the official PyTorch [MNIST training example](https://github.com/pytorch/examples/blob/cdef4d43fb1a2c6c4349daa5080e4e8731c34569/mnist/main.py) as a reference and show how to modify it with minimal changes to run using `Tractorun`."
        },
        {
            "cell_type": "markdown",
            "id": "d4e9907a-556c-4856-819c-297a549ed999",
            "metadata": {
                "cell_id": "d4e9907a-556c-4856-819c-297a549ed999",
                "tracto": {
                    "metadata_version": "1",
                    "view_cell_type": "MD",
                    "view_source": "How to run this notebook:\n1. Use `kernel` with installed `torch` and `torchvision`. You can create a new `kernel` using `cr.eu-north1.nebius.cloud/e00faee7vas5hpsh3s/solutions/torch:v2` or [build your own image](./kernel-images.ipynb)."
                }
            },
            "source": "How to run this notebook:\n1. Use `kernel` with installed `torch` and `torchvision`. You can create a new `kernel` using `cr.eu-north1.nebius.cloud/e00faee7vas5hpsh3s/solutions/torch:v2` or [build your own image](./kernel-images.ipynb)."
        },
        {
            "cell_type": "code",
            "execution_count": 2,
            "id": "b1a47927-d36a-4f54-8f8d-ae110fd975b6",
            "metadata": {
                "cell_id": "b1a47927-d36a-4f54-8f8d-ae110fd975b6",
                "tracto": {
                    "metadata_version": "1",
                    "view_cell_type": "CODE",
                    "view_source": "from yt import wrapper as yt\nfrom yt import type_info"
                }
            },
            "outputs": [],
            "source": "from yt import wrapper as yt\nfrom yt import type_info"
        },
        {
            "cell_type": "code",
            "execution_count": 3,
            "id": "45a75edb-917f-424e-9d3e-2d739ce44dcd",
            "metadata": {
                "cell_id": "45a75edb-917f-424e-9d3e-2d739ce44dcd",
                "tracto": {
                    "metadata_version": "1",
                    "view_cell_type": "CODE",
                    "view_source": "import uuid\nimport sys\nimport io"
                }
            },
            "outputs": [],
            "source": "import uuid\nimport sys\nimport io"
        },
        {
            "cell_type": "markdown",
            "id": "0061a831-66ed-440f-8b8c-383cef32b4cf",
            "metadata": {
                "cell_id": "0061a831-66ed-440f-8b8c-383cef32b4cf",
                "tracto": {
                    "metadata_version": "1",
                    "view_cell_type": "MD",
                    "view_source": "## Create a base directory for examples"
                }
            },
            "source": "## Create a base directory for examples"
        },
        {
            "cell_type": "code",
            "execution_count": 5,
            "id": "925cef8c-5f37-4644-84a0-3dfa419b5c58",
            "metadata": {
                "cell_id": "925cef8c-5f37-4644-84a0-3dfa419b5c58",
                "tracto": {
                    "metadata_version": "1",
                    "view_cell_type": "CODE",
                    "view_source": "working_dir = f\"//tmp/examples/tractorun-mnist_{uuid.uuid4()}\"\nyt.create(\"map_node\", working_dir, recursive=True)\nprint(working_dir)"
                }
            },
            "outputs": [
                {
                    "name": "stdout",
                    "output_type": "stream",
                    "text": "//tmp/examples/tractorun-mnist_756155ec-beea-498f-8613-18fa5c42159c\n"
                }
            ],
            "source": "working_dir = f\"//tmp/examples/tractorun-mnist_{uuid.uuid4()}\"\nyt.create(\"map_node\", working_dir, recursive=True)\nprint(working_dir)"
        },
        {
            "cell_type": "markdown",
            "id": "77500c37-f2af-4fa2-8a31-0c9bcf189dd5",
            "metadata": {
                "cell_id": "77500c37-f2af-4fa2-8a31-0c9bcf189dd5",
                "tracto": {
                    "metadata_version": "1",
                    "view_cell_type": "MD",
                    "view_source": "## Ensure torch and torchvision exist\n\nLet's ensure that the system has installed `torch` and `torchvision`."
                }
            },
            "source": "## Ensure torch and torchvision exist\n\nLet's ensure that the system has installed `torch` and `torchvision`."
        },
        {
            "cell_type": "code",
            "execution_count": 7,
            "id": "b0156666-97f0-4c83-b715-e8ef2f0b29d1",
            "metadata": {
                "cell_id": "b0156666-97f0-4c83-b715-e8ef2f0b29d1",
                "tracto": {
                    "metadata_version": "1",
                    "view_cell_type": "CODE",
                    "view_source": "import torch\nimport torchvision "
                }
            },
            "outputs": [],
            "source": "import torch\nimport torchvision "
        },
        {
            "cell_type": "markdown",
            "id": "266b3db3-8fcb-4968-8297-4a723104d9d8",
            "metadata": {
                "cell_id": "266b3db3-8fcb-4968-8297-4a723104d9d8",
                "tracto": {
                    "metadata_version": "1",
                    "view_cell_type": "MD",
                    "view_source": "## Upload dataset to YTsaurus"
                }
            },
            "source": "## Upload dataset to YTsaurus"
        },
        {
            "cell_type": "markdown",
            "id": "b6aa5974-0a6c-427d-a281-cc9ddc04d4c4",
            "metadata": {
                "cell_id": "b6aa5974-0a6c-427d-a281-cc9ddc04d4c4",
                "tracto": {
                    "metadata_version": "1",
                    "view_cell_type": "MD",
                    "view_source": "For this demonstration, we will use the MNIST dataset from the `torchvision` library and upload it to YTsaurus. Some rows in the dataset exceed the standard limits, so we will set `table_writer={\"max_row_weight\": 50 * 1024 * 1024}`."
                }
            },
            "source": "For this demonstration, we will use the MNIST dataset from the `torchvision` library and upload it to YTsaurus. Some rows in the dataset exceed the standard limits, so we will set `table_writer={\"max_row_weight\": 50 * 1024 * 1024}`."
        },
        {
            "cell_type": "code",
            "execution_count": 10,
            "id": "b3493766-efc5-41c2-9c2f-4ad17698835b",
            "metadata": {
                "cell_id": "b3493766-efc5-41c2-9c2f-4ad17698835b",
                "tracto": {
                    "metadata_version": "1",
                    "view_cell_type": "CODE",
                    "view_source": "from torchvision import datasets, transforms"
                }
            },
            "outputs": [],
            "source": "from torchvision import datasets, transforms"
        },
        {
            "cell_type": "code",
            "execution_count": 11,
            "id": "fd53105d-91e4-4eed-a4d0-806a28c807be",
            "metadata": {
                "cell_id": "fd53105d-91e4-4eed-a4d0-806a28c807be",
                "tracto": {
                    "metadata_version": "1",
                    "view_cell_type": "CODE",
                    "view_source": "# https://github.com/pytorch/examples/blob/26de41904319c7094afc53a3ee809de47112d387/mnist/main.py#L119\ntransform = transforms.Compose(\n    [\n        transforms.ToTensor(),\n        transforms.Normalize((0.1307,), (0.3081,)),\n    ],\n)\n\ndataset_train_local = datasets.MNIST(\"./mnist\", train=True, download=True)\ndataset_test_local = datasets.MNIST(\"./mnist\", train=False, download=True)"
                }
            },
            "outputs": [],
            "source": "# https://github.com/pytorch/examples/blob/26de41904319c7094afc53a3ee809de47112d387/mnist/main.py#L119\ntransform = transforms.Compose(\n    [\n        transforms.ToTensor(),\n        transforms.Normalize((0.1307,), (0.3081,)),\n    ],\n)\n\ndataset_train_local = datasets.MNIST(\"./mnist\", train=True, download=True)\ndataset_test_local = datasets.MNIST(\"./mnist\", train=False, download=True)"
        },
        {
            "cell_type": "markdown",
            "id": "a919be5d-3451-4548-ae0a-b9f260b23bc0",
            "metadata": {
                "cell_id": "a919be5d-3451-4548-ae0a-b9f260b23bc0",
                "tracto": {
                    "metadata_version": "1",
                    "view_cell_type": "MD",
                    "view_source": "Let's upload on YTsaurus the MNIST dataset as tensors and as simple types. There are 4 columns:\n* `image` - raw png image. This column has the tag \"image/png\" which allows to draw images directly in the YTsaurus UI.\n* `number` - human-readable label.\n* `data` and `labels` - serialized tensor form of dataset's data and label.\n\nIt is more efficient to save ready-to-use tensors in YT right away to save time and resources during model training. In the following examples, we will work only with columns containing tensors."
                }
            },
            "source": "Let's upload on YTsaurus the MNIST dataset as tensors and as simple types. There are 4 columns:\n* `image` - raw png image. This column has the tag \"image/png\" which allows to draw images directly in the YTsaurus UI.\n* `number` - human-readable label.\n* `data` and `labels` - serialized tensor form of dataset's data and label.\n\nIt is more efficient to save ready-to-use tensors in YT right away to save time and resources during model training. In the following examples, we will work only with columns containing tensors."
        },
        {
            "cell_type": "code",
            "execution_count": 13,
            "id": "277ffd54-1473-41fc-9a26-e834a62934c6",
            "metadata": {
                "cell_id": "277ffd54-1473-41fc-9a26-e834a62934c6",
                "tracto": {
                    "metadata_version": "1",
                    "view_cell_type": "CODE",
                    "view_source": "schema = yt.schema.TableSchema()\nschema.add_column(\"image\", type_info.Tagged[type_info.String, \"image/png\"])\nschema.add_column(\"number\", type_info.Int8)\nschema.add_column(\"data\", type_info.String)\nschema.add_column(\"labels\", type_info.String)"
                }
            },
            "outputs": [
                {
                    "data": {
                        "text/plain": "TableSchema({'value': [{'name': 'image', 'type_v3': {'type_name': 'tagged', 'item': 'string', 'tag': 'image/png'}}, {'name': 'number', 'type_v3': 'int8'}, {'name': 'data', 'type_v3': 'string'}, {'name': 'labels', 'type_v3': 'string'}], 'attributes': {'strict': True, 'unique_keys': False}})"
                    },
                    "execution_count": 7,
                    "metadata": {},
                    "output_type": "execute_result"
                }
            ],
            "source": "schema = yt.schema.TableSchema()\nschema.add_column(\"image\", type_info.Tagged[type_info.String, \"image/png\"])\nschema.add_column(\"number\", type_info.Int8)\nschema.add_column(\"data\", type_info.String)\nschema.add_column(\"labels\", type_info.String)"
        },
        {
            "cell_type": "code",
            "execution_count": 14,
            "id": "0c8a1b24-eec2-4598-8385-4fea84a74952",
            "metadata": {
                "cell_id": "0c8a1b24-eec2-4598-8385-4fea84a74952",
                "tracto": {
                    "metadata_version": "1",
                    "view_cell_type": "CODE",
                    "view_source": "from tractorun.backend.tractorch import TensorSerializer\n\ndataset_train_path = f\"{working_dir}/dataset_train\"\ndataset_test_path = f\"{working_dir}/dataset_test\"\nprint(dataset_train_path)\nprint(dataset_test_path)\n\nyt.create(\"table\", dataset_train_path, force=True, attributes={\"schema\": schema.to_yson_type()})\nyt.create(\"table\", dataset_test_path, force=True, attributes={\"schema\": schema.to_yson_type()})\n\ndef pil_to_png(image):\n    r = io.BytesIO()\n    image.save(r, format=\"PNG\")\n    return r.getvalue()\n\nts = TensorSerializer()\n\nyt_train_data = [\n    {\n        \"image\": pil_to_png(data),\n        \"number\": labels,\n        \"labels\": ts.serialize(labels),\n        \"data\": ts.serialize(transform(data)),\n    }\n    for data, labels in dataset_train_local\n]\nyt.write_table(dataset_train_path, yt_train_data, table_writer={\"max_row_weight\": 50 * 1024 * 1024})\n\nyt_test_data = [\n    {\n        \"image\": pil_to_png(data),\n        \"number\": labels,\n        \"labels\": ts.serialize(labels),\n        \"data\": ts.serialize(transform(data)),\n    }\n    for data, labels in dataset_test_local\n]\nyt.write_table(dataset_test_path, yt_test_data, table_writer={\"max_row_weight\": 50 * 1024 * 1024})"
                }
            },
            "outputs": [
                {
                    "name": "stdout",
                    "output_type": "stream",
                    "text": "//tmp/examples/tractorun-mnist_756155ec-beea-498f-8613-18fa5c42159c/dataset_train\n//tmp/examples/tractorun-mnist_756155ec-beea-498f-8613-18fa5c42159c/dataset_test\n"
                }
            ],
            "source": "from tractorun.backend.tractorch import TensorSerializer\n\ndataset_train_path = f\"{working_dir}/dataset_train\"\ndataset_test_path = f\"{working_dir}/dataset_test\"\nprint(dataset_train_path)\nprint(dataset_test_path)\n\nyt.create(\"table\", dataset_train_path, force=True, attributes={\"schema\": schema.to_yson_type()})\nyt.create(\"table\", dataset_test_path, force=True, attributes={\"schema\": schema.to_yson_type()})\n\ndef pil_to_png(image):\n    r = io.BytesIO()\n    image.save(r, format=\"PNG\")\n    return r.getvalue()\n\nts = TensorSerializer()\n\nyt_train_data = [\n    {\n        \"image\": pil_to_png(data),\n        \"number\": labels,\n        \"labels\": ts.serialize(labels),\n        \"data\": ts.serialize(transform(data)),\n    }\n    for data, labels in dataset_train_local\n]\nyt.write_table(dataset_train_path, yt_train_data, table_writer={\"max_row_weight\": 50 * 1024 * 1024})\n\nyt_test_data = [\n    {\n        \"image\": pil_to_png(data),\n        \"number\": labels,\n        \"labels\": ts.serialize(labels),\n        \"data\": ts.serialize(transform(data)),\n    }\n    for data, labels in dataset_test_local\n]\nyt.write_table(dataset_test_path, yt_test_data, table_writer={\"max_row_weight\": 50 * 1024 * 1024})"
        },
        {
            "cell_type": "markdown",
            "id": "00c73ae3-b956-457c-9ff7-bc657b15732d",
            "metadata": {
                "cell_id": "00c73ae3-b956-457c-9ff7-bc657b15732d",
                "tracto": {
                    "metadata_version": "1",
                    "view_cell_type": "MD",
                    "view_source": "## Run training"
                }
            },
            "source": "## Run training"
        },
        {
            "cell_type": "markdown",
            "id": "f698778d-9712-487f-ace8-3e37a2ef62f5",
            "metadata": {
                "cell_id": "f698778d-9712-487f-ace8-3e37a2ef62f5",
                "tracto": {
                    "metadata_version": "1",
                    "view_cell_type": "MD",
                    "view_source": "Tractorun store some data to the training dir:\n1. Checkpoints.\n2. Metadata about each training run.\n3. Models.\n4. Some locks.\n5. etc\n\nLet's create and cleanup the training dir."
                }
            },
            "source": "Tractorun store some data to the training dir:\n1. Checkpoints.\n2. Metadata about each training run.\n3. Models.\n4. Some locks.\n5. etc\n\nLet's create and cleanup the training dir."
        },
        {
            "cell_type": "code",
            "execution_count": 17,
            "id": "d8ec8d0a-f0e1-4f56-a14a-64525411715b",
            "metadata": {
                "cell_id": "d8ec8d0a-f0e1-4f56-a14a-64525411715b",
                "tracto": {
                    "metadata_version": "1",
                    "view_cell_type": "CODE",
                    "view_source": "training_dir = f\"{working_dir}/tractorun\"\nyt.create(\"map_node\", training_dir, force=True)\n\nprint(training_dir)"
                }
            },
            "outputs": [
                {
                    "name": "stdout",
                    "output_type": "stream",
                    "text": "//tmp/examples/tractorun-mnist_756155ec-beea-498f-8613-18fa5c42159c/tractorun\n"
                }
            ],
            "source": "training_dir = f\"{working_dir}/tractorun\"\nyt.create(\"map_node\", training_dir, force=True)\n\nprint(training_dir)"
        },
        {
            "cell_type": "markdown",
            "id": "4fcdb76d-9382-45a0-8ea4-ca38e9f644ee",
            "metadata": {
                "cell_id": "4fcdb76d-9382-45a0-8ea4-ca38e9f644ee",
                "tracto": {
                    "metadata_version": "1",
                    "view_cell_type": "MD",
                    "view_source": "The model training process run in a Docker container. When launching from a Jupyter Notebook, it is important to ensure that the same container as in the `Kernel` is used."
                }
            },
            "source": "The model training process run in a Docker container. When launching from a Jupyter Notebook, it is important to ensure that the same container as in the `Kernel` is used."
        },
        {
            "cell_type": "markdown",
            "id": "c81b855e-415b-4e5b-b6ae-d8d411c50cfb",
            "metadata": {
                "cell_id": "c81b855e-415b-4e5b-b6ae-d8d411c50cfb",
                "tracto": {
                    "metadata_version": "1",
                    "view_cell_type": "MD",
                    "view_source": "We use the official PyTorch [MNIST training example](https://github.com/pytorch/examples/blob/cdef4d43fb1a2c6c4349daa5080e4e8731c34569/mnist/main.py) as a reference and show how to modify it with minimal changes to run using Tractorun:\n1. Add `toolbox: Toolbox` to the main function. Toolbox object provides useful utils for training like checkpoint manager, coordination metadata, initialized ytsaurus client, and more.\n2. Add `file=sys.stderr` to each print.\n3. Use `YtTensorDataset` instead of default `torch.Dataset`.\n4. Call magic function `tractorun.run.run`.\n\n<details>\n  <summary>Show the full diff</summary>\n\n```diff\n@@ -6,6 +6,13 @@\n from torchvision import datasets, transforms\n from torch.optim.lr_scheduler import StepLR\n\n+from tractorun.backend.tractorch import YtTensorDataset, Tractorch\n+from tractorun.toolbox import Toolbox\n+from tractorun.run import run\n+from tractorun.mesh import Mesh\n+from tractorun.resources import Resources\n+from tractorun.stderr_reader import StderrMode\n+from tractorun.backend.tractorch.serializer import TensorSerializer\n\n class Net(nn.Module):\n     def __init__(self):\n@@ -45,7 +52,7 @@\n         if batch_idx % args.log_interval == 0:\n             print('Train Epoch: {} [{}/{} ({:.0f}%)]\\tLoss: {:.6f}'.format(\n                 epoch, batch_idx * len(data), len(train_loader.dataset),\n-                100. * batch_idx / len(train_loader), loss.item()))\n+                100. * batch_idx / len(train_loader), loss.item()), file=sys.stderr)\n             if args.dry_run:\n                 break\n\n@@ -66,10 +73,10 @@\n\n     print('\\nTest set: Average loss: {:.4f}, Accuracy: {}/{} ({:.0f}%)\\n'.format(\n         test_loss, correct, len(test_loader.dataset),\n-        100. * correct / len(test_loader.dataset)))\n+        100. * correct / len(test_loader.dataset)), file=sys.stderr)\n\n\n-def main():\n+def main(toolbox: Toolbox):\n     # Training settings\n     parser = argparse.ArgumentParser(description='PyTorch MNIST Example')\n     parser.add_argument('--batch-size', type=int, default=64, metavar='N',\n@@ -94,7 +101,7 @@\n                         help='how many batches to wait before logging training status')\n     parser.add_argument('--save-model', action='store_true', default=False,\n                         help='For Saving the current Model')\n-    args = parser.parse_args()\n+    args = parser.parse_args([])\n     use_cuda = not args.no_cuda and torch.cuda.is_available()\n     use_mps = not args.no_mps and torch.backends.mps.is_available()\n\n@@ -120,10 +127,9 @@\n         transforms.ToTensor(),\n         transforms.Normalize((0.1307,), (0.3081,))\n         ])\n-    dataset1 = datasets.MNIST('../data', train=True, download=True,\n-                       transform=transform)\n-    dataset2 = datasets.MNIST('../data', train=False,\n-                       transform=transform)\n+    dataset1 = YtTensorDataset(toolbox=toolbox, path=dataset_train_path, columns=['data', 'labels'])\n+    dataset2 = YtTensorDataset(toolbox=toolbox, path=dataset_test_path, columns=['data', 'labels'])\n+\n     train_loader = torch.utils.data.DataLoader(dataset1,**train_kwargs)\n     test_loader = torch.utils.data.DataLoader(dataset2, **test_kwargs)\n\n@@ -137,9 +143,20 @@\n         scheduler.step()\n\n     if args.save_model:\n-        torch.save(model.state_dict(), \"mnist_cnn.pt\")\n+        ts = TensorSerializer()\n+        toolbox.save_model(ts.serialize(model.state_dict()), dataset_train_path, metadata={})\n\n\n-if __name__ == '__main__':\n-    main()\n+run(\n+    main,\n+    backend=Tractorch(),\n+    yt_path=training_dir,\n+    mesh=Mesh(node_count=1, process_per_node=1, gpu_per_process=0),\n+    resources=Resources(\n+        cpu_limit=8,\n+        memory_limit=105899345920,\n+    ),\n+    proxy_stderr_mode=StderrMode.primary,\n+)\n```\n</details>"
                }
            },
            "source": "We use the official PyTorch [MNIST training example](https://github.com/pytorch/examples/blob/cdef4d43fb1a2c6c4349daa5080e4e8731c34569/mnist/main.py) as a reference and show how to modify it with minimal changes to run using Tractorun:\n1. Add `toolbox: Toolbox` to the main function. Toolbox object provides useful utils for training like checkpoint manager, coordination metadata, initialized ytsaurus client, and more.\n2. Add `file=sys.stderr` to each print.\n3. Use `YtTensorDataset` instead of default `torch.Dataset`.\n4. Call magic function `tractorun.run.run`.\n\n<details>\n  <summary>Show the full diff</summary>\n\n```diff\n@@ -6,6 +6,13 @@\n from torchvision import datasets, transforms\n from torch.optim.lr_scheduler import StepLR\n\n+from tractorun.backend.tractorch import YtTensorDataset, Tractorch\n+from tractorun.toolbox import Toolbox\n+from tractorun.run import run\n+from tractorun.mesh import Mesh\n+from tractorun.resources import Resources\n+from tractorun.stderr_reader import StderrMode\n+from tractorun.backend.tractorch.serializer import TensorSerializer\n\n class Net(nn.Module):\n     def __init__(self):\n@@ -45,7 +52,7 @@\n         if batch_idx % args.log_interval == 0:\n             print('Train Epoch: {} [{}/{} ({:.0f}%)]\\tLoss: {:.6f}'.format(\n                 epoch, batch_idx * len(data), len(train_loader.dataset),\n-                100. * batch_idx / len(train_loader), loss.item()))\n+                100. * batch_idx / len(train_loader), loss.item()), file=sys.stderr)\n             if args.dry_run:\n                 break\n\n@@ -66,10 +73,10 @@\n\n     print('\\nTest set: Average loss: {:.4f}, Accuracy: {}/{} ({:.0f}%)\\n'.format(\n         test_loss, correct, len(test_loader.dataset),\n-        100. * correct / len(test_loader.dataset)))\n+        100. * correct / len(test_loader.dataset)), file=sys.stderr)\n\n\n-def main():\n+def main(toolbox: Toolbox):\n     # Training settings\n     parser = argparse.ArgumentParser(description='PyTorch MNIST Example')\n     parser.add_argument('--batch-size', type=int, default=64, metavar='N',\n@@ -94,7 +101,7 @@\n                         help='how many batches to wait before logging training status')\n     parser.add_argument('--save-model', action='store_true', default=False,\n                         help='For Saving the current Model')\n-    args = parser.parse_args()\n+    args = parser.parse_args([])\n     use_cuda = not args.no_cuda and torch.cuda.is_available()\n     use_mps = not args.no_mps and torch.backends.mps.is_available()\n\n@@ -120,10 +127,9 @@\n         transforms.ToTensor(),\n         transforms.Normalize((0.1307,), (0.3081,))\n         ])\n-    dataset1 = datasets.MNIST('../data', train=True, download=True,\n-                       transform=transform)\n-    dataset2 = datasets.MNIST('../data', train=False,\n-                       transform=transform)\n+    dataset1 = YtTensorDataset(toolbox=toolbox, path=dataset_train_path, columns=['data', 'labels'])\n+    dataset2 = YtTensorDataset(toolbox=toolbox, path=dataset_test_path, columns=['data', 'labels'])\n+\n     train_loader = torch.utils.data.DataLoader(dataset1,**train_kwargs)\n     test_loader = torch.utils.data.DataLoader(dataset2, **test_kwargs)\n\n@@ -137,9 +143,20 @@\n         scheduler.step()\n\n     if args.save_model:\n-        torch.save(model.state_dict(), \"mnist_cnn.pt\")\n+        ts = TensorSerializer()\n+        toolbox.save_model(ts.serialize(model.state_dict()), dataset_train_path, metadata={})\n\n\n-if __name__ == '__main__':\n-    main()\n+run(\n+    main,\n+    backend=Tractorch(),\n+    yt_path=training_dir,\n+    mesh=Mesh(node_count=1, process_per_node=1, gpu_per_process=0),\n+    resources=Resources(\n+        cpu_limit=8,\n+        memory_limit=105899345920,\n+    ),\n+    proxy_stderr_mode=StderrMode.primary,\n+)\n```\n</details>"
        },
        {
            "cell_type": "markdown",
            "id": "61e04047-8b7c-4b16-9417-4781360c90e0",
            "metadata": {
                "cell_id": "61e04047-8b7c-4b16-9417-4781360c90e0",
                "tracto": {
                    "metadata_version": "1",
                    "view_cell_type": "MD",
                    "view_source": "<font color=\"red\">IMPORTANT NOTE</font> In this example we are running tractorun directly from Jupyter notebook.\n\nThis is a convenient method for experiments and demonstrations, as tractorun uses [pickle](https://docs.python.org/3/library/pickle.html) for easy serialization of the entire notebook state and transferring it to the cluster. This means that all variables will be available in the model training function, and tractorun will attempt to transfer all Python modules from the local environment to the cluster.\n\nHowever, this method does not ensure reproducibility of the run of model's training. For production processes, use the execution via the tractorun CLI, which is described below."
                }
            },
            "source": "<font color=\"red\">IMPORTANT NOTE</font> In this example we are running tractorun directly from Jupyter notebook.\n\nThis is a convenient method for experiments and demonstrations, as tractorun uses [pickle](https://docs.python.org/3/library/pickle.html) for easy serialization of the entire notebook state and transferring it to the cluster. This means that all variables will be available in the model training function, and tractorun will attempt to transfer all Python modules from the local environment to the cluster.\n\nHowever, this method does not ensure reproducibility of the run of model's training. For production processes, use the execution via the tractorun CLI, which is described below."
        },
        {
            "cell_type": "code",
            "execution_count": 21,
            "id": "2ad67093-9e8e-4ecd-9790-62af82ff4206",
            "metadata": {
                "cell_id": "2ad67093-9e8e-4ecd-9790-62af82ff4206",
                "tracto": {
                    "metadata_version": "1",
                    "view_cell_type": "CODE",
                    "view_source": "import argparse\nimport torch\nimport torch.nn as nn\nimport torch.nn.functional as F\nimport torch.optim as optim\nfrom torchvision import datasets, transforms\nfrom torch.optim.lr_scheduler import StepLR\n\nfrom tractorun.backend.tractorch import YtTensorDataset, Tractorch\nfrom tractorun.toolbox import Toolbox\nfrom tractorun.run import run\nfrom tractorun.mesh import Mesh\nfrom tractorun.resources import Resources\nfrom tractorun.stderr_reader import StderrMode\nfrom tractorun.backend.tractorch.serializer import TensorSerializer\n\n\nclass Net(nn.Module):\n    def __init__(self):\n        super(Net, self).__init__()\n        self.conv1 = nn.Conv2d(1, 32, 3, 1)\n        self.conv2 = nn.Conv2d(32, 64, 3, 1)\n        self.dropout1 = nn.Dropout(0.25)\n        self.dropout2 = nn.Dropout(0.5)\n        self.fc1 = nn.Linear(9216, 128)\n        self.fc2 = nn.Linear(128, 10)\n\n    def forward(self, x):\n        x = self.conv1(x)\n        x = F.relu(x)\n        x = self.conv2(x)\n        x = F.relu(x)\n        x = F.max_pool2d(x, 2)\n        x = self.dropout1(x)\n        x = torch.flatten(x, 1)\n        x = self.fc1(x)\n        x = F.relu(x)\n        x = self.dropout2(x)\n        x = self.fc2(x)\n        output = F.log_softmax(x, dim=1)\n        return output\n\n\ndef train(args, model, device, train_loader, optimizer, epoch):\n    model.train()\n    for batch_idx, (data, target) in enumerate(train_loader):\n        data, target = data.to(device), target.to(device)\n        optimizer.zero_grad()\n        output = model(data)\n        loss = F.nll_loss(output, target)\n        loss.backward()\n        optimizer.step()\n        if batch_idx % args.log_interval == 0:\n            print('Train Epoch: {} [{}/{} ({:.0f}%)]\\tLoss: {:.6f}'.format(\n                epoch, batch_idx * len(data), len(train_loader.dataset),\n                100. * batch_idx / len(train_loader), loss.item()), file=sys.stderr)\n            if args.dry_run:\n                break\n\n\ndef test(model, device, test_loader):\n    model.eval()\n    test_loss = 0\n    correct = 0\n    with torch.no_grad():\n        for data, target in test_loader:\n            data, target = data.to(device), target.to(device)\n            output = model(data)\n            test_loss += F.nll_loss(output, target, reduction='sum').item()  # sum up batch loss\n            pred = output.argmax(dim=1, keepdim=True)  # get the index of the max log-probability\n            correct += pred.eq(target.view_as(pred)).sum().item()\n\n    test_loss /= len(test_loader.dataset)\n\n    print('\\nTest set: Average loss: {:.4f}, Accuracy: {}/{} ({:.0f}%)\\n'.format(\n        test_loss, correct, len(test_loader.dataset),\n        100. * correct / len(test_loader.dataset)), file=sys.stderr)\n\n\ndef main(toolbox: Toolbox):\n    # Training settings\n    parser = argparse.ArgumentParser(description='PyTorch MNIST Example')\n    parser.add_argument('--batch-size', type=int, default=64, metavar='N',\n                        help='input batch size for training (default: 64)')\n    parser.add_argument('--test-batch-size', type=int, default=1000, metavar='N',\n                        help='input batch size for testing (default: 1000)')\n    parser.add_argument('--epochs', type=int, default=14, metavar='N',\n                        help='number of epochs to train (default: 14)')\n    parser.add_argument('--lr', type=float, default=1.0, metavar='LR',\n                        help='learning rate (default: 1.0)')\n    parser.add_argument('--gamma', type=float, default=0.7, metavar='M',\n                        help='Learning rate step gamma (default: 0.7)')\n    parser.add_argument('--no-cuda', action='store_true', default=False,\n                        help='disables CUDA training')\n    parser.add_argument('--no-mps', action='store_true', default=False,\n                        help='disables macOS GPU training')\n    parser.add_argument('--dry-run', action='store_true', default=False,\n                        help='quickly check a single pass')\n    parser.add_argument('--seed', type=int, default=1, metavar='S',\n                        help='random seed (default: 1)')\n    parser.add_argument('--log-interval', type=int, default=10, metavar='N',\n                        help='how many batches to wait before logging training status')\n    parser.add_argument('--save-model', action='store_true', default=False,\n                        help='For Saving the current Model')\n    args = parser.parse_args([])\n    use_cuda = not args.no_cuda and torch.cuda.is_available()\n    use_mps = not args.no_mps and torch.backends.mps.is_available()\n\n    torch.manual_seed(args.seed)\n\n    if use_cuda:\n        device = torch.device(\"cuda\")\n    elif use_mps:\n        device = torch.device(\"mps\")\n    else:\n        device = torch.device(\"cpu\")\n\n    train_kwargs = {'batch_size': args.batch_size}\n    test_kwargs = {'batch_size': args.test_batch_size}\n    if use_cuda:\n        cuda_kwargs = {'num_workers': 1,\n                       'pin_memory': True,\n                       'shuffle': True}\n        train_kwargs.update(cuda_kwargs)\n        test_kwargs.update(cuda_kwargs)\n\n    transform=transforms.Compose([\n        transforms.ToTensor(),\n        transforms.Normalize((0.1307,), (0.3081,))\n        ])\n    dataset1 = YtTensorDataset(toolbox=toolbox, path=dataset_train_path, yt_client=toolbox.yt_client, columns=['data', 'labels'])\n    dataset2 = YtTensorDataset(toolbox=toolbox, path=dataset_test_path, yt_client=toolbox.yt_client, columns=['data', 'labels'])\n\n    train_loader = torch.utils.data.DataLoader(dataset1,**train_kwargs)\n    test_loader = torch.utils.data.DataLoader(dataset2, **test_kwargs)\n\n    model = Net().to(device)\n    optimizer = optim.Adadelta(model.parameters(), lr=args.lr)\n\n    scheduler = StepLR(optimizer, step_size=1, gamma=args.gamma)\n    for epoch in range(1, args.epochs + 1):\n        train(args, model, device, train_loader, optimizer, epoch)\n        test(model, device, test_loader)\n        scheduler.step()\n\n    if args.save_model:\n        ts = TensorSerializer()\n        toolbox.save_model(ts.serialize(model.state_dict()), dataset_train_path, metadata={})\n\n\nrun(\n    main,\n    backend=Tractorch(),\n    yt_path=training_dir,\n    mesh=Mesh(node_count=1, process_per_node=1, gpu_per_process=0),\n    resources=Resources(\n        cpu_limit=8,\n        memory_limit=105899345920,\n    ),\n    proxy_stderr_mode=StderrMode.primary,\n)"
                }
            },
            "outputs": [
                {
                    "name": "stderr",
                    "output_type": "stream",
                    "text": "2025-01-22 00:58:59,496\tWARNING\tCannot locate file of the module (__name__: torch.ops, __file__: _ops.py)\n"
                },
                {
                    "name": "stderr",
                    "output_type": "stream",
                    "text": "2025-01-22 00:58:59,497\tWARNING\tCannot locate file of the module (__name__: torch.classes, __file__: _classes.py)\n"
                },
                {
                    "name": "stderr",
                    "output_type": "stream",
                    "text": "2025-01-22 00:59:02,701\tINFO\tOperation started: https://playground.yt.nebius.yt/playground/operations/fc9a8744-704d1fe4-134403e8-d5f77c3b/details\n"
                },
                {
                    "name": "stderr",
                    "output_type": "stream",
                    "text": "2025-01-22 00:59:02,725\tINFO\t( 0 min) operation fc9a8744-704d1fe4-134403e8-d5f77c3b initializing\n"
                },
                {
                    "name": "stderr",
                    "output_type": "stream",
                    "text": "2025-01-22 00:59:03,814\tINFO\t( 0 min) Unrecognized spec: {'enable_partitioned_data_balancing': false}\n"
                },
                {
                    "name": "stderr",
                    "output_type": "stream",
                    "text": "2025-01-22 00:59:06,192\tINFO\t( 0 min) operation fc9a8744-704d1fe4-134403e8-d5f77c3b: running=1     completed=0     pending=0     failed=0     aborted=0     lost=0     total=1     blocked=0    \n"
                },
                {
                    "name": "stdout",
                    "output_type": "stream",
                    "text": "/slot/sandbox/_py_runner.py:109: DeprecationWarning: Python 3.14 will, by default, filter extracted tar archives and reject files or modify their metadata. Use the filter argument to control this behavior.\n  __tar.extractall(destination)\n"
                },
                {
                    "name": "stdout",
                    "output_type": "stream",
                    "text": "/slot/sandbox/_py_runner.py:109: DeprecationWarning: Python 3.14 will, by default, filter extracted tar archives and reject files or modify their metadata. Use the filter argument to control this behavior.\n  __tar.extractall(destination)\nFailed to write user statistics\nWaiting for all peers to start\nAll peers started\nold coordinator address: man0-0640.hw.nebius.yt:24591\nnew coordinator address: 127.0.0.1:24591\n/usr/local/lib/python3.12/site-packages/tractorun/backend/tractorch/serializer.py:19: FutureWarning: You are using `torch.load` with `weights_only=False` (the current default value), which uses the default pickle module implicitly. It is possible to construct malicious pickle data which will execute arbitrary code during unpickling (See https://github.com/pytorch/pytorch/blob/main/SECURITY.md#untrusted-models for more details). In a future release, the default value for `weights_only` will be flipped to `True`. This limits the functions that could be executed during unpickling. Arbitrary objects will no longer be allowed to be loaded via this mode unless they are explicitly allowlisted by the user via `torch.serialization.add_safe_globals`. We recommend you start setting `weights_only=True` for any use case where you don't have full control of the loaded file. Please open an issue on GitHub for any issues related to this experimental feature.\n  return torch.load(buffer, map_location=device)\n"
                },
                {
                    "name": "stdout",
                    "output_type": "stream",
                    "text": "Train Epoch: 1 [0/60000 (0%)]\tLoss: 2.305400\n"
                },
                {
                    "name": "stdout",
                    "output_type": "stream",
                    "text": "Train Epoch: 1 [640/60000 (1%)]\tLoss: 1.359781\n"
                },
                {
                    "name": "stdout",
                    "output_type": "stream",
                    "text": "Train Epoch: 1 [1280/60000 (2%)]\tLoss: 0.830670\n"
                },
                {
                    "name": "stdout",
                    "output_type": "stream",
                    "text": "Train Epoch: 1 [1920/60000 (3%)]\tLoss: 0.605967\n"
                },
                {
                    "name": "stdout",
                    "output_type": "stream",
                    "text": "Train Epoch: 1 [2560/60000 (4%)]\tLoss: 0.346150\n"
                },
                {
                    "name": "stdout",
                    "output_type": "stream",
                    "text": "Train Epoch: 1 [3200/60000 (5%)]\tLoss: 0.449750\n"
                },
                {
                    "name": "stdout",
                    "output_type": "stream",
                    "text": "Train Epoch: 1 [3840/60000 (6%)]\tLoss: 0.298427\n"
                }
            ],
            "source": "import argparse\nimport torch\nimport torch.nn as nn\nimport torch.nn.functional as F\nimport torch.optim as optim\nfrom torchvision import datasets, transforms\nfrom torch.optim.lr_scheduler import StepLR\n\nfrom tractorun.backend.tractorch import YtTensorDataset, Tractorch\nfrom tractorun.toolbox import Toolbox\nfrom tractorun.run import run\nfrom tractorun.mesh import Mesh\nfrom tractorun.resources import Resources\nfrom tractorun.stderr_reader import StderrMode\nfrom tractorun.backend.tractorch.serializer import TensorSerializer\n\n\nclass Net(nn.Module):\n    def __init__(self):\n        super(Net, self).__init__()\n        self.conv1 = nn.Conv2d(1, 32, 3, 1)\n        self.conv2 = nn.Conv2d(32, 64, 3, 1)\n        self.dropout1 = nn.Dropout(0.25)\n        self.dropout2 = nn.Dropout(0.5)\n        self.fc1 = nn.Linear(9216, 128)\n        self.fc2 = nn.Linear(128, 10)\n\n    def forward(self, x):\n        x = self.conv1(x)\n        x = F.relu(x)\n        x = self.conv2(x)\n        x = F.relu(x)\n        x = F.max_pool2d(x, 2)\n        x = self.dropout1(x)\n        x = torch.flatten(x, 1)\n        x = self.fc1(x)\n        x = F.relu(x)\n        x = self.dropout2(x)\n        x = self.fc2(x)\n        output = F.log_softmax(x, dim=1)\n        return output\n\n\ndef train(args, model, device, train_loader, optimizer, epoch):\n    model.train()\n    for batch_idx, (data, target) in enumerate(train_loader):\n        data, target = data.to(device), target.to(device)\n        optimizer.zero_grad()\n        output = model(data)\n        loss = F.nll_loss(output, target)\n        loss.backward()\n        optimizer.step()\n        if batch_idx % args.log_interval == 0:\n            print('Train Epoch: {} [{}/{} ({:.0f}%)]\\tLoss: {:.6f}'.format(\n                epoch, batch_idx * len(data), len(train_loader.dataset),\n                100. * batch_idx / len(train_loader), loss.item()), file=sys.stderr)\n            if args.dry_run:\n                break\n\n\ndef test(model, device, test_loader):\n    model.eval()\n    test_loss = 0\n    correct = 0\n    with torch.no_grad():\n        for data, target in test_loader:\n            data, target = data.to(device), target.to(device)\n            output = model(data)\n            test_loss += F.nll_loss(output, target, reduction='sum').item()  # sum up batch loss\n            pred = output.argmax(dim=1, keepdim=True)  # get the index of the max log-probability\n            correct += pred.eq(target.view_as(pred)).sum().item()\n\n    test_loss /= len(test_loader.dataset)\n\n    print('\\nTest set: Average loss: {:.4f}, Accuracy: {}/{} ({:.0f}%)\\n'.format(\n        test_loss, correct, len(test_loader.dataset),\n        100. * correct / len(test_loader.dataset)), file=sys.stderr)\n\n\ndef main(toolbox: Toolbox):\n    # Training settings\n    parser = argparse.ArgumentParser(description='PyTorch MNIST Example')\n    parser.add_argument('--batch-size', type=int, default=64, metavar='N',\n                        help='input batch size for training (default: 64)')\n    parser.add_argument('--test-batch-size', type=int, default=1000, metavar='N',\n                        help='input batch size for testing (default: 1000)')\n    parser.add_argument('--epochs', type=int, default=14, metavar='N',\n                        help='number of epochs to train (default: 14)')\n    parser.add_argument('--lr', type=float, default=1.0, metavar='LR',\n                        help='learning rate (default: 1.0)')\n    parser.add_argument('--gamma', type=float, default=0.7, metavar='M',\n                        help='Learning rate step gamma (default: 0.7)')\n    parser.add_argument('--no-cuda', action='store_true', default=False,\n                        help='disables CUDA training')\n    parser.add_argument('--no-mps', action='store_true', default=False,\n                        help='disables macOS GPU training')\n    parser.add_argument('--dry-run', action='store_true', default=False,\n                        help='quickly check a single pass')\n    parser.add_argument('--seed', type=int, default=1, metavar='S',\n                        help='random seed (default: 1)')\n    parser.add_argument('--log-interval', type=int, default=10, metavar='N',\n                        help='how many batches to wait before logging training status')\n    parser.add_argument('--save-model', action='store_true', default=False,\n                        help='For Saving the current Model')\n    args = parser.parse_args([])\n    use_cuda = not args.no_cuda and torch.cuda.is_available()\n    use_mps = not args.no_mps and torch.backends.mps.is_available()\n\n    torch.manual_seed(args.seed)\n\n    if use_cuda:\n        device = torch.device(\"cuda\")\n    elif use_mps:\n        device = torch.device(\"mps\")\n    else:\n        device = torch.device(\"cpu\")\n\n    train_kwargs = {'batch_size': args.batch_size}\n    test_kwargs = {'batch_size': args.test_batch_size}\n    if use_cuda:\n        cuda_kwargs = {'num_workers': 1,\n                       'pin_memory': True,\n                       'shuffle': True}\n        train_kwargs.update(cuda_kwargs)\n        test_kwargs.update(cuda_kwargs)\n\n    transform=transforms.Compose([\n        transforms.ToTensor(),\n        transforms.Normalize((0.1307,), (0.3081,))\n        ])\n    dataset1 = YtTensorDataset(toolbox=toolbox, path=dataset_train_path, yt_client=toolbox.yt_client, columns=['data', 'labels'])\n    dataset2 = YtTensorDataset(toolbox=toolbox, path=dataset_test_path, yt_client=toolbox.yt_client, columns=['data', 'labels'])\n\n    train_loader = torch.utils.data.DataLoader(dataset1,**train_kwargs)\n    test_loader = torch.utils.data.DataLoader(dataset2, **test_kwargs)\n\n    model = Net().to(device)\n    optimizer = optim.Adadelta(model.parameters(), lr=args.lr)\n\n    scheduler = StepLR(optimizer, step_size=1, gamma=args.gamma)\n    for epoch in range(1, args.epochs + 1):\n        train(args, model, device, train_loader, optimizer, epoch)\n        test(model, device, test_loader)\n        scheduler.step()\n\n    if args.save_model:\n        ts = TensorSerializer()\n        toolbox.save_model(ts.serialize(model.state_dict()), dataset_train_path, metadata={})\n\n\nrun(\n    main,\n    backend=Tractorch(),\n    yt_path=training_dir,\n    mesh=Mesh(node_count=1, process_per_node=1, gpu_per_process=0),\n    resources=Resources(\n        cpu_limit=8,\n        memory_limit=105899345920,\n    ),\n    proxy_stderr_mode=StderrMode.primary,\n)"
        },
        {
            "cell_type": "markdown",
            "id": "24e51c53-5556-4f4e-ba86-a9c3a90727d8",
            "metadata": {
                "cell_id": "24e51c53-5556-4f4e-ba86-a9c3a90727d8",
                "tracto": {
                    "metadata_version": "1",
                    "view_cell_type": "MD",
                    "view_source": "## Tractorun cli"
                }
            },
            "source": "## Tractorun cli"
        },
        {
            "cell_type": "markdown",
            "id": "452c01b0-19e9-4eed-b9fa-9ff8677ebd4b",
            "metadata": {
                "cell_id": "452c01b0-19e9-4eed-b9fa-9ff8677ebd4b",
                "tracto": {
                    "metadata_version": "1",
                    "view_cell_type": "MD",
                    "view_source": "Let's consider a production-like scenario for running model training through the `Tractorun CLI`.\n\nThe `Tractorun CLI` allows:\n1. Make model training reproducible.\n2. Separating the model training code from the training run parameters. `Tractorun CLI` enables configuring the training process via a configuration file and CLI parameters.\n3. Running the training module from any host where Python and `Tractorun` are installed.\n\nWe will use the official PyTorch [MNIST training example](https://github.com/pytorch/examples/blob/cdef4d43fb1a2c6c4349daa5080e4e8731c34569/mnist/main.py) again.\nHow to modify it with minimal changes to run using Tractorun:\n1. Add `toolbox = prepare_and_get_toolbox(backend=Tractorch())` to the main function. Toolbox object provides useful utils for training like checkpoint manager, coordination metadata, initialized ytsaurus client, and more.\n2. Add `file=sys.stderr` to each print.\n3. Use `YtTensorDataset` instead of default `torch.Dataset`.\n\n<details>\n  <summary>Show the full diff</summary>\n\n```diff\n@@ -6,6 +6,15 @@\n from torchvision import datasets, transforms\n from torch.optim.lr_scheduler import StepLR\n\n+import sys\n+from tractorun.backend.tractorch import YtTensorDataset, Tractorch\n+from tractorun.toolbox import Toolbox\n+from tractorun.run import run\n+from tractorun.mesh import Mesh\n+from tractorun.resources import Resources\n+from tractorun.stderr_reader import StderrMode\n+from tractorun.backend.tractorch.serializer import TensorSerializer\n+from tractorun.run import prepare_and_get_toolbox\n\n class Net(nn.Module):\n     def __init__(self):\n@@ -45,7 +54,7 @@\n         if batch_idx % args.log_interval == 0:\n             print('Train Epoch: {} [{}/{} ({:.0f}%)]\\tLoss: {:.6f}'.format(\n                 epoch, batch_idx * len(data), len(train_loader.dataset),\n-                100. * batch_idx / len(train_loader), loss.item()))\n+                100. * batch_idx / len(train_loader), loss.item()), file=sys.stderr)\n             if args.dry_run:\n                 break\n\n@@ -66,10 +75,13 @@\n\n     print('\\nTest set: Average loss: {:.4f}, Accuracy: {}/{} ({:.0f}%)\\n'.format(\n         test_loss, correct, len(test_loader.dataset),\n-        100. * correct / len(test_loader.dataset)))\n+        100. * correct / len(test_loader.dataset)), file=sys.stderr)\n\n\n def main():\n+    toolbox = prepare_and_get_toolbox(backend=Tractorch())\n+    user_config = toolbox.get_user_config()\n+\n     # Training settings\n     parser = argparse.ArgumentParser(description='PyTorch MNIST Example')\n     parser.add_argument('--batch-size', type=int, default=64, metavar='N',\n@@ -94,7 +106,7 @@\n                         help='how many batches to wait before logging training status')\n     parser.add_argument('--save-model', action='store_true', default=False,\n                         help='For Saving the current Model')\n-    args = parser.parse_args()\n+    args = parser.parse_args([])\n     use_cuda = not args.no_cuda and torch.cuda.is_available()\n     use_mps = not args.no_mps and torch.backends.mps.is_available()\n\n@@ -120,10 +132,9 @@\n         transforms.ToTensor(),\n         transforms.Normalize((0.1307,), (0.3081,))\n         ])\n-    dataset1 = datasets.MNIST('../data', train=True, download=True,\n-                       transform=transform)\n-    dataset2 = datasets.MNIST('../data', train=False,\n-                       transform=transform)\n+    dataset1 = YtTensorDataset(toolbox=toolbox, path=user_config[\"dataset_train_path\"], columns=['data', 'labels'])\n+    dataset2 = YtTensorDataset(toolbox=toolbox, path=user_config[\"dataset_test_path\"], columns=['data', 'labels'])\n+\n     train_loader = torch.utils.data.DataLoader(dataset1,**train_kwargs)\n     test_loader = torch.utils.data.DataLoader(dataset2, **test_kwargs)\n\n@@ -137,9 +148,9 @@\n         scheduler.step()\n\n     if args.save_model:\n-        torch.save(model.state_dict(), \"mnist_cnn.pt\")\n+        ts = TensorSerializer()\n+        toolbox.save_model(ts.serialize(model.state_dict()), dataset_train_path, metadata={})\n\n\n-if __name__ == '__main__':\n+if __name__ == \"__main__\":\n     main()\n```\n</details>"
                }
            },
            "source": "Let's consider a production-like scenario for running model training through the `Tractorun CLI`.\n\nThe `Tractorun CLI` allows:\n1. Make model training reproducible.\n2. Separating the model training code from the training run parameters. `Tractorun CLI` enables configuring the training process via a configuration file and CLI parameters.\n3. Running the training module from any host where Python and `Tractorun` are installed.\n\nWe will use the official PyTorch [MNIST training example](https://github.com/pytorch/examples/blob/cdef4d43fb1a2c6c4349daa5080e4e8731c34569/mnist/main.py) again.\nHow to modify it with minimal changes to run using Tractorun:\n1. Add `toolbox = prepare_and_get_toolbox(backend=Tractorch())` to the main function. Toolbox object provides useful utils for training like checkpoint manager, coordination metadata, initialized ytsaurus client, and more.\n2. Add `file=sys.stderr` to each print.\n3. Use `YtTensorDataset` instead of default `torch.Dataset`.\n\n<details>\n  <summary>Show the full diff</summary>\n\n```diff\n@@ -6,6 +6,15 @@\n from torchvision import datasets, transforms\n from torch.optim.lr_scheduler import StepLR\n\n+import sys\n+from tractorun.backend.tractorch import YtTensorDataset, Tractorch\n+from tractorun.toolbox import Toolbox\n+from tractorun.run import run\n+from tractorun.mesh import Mesh\n+from tractorun.resources import Resources\n+from tractorun.stderr_reader import StderrMode\n+from tractorun.backend.tractorch.serializer import TensorSerializer\n+from tractorun.run import prepare_and_get_toolbox\n\n class Net(nn.Module):\n     def __init__(self):\n@@ -45,7 +54,7 @@\n         if batch_idx % args.log_interval == 0:\n             print('Train Epoch: {} [{}/{} ({:.0f}%)]\\tLoss: {:.6f}'.format(\n                 epoch, batch_idx * len(data), len(train_loader.dataset),\n-                100. * batch_idx / len(train_loader), loss.item()))\n+                100. * batch_idx / len(train_loader), loss.item()), file=sys.stderr)\n             if args.dry_run:\n                 break\n\n@@ -66,10 +75,13 @@\n\n     print('\\nTest set: Average loss: {:.4f}, Accuracy: {}/{} ({:.0f}%)\\n'.format(\n         test_loss, correct, len(test_loader.dataset),\n-        100. * correct / len(test_loader.dataset)))\n+        100. * correct / len(test_loader.dataset)), file=sys.stderr)\n\n\n def main():\n+    toolbox = prepare_and_get_toolbox(backend=Tractorch())\n+    user_config = toolbox.get_user_config()\n+\n     # Training settings\n     parser = argparse.ArgumentParser(description='PyTorch MNIST Example')\n     parser.add_argument('--batch-size', type=int, default=64, metavar='N',\n@@ -94,7 +106,7 @@\n                         help='how many batches to wait before logging training status')\n     parser.add_argument('--save-model', action='store_true', default=False,\n                         help='For Saving the current Model')\n-    args = parser.parse_args()\n+    args = parser.parse_args([])\n     use_cuda = not args.no_cuda and torch.cuda.is_available()\n     use_mps = not args.no_mps and torch.backends.mps.is_available()\n\n@@ -120,10 +132,9 @@\n         transforms.ToTensor(),\n         transforms.Normalize((0.1307,), (0.3081,))\n         ])\n-    dataset1 = datasets.MNIST('../data', train=True, download=True,\n-                       transform=transform)\n-    dataset2 = datasets.MNIST('../data', train=False,\n-                       transform=transform)\n+    dataset1 = YtTensorDataset(toolbox=toolbox, path=user_config[\"dataset_train_path\"], columns=['data', 'labels'])\n+    dataset2 = YtTensorDataset(toolbox=toolbox, path=user_config[\"dataset_test_path\"], columns=['data', 'labels'])\n+\n     train_loader = torch.utils.data.DataLoader(dataset1,**train_kwargs)\n     test_loader = torch.utils.data.DataLoader(dataset2, **test_kwargs)\n\n@@ -137,9 +148,9 @@\n         scheduler.step()\n\n     if args.save_model:\n-        torch.save(model.state_dict(), \"mnist_cnn.pt\")\n+        ts = TensorSerializer()\n+        toolbox.save_model(ts.serialize(model.state_dict()), dataset_train_path, metadata={})\n\n\n-if __name__ == '__main__':\n+if __name__ == \"__main__\":\n     main()\n```\n</details>"
        },
        {
            "cell_type": "markdown",
            "id": "105c4a39-06ae-4a69-aea9-d303d779bc9d",
            "metadata": {
                "cell_id": "105c4a39-06ae-4a69-aea9-d303d779bc9d",
                "tracto": {
                    "metadata_version": "1",
                    "view_cell_type": "MD",
                    "view_source": "Let's create two files:\n1. `main.py` with our model-training code.\n2. `run_config.yaml` with training configuration."
                }
            },
            "source": "Let's create two files:\n1. `main.py` with our model-training code.\n2. `run_config.yaml` with training configuration."
        },
        {
            "cell_type": "code",
            "execution_count": 25,
            "id": "4fb7d69f-71c7-4c81-b379-c381629d6043",
            "metadata": {
                "cell_id": "4fb7d69f-71c7-4c81-b379-c381629d6043",
                "tracto": {
                    "metadata_version": "1",
                    "view_cell_type": "CODE",
                    "view_source": "code = r\"\"\"\nimport argparse\nimport torch\nimport torch.nn as nn\nimport torch.nn.functional as F\nimport torch.optim as optim\nfrom torchvision import datasets, transforms\nfrom torch.optim.lr_scheduler import StepLR\n\nimport sys\nfrom tractorun.backend.tractorch import YtTensorDataset, Tractorch\nfrom tractorun.toolbox import Toolbox\nfrom tractorun.run import run\nfrom tractorun.mesh import Mesh\nfrom tractorun.resources import Resources\nfrom tractorun.stderr_reader import StderrMode\nfrom tractorun.backend.tractorch.serializer import TensorSerializer\nfrom tractorun.run import prepare_and_get_toolbox\n\nclass Net(nn.Module):\n    def __init__(self):\n        super(Net, self).__init__()\n        self.conv1 = nn.Conv2d(1, 32, 3, 1)\n        self.conv2 = nn.Conv2d(32, 64, 3, 1)\n        self.dropout1 = nn.Dropout(0.25)\n        self.dropout2 = nn.Dropout(0.5)\n        self.fc1 = nn.Linear(9216, 128)\n        self.fc2 = nn.Linear(128, 10)\n\n    def forward(self, x):\n        x = self.conv1(x)\n        x = F.relu(x)\n        x = self.conv2(x)\n        x = F.relu(x)\n        x = F.max_pool2d(x, 2)\n        x = self.dropout1(x)\n        x = torch.flatten(x, 1)\n        x = self.fc1(x)\n        x = F.relu(x)\n        x = self.dropout2(x)\n        x = self.fc2(x)\n        output = F.log_softmax(x, dim=1)\n        return output\n\n\ndef train(args, model, device, train_loader, optimizer, epoch):\n    model.train()\n    for batch_idx, (data, target) in enumerate(train_loader):\n        data, target = data.to(device), target.to(device)\n        optimizer.zero_grad()\n        output = model(data)\n        loss = F.nll_loss(output, target)\n        loss.backward()\n        optimizer.step()\n        if batch_idx % args.log_interval == 0:\n            print('Train Epoch: {} [{}/{} ({:.0f}%)]\\tLoss: {:.6f}'.format(\n                epoch, batch_idx * len(data), len(train_loader.dataset),\n                100. * batch_idx / len(train_loader), loss.item()), file=sys.stderr)\n            if args.dry_run:\n                break\n\n\ndef test(model, device, test_loader):\n    model.eval()\n    test_loss = 0\n    correct = 0\n    with torch.no_grad():\n        for data, target in test_loader:\n            data, target = data.to(device), target.to(device)\n            output = model(data)\n            test_loss += F.nll_loss(output, target, reduction='sum').item()  # sum up batch loss\n            pred = output.argmax(dim=1, keepdim=True)  # get the index of the max log-probability\n            correct += pred.eq(target.view_as(pred)).sum().item()\n\n    test_loss /= len(test_loader.dataset)\n\n    print('\\nTest set: Average loss: {:.4f}, Accuracy: {}/{} ({:.0f}%)\\n'.format(\n        test_loss, correct, len(test_loader.dataset),\n        100. * correct / len(test_loader.dataset)), file=sys.stderr)\n\n\ndef main():\n    toolbox = prepare_and_get_toolbox(backend=Tractorch())\n    user_config = toolbox.get_user_config()\n\n    # Training settings\n    parser = argparse.ArgumentParser(description='PyTorch MNIST Example')\n    parser.add_argument('--batch-size', type=int, default=64, metavar='N',\n                        help='input batch size for training (default: 64)')\n    parser.add_argument('--test-batch-size', type=int, default=1000, metavar='N',\n                        help='input batch size for testing (default: 1000)')\n    parser.add_argument('--epochs', type=int, default=14, metavar='N',\n                        help='number of epochs to train (default: 14)')\n    parser.add_argument('--lr', type=float, default=1.0, metavar='LR',\n                        help='learning rate (default: 1.0)')\n    parser.add_argument('--gamma', type=float, default=0.7, metavar='M',\n                        help='Learning rate step gamma (default: 0.7)')\n    parser.add_argument('--no-cuda', action='store_true', default=False,\n                        help='disables CUDA training')\n    parser.add_argument('--no-mps', action='store_true', default=False,\n                        help='disables macOS GPU training')\n    parser.add_argument('--dry-run', action='store_true', default=False,\n                        help='quickly check a single pass')\n    parser.add_argument('--seed', type=int, default=1, metavar='S',\n                        help='random seed (default: 1)')\n    parser.add_argument('--log-interval', type=int, default=10, metavar='N',\n                        help='how many batches to wait before logging training status')\n    parser.add_argument('--save-model', action='store_true', default=False,\n                        help='For Saving the current Model')\n    args = parser.parse_args([])\n    use_cuda = not args.no_cuda and torch.cuda.is_available()\n    use_mps = not args.no_mps and torch.backends.mps.is_available()\n\n    torch.manual_seed(args.seed)\n\n    if use_cuda:\n        device = torch.device(\"cuda\")\n    elif use_mps:\n        device = torch.device(\"mps\")\n    else:\n        device = torch.device(\"cpu\")\n\n    train_kwargs = {'batch_size': args.batch_size}\n    test_kwargs = {'batch_size': args.test_batch_size}\n    if use_cuda:\n        cuda_kwargs = {'num_workers': 1,\n                       'pin_memory': True,\n                       'shuffle': True}\n        train_kwargs.update(cuda_kwargs)\n        test_kwargs.update(cuda_kwargs)\n\n    transform=transforms.Compose([\n        transforms.ToTensor(),\n        transforms.Normalize((0.1307,), (0.3081,))\n        ])\n    dataset1 = YtTensorDataset(toolbox=toolbox, yt_client=toolbox.yt_client, path=user_config[\"dataset_train_path\"], columns=['data', 'labels'])\n    dataset2 = YtTensorDataset(toolbox=toolbox, yt_client=toolbox.yt_client, path=user_config[\"dataset_test_path\"], columns=['data', 'labels'])\n\n    train_loader = torch.utils.data.DataLoader(dataset1,**train_kwargs)\n    test_loader = torch.utils.data.DataLoader(dataset2, **test_kwargs)\n\n    model = Net().to(device)\n    optimizer = optim.Adadelta(model.parameters(), lr=args.lr)\n\n    scheduler = StepLR(optimizer, step_size=1, gamma=args.gamma)\n    for epoch in range(1, args.epochs + 1):\n        train(args, model, device, train_loader, optimizer, epoch)\n        test(model, device, test_loader)\n        scheduler.step()\n\n    if args.save_model:\n        ts = TensorSerializer()\n        toolbox.save_model(ts.serialize(model.state_dict()), dataset_train_path, metadata={})\n\n\nif __name__ == \"__main__\":\n    main()\n\"\"\"\n\nwith open(\"main.py\", \"w\") as f:\n    f.write(code)"
                }
            },
            "outputs": [],
            "source": "code = r\"\"\"\nimport argparse\nimport torch\nimport torch.nn as nn\nimport torch.nn.functional as F\nimport torch.optim as optim\nfrom torchvision import datasets, transforms\nfrom torch.optim.lr_scheduler import StepLR\n\nimport sys\nfrom tractorun.backend.tractorch import YtTensorDataset, Tractorch\nfrom tractorun.toolbox import Toolbox\nfrom tractorun.run import run\nfrom tractorun.mesh import Mesh\nfrom tractorun.resources import Resources\nfrom tractorun.stderr_reader import StderrMode\nfrom tractorun.backend.tractorch.serializer import TensorSerializer\nfrom tractorun.run import prepare_and_get_toolbox\n\nclass Net(nn.Module):\n    def __init__(self):\n        super(Net, self).__init__()\n        self.conv1 = nn.Conv2d(1, 32, 3, 1)\n        self.conv2 = nn.Conv2d(32, 64, 3, 1)\n        self.dropout1 = nn.Dropout(0.25)\n        self.dropout2 = nn.Dropout(0.5)\n        self.fc1 = nn.Linear(9216, 128)\n        self.fc2 = nn.Linear(128, 10)\n\n    def forward(self, x):\n        x = self.conv1(x)\n        x = F.relu(x)\n        x = self.conv2(x)\n        x = F.relu(x)\n        x = F.max_pool2d(x, 2)\n        x = self.dropout1(x)\n        x = torch.flatten(x, 1)\n        x = self.fc1(x)\n        x = F.relu(x)\n        x = self.dropout2(x)\n        x = self.fc2(x)\n        output = F.log_softmax(x, dim=1)\n        return output\n\n\ndef train(args, model, device, train_loader, optimizer, epoch):\n    model.train()\n    for batch_idx, (data, target) in enumerate(train_loader):\n        data, target = data.to(device), target.to(device)\n        optimizer.zero_grad()\n        output = model(data)\n        loss = F.nll_loss(output, target)\n        loss.backward()\n        optimizer.step()\n        if batch_idx % args.log_interval == 0:\n            print('Train Epoch: {} [{}/{} ({:.0f}%)]\\tLoss: {:.6f}'.format(\n                epoch, batch_idx * len(data), len(train_loader.dataset),\n                100. * batch_idx / len(train_loader), loss.item()), file=sys.stderr)\n            if args.dry_run:\n                break\n\n\ndef test(model, device, test_loader):\n    model.eval()\n    test_loss = 0\n    correct = 0\n    with torch.no_grad():\n        for data, target in test_loader:\n            data, target = data.to(device), target.to(device)\n            output = model(data)\n            test_loss += F.nll_loss(output, target, reduction='sum').item()  # sum up batch loss\n            pred = output.argmax(dim=1, keepdim=True)  # get the index of the max log-probability\n            correct += pred.eq(target.view_as(pred)).sum().item()\n\n    test_loss /= len(test_loader.dataset)\n\n    print('\\nTest set: Average loss: {:.4f}, Accuracy: {}/{} ({:.0f}%)\\n'.format(\n        test_loss, correct, len(test_loader.dataset),\n        100. * correct / len(test_loader.dataset)), file=sys.stderr)\n\n\ndef main():\n    toolbox = prepare_and_get_toolbox(backend=Tractorch())\n    user_config = toolbox.get_user_config()\n\n    # Training settings\n    parser = argparse.ArgumentParser(description='PyTorch MNIST Example')\n    parser.add_argument('--batch-size', type=int, default=64, metavar='N',\n                        help='input batch size for training (default: 64)')\n    parser.add_argument('--test-batch-size', type=int, default=1000, metavar='N',\n                        help='input batch size for testing (default: 1000)')\n    parser.add_argument('--epochs', type=int, default=14, metavar='N',\n                        help='number of epochs to train (default: 14)')\n    parser.add_argument('--lr', type=float, default=1.0, metavar='LR',\n                        help='learning rate (default: 1.0)')\n    parser.add_argument('--gamma', type=float, default=0.7, metavar='M',\n                        help='Learning rate step gamma (default: 0.7)')\n    parser.add_argument('--no-cuda', action='store_true', default=False,\n                        help='disables CUDA training')\n    parser.add_argument('--no-mps', action='store_true', default=False,\n                        help='disables macOS GPU training')\n    parser.add_argument('--dry-run', action='store_true', default=False,\n                        help='quickly check a single pass')\n    parser.add_argument('--seed', type=int, default=1, metavar='S',\n                        help='random seed (default: 1)')\n    parser.add_argument('--log-interval', type=int, default=10, metavar='N',\n                        help='how many batches to wait before logging training status')\n    parser.add_argument('--save-model', action='store_true', default=False,\n                        help='For Saving the current Model')\n    args = parser.parse_args([])\n    use_cuda = not args.no_cuda and torch.cuda.is_available()\n    use_mps = not args.no_mps and torch.backends.mps.is_available()\n\n    torch.manual_seed(args.seed)\n\n    if use_cuda:\n        device = torch.device(\"cuda\")\n    elif use_mps:\n        device = torch.device(\"mps\")\n    else:\n        device = torch.device(\"cpu\")\n\n    train_kwargs = {'batch_size': args.batch_size}\n    test_kwargs = {'batch_size': args.test_batch_size}\n    if use_cuda:\n        cuda_kwargs = {'num_workers': 1,\n                       'pin_memory': True,\n                       'shuffle': True}\n        train_kwargs.update(cuda_kwargs)\n        test_kwargs.update(cuda_kwargs)\n\n    transform=transforms.Compose([\n        transforms.ToTensor(),\n        transforms.Normalize((0.1307,), (0.3081,))\n        ])\n    dataset1 = YtTensorDataset(toolbox=toolbox, yt_client=toolbox.yt_client, path=user_config[\"dataset_train_path\"], columns=['data', 'labels'])\n    dataset2 = YtTensorDataset(toolbox=toolbox, yt_client=toolbox.yt_client, path=user_config[\"dataset_test_path\"], columns=['data', 'labels'])\n\n    train_loader = torch.utils.data.DataLoader(dataset1,**train_kwargs)\n    test_loader = torch.utils.data.DataLoader(dataset2, **test_kwargs)\n\n    model = Net().to(device)\n    optimizer = optim.Adadelta(model.parameters(), lr=args.lr)\n\n    scheduler = StepLR(optimizer, step_size=1, gamma=args.gamma)\n    for epoch in range(1, args.epochs + 1):\n        train(args, model, device, train_loader, optimizer, epoch)\n        test(model, device, test_loader)\n        scheduler.step()\n\n    if args.save_model:\n        ts = TensorSerializer()\n        toolbox.save_model(ts.serialize(model.state_dict()), dataset_train_path, metadata={})\n\n\nif __name__ == \"__main__\":\n    main()\n\"\"\"\n\nwith open(\"main.py\", \"w\") as f:\n    f.write(code)"
        },
        {
            "cell_type": "code",
            "execution_count": 26,
            "id": "ce36442d-e406-4f0d-ad6e-45c0876771c2",
            "metadata": {
                "cell_id": "ce36442d-e406-4f0d-ad6e-45c0876771c2",
                "tracto": {
                    "metadata_version": "1",
                    "view_cell_type": "CODE",
                    "view_source": "import yaml\n\n\nconfig = {\n    \"yt_path\": training_dir,\n    \"mesh\": {\n        \"node_count\": 1,\n        \"process_per_node\": 1,\n        \"gpu_per_process\": 0,\n    },  \n    \"user_config\": {\n        \"dataset_train_path\": dataset_train_path,\n        \"dataset_test_path\": dataset_test_path,\n    },\n    \"resources\": {\n        \"cpu_limit\": 8,\n        \"memory_limit\": 105899345920,\n    },\n    \"bind_local\": [\"./main.py:/tractorun/main.py\"],\n    \"command\": [\"python3\", \"/tractorun/main.py\"],\n    \"proxy_stderr_mode\": \"primary\",\n}\n\nwith open(\"run_config.yaml\", \"w\") as f:\n    yaml.dump(config, f)"
                }
            },
            "outputs": [],
            "source": "import yaml\n\n\nconfig = {\n    \"yt_path\": training_dir,\n    \"mesh\": {\n        \"node_count\": 1,\n        \"process_per_node\": 1,\n        \"gpu_per_process\": 0,\n    },  \n    \"user_config\": {\n        \"dataset_train_path\": dataset_train_path,\n        \"dataset_test_path\": dataset_test_path,\n    },\n    \"resources\": {\n        \"cpu_limit\": 8,\n        \"memory_limit\": 105899345920,\n    },\n    \"bind_local\": [\"./main.py:/tractorun/main.py\"],\n    \"command\": [\"python3\", \"/tractorun/main.py\"],\n    \"proxy_stderr_mode\": \"primary\",\n}\n\nwith open(\"run_config.yaml\", \"w\") as f:\n    yaml.dump(config, f)"
        },
        {
            "cell_type": "code",
            "execution_count": 27,
            "id": "cb6f07a0-071d-4423-8a6c-4e8c8c69c4d5",
            "metadata": {
                "cell_id": "cb6f07a0-071d-4423-8a6c-4e8c8c69c4d5",
                "tracto": {
                    "metadata_version": "1",
                    "view_cell_type": "CODE",
                    "view_source": "!tractorun --run-config-path run_config.yaml"
                }
            },
            "outputs": [],
            "source": "!tractorun --run-config-path run_config.yaml"
        }
    ],
    "metadata": {
        "kernelspec": {
            "display_name": "chiffa_solutions_torch",
            "name": "chiffa_solutions_torch"
        },
        "tracto": {
            "is_solution_notebook": true,
            "metadata_version": "1",
            "notebook_cypress_id": "13e53a41-d4a7-4e09-8c9a-b021eb86173d"
        },
        "is_solution_notebook": true
    },
    "nbformat": 4,
    "nbformat_minor": 5
}