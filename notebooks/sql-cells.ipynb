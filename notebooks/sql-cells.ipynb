{
    "cells": [
        {
            "cell_type": "markdown",
            "id": "f9e7059f-37ad-455f-aa41-76d29cd54ace",
            "metadata": {
                "tracto": {
                    "metadata_version": "1",
                    "view_cell_type": "MD",
                    "view_source": "# SQL cells\n\nSQL cell allows to run CHYT/SPYT/QL/YQL queries directly in Notebook.\n\n{% note warning \"Requirements\" %}\n\nTo run sql cells, you must have: \n\n* `YT_TOKEN` env in kernel secrets\n* yt-wrapper with version >= 0.13.21. \n    You can use default kenrel image, which already has it. `ghcr.io/tractoai/notebook-kernel-default:2024-12-27-14-31-09-307b3bc68`\n\n{% endnote %}"
                }
            },
            "source": "# SQL cells\n\nSQL cell allows to run CHYT/SPYT/QL/YQL queries directly in Notebook.\n\n{% note warning \"Requirements\" %}\n\nTo run sql cells, you must have: \n\n* `YT_TOKEN` env in kernel secrets\n* yt-wrapper with version >= 0.13.21. \n    You can use default kenrel image, which already has. `ghcr.io/tractoai/notebook-kernel-default:2024-12-27-14-31-09-307b3bc68`\n\n{% endnote %}"
        },
        {
            "cell_type": "markdown",
            "id": "98a8da68-97f3-4912-84d9-5677442496a0",
            "metadata": {
                "tracto": {
                    "metadata_version": "1",
                    "view_cell_type": "MD",
                    "view_source": "## Create YQL cell with output variable `yql_result`"
                }
            },
            "source": "## Create YQL cell with output variable `yql_result`"
        },
        {
            "cell_type": "code",
            "execution_count": 2,
            "id": "a84a44d4-787e-417b-9074-d35198279771",
            "metadata": {
                "tracto": {
                    "metadata_version": "1",
                    "sql": {
                        "template_id": "yql",
                        "variables": {
                            "output_var": "yql_result",
                            "query": "SELECT      `lat`, `lon`, `squirrel_id`, `hectare`, `shift`, `date`, `hectare_squirrel_number`, `age`, `primary_fur_color`, `highlight_fur_color`, `color_notes`, `location`, `above_ground_sighter_measurement`, `specific_location`, `running`, `chasing`, `climbing`, `eating`, `foraging`, `other_activities`, `kuks`, `quaas`, `moans`, `tail_flags`, `tail_twitches`, `approaches`, `indifferent`, `runs_from`, `other_interactions`  FROM `//home/samples/squirrels`  LIMIT 5;"
                        }
                    },
                    "view_cell_type": "YQL",
                    "view_source": "SELECT \n    `lat`, `lon`, `squirrel_id`, `hectare`, `shift`, `date`, `hectare_squirrel_number`, `age`, `primary_fur_color`, `highlight_fur_color`, `color_notes`, `location`, `above_ground_sighter_measurement`, `specific_location`, `running`, `chasing`, `climbing`, `eating`, `foraging`, `other_activities`, `kuks`, `quaas`, `moans`, `tail_flags`, `tail_twitches`, `approaches`, `indifferent`, `runs_from`, `other_interactions` \nFROM `//home/samples/squirrels` \nLIMIT 5;"
                }
            },
            "outputs": [
                {
                    "name": "stderr",
                    "output_type": "stream",
                    "text": "2025-01-21 19:43:45,611\tINFO\tQuery started: https://planck.yt.nebius.yt/playground/queries/8d005a28-7d03717a-43e6e234-1b6e124b/details\n"
                },
                {
                    "name": "stderr",
                    "output_type": "stream",
                    "text": "2025-01-21 19:43:45,620\tINFO\t( 0 min) query 8d005a28-7d03717a-43e6e234-1b6e124b pending\n"
                },
                {
                    "name": "stderr",
                    "output_type": "stream",
                    "text": "2025-01-21 19:43:46,453\tINFO\t( 0 min) query 8d005a28-7d03717a-43e6e234-1b6e124b: running=0     completed=0     pending=0     failed=0     aborted=0     lost=0     total=0    \n"
                },
                {
                    "name": "stderr",
                    "output_type": "stream",
                    "text": "2025-01-21 19:43:48,436\tINFO\t( 0 min) query 8d005a28-7d03717a-43e6e234-1b6e124b: running=2     completed=0     pending=0     failed=0     aborted=0     lost=0     total=2    \n"
                },
                {
                    "name": "stderr",
                    "output_type": "stream",
                    "text": "2025-01-21 19:43:48,803\tINFO\t( 0 min) query 8d005a28-7d03717a-43e6e234-1b6e124b completing\n"
                },
                {
                    "name": "stderr",
                    "output_type": "stream",
                    "text": "2025-01-21 19:43:49,451\tINFO\t( 0 min) query 8d005a28-7d03717a-43e6e234-1b6e124b completed\n"
                },
                {
                    "name": "stdout",
                    "output_type": "stream",
                    "text": "DATA: [[{\"lat\": -73.9561344937861, \"lon\": 40.7940823884086, \"squirrel_id\": \"37F-PM-1014-03\", \"hectare\": \"37F\", \"shift\": \"PM\", \"date\": 17818, \"hectare_squirrel_number\": 3, \"age\": \"\", \"primary_fur_color\": \"\", \"highlight_fur_color\": \"\", \"color_notes\": \"\", \"location\": \"\", \"above_ground_sighter_measurement\": \"\", \"specific_location\": \"\", \"running\": false, \"chasing\": false, \"climbing\": false, \"eating\": false, \"foraging\": false, \"other_activities\": \"\", \"kuks\": false, \"quaas\": false, \"moans\": false, \"tail_flags\": false, \"tail_twitches\": false, \"approaches\": false, \"indifferent\": false, \"runs_from\": false, \"other_interactions\": \"\"}, {\"lat\": -73.9688574691102, \"lon\": 40.7837825208444, \"squirrel_id\": \"21B-AM-1019-04\", \"hectare\": \"21B\", \"shift\": \"AM\", \"date\": 17823, \"hectare_squirrel_number\": 4, \"age\": \"\", \"primary_fur_color\": \"\", \"highlight_fur_color\": \"\", \"color_notes\": \"\", \"location\": \"\", \"above_ground_sighter_measurement\": \"\", \"specific_location\": \"\", \"running\": false, \"chasing\": false, \"climbing\": false, \"eating\": false, \"foraging\": false, \"other_activities\": \"\", \"kuks\": false, \"quaas\": false, \"moans\": false, \"tail_flags\": false, \"tail_twitches\": false, \"approaches\": false, \"indifferent\": false, \"runs_from\": false, \"other_interactions\": \"\"}, {\"lat\": -73.9742811484852, \"lon\": 40.775533619083, \"squirrel_id\": \"11B-PM-1014-08\", \"hectare\": \"11B\", \"shift\": \"PM\", \"date\": 17818, \"hectare_squirrel_number\": 8, \"age\": \"\", \"primary_fur_color\": \"Gray\", \"highlight_fur_color\": \"\", \"color_notes\": \"\", \"location\": \"Above Ground\", \"above_ground_sighter_measurement\": \"10\", \"specific_location\": \"\", \"running\": false, \"chasing\": true, \"climbing\": false, \"eating\": false, \"foraging\": false, \"other_activities\": \"\", \"kuks\": false, \"quaas\": false, \"moans\": false, \"tail_flags\": false, \"tail_twitches\": false, \"approaches\": false, \"indifferent\": false, \"runs_from\": false, \"other_interactions\": \"\"}, {\"lat\": -73.9596413903948, \"lon\": 40.7903128889029, \"squirrel_id\": \"32E-PM-1017-14\", \"hectare\": \"32E\", \"shift\": \"PM\", \"date\": 17821, \"hectare_squirrel_number\": 14, \"age\": \"Adult\", \"primary_fur_color\": \"Gray\", \"highlight_fur_color\": \"\", \"color_notes\": \"Nothing selected as Primary. Gray selected as Highlights. Made executive adjustments.\", \"location\": \"\", \"above_ground_sighter_measurement\": \"\", \"specific_location\": \"\", \"running\": false, \"chasing\": false, \"climbing\": false, \"eating\": true, \"foraging\": true, \"other_activities\": \"\", \"kuks\": false, \"quaas\": false, \"moans\": false, \"tail_flags\": false, \"tail_twitches\": false, \"approaches\": false, \"indifferent\": false, \"runs_from\": true, \"other_interactions\": \"\"}, {\"lat\": -73.9702676472613, \"lon\": 40.7762126854894, \"squirrel_id\": \"13E-AM-1017-05\", \"hectare\": \"13E\", \"shift\": \"AM\", \"date\": 17821, \"hectare_squirrel_number\": 5, \"age\": \"Adult\", \"primary_fur_color\": \"Gray\", \"highlight_fur_color\": \"Cinnamon\", \"color_notes\": \"\", \"location\": \"Above Ground\", \"above_ground_sighter_measurement\": \"\", \"specific_location\": \"on tree stump\", \"running\": false, \"chasing\": false, \"climbing\": false, \"eating\": false, \"foraging\": true, \"other_activities\": \"\", \"kuks\": false, \"quaas\": false, \"moans\": false, \"tail_flags\": false, \"tail_twitches\": false, \"approaches\": false, \"indifferent\": false, \"runs_from\": false, \"other_interactions\": \"\"}]]\n"
                }
            ],
            "source": "def __run_yql_query(query):\n  import yt.wrapper as yt\n  import json\n  output_data = [list(item.read_rows()) for item in yt.run_query(engine=\"yql\", query=query).get_results()]\n  print(\"DATA:\", json.dumps(output_data))\n  return output_data\n\nyql_result = __run_yql_query(query=\"SELECT      `lat`, `lon`, `squirrel_id`, `hectare`, `shift`, `date`, `hectare_squirrel_number`, `age`, `primary_fur_color`, `highlight_fur_color`, `color_notes`, `location`, `above_ground_sighter_measurement`, `specific_location`, `running`, `chasing`, `climbing`, `eating`, `foraging`, `other_activities`, `kuks`, `quaas`, `moans`, `tail_flags`, `tail_twitches`, `approaches`, `indifferent`, `runs_from`, `other_interactions`  FROM `//home/samples/squirrels`  LIMIT 5;\")\n"
        },
        {
            "cell_type": "markdown",
            "id": "a1622bd7-582e-4043-b476-96b1b8b4aaa3",
            "metadata": {
                "tracto": {
                    "metadata_version": "1",
                    "view_cell_type": "MD",
                    "view_source": "## Create CHYT cell with output variable `chyt_result`"
                }
            },
            "source": "## Create CHYT cell with output variable `chyt_result`"
        },
        {
            "cell_type": "code",
            "execution_count": 4,
            "id": "0ee7a02e-dd82-4ae3-82e3-407fce05e201",
            "metadata": {
                "tracto": {
                    "metadata_version": "1",
                    "sql": {
                        "template_id": "chyt",
                        "variables": {
                            "clique": "ch_public",
                            "output_var": "chyt_result",
                            "query": "SELECT     `lat`, `lon`, `squirrel_id`, `hectare`, `shift`, `date`, `hectare_squirrel_number`, `age`, `primary_fur_color`, `highlight_fur_color`, `color_notes`, `location`, `above_ground_sighter_measurement`, `specific_location`, `running`, `chasing`, `climbing`, `eating`, `foraging`, `other_activities`, `kuks`, `quaas`, `moans`, `tail_flags`, `tail_twitches`, `approaches`, `indifferent`, `runs_from`, `other_interactions` FROM `//home/samples/squirrels` LIMIT 5 OFFSET 5;"
                        }
                    },
                    "view_cell_type": "CHYT",
                    "view_source": "SELECT\n    `lat`, `lon`, `squirrel_id`, `hectare`, `shift`, `date`, `hectare_squirrel_number`, `age`, `primary_fur_color`, `highlight_fur_color`, `color_notes`, `location`, `above_ground_sighter_measurement`, `specific_location`, `running`, `chasing`, `climbing`, `eating`, `foraging`, `other_activities`, `kuks`, `quaas`, `moans`, `tail_flags`, `tail_twitches`, `approaches`, `indifferent`, `runs_from`, `other_interactions`\nFROM `//home/samples/squirrels`\nLIMIT 5\nOFFSET 5;"
                }
            },
            "outputs": [
                {
                    "name": "stderr",
                    "output_type": "stream",
                    "text": "2025-01-21 19:43:49,595\tINFO\tQuery started: https://planck.yt.nebius.yt/playground/queries/63fa4a93-9b78d775-e3134d95-89437572/details\n"
                },
                {
                    "name": "stderr",
                    "output_type": "stream",
                    "text": "2025-01-21 19:43:49,603\tINFO\t( 0 min) query 63fa4a93-9b78d775-e3134d95-89437572 pending\n"
                },
                {
                    "name": "stderr",
                    "output_type": "stream",
                    "text": "2025-01-21 19:43:51,167\tINFO\t( 0 min) query 63fa4a93-9b78d775-e3134d95-89437572: running\n"
                },
                {
                    "name": "stderr",
                    "output_type": "stream",
                    "text": "2025-01-21 19:43:51,275\tINFO\t( 0 min) query 63fa4a93-9b78d775-e3134d95-89437572 completing\n"
                },
                {
                    "name": "stderr",
                    "output_type": "stream",
                    "text": "2025-01-21 19:43:51,919\tINFO\t( 0 min) query 63fa4a93-9b78d775-e3134d95-89437572 completed\n"
                },
                {
                    "name": "stdout",
                    "output_type": "stream",
                    "text": "DATA: [[{\"lat\": -73.9683613516225, \"lon\": 40.7725908847499, \"squirrel_id\": \"11H-AM-1010-03\", \"hectare\": \"11H\", \"shift\": \"AM\", \"date\": 17814, \"hectare_squirrel_number\": 3, \"age\": \"Adult\", \"primary_fur_color\": \"Cinnamon\", \"highlight_fur_color\": \"White\", \"color_notes\": \"\", \"location\": \"\", \"above_ground_sighter_measurement\": \"\", \"specific_location\": \"\", \"running\": false, \"chasing\": false, \"climbing\": false, \"eating\": false, \"foraging\": true, \"other_activities\": \"\", \"kuks\": false, \"quaas\": false, \"moans\": false, \"tail_flags\": false, \"tail_twitches\": true, \"approaches\": false, \"indifferent\": true, \"runs_from\": false, \"other_interactions\": \"\"}, {\"lat\": -73.9541201789795, \"lon\": 40.7931811701082, \"squirrel_id\": \"36H-AM-1010-02\", \"hectare\": \"36H\", \"shift\": \"AM\", \"date\": 17814, \"hectare_squirrel_number\": 2, \"age\": \"Adult\", \"primary_fur_color\": \"Gray\", \"highlight_fur_color\": \"\", \"color_notes\": \"just outside hectare\", \"location\": \"Ground Plane\", \"above_ground_sighter_measurement\": \"FALSE\", \"specific_location\": \"\", \"running\": false, \"chasing\": false, \"climbing\": false, \"eating\": false, \"foraging\": true, \"other_activities\": \"\", \"kuks\": false, \"quaas\": false, \"moans\": false, \"tail_flags\": false, \"tail_twitches\": false, \"approaches\": false, \"indifferent\": false, \"runs_from\": false, \"other_interactions\": \"\"}, {\"lat\": -73.9582694312289, \"lon\": 40.7917367820255, \"squirrel_id\": \"33F-AM-1008-02\", \"hectare\": \"33F\", \"shift\": \"AM\", \"date\": 17812, \"hectare_squirrel_number\": 2, \"age\": \"Adult\", \"primary_fur_color\": \"Gray\", \"highlight_fur_color\": \"\", \"color_notes\": \"\", \"location\": \"Ground Plane\", \"above_ground_sighter_measurement\": \"FALSE\", \"specific_location\": \"\", \"running\": false, \"chasing\": false, \"climbing\": false, \"eating\": false, \"foraging\": true, \"other_activities\": \"\", \"kuks\": false, \"quaas\": false, \"moans\": false, \"tail_flags\": false, \"tail_twitches\": false, \"approaches\": false, \"indifferent\": true, \"runs_from\": false, \"other_interactions\": \"\"}, {\"lat\": -73.9674285955293, \"lon\": 40.7829723919744, \"squirrel_id\": \"21C-PM-1006-01\", \"hectare\": \"21C\", \"shift\": \"PM\", \"date\": 17810, \"hectare_squirrel_number\": 1, \"age\": \"Adult\", \"primary_fur_color\": \"Gray\", \"highlight_fur_color\": \"\", \"color_notes\": \"\", \"location\": \"Ground Plane\", \"above_ground_sighter_measurement\": \"FALSE\", \"specific_location\": \"\", \"running\": false, \"chasing\": false, \"climbing\": false, \"eating\": false, \"foraging\": false, \"other_activities\": \"\", \"kuks\": false, \"quaas\": false, \"moans\": false, \"tail_flags\": true, \"tail_twitches\": true, \"approaches\": false, \"indifferent\": false, \"runs_from\": false, \"other_interactions\": \"\"}, {\"lat\": -73.9722500196844, \"lon\": 40.7742879599026, \"squirrel_id\": \"11D-AM-1010-03\", \"hectare\": \"11D\", \"shift\": \"AM\", \"date\": 17814, \"hectare_squirrel_number\": 3, \"age\": \"Adult\", \"primary_fur_color\": \"Gray\", \"highlight_fur_color\": \"Cinnamon\", \"color_notes\": \"\", \"location\": \"Above Ground\", \"above_ground_sighter_measurement\": \"30\", \"specific_location\": \"\", \"running\": false, \"chasing\": false, \"climbing\": true, \"eating\": false, \"foraging\": false, \"other_activities\": \"grooming\", \"kuks\": false, \"quaas\": false, \"moans\": false, \"tail_flags\": false, \"tail_twitches\": false, \"approaches\": false, \"indifferent\": true, \"runs_from\": false, \"other_interactions\": \"\"}]]\n"
                }
            ],
            "source": "def __run_chyt_query(engine, query, clique):\n  import yt.wrapper as yt\n  import json\n  output_data = [list(item.read_rows()) for item in yt.run_query(engine=engine, query=query, settings={\"clique\": clique}).get_results()]\n  print(\"DATA:\", json.dumps(output_data))\n  return output_data\n\nchyt_result = __run_chyt_query(engine=\"chyt\", query=\"SELECT     `lat`, `lon`, `squirrel_id`, `hectare`, `shift`, `date`, `hectare_squirrel_number`, `age`, `primary_fur_color`, `highlight_fur_color`, `color_notes`, `location`, `above_ground_sighter_measurement`, `specific_location`, `running`, `chasing`, `climbing`, `eating`, `foraging`, `other_activities`, `kuks`, `quaas`, `moans`, `tail_flags`, `tail_twitches`, `approaches`, `indifferent`, `runs_from`, `other_interactions` FROM `//home/samples/squirrels` LIMIT 5 OFFSET 5;\", clique=\"ch_public\")\n"
        },
        {
            "cell_type": "markdown",
            "id": "1ea75114-2aaa-476c-99b5-9a2a2e78db0f",
            "metadata": {
                "tracto": {
                    "metadata_version": "1",
                    "view_cell_type": "MD",
                    "view_source": "Let's install pandas to preview data as a table"
                }
            },
            "source": "Let's install pandas to preview data as a table"
        },
        {
            "cell_type": "code",
            "execution_count": 6,
            "id": "24f1e72c-07d4-40c3-b5a3-d2cf92d60285",
            "metadata": {
                "tracto": {
                    "metadata_version": "1",
                    "view_cell_type": "CODE",
                    "view_source": "!pip uninstall pandas -y\n!pip install pandas --no-cache-dir"
                }
            },
            "outputs": [
                {
                    "name": "stdout",
                    "output_type": "stream",
                    "text": "Found existing installation: pandas 2.2.3\r\n"
                },
                {
                    "name": "stdout",
                    "output_type": "stream",
                    "text": "Uninstalling pandas-2.2.3:\r\n  Successfully uninstalled pandas-2.2.3\r\n"
                },
                {
                    "name": "stdout",
                    "output_type": "stream",
                    "text": "\u001b[33mWARNING: Running pip as the 'root' user can result in broken permissions and conflicting behaviour with the system package manager, possibly rendering your system unusable.It is recommended to use a virtual environment instead: https://pip.pypa.io/warnings/venv. Use the --root-user-action option if you know what you are doing and want to suppress this warning.\u001b[0m\u001b[33m\r\n\u001b[0m"
                },
                {
                    "name": "stdout",
                    "output_type": "stream",
                    "text": "Collecting pandas\r\n"
                },
                {
                    "name": "stdout",
                    "output_type": "stream",
                    "text": "  Downloading pandas-2.2.3-cp312-cp312-manylinux_2_17_x86_64.manylinux2014_x86_64.whl.metadata (89 kB)\r\n"
                },
                {
                    "name": "stdout",
                    "output_type": "stream",
                    "text": "Requirement already satisfied: numpy>=1.26.0 in /usr/local/lib/python3.12/site-packages (from pandas) (2.2.1)\r\nRequirement already satisfied: python-dateutil>=2.8.2 in /usr/local/lib/python3.12/site-packages (from pandas) (2.9.0.post0)\r\nRequirement already satisfied: pytz>=2020.1 in /usr/local/lib/python3.12/site-packages (from pandas) (2024.2)\r\nRequirement already satisfied: tzdata>=2022.7 in /usr/local/lib/python3.12/site-packages (from pandas) (2024.2)\r\nRequirement already satisfied: six>=1.5 in /usr/local/lib/python3.12/site-packages (from python-dateutil>=2.8.2->pandas) (1.17.0)\r\nDownloading pandas-2.2.3-cp312-cp312-manylinux_2_17_x86_64.manylinux2014_x86_64.whl (12.7 MB)\r\n\u001b[?25l   \u001b[90m\u2501\u2501\u2501\u2501\u2501\u2501\u2501\u2501\u2501\u2501\u2501\u2501\u2501\u2501\u2501\u2501\u2501\u2501\u2501\u2501\u2501\u2501\u2501\u2501\u2501\u2501\u2501\u2501\u2501\u2501\u2501\u2501\u2501\u2501\u2501\u2501\u2501\u2501\u2501\u2501\u001b[0m \u001b[32m0.0/12.7 MB\u001b[0m \u001b[31m?\u001b[0m eta \u001b[36m-:--:--\u001b[0m"
                },
                {
                    "name": "stdout",
                    "output_type": "stream",
                    "text": "\r\u001b[2K   \u001b[90m\u2501\u2501\u2501\u2501\u2501\u2501\u2501\u2501\u2501\u2501\u2501\u2501\u2501\u2501\u2501\u2501\u2501\u2501\u2501\u2501\u2501\u2501\u2501\u2501\u2501\u2501\u2501\u2501\u2501\u2501\u2501\u2501\u2501\u2501\u2501\u2501\u2501\u2501\u2501\u2501\u001b[0m \u001b[32m12.7/12.7 MB\u001b[0m \u001b[31m96.2 MB/s\u001b[0m eta \u001b[36m0:00:00\u001b[0m\r\n\u001b[?25h"
                },
                {
                    "name": "stdout",
                    "output_type": "stream",
                    "text": "Installing collected packages: pandas\r\n"
                },
                {
                    "name": "stdout",
                    "output_type": "stream",
                    "text": "Successfully installed pandas-2.2.3\r\n\u001b[33mWARNING: Running pip as the 'root' user can result in broken permissions and conflicting behaviour with the system package manager, possibly rendering your system unusable.It is recommended to use a virtual environment instead: https://pip.pypa.io/warnings/venv. Use the --root-user-action option if you know what you are doing and want to suppress this warning.\u001b[0m\u001b[33m\r\n\u001b[0m"
                }
            ],
            "source": "!pip uninstall pandas -y\n!pip install pandas --no-cache-dir"
        },
        {
            "cell_type": "code",
            "execution_count": 7,
            "id": "54fd0902-7a50-45a2-828b-5056f3e325ff",
            "metadata": {
                "tracto": {
                    "metadata_version": "1",
                    "view_cell_type": "CODE",
                    "view_source": "import pandas as pd"
                }
            },
            "outputs": [],
            "source": "import pandas as pd"
        },
        {
            "cell_type": "markdown",
            "id": "8d50bebd-76cb-483e-a5ee-bfd00cb18ba2",
            "metadata": {
                "tracto": {
                    "metadata_version": "1",
                    "view_cell_type": "MD",
                    "view_source": "## Preview result from `yql_result` "
                }
            },
            "source": "## Preview result from `yql_result` "
        },
        {
            "cell_type": "code",
            "execution_count": 9,
            "id": "de879ad3-b5a4-4fca-a0d2-7227961dd5d2",
            "metadata": {
                "tracto": {
                    "metadata_version": "1",
                    "view_cell_type": "CODE",
                    "view_source": "pd.json_normalize(yql_result[0])"
                }
            },
            "outputs": [
                {
                    "data": {
                        "text/html": "<div>\n<style scoped>\n    .dataframe tbody tr th:only-of-type {\n        vertical-align: middle;\n    }\n\n    .dataframe tbody tr th {\n        vertical-align: top;\n    }\n\n    .dataframe thead th {\n        text-align: right;\n    }\n</style>\n<table border=\"1\" class=\"dataframe\">\n  <thead>\n    <tr style=\"text-align: right;\">\n      <th></th>\n      <th>lat</th>\n      <th>lon</th>\n      <th>squirrel_id</th>\n      <th>hectare</th>\n      <th>shift</th>\n      <th>date</th>\n      <th>hectare_squirrel_number</th>\n      <th>age</th>\n      <th>primary_fur_color</th>\n      <th>highlight_fur_color</th>\n      <th>...</th>\n      <th>other_activities</th>\n      <th>kuks</th>\n      <th>quaas</th>\n      <th>moans</th>\n      <th>tail_flags</th>\n      <th>tail_twitches</th>\n      <th>approaches</th>\n      <th>indifferent</th>\n      <th>runs_from</th>\n      <th>other_interactions</th>\n    </tr>\n  </thead>\n  <tbody>\n    <tr>\n      <th>0</th>\n      <td>-73.956134</td>\n      <td>40.794082</td>\n      <td>37F-PM-1014-03</td>\n      <td>37F</td>\n      <td>PM</td>\n      <td>17818</td>\n      <td>3</td>\n      <td></td>\n      <td></td>\n      <td></td>\n      <td>...</td>\n      <td></td>\n      <td>False</td>\n      <td>False</td>\n      <td>False</td>\n      <td>False</td>\n      <td>False</td>\n      <td>False</td>\n      <td>False</td>\n      <td>False</td>\n      <td></td>\n    </tr>\n    <tr>\n      <th>1</th>\n      <td>-73.968857</td>\n      <td>40.783783</td>\n      <td>21B-AM-1019-04</td>\n      <td>21B</td>\n      <td>AM</td>\n      <td>17823</td>\n      <td>4</td>\n      <td></td>\n      <td></td>\n      <td></td>\n      <td>...</td>\n      <td></td>\n      <td>False</td>\n      <td>False</td>\n      <td>False</td>\n      <td>False</td>\n      <td>False</td>\n      <td>False</td>\n      <td>False</td>\n      <td>False</td>\n      <td></td>\n    </tr>\n    <tr>\n      <th>2</th>\n      <td>-73.974281</td>\n      <td>40.775534</td>\n      <td>11B-PM-1014-08</td>\n      <td>11B</td>\n      <td>PM</td>\n      <td>17818</td>\n      <td>8</td>\n      <td></td>\n      <td>Gray</td>\n      <td></td>\n      <td>...</td>\n      <td></td>\n      <td>False</td>\n      <td>False</td>\n      <td>False</td>\n      <td>False</td>\n      <td>False</td>\n      <td>False</td>\n      <td>False</td>\n      <td>False</td>\n      <td></td>\n    </tr>\n    <tr>\n      <th>3</th>\n      <td>-73.959641</td>\n      <td>40.790313</td>\n      <td>32E-PM-1017-14</td>\n      <td>32E</td>\n      <td>PM</td>\n      <td>17821</td>\n      <td>14</td>\n      <td>Adult</td>\n      <td>Gray</td>\n      <td></td>\n      <td>...</td>\n      <td></td>\n      <td>False</td>\n      <td>False</td>\n      <td>False</td>\n      <td>False</td>\n      <td>False</td>\n      <td>False</td>\n      <td>False</td>\n      <td>True</td>\n      <td></td>\n    </tr>\n    <tr>\n      <th>4</th>\n      <td>-73.970268</td>\n      <td>40.776213</td>\n      <td>13E-AM-1017-05</td>\n      <td>13E</td>\n      <td>AM</td>\n      <td>17821</td>\n      <td>5</td>\n      <td>Adult</td>\n      <td>Gray</td>\n      <td>Cinnamon</td>\n      <td>...</td>\n      <td></td>\n      <td>False</td>\n      <td>False</td>\n      <td>False</td>\n      <td>False</td>\n      <td>False</td>\n      <td>False</td>\n      <td>False</td>\n      <td>False</td>\n      <td></td>\n    </tr>\n  </tbody>\n</table>\n<p>5 rows \u00d7 29 columns</p>\n</div>",
                        "text/plain": "         lat        lon     squirrel_id hectare shift   date  \\\n0 -73.956134  40.794082  37F-PM-1014-03     37F    PM  17818   \n1 -73.968857  40.783783  21B-AM-1019-04     21B    AM  17823   \n2 -73.974281  40.775534  11B-PM-1014-08     11B    PM  17818   \n3 -73.959641  40.790313  32E-PM-1017-14     32E    PM  17821   \n4 -73.970268  40.776213  13E-AM-1017-05     13E    AM  17821   \n\n   hectare_squirrel_number    age primary_fur_color highlight_fur_color  ...  \\\n0                        3                                               ...   \n1                        4                                               ...   \n2                        8                     Gray                      ...   \n3                       14  Adult              Gray                      ...   \n4                        5  Adult              Gray            Cinnamon  ...   \n\n  other_activities   kuks  quaas  moans  tail_flags  tail_twitches  \\\n0                   False  False  False       False          False   \n1                   False  False  False       False          False   \n2                   False  False  False       False          False   \n3                   False  False  False       False          False   \n4                   False  False  False       False          False   \n\n   approaches  indifferent  runs_from other_interactions  \n0       False        False      False                     \n1       False        False      False                     \n2       False        False      False                     \n3       False        False       True                     \n4       False        False      False                     \n\n[5 rows x 29 columns]"
                    },
                    "execution_count": 5,
                    "metadata": {},
                    "output_type": "execute_result"
                }
            ],
            "source": "pd.json_normalize(yql_result[0])"
        },
        {
            "cell_type": "markdown",
            "id": "ab1a212a-7bc3-4dce-b1f3-3156275b4d33",
            "metadata": {
                "tracto": {
                    "metadata_version": "1",
                    "view_cell_type": "MD",
                    "view_source": "## Preview result from `chyt_result`"
                }
            },
            "source": "## Preview result from `chyt_result`"
        },
        {
            "cell_type": "code",
            "execution_count": 11,
            "id": "6eb4895c-88fa-4bc3-abd9-4e770b1c2eab",
            "metadata": {
                "tracto": {
                    "metadata_version": "1",
                    "view_cell_type": "CODE",
                    "view_source": "pd.json_normalize(chyt_result[0])"
                }
            },
            "outputs": [
                {
                    "data": {
                        "text/html": "<div>\n<style scoped>\n    .dataframe tbody tr th:only-of-type {\n        vertical-align: middle;\n    }\n\n    .dataframe tbody tr th {\n        vertical-align: top;\n    }\n\n    .dataframe thead th {\n        text-align: right;\n    }\n</style>\n<table border=\"1\" class=\"dataframe\">\n  <thead>\n    <tr style=\"text-align: right;\">\n      <th></th>\n      <th>lat</th>\n      <th>lon</th>\n      <th>squirrel_id</th>\n      <th>hectare</th>\n      <th>shift</th>\n      <th>date</th>\n      <th>hectare_squirrel_number</th>\n      <th>age</th>\n      <th>primary_fur_color</th>\n      <th>highlight_fur_color</th>\n      <th>...</th>\n      <th>other_activities</th>\n      <th>kuks</th>\n      <th>quaas</th>\n      <th>moans</th>\n      <th>tail_flags</th>\n      <th>tail_twitches</th>\n      <th>approaches</th>\n      <th>indifferent</th>\n      <th>runs_from</th>\n      <th>other_interactions</th>\n    </tr>\n  </thead>\n  <tbody>\n    <tr>\n      <th>0</th>\n      <td>-73.968361</td>\n      <td>40.772591</td>\n      <td>11H-AM-1010-03</td>\n      <td>11H</td>\n      <td>AM</td>\n      <td>17814</td>\n      <td>3</td>\n      <td>Adult</td>\n      <td>Cinnamon</td>\n      <td>White</td>\n      <td>...</td>\n      <td></td>\n      <td>False</td>\n      <td>False</td>\n      <td>False</td>\n      <td>False</td>\n      <td>True</td>\n      <td>False</td>\n      <td>True</td>\n      <td>False</td>\n      <td></td>\n    </tr>\n    <tr>\n      <th>1</th>\n      <td>-73.954120</td>\n      <td>40.793181</td>\n      <td>36H-AM-1010-02</td>\n      <td>36H</td>\n      <td>AM</td>\n      <td>17814</td>\n      <td>2</td>\n      <td>Adult</td>\n      <td>Gray</td>\n      <td></td>\n      <td>...</td>\n      <td></td>\n      <td>False</td>\n      <td>False</td>\n      <td>False</td>\n      <td>False</td>\n      <td>False</td>\n      <td>False</td>\n      <td>False</td>\n      <td>False</td>\n      <td></td>\n    </tr>\n    <tr>\n      <th>2</th>\n      <td>-73.958269</td>\n      <td>40.791737</td>\n      <td>33F-AM-1008-02</td>\n      <td>33F</td>\n      <td>AM</td>\n      <td>17812</td>\n      <td>2</td>\n      <td>Adult</td>\n      <td>Gray</td>\n      <td></td>\n      <td>...</td>\n      <td></td>\n      <td>False</td>\n      <td>False</td>\n      <td>False</td>\n      <td>False</td>\n      <td>False</td>\n      <td>False</td>\n      <td>True</td>\n      <td>False</td>\n      <td></td>\n    </tr>\n    <tr>\n      <th>3</th>\n      <td>-73.967429</td>\n      <td>40.782972</td>\n      <td>21C-PM-1006-01</td>\n      <td>21C</td>\n      <td>PM</td>\n      <td>17810</td>\n      <td>1</td>\n      <td>Adult</td>\n      <td>Gray</td>\n      <td></td>\n      <td>...</td>\n      <td></td>\n      <td>False</td>\n      <td>False</td>\n      <td>False</td>\n      <td>True</td>\n      <td>True</td>\n      <td>False</td>\n      <td>False</td>\n      <td>False</td>\n      <td></td>\n    </tr>\n    <tr>\n      <th>4</th>\n      <td>-73.972250</td>\n      <td>40.774288</td>\n      <td>11D-AM-1010-03</td>\n      <td>11D</td>\n      <td>AM</td>\n      <td>17814</td>\n      <td>3</td>\n      <td>Adult</td>\n      <td>Gray</td>\n      <td>Cinnamon</td>\n      <td>...</td>\n      <td>grooming</td>\n      <td>False</td>\n      <td>False</td>\n      <td>False</td>\n      <td>False</td>\n      <td>False</td>\n      <td>False</td>\n      <td>True</td>\n      <td>False</td>\n      <td></td>\n    </tr>\n  </tbody>\n</table>\n<p>5 rows \u00d7 29 columns</p>\n</div>",
                        "text/plain": "         lat        lon     squirrel_id hectare shift   date  \\\n0 -73.968361  40.772591  11H-AM-1010-03     11H    AM  17814   \n1 -73.954120  40.793181  36H-AM-1010-02     36H    AM  17814   \n2 -73.958269  40.791737  33F-AM-1008-02     33F    AM  17812   \n3 -73.967429  40.782972  21C-PM-1006-01     21C    PM  17810   \n4 -73.972250  40.774288  11D-AM-1010-03     11D    AM  17814   \n\n   hectare_squirrel_number    age primary_fur_color highlight_fur_color  ...  \\\n0                        3  Adult          Cinnamon               White  ...   \n1                        2  Adult              Gray                      ...   \n2                        2  Adult              Gray                      ...   \n3                        1  Adult              Gray                      ...   \n4                        3  Adult              Gray            Cinnamon  ...   \n\n  other_activities   kuks  quaas  moans  tail_flags  tail_twitches  \\\n0                   False  False  False       False           True   \n1                   False  False  False       False          False   \n2                   False  False  False       False          False   \n3                   False  False  False        True           True   \n4         grooming  False  False  False       False          False   \n\n   approaches  indifferent  runs_from other_interactions  \n0       False         True      False                     \n1       False        False      False                     \n2       False         True      False                     \n3       False        False      False                     \n4       False         True      False                     \n\n[5 rows x 29 columns]"
                    },
                    "execution_count": 6,
                    "metadata": {},
                    "output_type": "execute_result"
                }
            ],
            "source": "pd.json_normalize(chyt_result[0])"
        },
        {
            "cell_type": "markdown",
            "id": "664493d1-b6e5-4b07-9da1-e4504b77c305",
            "metadata": {
                "tracto": {
                    "metadata_version": "1",
                    "view_cell_type": "MD",
                    "view_source": "## Preview concated table "
                }
            },
            "source": "## Preview concated table "
        },
        {
            "cell_type": "code",
            "execution_count": 13,
            "id": "b965f0e1-f7fe-41be-8cce-a259468a0b6e",
            "metadata": {
                "tracto": {
                    "metadata_version": "1",
                    "view_cell_type": "CODE",
                    "view_source": "df1 = pd.DataFrame(yql_result[0])\ndf2 = pd.DataFrame(chyt_result[0])\n\npd.concat([df1, df2])"
                }
            },
            "outputs": [
                {
                    "data": {
                        "text/html": "<div>\n<style scoped>\n    .dataframe tbody tr th:only-of-type {\n        vertical-align: middle;\n    }\n\n    .dataframe tbody tr th {\n        vertical-align: top;\n    }\n\n    .dataframe thead th {\n        text-align: right;\n    }\n</style>\n<table border=\"1\" class=\"dataframe\">\n  <thead>\n    <tr style=\"text-align: right;\">\n      <th></th>\n      <th>lat</th>\n      <th>lon</th>\n      <th>squirrel_id</th>\n      <th>hectare</th>\n      <th>shift</th>\n      <th>date</th>\n      <th>hectare_squirrel_number</th>\n      <th>age</th>\n      <th>primary_fur_color</th>\n      <th>highlight_fur_color</th>\n      <th>...</th>\n      <th>other_activities</th>\n      <th>kuks</th>\n      <th>quaas</th>\n      <th>moans</th>\n      <th>tail_flags</th>\n      <th>tail_twitches</th>\n      <th>approaches</th>\n      <th>indifferent</th>\n      <th>runs_from</th>\n      <th>other_interactions</th>\n    </tr>\n  </thead>\n  <tbody>\n    <tr>\n      <th>0</th>\n      <td>-73.956134</td>\n      <td>40.794082</td>\n      <td>37F-PM-1014-03</td>\n      <td>37F</td>\n      <td>PM</td>\n      <td>17818</td>\n      <td>3</td>\n      <td></td>\n      <td></td>\n      <td></td>\n      <td>...</td>\n      <td></td>\n      <td>False</td>\n      <td>False</td>\n      <td>False</td>\n      <td>False</td>\n      <td>False</td>\n      <td>False</td>\n      <td>False</td>\n      <td>False</td>\n      <td></td>\n    </tr>\n    <tr>\n      <th>1</th>\n      <td>-73.968857</td>\n      <td>40.783783</td>\n      <td>21B-AM-1019-04</td>\n      <td>21B</td>\n      <td>AM</td>\n      <td>17823</td>\n      <td>4</td>\n      <td></td>\n      <td></td>\n      <td></td>\n      <td>...</td>\n      <td></td>\n      <td>False</td>\n      <td>False</td>\n      <td>False</td>\n      <td>False</td>\n      <td>False</td>\n      <td>False</td>\n      <td>False</td>\n      <td>False</td>\n      <td></td>\n    </tr>\n    <tr>\n      <th>2</th>\n      <td>-73.974281</td>\n      <td>40.775534</td>\n      <td>11B-PM-1014-08</td>\n      <td>11B</td>\n      <td>PM</td>\n      <td>17818</td>\n      <td>8</td>\n      <td></td>\n      <td>Gray</td>\n      <td></td>\n      <td>...</td>\n      <td></td>\n      <td>False</td>\n      <td>False</td>\n      <td>False</td>\n      <td>False</td>\n      <td>False</td>\n      <td>False</td>\n      <td>False</td>\n      <td>False</td>\n      <td></td>\n    </tr>\n    <tr>\n      <th>3</th>\n      <td>-73.959641</td>\n      <td>40.790313</td>\n      <td>32E-PM-1017-14</td>\n      <td>32E</td>\n      <td>PM</td>\n      <td>17821</td>\n      <td>14</td>\n      <td>Adult</td>\n      <td>Gray</td>\n      <td></td>\n      <td>...</td>\n      <td></td>\n      <td>False</td>\n      <td>False</td>\n      <td>False</td>\n      <td>False</td>\n      <td>False</td>\n      <td>False</td>\n      <td>False</td>\n      <td>True</td>\n      <td></td>\n    </tr>\n    <tr>\n      <th>4</th>\n      <td>-73.970268</td>\n      <td>40.776213</td>\n      <td>13E-AM-1017-05</td>\n      <td>13E</td>\n      <td>AM</td>\n      <td>17821</td>\n      <td>5</td>\n      <td>Adult</td>\n      <td>Gray</td>\n      <td>Cinnamon</td>\n      <td>...</td>\n      <td></td>\n      <td>False</td>\n      <td>False</td>\n      <td>False</td>\n      <td>False</td>\n      <td>False</td>\n      <td>False</td>\n      <td>False</td>\n      <td>False</td>\n      <td></td>\n    </tr>\n    <tr>\n      <th>0</th>\n      <td>-73.968361</td>\n      <td>40.772591</td>\n      <td>11H-AM-1010-03</td>\n      <td>11H</td>\n      <td>AM</td>\n      <td>17814</td>\n      <td>3</td>\n      <td>Adult</td>\n      <td>Cinnamon</td>\n      <td>White</td>\n      <td>...</td>\n      <td></td>\n      <td>False</td>\n      <td>False</td>\n      <td>False</td>\n      <td>False</td>\n      <td>True</td>\n      <td>False</td>\n      <td>True</td>\n      <td>False</td>\n      <td></td>\n    </tr>\n    <tr>\n      <th>1</th>\n      <td>-73.954120</td>\n      <td>40.793181</td>\n      <td>36H-AM-1010-02</td>\n      <td>36H</td>\n      <td>AM</td>\n      <td>17814</td>\n      <td>2</td>\n      <td>Adult</td>\n      <td>Gray</td>\n      <td></td>\n      <td>...</td>\n      <td></td>\n      <td>False</td>\n      <td>False</td>\n      <td>False</td>\n      <td>False</td>\n      <td>False</td>\n      <td>False</td>\n      <td>False</td>\n      <td>False</td>\n      <td></td>\n    </tr>\n    <tr>\n      <th>2</th>\n      <td>-73.958269</td>\n      <td>40.791737</td>\n      <td>33F-AM-1008-02</td>\n      <td>33F</td>\n      <td>AM</td>\n      <td>17812</td>\n      <td>2</td>\n      <td>Adult</td>\n      <td>Gray</td>\n      <td></td>\n      <td>...</td>\n      <td></td>\n      <td>False</td>\n      <td>False</td>\n      <td>False</td>\n      <td>False</td>\n      <td>False</td>\n      <td>False</td>\n      <td>True</td>\n      <td>False</td>\n      <td></td>\n    </tr>\n    <tr>\n      <th>3</th>\n      <td>-73.967429</td>\n      <td>40.782972</td>\n      <td>21C-PM-1006-01</td>\n      <td>21C</td>\n      <td>PM</td>\n      <td>17810</td>\n      <td>1</td>\n      <td>Adult</td>\n      <td>Gray</td>\n      <td></td>\n      <td>...</td>\n      <td></td>\n      <td>False</td>\n      <td>False</td>\n      <td>False</td>\n      <td>True</td>\n      <td>True</td>\n      <td>False</td>\n      <td>False</td>\n      <td>False</td>\n      <td></td>\n    </tr>\n    <tr>\n      <th>4</th>\n      <td>-73.972250</td>\n      <td>40.774288</td>\n      <td>11D-AM-1010-03</td>\n      <td>11D</td>\n      <td>AM</td>\n      <td>17814</td>\n      <td>3</td>\n      <td>Adult</td>\n      <td>Gray</td>\n      <td>Cinnamon</td>\n      <td>...</td>\n      <td>grooming</td>\n      <td>False</td>\n      <td>False</td>\n      <td>False</td>\n      <td>False</td>\n      <td>False</td>\n      <td>False</td>\n      <td>True</td>\n      <td>False</td>\n      <td></td>\n    </tr>\n  </tbody>\n</table>\n<p>10 rows \u00d7 29 columns</p>\n</div>",
                        "text/plain": "         lat        lon     squirrel_id hectare shift   date  \\\n0 -73.956134  40.794082  37F-PM-1014-03     37F    PM  17818   \n1 -73.968857  40.783783  21B-AM-1019-04     21B    AM  17823   \n2 -73.974281  40.775534  11B-PM-1014-08     11B    PM  17818   \n3 -73.959641  40.790313  32E-PM-1017-14     32E    PM  17821   \n4 -73.970268  40.776213  13E-AM-1017-05     13E    AM  17821   \n0 -73.968361  40.772591  11H-AM-1010-03     11H    AM  17814   \n1 -73.954120  40.793181  36H-AM-1010-02     36H    AM  17814   \n2 -73.958269  40.791737  33F-AM-1008-02     33F    AM  17812   \n3 -73.967429  40.782972  21C-PM-1006-01     21C    PM  17810   \n4 -73.972250  40.774288  11D-AM-1010-03     11D    AM  17814   \n\n   hectare_squirrel_number    age primary_fur_color highlight_fur_color  ...  \\\n0                        3                                               ...   \n1                        4                                               ...   \n2                        8                     Gray                      ...   \n3                       14  Adult              Gray                      ...   \n4                        5  Adult              Gray            Cinnamon  ...   \n0                        3  Adult          Cinnamon               White  ...   \n1                        2  Adult              Gray                      ...   \n2                        2  Adult              Gray                      ...   \n3                        1  Adult              Gray                      ...   \n4                        3  Adult              Gray            Cinnamon  ...   \n\n  other_activities   kuks  quaas  moans  tail_flags  tail_twitches  \\\n0                   False  False  False       False          False   \n1                   False  False  False       False          False   \n2                   False  False  False       False          False   \n3                   False  False  False       False          False   \n4                   False  False  False       False          False   \n0                   False  False  False       False           True   \n1                   False  False  False       False          False   \n2                   False  False  False       False          False   \n3                   False  False  False        True           True   \n4         grooming  False  False  False       False          False   \n\n   approaches  indifferent  runs_from other_interactions  \n0       False        False      False                     \n1       False        False      False                     \n2       False        False      False                     \n3       False        False       True                     \n4       False        False      False                     \n0       False         True      False                     \n1       False        False      False                     \n2       False         True      False                     \n3       False        False      False                     \n4       False         True      False                     \n\n[10 rows x 29 columns]"
                    },
                    "execution_count": 7,
                    "metadata": {},
                    "output_type": "execute_result"
                }
            ],
            "source": "df1 = pd.DataFrame(yql_result[0])\ndf2 = pd.DataFrame(chyt_result[0])\n\npd.concat([df1, df2])"
        }
    ],
    "metadata": {
        "is_solution_notebook": true,
        "tracto": {
            "metadata_version": "1",
            "notebook_cypress_id": "6a5c080a-4858-42e2-9e0a-054ae9f1b6bb",
            "is_solution_notebook": true
        }
    },
    "nbformat": 4,
    "nbformat_minor": 5
}